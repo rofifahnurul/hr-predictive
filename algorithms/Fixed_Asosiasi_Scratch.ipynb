{
  "nbformat": 4,
  "nbformat_minor": 0,
  "metadata": {
    "colab": {
      "provenance": []
    },
    "kernelspec": {
      "name": "python3",
      "display_name": "Python 3"
    },
    "language_info": {
      "name": "python"
    }
  },
  "cells": [
    {
      "cell_type": "code",
      "execution_count": null,
      "metadata": {
        "colab": {
          "base_uri": "https://localhost:8080/"
        },
        "id": "zw70fyAG0-r3",
        "outputId": "24b00148-b126-43ad-a1eb-5ebb873a244c"
      },
      "outputs": [
        {
          "output_type": "stream",
          "name": "stdout",
          "text": [
            "Mounted at /content/gdrive\n"
          ]
        }
      ],
      "source": [
        "from google.colab import drive\n",
        "drive.mount('/content/gdrive')"
      ]
    },
    {
      "cell_type": "code",
      "source": [
        "import pandas as pd\n"
      ],
      "metadata": {
        "id": "z3aNk7t14kWv"
      },
      "execution_count": null,
      "outputs": []
    },
    {
      "cell_type": "code",
      "source": [
        "data4 = r'/content/gdrive/MyDrive/skripsi/hasil-cluster4.csv'\n",
        "cluster4 = pd.read_csv(data4)\n",
        "data3 = r'/content/gdrive/MyDrive/skripsi/hasil-cluster3.csv'\n",
        "cluster3 = pd.read_csv(data3)\n",
        "data2 = r'/content/gdrive/MyDrive/skripsi/hasil-cluster2.csv'\n",
        "cluster2 = pd.read_csv(data2)\n",
        "data1 = r'/content/gdrive/MyDrive/skripsi/hasil-cluster1.csv'\n",
        "cluster1 = pd.read_csv(data1)"
      ],
      "metadata": {
        "id": "HgRgwinA4jha"
      },
      "execution_count": null,
      "outputs": []
    },
    {
      "cell_type": "code",
      "source": [
        "cluster4.rename(columns = {'LEARNING POINT':'LEARNING_POINT',\n",
        "                           'Kerja Ibadah':'Kerja_Ibadah','Lebih cepat':'Lebih_cepat','Aktif bersama':'Aktif_bersama'}, inplace = True)\n",
        "cluster3.rename(columns = {'LEARNING POINT':'LEARNING_POINT',\n",
        "                           'Kerja Ibadah':'Kerja_Ibadah','Lebih cepat':'Lebih_cepat','Aktif bersama':'Aktif_bersama'}, inplace = True)\n",
        "cluster2.rename(columns = {'LEARNING POINT':'LEARNING_POINT',\n",
        "                           'Kerja Ibadah':'Kerja_Ibadah','Lebih cepat':'Lebih_cepat','Aktif bersama':'Aktif_bersama'}, inplace = True)\n",
        "cluster1.rename(columns = {'LEARNING POINT':'LEARNING_POINT',\n",
        "                           'Kerja Ibadah':'Kerja_Ibadah','Lebih cepat':'Lebih_cepat','Aktif bersama':'Aktif_bersama'}, inplace = True)"
      ],
      "metadata": {
        "id": "I8oBJ3_S4mXB"
      },
      "execution_count": null,
      "outputs": []
    },
    {
      "cell_type": "code",
      "source": [
        "def create_check(cluster,column_name,data):\n",
        "  result = []\n",
        "  for value in cluster[column_name]:\n",
        "    if value >= cluster[column_name].mean():\n",
        "      string = column_name+\">=\" + str(cluster[column_name].mean())\n",
        "      result.append(string) \n",
        "      \n",
        "    else:\n",
        "      string = column_name+\"<\" + str(cluster[column_name].mean())\n",
        "      result.append(string)\n",
        "  column_new = column_name + \"_check\"\n",
        "  cluster[column_new] = result \n",
        "  data[column_new]=result"
      ],
      "metadata": {
        "id": "TNi_7ZF74nTL"
      },
      "execution_count": null,
      "outputs": []
    },
    {
      "cell_type": "code",
      "source": [
        "column_name = cluster4.columns\n",
        "data4 = pd.DataFrame()\n",
        "\n",
        "column_name = cluster3.columns\n",
        "data3 = pd.DataFrame()\n",
        "\n",
        "column_name = cluster2.columns\n",
        "data2 = pd.DataFrame()\n",
        "\n",
        "column_name = cluster1.columns\n",
        "data1 = pd.DataFrame()"
      ],
      "metadata": {
        "id": "D93jlahRjf9B"
      },
      "execution_count": null,
      "outputs": []
    },
    {
      "cell_type": "code",
      "source": [
        "result = []\n",
        "for value in cluster4['PERFORMANCE']:\n",
        "    if value > 0:\n",
        "      string = \"PERFORMANCE\"+\">\" + str(0)\n",
        "      result.append(string) \n",
        "      \n",
        "    else:\n",
        "      string = \"PERFORMANCE\"+\"=\" + str(0)\n",
        "      result.append(string)\n",
        "column_new = \"PERFORMANCE\" + \"_check\"\n",
        "cluster4[column_new] = result \n",
        "data4[column_new]=result\n",
        "\n"
      ],
      "metadata": {
        "id": "XIEw_QM6hT3U"
      },
      "execution_count": null,
      "outputs": []
    },
    {
      "cell_type": "code",
      "source": [
        "result = []\n",
        "for value in cluster4['LEARNING_POINT']:\n",
        "    if value > 0:\n",
        "      string = \"LEARNING_POINT\"+\">\" + str(0)\n",
        "      result.append(string) \n",
        "      \n",
        "    else:\n",
        "      string = \"LEARNING_POINT\"+\"=\" + str(0)\n",
        "      result.append(string)\n",
        "column_new = \"LEARNING_POINT\" + \"_check\"\n",
        "cluster4[column_new] = result \n",
        "data4[column_new]=result"
      ],
      "metadata": {
        "id": "EjRQC2PNi7IH"
      },
      "execution_count": null,
      "outputs": []
    },
    {
      "cell_type": "code",
      "source": [
        "create_check(cluster4,column_name[1],data4)\n",
        "\n",
        "create_check(cluster4,column_name[3],data4)\n",
        "\n",
        "create_check(cluster4,column_name[5],data4)\n",
        "create_check(cluster4,column_name[6],data4)\n",
        "create_check(cluster4,column_name[7],data4)\n",
        "create_check(cluster4,column_name[8],data4)\n",
        "\n",
        "create_check(cluster3,column_name[1],data3)\n",
        "create_check(cluster3,column_name[2],data3)\n",
        "create_check(cluster3,column_name[3],data3)\n",
        "create_check(cluster3,column_name[4],data3)\n",
        "create_check(cluster3,column_name[5],data3)\n",
        "create_check(cluster3,column_name[6],data3)\n",
        "create_check(cluster3,column_name[7],data3)\n",
        "create_check(cluster3,column_name[8],data3)\n",
        "\n",
        "\n",
        "create_check(cluster2,column_name[1],data2)\n",
        "create_check(cluster2,column_name[2],data2)\n",
        "create_check(cluster2,column_name[3],data2)\n",
        "create_check(cluster2,column_name[4],data2)\n",
        "create_check(cluster2,column_name[5],data2)\n",
        "create_check(cluster2,column_name[6],data2)\n",
        "create_check(cluster2,column_name[7],data2)\n",
        "create_check(cluster2,column_name[8],data2)\n",
        "\n",
        "create_check(cluster1,column_name[1],data1)\n",
        "create_check(cluster1,column_name[2],data1)\n",
        "create_check(cluster1,column_name[3],data1)\n",
        "create_check(cluster1,column_name[4],data1)\n",
        "create_check(cluster1,column_name[5],data1)\n",
        "create_check(cluster1,column_name[6],data1)\n",
        "create_check(cluster1,column_name[7],data1)\n",
        "create_check(cluster1,column_name[8],data1)"
      ],
      "metadata": {
        "id": "J6tj-Wph4nbm"
      },
      "execution_count": null,
      "outputs": []
    },
    {
      "cell_type": "code",
      "source": [
        "def create_candidate_1(X):\n",
        "    \"\"\"\n",
        "    create the 1-item candidate,\n",
        "    it's basically creating a frozenset for each unique item\n",
        "    and storing them in a list\n",
        "    \"\"\"\n",
        "    c1 = []\n",
        "    for transaction in X:\n",
        "        for t in transaction:\n",
        "            t = frozenset([t])\n",
        "            if t not in c1:\n",
        "                c1.append(t)\n",
        "    return c1"
      ],
      "metadata": {
        "id": "tnztZ5w31Jcz"
      },
      "execution_count": null,
      "outputs": []
    },
    {
      "cell_type": "code",
      "source": [
        "def apriori(X, min_support):\n",
        "    \"\"\"\n",
        "    pass in the transaction data and the minimum support \n",
        "    threshold to obtain the frequent itemset. Also\n",
        "    store the support for each itemset, they will\n",
        "    be used in the rule generation step\n",
        "    \"\"\"\n",
        "\n",
        "    # the candidate sets for the 1-item is different,\n",
        "    # create them independently from others\n",
        "    c1 = create_candidate_1(X)\n",
        "    freq_item, item_support_dict = create_freq_item(X, c1, min_support)\n",
        "    freq_items = [freq_item]\n",
        "    \n",
        "    k = 0\n",
        "    while len(freq_items[k]) > 0:\n",
        "        freq_item = freq_items[k]\n",
        "        ck = create_candidate_k(freq_item, k)       \n",
        "        freq_item, item_support = create_freq_item(X, ck, min_support)\n",
        "        freq_items.append(freq_item)\n",
        "        item_support_dict.update(item_support)\n",
        "        k += 1\n",
        "        \n",
        "    return freq_items, item_support_dict"
      ],
      "metadata": {
        "id": "mBTOKoxC3fjR"
      },
      "execution_count": null,
      "outputs": []
    },
    {
      "cell_type": "code",
      "source": [
        "def create_freq_item(X, ck, min_support):\n",
        "    # loop through the transaction and compute\n",
        "    item_count = {}\n",
        "    for transaction in X:\n",
        "        for item in ck:\n",
        "            if item.issubset(transaction):\n",
        "                if item not in item_count: \n",
        "                    item_count[item] = 1\n",
        "                else: \n",
        "                    item_count[item] += 1    \n",
        "    \n",
        "    n_row = X.shape[0]\n",
        "    freq_item = []\n",
        "    item_support = {}\n",
        "    \n",
        "    for item in item_count:\n",
        "        support = item_count[item] / n_row\n",
        "        if support >= min_support:\n",
        "            freq_item.append(item)\n",
        "        \n",
        "        item_support[item] = support\n",
        "        \n",
        "    return freq_item, item_support"
      ],
      "metadata": {
        "id": "bh42CAUF6Hkh"
      },
      "execution_count": null,
      "outputs": []
    },
    {
      "cell_type": "code",
      "source": [
        "def create_freq_item(X, ck, min_support):\n",
        "    \"\"\"\n",
        "    filters the candidate with the specified\n",
        "    minimum support\n",
        "    \"\"\"\n",
        "    # loop through the transaction and compute\n",
        "    # the count for each candidate (item)\n",
        "    item_count = {}\n",
        "    for transaction in X:\n",
        "        for item in ck:\n",
        "            if item.issubset(transaction):\n",
        "                if item not in item_count: \n",
        "                    item_count[item] = 1\n",
        "                else: \n",
        "                    item_count[item] += 1    \n",
        "    \n",
        "    n_row = X.shape[0]\n",
        "    freq_item = []\n",
        "    item_support = {}\n",
        "    \n",
        "    # if the support of an item is greater than the \n",
        "    # min_support, then it is considered as frequent\n",
        "    for item in item_count:\n",
        "        support = item_count[item] / n_row\n",
        "        if support >= min_support:\n",
        "            freq_item.append(item)\n",
        "        \n",
        "        item_support[item] = support\n",
        "        \n",
        "    return freq_item, item_support"
      ],
      "metadata": {
        "id": "f5VQdJE36YHr"
      },
      "execution_count": null,
      "outputs": []
    },
    {
      "cell_type": "code",
      "source": [
        "from itertools import combinations\n",
        "def create_candidate_k(freq_item, k):\n",
        "    \"\"\"create the list of k-item candidate\"\"\"\n",
        "    ck = []\n",
        "    \n",
        "    # for generating candidate of size two (2-itemset)\n",
        "    if k == 0:\n",
        "        for f1, f2 in combinations(freq_item, 2):\n",
        "            item = f1 | f2 # union of two sets\n",
        "            ck.append(item)\n",
        "    else:    \n",
        "        for f1, f2 in combinations(freq_item, 2):       \n",
        "            # if the two (k+1)-item sets has\n",
        "            # k common elements then they will be\n",
        "            # unioned to be the (k+2)-item candidate\n",
        "            intersection = f1 & f2\n",
        "            if len(intersection) == k:\n",
        "                item = f1 | f2\n",
        "                if item not in ck:\n",
        "                    ck.append(item)\n",
        "    return ck"
      ],
      "metadata": {
        "id": "st1y18346hTd"
      },
      "execution_count": null,
      "outputs": []
    },
    {
      "cell_type": "code",
      "source": [
        "import numpy as np\n",
        "X =np.array(data1)"
      ],
      "metadata": {
        "id": "TLbhrKeZ_toN"
      },
      "execution_count": null,
      "outputs": []
    },
    {
      "cell_type": "code",
      "source": [
        "freq_items, item_support_dict = apriori(X, min_support = 0.55)\n",
        "\n",
        "\n",
        "freq_items"
      ],
      "metadata": {
        "colab": {
          "base_uri": "https://localhost:8080/"
        },
        "id": "E6WyhC8G_fCu",
        "outputId": "5eea7437-c384-423f-8a5a-62d2002b60e9"
      },
      "execution_count": null,
      "outputs": [
        {
          "output_type": "execute_result",
          "data": {
            "text/plain": [
              "[[frozenset({'PK>=0.9254869259634284'}),\n",
              "  frozenset({'PERFORMANCE>=0.8809815950920243'}),\n",
              "  frozenset({'LEARNING_POINT>=0.886196319018405'}),\n",
              "  frozenset({'Kerja_Ibadah>=0.823653715064758'}),\n",
              "  frozenset({'Lebih_cepat>=0.6432198011423738'})],\n",
              " [frozenset({'PERFORMANCE>=0.8809815950920243', 'PK>=0.9254869259634284'})],\n",
              " []]"
            ]
          },
          "metadata": {},
          "execution_count": 114
        }
      ]
    },
    {
      "cell_type": "code",
      "source": [
        "item_support_dict"
      ],
      "metadata": {
        "colab": {
          "base_uri": "https://localhost:8080/"
        },
        "id": "ZrQolKD1QnsP",
        "outputId": "b47932d2-8273-4307-8e1b-5c08802623e0"
      },
      "execution_count": null,
      "outputs": [
        {
          "output_type": "execute_result",
          "data": {
            "text/plain": [
              "{frozenset({'PK>=0.9254869259634284'}): 0.6503067484662577,\n",
              " frozenset({'PERFORMANCE>=0.8809815950920243'}): 0.6257668711656442,\n",
              " frozenset({'COMPETENCY>=0.42439552508119793'}): 0.50920245398773,\n",
              " frozenset({'LEARNING_POINT>=0.886196319018405'}): 0.7177914110429447,\n",
              " frozenset({'Kerja_Ibadah>=0.823653715064758'}): 0.6073619631901841,\n",
              " frozenset({'Apresiasi<0.6823566744235244'}): 0.5030674846625767,\n",
              " frozenset({'Lebih_cepat>=0.6432198011423738'}): 0.558282208588957,\n",
              " frozenset({'Aktif_bersama<0.6640008764241891'}): 0.4723926380368098,\n",
              " frozenset({'COMPETENCY<0.42439552508119793'}): 0.49079754601226994,\n",
              " frozenset({'Lebih_cepat<0.6432198011423738'}): 0.44171779141104295,\n",
              " frozenset({'Apresiasi>=0.6823566744235244'}): 0.49693251533742333,\n",
              " frozenset({'Aktif_bersama>=0.6640008764241891'}): 0.5276073619631901,\n",
              " frozenset({'Kerja_Ibadah<0.823653715064758'}): 0.39263803680981596,\n",
              " frozenset({'PERFORMANCE<0.8809815950920243'}): 0.37423312883435583,\n",
              " frozenset({'PK<0.9254869259634284'}): 0.3496932515337423,\n",
              " frozenset({'LEARNING_POINT<0.886196319018405'}): 0.2822085889570552,\n",
              " frozenset({'PERFORMANCE>=0.8809815950920243',\n",
              "            'PK>=0.9254869259634284'}): 0.6134969325153374,\n",
              " frozenset({'LEARNING_POINT>=0.886196319018405',\n",
              "            'PK>=0.9254869259634284'}): 0.5337423312883436,\n",
              " frozenset({'Kerja_Ibadah>=0.823653715064758',\n",
              "            'PK>=0.9254869259634284'}): 0.4233128834355828,\n",
              " frozenset({'Lebih_cepat>=0.6432198011423738',\n",
              "            'PK>=0.9254869259634284'}): 0.38650306748466257,\n",
              " frozenset({'LEARNING_POINT>=0.886196319018405',\n",
              "            'PERFORMANCE>=0.8809815950920243'}): 0.5337423312883436,\n",
              " frozenset({'Kerja_Ibadah>=0.823653715064758',\n",
              "            'PERFORMANCE>=0.8809815950920243'}): 0.4233128834355828,\n",
              " frozenset({'Lebih_cepat>=0.6432198011423738',\n",
              "            'PERFORMANCE>=0.8809815950920243'}): 0.37423312883435583,\n",
              " frozenset({'Kerja_Ibadah>=0.823653715064758',\n",
              "            'LEARNING_POINT>=0.886196319018405'}): 0.44785276073619634,\n",
              " frozenset({'LEARNING_POINT>=0.886196319018405',\n",
              "            'Lebih_cepat>=0.6432198011423738'}): 0.4110429447852761,\n",
              " frozenset({'Kerja_Ibadah>=0.823653715064758',\n",
              "            'Lebih_cepat>=0.6432198011423738'}): 0.4171779141104294}"
            ]
          },
          "metadata": {},
          "execution_count": 115
        }
      ]
    },
    {
      "cell_type": "code",
      "source": [
        "def create_rules(freq_items, item_support_dict, min_confidence):\n",
        "    \"\"\"\n",
        "    create the association rules, the rules will be a list.\n",
        "    each element is a tuple of size 4, containing rules'\n",
        "    left hand side, right hand side, confidence and lift\n",
        "    \"\"\"\n",
        "    association_rules = []\n",
        "\n",
        "    # for the list that stores the frequent items, loop through\n",
        "    # the second element to the one before the last to generate the rules\n",
        "    # because the last one will be an empty list. It's the stopping criteria\n",
        "    # for the frequent itemset generating process and the first one are all\n",
        "    # single element frequent itemset, which can't perform the set\n",
        "    # operation X -> Y - X\n",
        "    for idx, freq_item in enumerate(freq_items[1:(len(freq_items) - 1)]):\n",
        "        for freq_set in freq_item:\n",
        "            \n",
        "            # start with creating rules for single item on\n",
        "            # the right hand side\n",
        "            subsets = [frozenset([item]) for item in freq_set]\n",
        "            rules, right_hand_side = compute_conf(freq_items, item_support_dict, \n",
        "                                                  freq_set, subsets, min_confidence)\n",
        "            association_rules.extend(rules)\n",
        "            \n",
        "            # starting from 3-itemset, loop through each length item\n",
        "            # to create the rules, as for the while loop condition,\n",
        "            # e.g. suppose you start with a 3-itemset {2, 3, 5} then the \n",
        "            # while loop condition will stop when the right hand side's\n",
        "            # item is of length 2, e.g. [ {2, 3}, {3, 5} ], since this\n",
        "            # will be merged into 3 itemset, making the left hand side\n",
        "            # null when computing the confidence\n",
        "            if idx != 0:\n",
        "                k = 0\n",
        "                while len(right_hand_side[0]) < len(freq_set) - 1:\n",
        "                    ck = create_candidate_k(right_hand_side, k = k)\n",
        "                    rules, right_hand_side = compute_conf(freq_items, item_support_dict,\n",
        "                                                          freq_set, ck, min_confidence)\n",
        "                    association_rules.extend(rules)\n",
        "                    k += 1    \n",
        "    \n",
        "    return association_rules"
      ],
      "metadata": {
        "id": "t4JN2u_m_fGI"
      },
      "execution_count": null,
      "outputs": []
    },
    {
      "cell_type": "code",
      "source": [
        "def compute_conf(freq_items, item_support_dict, freq_set, subsets, min_confidence):\n",
        "    \"\"\"\n",
        "    create the rules and returns the rules info and the rules's\n",
        "    right hand side (used for generating the next round of rules) \n",
        "    if it surpasses the minimum confidence threshold\n",
        "    \"\"\"\n",
        "    rules = []\n",
        "    right_hand_side = []\n",
        "    \n",
        "    for rhs in subsets:\n",
        "        # create the left hand side of the rule\n",
        "        # and add the rules if it's greater than\n",
        "        # the confidence threshold\n",
        "        lhs = freq_set - rhs\n",
        "        conf = item_support_dict[freq_set] / item_support_dict[lhs]\n",
        "        \n",
        "        if conf >= min_confidence:\n",
        "            lift = conf / item_support_dict[rhs]\n",
        "            conviction = (1- item_support_dict[rhs])/(1 - conf)\n",
        "            rules_info = lhs, rhs, conf, lift, conviction\n",
        "            rules.append(rules_info)\n",
        "            right_hand_side.append(rhs)\n",
        "            \n",
        "    return rules, right_hand_side"
      ],
      "metadata": {
        "id": "dXpgjc4qAMgn"
      },
      "execution_count": null,
      "outputs": []
    },
    {
      "cell_type": "code",
      "source": [
        "association_rules = create_rules(freq_items, item_support_dict, min_confidence = 0.9)\n",
        "association_rules"
      ],
      "metadata": {
        "colab": {
          "base_uri": "https://localhost:8080/"
        },
        "id": "RkccNm7jARIt",
        "outputId": "3002a04d-2510-4bb3-ca12-3e205d86c529"
      },
      "execution_count": null,
      "outputs": [
        {
          "output_type": "execute_result",
          "data": {
            "text/plain": [
              "[(frozenset({'PERFORMANCE>=0.8809815950920243'}),\n",
              "  frozenset({'PK>=0.9254869259634284'}),\n",
              "  0.9803921568627451,\n",
              "  1.5075841657417683,\n",
              "  17.83435582822082),\n",
              " (frozenset({'PK>=0.9254869259634284'}),\n",
              "  frozenset({'PERFORMANCE>=0.8809815950920243'}),\n",
              "  0.9433962264150944,\n",
              "  1.5075841657417683,\n",
              "  6.6114519427402865)]"
            ]
          },
          "metadata": {},
          "execution_count": 118
        }
      ]
    },
    {
      "cell_type": "code",
      "source": [
        "count = 0\n",
        "for i in association_rules:\n",
        "\n",
        "  print(association_rules[count][2])\n",
        "  count +=1\n"
      ],
      "metadata": {
        "colab": {
          "base_uri": "https://localhost:8080/"
        },
        "id": "8PL1NyBDDltz",
        "outputId": "81df755f-e7c7-4e2f-ff3d-aca3bf18a477"
      },
      "execution_count": null,
      "outputs": [
        {
          "output_type": "stream",
          "name": "stdout",
          "text": [
            "0.9803921568627451\n",
            "0.9433962264150944\n"
          ]
        }
      ]
    },
    {
      "cell_type": "code",
      "source": [],
      "metadata": {
        "id": "UQpfm5S4qlGR"
      },
      "execution_count": null,
      "outputs": []
    },
    {
      "cell_type": "markdown",
      "source": [
        "## **Cluster 2**"
      ],
      "metadata": {
        "id": "UwVms0Yxyhk6"
      }
    },
    {
      "cell_type": "code",
      "source": [
        "import numpy as np\n",
        "X2 =np.array(data2)"
      ],
      "metadata": {
        "id": "ot_Q1JEmAVGH"
      },
      "execution_count": null,
      "outputs": []
    },
    {
      "cell_type": "code",
      "source": [
        "freq_items, item_support_dict = apriori(X2, min_support = 0.55)\n",
        "\n",
        "\n",
        "\n",
        "freq_items"
      ],
      "metadata": {
        "colab": {
          "base_uri": "https://localhost:8080/"
        },
        "id": "nCDoQzlc4xcx",
        "outputId": "1e60cc46-94b1-4c70-e08b-09cc5697000d"
      },
      "execution_count": null,
      "outputs": [
        {
          "output_type": "execute_result",
          "data": {
            "text/plain": [
              "[[frozenset({'PK>=0.9377574286554868'}),\n",
              "  frozenset({'PERFORMANCE>=0.9174641148325358'}),\n",
              "  frozenset({'LEARNING_POINT>=0.9228598484848485'}),\n",
              "  frozenset({'Kerja_Ibadah>=0.9490951178451179'}),\n",
              "  frozenset({'Apresiasi>=0.9514433124346917'}),\n",
              "  frozenset({'Lebih_cepat>=0.9192136886102402'}),\n",
              "  frozenset({'Aktif_bersama>=0.9470035173160173'})],\n",
              " [frozenset({'PERFORMANCE>=0.9174641148325358', 'PK>=0.9377574286554868'}),\n",
              "  frozenset({'LEARNING_POINT>=0.9228598484848485', 'PK>=0.9377574286554868'}),\n",
              "  frozenset({'Aktif_bersama>=0.9470035173160173',\n",
              "             'Apresiasi>=0.9514433124346917'})],\n",
              " []]"
            ]
          },
          "metadata": {},
          "execution_count": 121
        }
      ]
    },
    {
      "cell_type": "code",
      "source": [
        "item_support_dict"
      ],
      "metadata": {
        "colab": {
          "base_uri": "https://localhost:8080/"
        },
        "id": "4vkW3LFgD8Gg",
        "outputId": "d4633abe-df4f-463e-e2a8-ccec9894fdb7"
      },
      "execution_count": null,
      "outputs": [
        {
          "output_type": "execute_result",
          "data": {
            "text/plain": [
              "{frozenset({'PK>=0.9377574286554868'}): 0.6628787878787878,\n",
              " frozenset({'PERFORMANCE>=0.9174641148325358'}): 0.6060606060606061,\n",
              " frozenset({'COMPETENCY>=0.6153631907308377'}): 0.4981060606060606,\n",
              " frozenset({'LEARNING_POINT>=0.9228598484848485'}): 0.759469696969697,\n",
              " frozenset({'Kerja_Ibadah>=0.9490951178451179'}): 0.6420454545454546,\n",
              " frozenset({'Apresiasi>=0.9514433124346917'}): 0.6893939393939394,\n",
              " frozenset({'Lebih_cepat>=0.9192136886102402'}): 0.5814393939393939,\n",
              " frozenset({'Aktif_bersama>=0.9470035173160173'}): 0.6628787878787878,\n",
              " frozenset({'COMPETENCY<0.6153631907308377'}): 0.5018939393939394,\n",
              " frozenset({'Apresiasi<0.9514433124346917'}): 0.3106060606060606,\n",
              " frozenset({'Lebih_cepat<0.9192136886102402'}): 0.4185606060606061,\n",
              " frozenset({'Aktif_bersama<0.9470035173160173'}): 0.3371212121212121,\n",
              " frozenset({'Kerja_Ibadah<0.9490951178451179'}): 0.35795454545454547,\n",
              " frozenset({'PK<0.9377574286554868'}): 0.3371212121212121,\n",
              " frozenset({'PERFORMANCE<0.9174641148325358'}): 0.3939393939393939,\n",
              " frozenset({'LEARNING_POINT<0.9228598484848485'}): 0.24053030303030304,\n",
              " frozenset({'PERFORMANCE>=0.9174641148325358',\n",
              "            'PK>=0.9377574286554868'}): 0.5776515151515151,\n",
              " frozenset({'LEARNING_POINT>=0.9228598484848485',\n",
              "            'PK>=0.9377574286554868'}): 0.571969696969697,\n",
              " frozenset({'Kerja_Ibadah>=0.9490951178451179',\n",
              "            'PK>=0.9377574286554868'}): 0.4431818181818182,\n",
              " frozenset({'Apresiasi>=0.9514433124346917',\n",
              "            'PK>=0.9377574286554868'}): 0.44696969696969696,\n",
              " frozenset({'Lebih_cepat>=0.9192136886102402',\n",
              "            'PK>=0.9377574286554868'}): 0.4053030303030303,\n",
              " frozenset({'Aktif_bersama>=0.9470035173160173',\n",
              "            'PK>=0.9377574286554868'}): 0.44886363636363635,\n",
              " frozenset({'LEARNING_POINT>=0.9228598484848485',\n",
              "            'PERFORMANCE>=0.9174641148325358'}): 0.5303030303030303,\n",
              " frozenset({'Kerja_Ibadah>=0.9490951178451179',\n",
              "            'PERFORMANCE>=0.9174641148325358'}): 0.4128787878787879,\n",
              " frozenset({'Apresiasi>=0.9514433124346917',\n",
              "            'PERFORMANCE>=0.9174641148325358'}): 0.4318181818181818,\n",
              " frozenset({'Lebih_cepat>=0.9192136886102402',\n",
              "            'PERFORMANCE>=0.9174641148325358'}): 0.3958333333333333,\n",
              " frozenset({'Aktif_bersama>=0.9470035173160173',\n",
              "            'PERFORMANCE>=0.9174641148325358'}): 0.4337121212121212,\n",
              " frozenset({'Kerja_Ibadah>=0.9490951178451179',\n",
              "            'LEARNING_POINT>=0.9228598484848485'}): 0.49053030303030304,\n",
              " frozenset({'Apresiasi>=0.9514433124346917',\n",
              "            'LEARNING_POINT>=0.9228598484848485'}): 0.4981060606060606,\n",
              " frozenset({'LEARNING_POINT>=0.9228598484848485',\n",
              "            'Lebih_cepat>=0.9192136886102402'}): 0.4318181818181818,\n",
              " frozenset({'Aktif_bersama>=0.9470035173160173',\n",
              "            'LEARNING_POINT>=0.9228598484848485'}): 0.48674242424242425,\n",
              " frozenset({'Apresiasi>=0.9514433124346917',\n",
              "            'Kerja_Ibadah>=0.9490951178451179'}): 0.5132575757575758,\n",
              " frozenset({'Kerja_Ibadah>=0.9490951178451179',\n",
              "            'Lebih_cepat>=0.9192136886102402'}): 0.45454545454545453,\n",
              " frozenset({'Aktif_bersama>=0.9470035173160173',\n",
              "            'Kerja_Ibadah>=0.9490951178451179'}): 0.4981060606060606,\n",
              " frozenset({'Apresiasi>=0.9514433124346917',\n",
              "            'Lebih_cepat>=0.9192136886102402'}): 0.49242424242424243,\n",
              " frozenset({'Aktif_bersama>=0.9470035173160173',\n",
              "            'Apresiasi>=0.9514433124346917'}): 0.5606060606060606,\n",
              " frozenset({'Aktif_bersama>=0.9470035173160173',\n",
              "            'Lebih_cepat>=0.9192136886102402'}): 0.4772727272727273,\n",
              " frozenset({'LEARNING_POINT>=0.9228598484848485',\n",
              "            'PERFORMANCE>=0.9174641148325358',\n",
              "            'PK>=0.9377574286554868'}): 0.5132575757575758}"
            ]
          },
          "metadata": {},
          "execution_count": 122
        }
      ]
    },
    {
      "cell_type": "code",
      "source": [
        "association_rules = create_rules(freq_items, item_support_dict, min_confidence = 0.9)\n",
        "association_rules"
      ],
      "metadata": {
        "colab": {
          "base_uri": "https://localhost:8080/"
        },
        "id": "g-VZZFGH44gj",
        "outputId": "936514c2-8880-45fa-bbc0-9aa70c85cd6f"
      },
      "execution_count": null,
      "outputs": [
        {
          "output_type": "execute_result",
          "data": {
            "text/plain": [
              "[(frozenset({'PERFORMANCE>=0.9174641148325358'}),\n",
              "  frozenset({'PK>=0.9377574286554868'}),\n",
              "  0.953125,\n",
              "  1.437857142857143,\n",
              "  7.191919191919193)]"
            ]
          },
          "metadata": {},
          "execution_count": 123
        }
      ]
    },
    {
      "cell_type": "markdown",
      "source": [
        "## **Cluster 3**"
      ],
      "metadata": {
        "id": "GQa8UgGEynWk"
      }
    },
    {
      "cell_type": "code",
      "source": [
        "import numpy as np\n",
        "X3 =np.array(data3)"
      ],
      "metadata": {
        "id": "PiGH_jCmyrSQ"
      },
      "execution_count": null,
      "outputs": []
    },
    {
      "cell_type": "code",
      "source": [
        "freq_items, item_support_dict = apriori(X3, min_support = 0.55)\n",
        "\n",
        "\n",
        "freq_items"
      ],
      "metadata": {
        "colab": {
          "base_uri": "https://localhost:8080/"
        },
        "id": "hq_p82CW5N4N",
        "outputId": "2e014bcd-6a01-4020-84ea-62cf07c350fa"
      },
      "execution_count": null,
      "outputs": [
        {
          "output_type": "execute_result",
          "data": {
            "text/plain": [
              "[[frozenset({'PK>=0.9069666283884886'}),\n",
              "  frozenset({'PERFORMANCE>=0.872212790039615'}),\n",
              "  frozenset({'LEARNING_POINT<0.07743727598566306'}),\n",
              "  frozenset({'Kerja_Ibadah>=0.903405017921147'}),\n",
              "  frozenset({'Apresiasi>=0.8777654183660857'}),\n",
              "  frozenset({'Lebih_cepat>=0.8257013966135212'}),\n",
              "  frozenset({'COMPETENCY<0.5085388994307399'}),\n",
              "  frozenset({'Aktif_bersama>=0.8728558627752174'})],\n",
              " [frozenset({'Apresiasi>=0.8777654183660857',\n",
              "             'Lebih_cepat>=0.8257013966135212'}),\n",
              "  frozenset({'Aktif_bersama>=0.8728558627752174',\n",
              "             'Apresiasi>=0.8777654183660857'})],\n",
              " []]"
            ]
          },
          "metadata": {},
          "execution_count": 125
        }
      ]
    },
    {
      "cell_type": "code",
      "source": [
        "item_support_dict"
      ],
      "metadata": {
        "colab": {
          "base_uri": "https://localhost:8080/"
        },
        "id": "ZwJ_0STkZRWU",
        "outputId": "091122dd-2bc2-4f8e-ab05-2f21511cdca8"
      },
      "execution_count": null,
      "outputs": [
        {
          "output_type": "execute_result",
          "data": {
            "text/plain": [
              "{frozenset({'PK>=0.9069666283884886'}): 0.5967741935483871,\n",
              " frozenset({'PERFORMANCE>=0.872212790039615'}): 0.5878136200716846,\n",
              " frozenset({'COMPETENCY>=0.5085388994307399'}): 0.31362007168458783,\n",
              " frozenset({'LEARNING_POINT<0.07743727598566306'}): 0.7455197132616488,\n",
              " frozenset({'Kerja_Ibadah>=0.903405017921147'}): 0.6057347670250897,\n",
              " frozenset({'Apresiasi>=0.8777654183660857'}): 0.6684587813620072,\n",
              " frozenset({'Lebih_cepat>=0.8257013966135212'}): 0.6218637992831542,\n",
              " frozenset({'Aktif_bersama<0.8728558627752174'}): 0.34767025089605735,\n",
              " frozenset({'PK<0.9069666283884886'}): 0.4032258064516129,\n",
              " frozenset({'PERFORMANCE<0.872212790039615'}): 0.4121863799283154,\n",
              " frozenset({'COMPETENCY<0.5085388994307399'}): 0.6863799283154122,\n",
              " frozenset({'Kerja_Ibadah<0.903405017921147'}): 0.3942652329749104,\n",
              " frozenset({'Apresiasi<0.8777654183660857'}): 0.33154121863799285,\n",
              " frozenset({'Aktif_bersama>=0.8728558627752174'}): 0.6523297491039427,\n",
              " frozenset({'Lebih_cepat<0.8257013966135212'}): 0.3781362007168459,\n",
              " frozenset({'LEARNING_POINT>=0.07743727598566306'}): 0.25448028673835127,\n",
              " frozenset({'PERFORMANCE>=0.872212790039615',\n",
              "            'PK>=0.9069666283884886'}): 0.5376344086021505,\n",
              " frozenset({'LEARNING_POINT<0.07743727598566306',\n",
              "            'PK>=0.9069666283884886'}): 0.4982078853046595,\n",
              " frozenset({'Kerja_Ibadah>=0.903405017921147',\n",
              "            'PK>=0.9069666283884886'}): 0.40860215053763443,\n",
              " frozenset({'Apresiasi>=0.8777654183660857',\n",
              "            'PK>=0.9069666283884886'}): 0.43548387096774194,\n",
              " frozenset({'Lebih_cepat>=0.8257013966135212',\n",
              "            'PK>=0.9069666283884886'}): 0.4157706093189964,\n",
              " frozenset({'LEARNING_POINT<0.07743727598566306',\n",
              "            'PERFORMANCE>=0.872212790039615'}): 0.46953405017921146,\n",
              " frozenset({'Kerja_Ibadah>=0.903405017921147',\n",
              "            'PERFORMANCE>=0.872212790039615'}): 0.44086021505376344,\n",
              " frozenset({'Apresiasi>=0.8777654183660857',\n",
              "            'PERFORMANCE>=0.872212790039615'}): 0.46774193548387094,\n",
              " frozenset({'Lebih_cepat>=0.8257013966135212',\n",
              "            'PERFORMANCE>=0.872212790039615'}): 0.45340501792114696,\n",
              " frozenset({'Kerja_Ibadah>=0.903405017921147',\n",
              "            'LEARNING_POINT<0.07743727598566306'}): 0.48028673835125446,\n",
              " frozenset({'Apresiasi>=0.8777654183660857',\n",
              "            'LEARNING_POINT<0.07743727598566306'}): 0.53584229390681,\n",
              " frozenset({'LEARNING_POINT<0.07743727598566306',\n",
              "            'Lebih_cepat>=0.8257013966135212'}): 0.4838709677419355,\n",
              " frozenset({'Apresiasi>=0.8777654183660857',\n",
              "            'Kerja_Ibadah>=0.903405017921147'}): 0.546594982078853,\n",
              " frozenset({'Kerja_Ibadah>=0.903405017921147',\n",
              "            'Lebih_cepat>=0.8257013966135212'}): 0.5232974910394266,\n",
              " frozenset({'Apresiasi>=0.8777654183660857',\n",
              "            'Lebih_cepat>=0.8257013966135212'}): 0.5591397849462365,\n",
              " frozenset({'COMPETENCY<0.5085388994307399',\n",
              "            'LEARNING_POINT<0.07743727598566306'}): 0.5394265232974911,\n",
              " frozenset({'Aktif_bersama>=0.8728558627752174',\n",
              "            'LEARNING_POINT<0.07743727598566306'}): 0.510752688172043,\n",
              " frozenset({'COMPETENCY<0.5085388994307399',\n",
              "            'Lebih_cepat>=0.8257013966135212'}): 0.41397849462365593,\n",
              " frozenset({'Aktif_bersama>=0.8728558627752174',\n",
              "            'Lebih_cepat>=0.8257013966135212'}): 0.5483870967741935,\n",
              " frozenset({'Aktif_bersama>=0.8728558627752174',\n",
              "            'COMPETENCY<0.5085388994307399'}): 0.4336917562724014,\n",
              " frozenset({'Aktif_bersama>=0.8728558627752174',\n",
              "            'PERFORMANCE>=0.872212790039615'}): 0.46953405017921146,\n",
              " frozenset({'Aktif_bersama>=0.8728558627752174',\n",
              "            'Kerja_Ibadah>=0.903405017921147'}): 0.53584229390681,\n",
              " frozenset({'Aktif_bersama>=0.8728558627752174',\n",
              "            'Apresiasi>=0.8777654183660857'}): 0.5878136200716846,\n",
              " frozenset({'Aktif_bersama>=0.8728558627752174',\n",
              "            'PK>=0.9069666283884886'}): 0.43010752688172044,\n",
              " frozenset({'COMPETENCY<0.5085388994307399',\n",
              "            'PERFORMANCE>=0.872212790039615'}): 0.3817204301075269,\n",
              " frozenset({'COMPETENCY<0.5085388994307399',\n",
              "            'Kerja_Ibadah>=0.903405017921147'}): 0.4103942652329749,\n",
              " frozenset({'Apresiasi>=0.8777654183660857',\n",
              "            'COMPETENCY<0.5085388994307399'}): 0.44802867383512546,\n",
              " frozenset({'COMPETENCY<0.5085388994307399',\n",
              "            'PK>=0.9069666283884886'}): 0.4121863799283154,\n",
              " frozenset({'Aktif_bersama>=0.8728558627752174',\n",
              "            'Apresiasi>=0.8777654183660857',\n",
              "            'Lebih_cepat>=0.8257013966135212'}): 0.521505376344086}"
            ]
          },
          "metadata": {},
          "execution_count": 126
        }
      ]
    },
    {
      "cell_type": "code",
      "source": [
        "association_rules = create_rules(freq_items, item_support_dict, min_confidence = 0.9)\n",
        "association_rules"
      ],
      "metadata": {
        "colab": {
          "base_uri": "https://localhost:8080/"
        },
        "id": "qrKKmwMC5OB4",
        "outputId": "490091ee-b152-40d4-bf83-2bce20c043bf"
      },
      "execution_count": null,
      "outputs": [
        {
          "output_type": "execute_result",
          "data": {
            "text/plain": [
              "[(frozenset({'Aktif_bersama>=0.8728558627752174'}),\n",
              "  frozenset({'Apresiasi>=0.8777654183660857'}),\n",
              "  0.901098901098901,\n",
              "  1.34802462952597,\n",
              "  3.352250099561924)]"
            ]
          },
          "metadata": {},
          "execution_count": 127
        }
      ]
    },
    {
      "cell_type": "markdown",
      "source": [
        "## **Cluster 4**"
      ],
      "metadata": {
        "id": "BFate_PCyuKS"
      }
    },
    {
      "cell_type": "code",
      "source": [
        "import numpy as np\n",
        "X4 =np.array(data4)"
      ],
      "metadata": {
        "id": "wMXocgmAy1VX"
      },
      "execution_count": null,
      "outputs": []
    },
    {
      "cell_type": "code",
      "source": [
        "data4"
      ],
      "metadata": {
        "colab": {
          "base_uri": "https://localhost:8080/",
          "height": 483
        },
        "id": "GYK1tT3AkKiY",
        "outputId": "a775da15-430b-4f06-bbf2-1078ee457942"
      },
      "execution_count": null,
      "outputs": [
        {
          "output_type": "execute_result",
          "data": {
            "text/plain": [
              "   PERFORMANCE_check LEARNING_POINT_check PK_check  \\\n",
              "0      PERFORMANCE=0     LEARNING_POINT=0  PK>=0.0   \n",
              "1      PERFORMANCE=0     LEARNING_POINT=0  PK>=0.0   \n",
              "2      PERFORMANCE>0     LEARNING_POINT=0  PK>=0.0   \n",
              "3      PERFORMANCE>0     LEARNING_POINT=0  PK>=0.0   \n",
              "4      PERFORMANCE=0     LEARNING_POINT=0  PK>=0.0   \n",
              "..               ...                  ...      ...   \n",
              "82     PERFORMANCE=0     LEARNING_POINT=0  PK>=0.0   \n",
              "83     PERFORMANCE=0     LEARNING_POINT=0  PK>=0.0   \n",
              "84     PERFORMANCE=0     LEARNING_POINT=0  PK>=0.0   \n",
              "85     PERFORMANCE>0     LEARNING_POINT=0  PK>=0.0   \n",
              "86     PERFORMANCE>0     LEARNING_POINT=0  PK>=0.0   \n",
              "\n",
              "                  COMPETENCY_check              Kerja_Ibadah_check  \\\n",
              "0   COMPETENCY>=0.4225828262339418   Kerja_Ibadah<0.79272030651341   \n",
              "1    COMPETENCY<0.4225828262339418   Kerja_Ibadah<0.79272030651341   \n",
              "2    COMPETENCY<0.4225828262339418  Kerja_Ibadah>=0.79272030651341   \n",
              "3   COMPETENCY>=0.4225828262339418  Kerja_Ibadah>=0.79272030651341   \n",
              "4   COMPETENCY>=0.4225828262339418   Kerja_Ibadah<0.79272030651341   \n",
              "..                             ...                             ...   \n",
              "82   COMPETENCY<0.4225828262339418   Kerja_Ibadah<0.79272030651341   \n",
              "83   COMPETENCY<0.4225828262339418   Kerja_Ibadah<0.79272030651341   \n",
              "84   COMPETENCY<0.4225828262339418   Kerja_Ibadah<0.79272030651341   \n",
              "85   COMPETENCY<0.4225828262339418  Kerja_Ibadah>=0.79272030651341   \n",
              "86   COMPETENCY<0.4225828262339418   Kerja_Ibadah<0.79272030651341   \n",
              "\n",
              "                 Apresiasi_check                Lebih_cepat_check  \\\n",
              "0    Apresiasi<0.654181529924693   Lebih_cepat<0.5790725326991676   \n",
              "1    Apresiasi<0.654181529924693   Lebih_cepat<0.5790725326991676   \n",
              "2   Apresiasi>=0.654181529924693  Lebih_cepat>=0.5790725326991676   \n",
              "3   Apresiasi>=0.654181529924693  Lebih_cepat>=0.5790725326991676   \n",
              "4    Apresiasi<0.654181529924693   Lebih_cepat<0.5790725326991676   \n",
              "..                           ...                              ...   \n",
              "82   Apresiasi<0.654181529924693   Lebih_cepat<0.5790725326991676   \n",
              "83   Apresiasi<0.654181529924693   Lebih_cepat<0.5790725326991676   \n",
              "84   Apresiasi<0.654181529924693   Lebih_cepat<0.5790725326991676   \n",
              "85   Apresiasi<0.654181529924693   Lebih_cepat<0.5790725326991676   \n",
              "86  Apresiasi>=0.654181529924693   Lebih_cepat<0.5790725326991676   \n",
              "\n",
              "                  Aktif_bersama_check  \n",
              "0    Aktif_bersama<0.7200328407224957  \n",
              "1    Aktif_bersama<0.7200328407224957  \n",
              "2   Aktif_bersama>=0.7200328407224957  \n",
              "3   Aktif_bersama>=0.7200328407224957  \n",
              "4    Aktif_bersama<0.7200328407224957  \n",
              "..                                ...  \n",
              "82   Aktif_bersama<0.7200328407224957  \n",
              "83   Aktif_bersama<0.7200328407224957  \n",
              "84   Aktif_bersama<0.7200328407224957  \n",
              "85  Aktif_bersama>=0.7200328407224957  \n",
              "86  Aktif_bersama>=0.7200328407224957  \n",
              "\n",
              "[87 rows x 8 columns]"
            ],
            "text/html": [
              "\n",
              "  <div id=\"df-e9fc8547-c4a5-4d44-bd23-97a7fa5b94cf\">\n",
              "    <div class=\"colab-df-container\">\n",
              "      <div>\n",
              "<style scoped>\n",
              "    .dataframe tbody tr th:only-of-type {\n",
              "        vertical-align: middle;\n",
              "    }\n",
              "\n",
              "    .dataframe tbody tr th {\n",
              "        vertical-align: top;\n",
              "    }\n",
              "\n",
              "    .dataframe thead th {\n",
              "        text-align: right;\n",
              "    }\n",
              "</style>\n",
              "<table border=\"1\" class=\"dataframe\">\n",
              "  <thead>\n",
              "    <tr style=\"text-align: right;\">\n",
              "      <th></th>\n",
              "      <th>PERFORMANCE_check</th>\n",
              "      <th>LEARNING_POINT_check</th>\n",
              "      <th>PK_check</th>\n",
              "      <th>COMPETENCY_check</th>\n",
              "      <th>Kerja_Ibadah_check</th>\n",
              "      <th>Apresiasi_check</th>\n",
              "      <th>Lebih_cepat_check</th>\n",
              "      <th>Aktif_bersama_check</th>\n",
              "    </tr>\n",
              "  </thead>\n",
              "  <tbody>\n",
              "    <tr>\n",
              "      <th>0</th>\n",
              "      <td>PERFORMANCE=0</td>\n",
              "      <td>LEARNING_POINT=0</td>\n",
              "      <td>PK&gt;=0.0</td>\n",
              "      <td>COMPETENCY&gt;=0.4225828262339418</td>\n",
              "      <td>Kerja_Ibadah&lt;0.79272030651341</td>\n",
              "      <td>Apresiasi&lt;0.654181529924693</td>\n",
              "      <td>Lebih_cepat&lt;0.5790725326991676</td>\n",
              "      <td>Aktif_bersama&lt;0.7200328407224957</td>\n",
              "    </tr>\n",
              "    <tr>\n",
              "      <th>1</th>\n",
              "      <td>PERFORMANCE=0</td>\n",
              "      <td>LEARNING_POINT=0</td>\n",
              "      <td>PK&gt;=0.0</td>\n",
              "      <td>COMPETENCY&lt;0.4225828262339418</td>\n",
              "      <td>Kerja_Ibadah&lt;0.79272030651341</td>\n",
              "      <td>Apresiasi&lt;0.654181529924693</td>\n",
              "      <td>Lebih_cepat&lt;0.5790725326991676</td>\n",
              "      <td>Aktif_bersama&lt;0.7200328407224957</td>\n",
              "    </tr>\n",
              "    <tr>\n",
              "      <th>2</th>\n",
              "      <td>PERFORMANCE&gt;0</td>\n",
              "      <td>LEARNING_POINT=0</td>\n",
              "      <td>PK&gt;=0.0</td>\n",
              "      <td>COMPETENCY&lt;0.4225828262339418</td>\n",
              "      <td>Kerja_Ibadah&gt;=0.79272030651341</td>\n",
              "      <td>Apresiasi&gt;=0.654181529924693</td>\n",
              "      <td>Lebih_cepat&gt;=0.5790725326991676</td>\n",
              "      <td>Aktif_bersama&gt;=0.7200328407224957</td>\n",
              "    </tr>\n",
              "    <tr>\n",
              "      <th>3</th>\n",
              "      <td>PERFORMANCE&gt;0</td>\n",
              "      <td>LEARNING_POINT=0</td>\n",
              "      <td>PK&gt;=0.0</td>\n",
              "      <td>COMPETENCY&gt;=0.4225828262339418</td>\n",
              "      <td>Kerja_Ibadah&gt;=0.79272030651341</td>\n",
              "      <td>Apresiasi&gt;=0.654181529924693</td>\n",
              "      <td>Lebih_cepat&gt;=0.5790725326991676</td>\n",
              "      <td>Aktif_bersama&gt;=0.7200328407224957</td>\n",
              "    </tr>\n",
              "    <tr>\n",
              "      <th>4</th>\n",
              "      <td>PERFORMANCE=0</td>\n",
              "      <td>LEARNING_POINT=0</td>\n",
              "      <td>PK&gt;=0.0</td>\n",
              "      <td>COMPETENCY&gt;=0.4225828262339418</td>\n",
              "      <td>Kerja_Ibadah&lt;0.79272030651341</td>\n",
              "      <td>Apresiasi&lt;0.654181529924693</td>\n",
              "      <td>Lebih_cepat&lt;0.5790725326991676</td>\n",
              "      <td>Aktif_bersama&lt;0.7200328407224957</td>\n",
              "    </tr>\n",
              "    <tr>\n",
              "      <th>...</th>\n",
              "      <td>...</td>\n",
              "      <td>...</td>\n",
              "      <td>...</td>\n",
              "      <td>...</td>\n",
              "      <td>...</td>\n",
              "      <td>...</td>\n",
              "      <td>...</td>\n",
              "      <td>...</td>\n",
              "    </tr>\n",
              "    <tr>\n",
              "      <th>82</th>\n",
              "      <td>PERFORMANCE=0</td>\n",
              "      <td>LEARNING_POINT=0</td>\n",
              "      <td>PK&gt;=0.0</td>\n",
              "      <td>COMPETENCY&lt;0.4225828262339418</td>\n",
              "      <td>Kerja_Ibadah&lt;0.79272030651341</td>\n",
              "      <td>Apresiasi&lt;0.654181529924693</td>\n",
              "      <td>Lebih_cepat&lt;0.5790725326991676</td>\n",
              "      <td>Aktif_bersama&lt;0.7200328407224957</td>\n",
              "    </tr>\n",
              "    <tr>\n",
              "      <th>83</th>\n",
              "      <td>PERFORMANCE=0</td>\n",
              "      <td>LEARNING_POINT=0</td>\n",
              "      <td>PK&gt;=0.0</td>\n",
              "      <td>COMPETENCY&lt;0.4225828262339418</td>\n",
              "      <td>Kerja_Ibadah&lt;0.79272030651341</td>\n",
              "      <td>Apresiasi&lt;0.654181529924693</td>\n",
              "      <td>Lebih_cepat&lt;0.5790725326991676</td>\n",
              "      <td>Aktif_bersama&lt;0.7200328407224957</td>\n",
              "    </tr>\n",
              "    <tr>\n",
              "      <th>84</th>\n",
              "      <td>PERFORMANCE=0</td>\n",
              "      <td>LEARNING_POINT=0</td>\n",
              "      <td>PK&gt;=0.0</td>\n",
              "      <td>COMPETENCY&lt;0.4225828262339418</td>\n",
              "      <td>Kerja_Ibadah&lt;0.79272030651341</td>\n",
              "      <td>Apresiasi&lt;0.654181529924693</td>\n",
              "      <td>Lebih_cepat&lt;0.5790725326991676</td>\n",
              "      <td>Aktif_bersama&lt;0.7200328407224957</td>\n",
              "    </tr>\n",
              "    <tr>\n",
              "      <th>85</th>\n",
              "      <td>PERFORMANCE&gt;0</td>\n",
              "      <td>LEARNING_POINT=0</td>\n",
              "      <td>PK&gt;=0.0</td>\n",
              "      <td>COMPETENCY&lt;0.4225828262339418</td>\n",
              "      <td>Kerja_Ibadah&gt;=0.79272030651341</td>\n",
              "      <td>Apresiasi&lt;0.654181529924693</td>\n",
              "      <td>Lebih_cepat&lt;0.5790725326991676</td>\n",
              "      <td>Aktif_bersama&gt;=0.7200328407224957</td>\n",
              "    </tr>\n",
              "    <tr>\n",
              "      <th>86</th>\n",
              "      <td>PERFORMANCE&gt;0</td>\n",
              "      <td>LEARNING_POINT=0</td>\n",
              "      <td>PK&gt;=0.0</td>\n",
              "      <td>COMPETENCY&lt;0.4225828262339418</td>\n",
              "      <td>Kerja_Ibadah&lt;0.79272030651341</td>\n",
              "      <td>Apresiasi&gt;=0.654181529924693</td>\n",
              "      <td>Lebih_cepat&lt;0.5790725326991676</td>\n",
              "      <td>Aktif_bersama&gt;=0.7200328407224957</td>\n",
              "    </tr>\n",
              "  </tbody>\n",
              "</table>\n",
              "<p>87 rows × 8 columns</p>\n",
              "</div>\n",
              "      <button class=\"colab-df-convert\" onclick=\"convertToInteractive('df-e9fc8547-c4a5-4d44-bd23-97a7fa5b94cf')\"\n",
              "              title=\"Convert this dataframe to an interactive table.\"\n",
              "              style=\"display:none;\">\n",
              "        \n",
              "  <svg xmlns=\"http://www.w3.org/2000/svg\" height=\"24px\"viewBox=\"0 0 24 24\"\n",
              "       width=\"24px\">\n",
              "    <path d=\"M0 0h24v24H0V0z\" fill=\"none\"/>\n",
              "    <path d=\"M18.56 5.44l.94 2.06.94-2.06 2.06-.94-2.06-.94-.94-2.06-.94 2.06-2.06.94zm-11 1L8.5 8.5l.94-2.06 2.06-.94-2.06-.94L8.5 2.5l-.94 2.06-2.06.94zm10 10l.94 2.06.94-2.06 2.06-.94-2.06-.94-.94-2.06-.94 2.06-2.06.94z\"/><path d=\"M17.41 7.96l-1.37-1.37c-.4-.4-.92-.59-1.43-.59-.52 0-1.04.2-1.43.59L10.3 9.45l-7.72 7.72c-.78.78-.78 2.05 0 2.83L4 21.41c.39.39.9.59 1.41.59.51 0 1.02-.2 1.41-.59l7.78-7.78 2.81-2.81c.8-.78.8-2.07 0-2.86zM5.41 20L4 18.59l7.72-7.72 1.47 1.35L5.41 20z\"/>\n",
              "  </svg>\n",
              "      </button>\n",
              "      \n",
              "  <style>\n",
              "    .colab-df-container {\n",
              "      display:flex;\n",
              "      flex-wrap:wrap;\n",
              "      gap: 12px;\n",
              "    }\n",
              "\n",
              "    .colab-df-convert {\n",
              "      background-color: #E8F0FE;\n",
              "      border: none;\n",
              "      border-radius: 50%;\n",
              "      cursor: pointer;\n",
              "      display: none;\n",
              "      fill: #1967D2;\n",
              "      height: 32px;\n",
              "      padding: 0 0 0 0;\n",
              "      width: 32px;\n",
              "    }\n",
              "\n",
              "    .colab-df-convert:hover {\n",
              "      background-color: #E2EBFA;\n",
              "      box-shadow: 0px 1px 2px rgba(60, 64, 67, 0.3), 0px 1px 3px 1px rgba(60, 64, 67, 0.15);\n",
              "      fill: #174EA6;\n",
              "    }\n",
              "\n",
              "    [theme=dark] .colab-df-convert {\n",
              "      background-color: #3B4455;\n",
              "      fill: #D2E3FC;\n",
              "    }\n",
              "\n",
              "    [theme=dark] .colab-df-convert:hover {\n",
              "      background-color: #434B5C;\n",
              "      box-shadow: 0px 1px 3px 1px rgba(0, 0, 0, 0.15);\n",
              "      filter: drop-shadow(0px 1px 2px rgba(0, 0, 0, 0.3));\n",
              "      fill: #FFFFFF;\n",
              "    }\n",
              "  </style>\n",
              "\n",
              "      <script>\n",
              "        const buttonEl =\n",
              "          document.querySelector('#df-e9fc8547-c4a5-4d44-bd23-97a7fa5b94cf button.colab-df-convert');\n",
              "        buttonEl.style.display =\n",
              "          google.colab.kernel.accessAllowed ? 'block' : 'none';\n",
              "\n",
              "        async function convertToInteractive(key) {\n",
              "          const element = document.querySelector('#df-e9fc8547-c4a5-4d44-bd23-97a7fa5b94cf');\n",
              "          const dataTable =\n",
              "            await google.colab.kernel.invokeFunction('convertToInteractive',\n",
              "                                                     [key], {});\n",
              "          if (!dataTable) return;\n",
              "\n",
              "          const docLinkHtml = 'Like what you see? Visit the ' +\n",
              "            '<a target=\"_blank\" href=https://colab.research.google.com/notebooks/data_table.ipynb>data table notebook</a>'\n",
              "            + ' to learn more about interactive tables.';\n",
              "          element.innerHTML = '';\n",
              "          dataTable['output_type'] = 'display_data';\n",
              "          await google.colab.output.renderOutput(dataTable, element);\n",
              "          const docLink = document.createElement('div');\n",
              "          docLink.innerHTML = docLinkHtml;\n",
              "          element.appendChild(docLink);\n",
              "        }\n",
              "      </script>\n",
              "    </div>\n",
              "  </div>\n",
              "  "
            ]
          },
          "metadata": {},
          "execution_count": 129
        }
      ]
    },
    {
      "cell_type": "code",
      "source": [
        "count = 0\n",
        "for i in cluster4['Apresiasi']:\n",
        "  if i>=0.654181529924693:\n",
        "    count+=1\n",
        "print(count)"
      ],
      "metadata": {
        "colab": {
          "base_uri": "https://localhost:8080/"
        },
        "id": "kaxTkJOQkD7h",
        "outputId": "8aac5981-ab95-4cda-f241-e6af8d8230d5"
      },
      "execution_count": null,
      "outputs": [
        {
          "output_type": "stream",
          "name": "stdout",
          "text": [
            "44\n"
          ]
        }
      ]
    },
    {
      "cell_type": "code",
      "source": [
        "freq_items, item_support_dict = apriori(X4, min_support = 0.55)\n",
        "\n",
        "count = 0\n",
        "for i in freq_items:\n",
        "  for j in i:\n",
        "    count+=1\n",
        "print(count)"
      ],
      "metadata": {
        "colab": {
          "base_uri": "https://localhost:8080/"
        },
        "id": "OcjBr4DeiEXD",
        "outputId": "e7874578-ff88-471e-d01b-fb3aff893ac2"
      },
      "execution_count": null,
      "outputs": [
        {
          "output_type": "stream",
          "name": "stdout",
          "text": [
            "39\n"
          ]
        }
      ]
    },
    {
      "cell_type": "code",
      "source": [
        "freq_items"
      ],
      "metadata": {
        "colab": {
          "base_uri": "https://localhost:8080/"
        },
        "id": "aFvMk1u2iiC6",
        "outputId": "32d73f0b-3bd4-493f-fb73-2c75cae421c8"
      },
      "execution_count": null,
      "outputs": [
        {
          "output_type": "execute_result",
          "data": {
            "text/plain": [
              "[[frozenset({'LEARNING_POINT=0'}),\n",
              "  frozenset({'PK>=0.0'}),\n",
              "  frozenset({'Kerja_Ibadah<0.79272030651341'}),\n",
              "  frozenset({'Lebih_cepat<0.5790725326991676'}),\n",
              "  frozenset({'Aktif_bersama<0.7200328407224957'}),\n",
              "  frozenset({'COMPETENCY<0.4225828262339418'})],\n",
              " [frozenset({'LEARNING_POINT=0', 'PK>=0.0'}),\n",
              "  frozenset({'Kerja_Ibadah<0.79272030651341', 'LEARNING_POINT=0'}),\n",
              "  frozenset({'LEARNING_POINT=0', 'Lebih_cepat<0.5790725326991676'}),\n",
              "  frozenset({'Aktif_bersama<0.7200328407224957', 'LEARNING_POINT=0'}),\n",
              "  frozenset({'Kerja_Ibadah<0.79272030651341', 'PK>=0.0'}),\n",
              "  frozenset({'Lebih_cepat<0.5790725326991676', 'PK>=0.0'}),\n",
              "  frozenset({'Aktif_bersama<0.7200328407224957', 'PK>=0.0'}),\n",
              "  frozenset({'Kerja_Ibadah<0.79272030651341',\n",
              "             'Lebih_cepat<0.5790725326991676'}),\n",
              "  frozenset({'Aktif_bersama<0.7200328407224957',\n",
              "             'Kerja_Ibadah<0.79272030651341'}),\n",
              "  frozenset({'Aktif_bersama<0.7200328407224957',\n",
              "             'Lebih_cepat<0.5790725326991676'}),\n",
              "  frozenset({'COMPETENCY<0.4225828262339418', 'LEARNING_POINT=0'}),\n",
              "  frozenset({'COMPETENCY<0.4225828262339418', 'PK>=0.0'}),\n",
              "  frozenset({'COMPETENCY<0.4225828262339418',\n",
              "             'Lebih_cepat<0.5790725326991676'})],\n",
              " [frozenset({'Kerja_Ibadah<0.79272030651341', 'LEARNING_POINT=0', 'PK>=0.0'}),\n",
              "  frozenset({'LEARNING_POINT=0', 'Lebih_cepat<0.5790725326991676', 'PK>=0.0'}),\n",
              "  frozenset({'Aktif_bersama<0.7200328407224957',\n",
              "             'LEARNING_POINT=0',\n",
              "             'PK>=0.0'}),\n",
              "  frozenset({'Kerja_Ibadah<0.79272030651341',\n",
              "             'LEARNING_POINT=0',\n",
              "             'Lebih_cepat<0.5790725326991676'}),\n",
              "  frozenset({'Aktif_bersama<0.7200328407224957',\n",
              "             'Kerja_Ibadah<0.79272030651341',\n",
              "             'LEARNING_POINT=0'}),\n",
              "  frozenset({'Aktif_bersama<0.7200328407224957',\n",
              "             'LEARNING_POINT=0',\n",
              "             'Lebih_cepat<0.5790725326991676'}),\n",
              "  frozenset({'Kerja_Ibadah<0.79272030651341',\n",
              "             'Lebih_cepat<0.5790725326991676',\n",
              "             'PK>=0.0'}),\n",
              "  frozenset({'Aktif_bersama<0.7200328407224957',\n",
              "             'Kerja_Ibadah<0.79272030651341',\n",
              "             'PK>=0.0'}),\n",
              "  frozenset({'Aktif_bersama<0.7200328407224957',\n",
              "             'Lebih_cepat<0.5790725326991676',\n",
              "             'PK>=0.0'}),\n",
              "  frozenset({'Aktif_bersama<0.7200328407224957',\n",
              "             'Kerja_Ibadah<0.79272030651341',\n",
              "             'Lebih_cepat<0.5790725326991676'}),\n",
              "  frozenset({'COMPETENCY<0.4225828262339418', 'LEARNING_POINT=0', 'PK>=0.0'}),\n",
              "  frozenset({'COMPETENCY<0.4225828262339418',\n",
              "             'LEARNING_POINT=0',\n",
              "             'Lebih_cepat<0.5790725326991676'}),\n",
              "  frozenset({'COMPETENCY<0.4225828262339418',\n",
              "             'Lebih_cepat<0.5790725326991676',\n",
              "             'PK>=0.0'})],\n",
              " [frozenset({'Kerja_Ibadah<0.79272030651341',\n",
              "             'LEARNING_POINT=0',\n",
              "             'Lebih_cepat<0.5790725326991676',\n",
              "             'PK>=0.0'}),\n",
              "  frozenset({'Aktif_bersama<0.7200328407224957',\n",
              "             'Kerja_Ibadah<0.79272030651341',\n",
              "             'LEARNING_POINT=0',\n",
              "             'PK>=0.0'}),\n",
              "  frozenset({'Aktif_bersama<0.7200328407224957',\n",
              "             'LEARNING_POINT=0',\n",
              "             'Lebih_cepat<0.5790725326991676',\n",
              "             'PK>=0.0'}),\n",
              "  frozenset({'Aktif_bersama<0.7200328407224957',\n",
              "             'Kerja_Ibadah<0.79272030651341',\n",
              "             'LEARNING_POINT=0',\n",
              "             'Lebih_cepat<0.5790725326991676'}),\n",
              "  frozenset({'Aktif_bersama<0.7200328407224957',\n",
              "             'Kerja_Ibadah<0.79272030651341',\n",
              "             'Lebih_cepat<0.5790725326991676',\n",
              "             'PK>=0.0'}),\n",
              "  frozenset({'COMPETENCY<0.4225828262339418',\n",
              "             'LEARNING_POINT=0',\n",
              "             'Lebih_cepat<0.5790725326991676',\n",
              "             'PK>=0.0'})],\n",
              " [frozenset({'Aktif_bersama<0.7200328407224957',\n",
              "             'Kerja_Ibadah<0.79272030651341',\n",
              "             'LEARNING_POINT=0',\n",
              "             'Lebih_cepat<0.5790725326991676',\n",
              "             'PK>=0.0'})],\n",
              " []]"
            ]
          },
          "metadata": {},
          "execution_count": 132
        }
      ]
    },
    {
      "cell_type": "code",
      "source": [],
      "metadata": {
        "colab": {
          "base_uri": "https://localhost:8080/"
        },
        "id": "W0Ut_vImiMmO",
        "outputId": "304aced0-0bba-471a-d053-6f8d5dfacda5"
      },
      "execution_count": null,
      "outputs": [
        {
          "output_type": "execute_result",
          "data": {
            "text/plain": [
              "6"
            ]
          },
          "metadata": {},
          "execution_count": 56
        }
      ]
    },
    {
      "cell_type": "code",
      "source": [
        "freq_items, item_support_dict = apriori(X4, min_support = 0.75)\n",
        "\n",
        "\n",
        "\n",
        "freq_items"
      ],
      "metadata": {
        "colab": {
          "base_uri": "https://localhost:8080/"
        },
        "id": "Re1e46qc5S_B",
        "outputId": "cd20c01b-dd98-463d-8836-d2dfd15d39b5"
      },
      "execution_count": null,
      "outputs": [
        {
          "output_type": "execute_result",
          "data": {
            "text/plain": [
              "[[frozenset({'LEARNING_POINT=0'}), frozenset({'PK>=0.0'})],\n",
              " [frozenset({'LEARNING_POINT=0', 'PK>=0.0'})],\n",
              " []]"
            ]
          },
          "metadata": {},
          "execution_count": 139
        }
      ]
    },
    {
      "cell_type": "code",
      "source": [
        "item_support_dict"
      ],
      "metadata": {
        "colab": {
          "base_uri": "https://localhost:8080/"
        },
        "id": "hGsKQd8UecPO",
        "outputId": "61a142db-a7bd-4da7-d674-ba20ce584d4e"
      },
      "execution_count": null,
      "outputs": [
        {
          "output_type": "execute_result",
          "data": {
            "text/plain": [
              "{frozenset({'PERFORMANCE=0'}): 0.45977011494252873,\n",
              " frozenset({'LEARNING_POINT=0'}): 0.9885057471264368,\n",
              " frozenset({'PK>=0.0'}): 1.0,\n",
              " frozenset({'COMPETENCY>=0.4225828262339418'}): 0.25287356321839083,\n",
              " frozenset({'Kerja_Ibadah<0.79272030651341'}): 0.6436781609195402,\n",
              " frozenset({'Apresiasi<0.654181529924693'}): 0.4942528735632184,\n",
              " frozenset({'Lebih_cepat<0.5790725326991676'}): 0.6896551724137931,\n",
              " frozenset({'Aktif_bersama<0.7200328407224957'}): 0.5977011494252874,\n",
              " frozenset({'COMPETENCY<0.4225828262339418'}): 0.7471264367816092,\n",
              " frozenset({'PERFORMANCE>0'}): 0.5402298850574713,\n",
              " frozenset({'Kerja_Ibadah>=0.79272030651341'}): 0.3563218390804598,\n",
              " frozenset({'Apresiasi>=0.654181529924693'}): 0.5057471264367817,\n",
              " frozenset({'Lebih_cepat>=0.5790725326991676'}): 0.3103448275862069,\n",
              " frozenset({'Aktif_bersama>=0.7200328407224957'}): 0.40229885057471265,\n",
              " frozenset({'LEARNING_POINT>0'}): 0.011494252873563218,\n",
              " frozenset({'LEARNING_POINT=0', 'PK>=0.0'}): 0.9885057471264368}"
            ]
          },
          "metadata": {},
          "execution_count": 140
        }
      ]
    },
    {
      "cell_type": "code",
      "source": [
        "def compute_conf(freq_items, item_support_dict, freq_set, subsets, min_confidence):\n",
        "    \"\"\"\n",
        "    create the rules and returns the rules info and the rules's\n",
        "    right hand side (used for generating the next round of rules) \n",
        "    if it surpasses the minimum confidence threshold\n",
        "    \"\"\"\n",
        "    rules = []\n",
        "    right_hand_side = []\n",
        "    \n",
        "    for rhs in subsets:\n",
        "        # create the left hand side of the rule\n",
        "        # and add the rules if it's greater than\n",
        "        # the confidence threshold\n",
        "        lhs = freq_set - rhs\n",
        "        conf = item_support_dict[freq_set] / item_support_dict[lhs]\n",
        "        \n",
        "        if conf >= min_confidence:\n",
        "            lift = conf / item_support_dict[rhs]\n",
        "            conv_a = (1- item_support_dict[rhs])\n",
        "            conv_b = (1 - conf)\n",
        "            if conv_b == 0:\n",
        "              conv = \"infinity\"\n",
        "            else:\n",
        "              conv = conv_a/conv_b\n",
        "            rules_info = lhs, rhs, conf, lift,conv\n",
        "            rules.append(rules_info)\n",
        "            right_hand_side.append(rhs)\n",
        "            \n",
        "    return rules, right_hand_side"
      ],
      "metadata": {
        "id": "6loL-cIcu2iB"
      },
      "execution_count": null,
      "outputs": []
    },
    {
      "cell_type": "code",
      "source": [
        "association_rules = create_rules(freq_items, item_support_dict, min_confidence = 0.9)\n",
        "association_rules"
      ],
      "metadata": {
        "colab": {
          "base_uri": "https://localhost:8080/"
        },
        "id": "S5VIJR-85ZtE",
        "outputId": "84822bf8-5dcd-41d9-e4fe-929ced121060"
      },
      "execution_count": null,
      "outputs": [
        {
          "output_type": "execute_result",
          "data": {
            "text/plain": [
              "[(frozenset({'PK>=0.0'}),\n",
              "  frozenset({'LEARNING_POINT=0'}),\n",
              "  0.9885057471264368,\n",
              "  1.0,\n",
              "  1.0),\n",
              " (frozenset({'LEARNING_POINT=0'}),\n",
              "  frozenset({'PK>=0.0'}),\n",
              "  1.0,\n",
              "  1.0,\n",
              "  'infinity')]"
            ]
          },
          "metadata": {},
          "execution_count": 142
        }
      ]
    },
    {
      "cell_type": "code",
      "source": [
        "count = 0\n",
        "for i in association_rules:\n",
        "  if i[2]>0.9:\n",
        "    print(i)\n",
        "    count +=1\n",
        "print(count)"
      ],
      "metadata": {
        "colab": {
          "base_uri": "https://localhost:8080/"
        },
        "id": "a-Du2kMN6LMZ",
        "outputId": "6ce2e77b-6a49-40b7-853f-5db224bab12c"
      },
      "execution_count": null,
      "outputs": [
        {
          "output_type": "stream",
          "name": "stdout",
          "text": [
            "(frozenset({'PK>=0.0'}), frozenset({'LEARNING_POINT=0'}), 0.9885057471264368, 1.0, 1.0)\n",
            "(frozenset({'LEARNING_POINT=0'}), frozenset({'PK>=0.0'}), 1.0, 1.0, 'infinity')\n",
            "2\n"
          ]
        }
      ]
    },
    {
      "cell_type": "code",
      "source": [],
      "metadata": {
        "id": "Bb8yWzAXe1lE"
      },
      "execution_count": null,
      "outputs": []
    }
  ]
}
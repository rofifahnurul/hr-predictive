{
  "nbformat": 4,
  "nbformat_minor": 0,
  "metadata": {
    "colab": {
      "provenance": [],
      "collapsed_sections": []
    },
    "kernelspec": {
      "name": "python3",
      "display_name": "Python 3"
    },
    "language_info": {
      "name": "python"
    }
  },
  "cells": [
    {
      "cell_type": "code",
      "execution_count": null,
      "metadata": {
        "colab": {
          "base_uri": "https://localhost:8080/"
        },
        "id": "rzBh-8aL8KUs",
        "outputId": "a02b5912-34d3-4725-c818-08d91a0996ff"
      },
      "outputs": [
        {
          "output_type": "stream",
          "name": "stdout",
          "text": [
            "Mounted at /content/gdrive\n"
          ]
        }
      ],
      "source": [
        "\n",
        "from google.colab import drive\n",
        "drive.mount('/content/gdrive')"
      ]
    },
    {
      "cell_type": "code",
      "source": [
        "import pandas as pd"
      ],
      "metadata": {
        "id": "XDo02w1r-auj"
      },
      "execution_count": null,
      "outputs": []
    },
    {
      "cell_type": "markdown",
      "source": [
        "# **Convert Data (Excel to CSV)**\n"
      ],
      "metadata": {
        "id": "nrDV3HywQieb"
      }
    },
    {
      "cell_type": "code",
      "source": [
        "read_file = pd.read_excel (r'/content/gdrive/MyDrive/skripsi/master-data.xlsx')\n",
        "read_file.to_csv (r'/content/gdrive/MyDrive/skripsi/master-data.csv', index = None, header=True)"
      ],
      "metadata": {
        "id": "ik0qwtiSPgFX"
      },
      "execution_count": null,
      "outputs": []
    },
    {
      "cell_type": "code",
      "source": [
        "read_file1 = pd.read_excel (r'/content/gdrive/MyDrive/skripsi/master-behaviour.xlsx')\n",
        "read_file1.to_csv (r'/content/gdrive/MyDrive/skripsi/master-behaviour.csv', index = None, header=True)\n"
      ],
      "metadata": {
        "id": "KINjRsxOSmFe"
      },
      "execution_count": null,
      "outputs": []
    },
    {
      "cell_type": "markdown",
      "source": [
        "# **Make dataframe**"
      ],
      "metadata": {
        "id": "hDJr0EQaa7pw"
      }
    },
    {
      "cell_type": "code",
      "source": [
        "source1 = r'/content/gdrive/MyDrive/skripsi/master-data.csv'\n",
        "source2 = r'/content/gdrive/MyDrive/skripsi/master-behaviour.csv'\n",
        "df1 = pd.read_csv(source1)\n",
        "df2 = pd.read_csv(source2)"
      ],
      "metadata": {
        "id": "_jKfpHc98ZOU"
      },
      "execution_count": null,
      "outputs": []
    },
    {
      "cell_type": "markdown",
      "source": [
        "**1. Checking first dataframe**"
      ],
      "metadata": {
        "id": "_tA6-vikbB6s"
      }
    },
    {
      "cell_type": "code",
      "source": [
        "print(df1)"
      ],
      "metadata": {
        "colab": {
          "base_uri": "https://localhost:8080/"
        },
        "id": "zdyZwPkK9caI",
        "outputId": "1431543f-8555-4be8-af0a-34d5384f2172"
      },
      "execution_count": null,
      "outputs": [
        {
          "output_type": "stream",
          "name": "stdout",
          "text": [
            "          NO        NIK              BUSINESS_UNIT            JOB_LEVEL  \\\n",
            "0        1.0  200700326  PT. HADJI KALLA (HOLDING)    EXECUTIVE LEADERS   \n",
            "1        2.0  199500085  PT. HADJI KALLA (HOLDING)    EXECUTIVE LEADERS   \n",
            "2        3.0  199500048  PT. HADJI KALLA (HOLDING)    EXECUTIVE LEADERS   \n",
            "3        4.0  200700297  PT. HADJI KALLA (HOLDING)    EXECUTIVE LEADERS   \n",
            "4        5.0  201600670  PT. HADJI KALLA (HOLDING)    EXECUTIVE LEADERS   \n",
            "...      ...        ...                        ...                  ...   \n",
            "1371  1483.0  201000393       PT. KALLA INTI KARSA       STAFF/OPERATOR   \n",
            "1372  1484.0  200800348       PT. KALLA INTI KARSA       STAFF/OPERATOR   \n",
            "1373  1485.0  200100421       PT. KALLA INTI KARSA    STRATEGIC LEADERS   \n",
            "1374  1486.0  199500919       PT. KALLA INTI KARSA  OPERATIONAL LEADERS   \n",
            "1375  1487.0  201929411       PT. KALLA INTI KARSA  OPERATIONAL LEADERS   \n",
            "\n",
            "                            LOCATION                   DEPARTMENT  \\\n",
            "0     HEAD OFFICE WISMA KALLA LT. 13                     DIRECTOR   \n",
            "1     HEAD OFFICE WISMA KALLA LT. 13                     DIRECTOR   \n",
            "2     HEAD OFFICE WISMA KALLA LT. 14                     DIRECTOR   \n",
            "3     HEAD OFFICE WISMA KALLA LT. 13                     DIRECTOR   \n",
            "4     HEAD OFFICE WISMA KALLA LT. 13                     DIRECTOR   \n",
            "...                              ...                          ...   \n",
            "1371                     WISMA KALLA  WISMA KALLA OFFICE BUILDING   \n",
            "1372                     WISMA KALLA  WISMA KALLA OFFICE BUILDING   \n",
            "1373                     WISMA KALLA              FOOD & BEVERAGE   \n",
            "1374                     WISMA KALLA              FOOD & BEVERAGE   \n",
            "1375                     WISMA KALLA              FOOD & BEVERAGE   \n",
            "\n",
            "                                   JOB_POSITION     PK  BEHAVIOR  \\\n",
            "0             CHIEF EXECUTIVE OFFICER GO DEVCON  1.002  0.935000   \n",
            "1              CHIEF FINANCE OFFICER  KALLA OTO  0.930  0.905729   \n",
            "2                    CORPORATE FINANCE DIRECTOR  0.906  0.990000   \n",
            "3     MARKETING & BUSINESS DEVELOPMENT DIRECTOR  0.984  0.938000   \n",
            "4                 PEOPLE & PERFORMANCE DIRECTOR  0.902  0.978000   \n",
            "...                                         ...    ...       ...   \n",
            "1371                            OPERATION STAFF  0.988  0.674479   \n",
            "1372                      TENANT RELATION STAFF  0.930  0.997917   \n",
            "1373            FOOD & BEVERAGE GENERAL MANAGER  0.913  0.880729   \n",
            "1374                             EXECUTIVE CHEF  0.930  0.882813   \n",
            "1375  FOOD & BEVEREAGE BUSINESS SUPPORT MANAGER  0.932  0.827604   \n",
            "\n",
            "      ADDITIONAL POINT         PERFORMANCE          COMPETENCY  LEARNING POINT  \n",
            "0                0.000          1.02001875  1.0933333333333335            0.00  \n",
            "1                0.005         0.931359375  1.0155555555555558            0.00  \n",
            "2                0.000          0.98305625  1.0533333333333332            0.00  \n",
            "3                0.000         1.030740625  1.1333333333333333            0.00  \n",
            "4                0.000  1.0231249999999998   1.017777777777778            0.00  \n",
            "...                ...                 ...                 ...             ...  \n",
            "1371             0.010         0.950971875  1.0114285714285716            0.58  \n",
            "1372             0.010           0.9501875   1.157142857142857            1.00  \n",
            "1373             0.015         0.923159375  1.1142857142857143            1.00  \n",
            "1374             0.015         0.937921875  1.0857142857142859            0.00  \n",
            "1375             0.015         0.931340625  0.9257142857142857            1.00  \n",
            "\n",
            "[1376 rows x 13 columns]\n"
          ]
        }
      ]
    },
    {
      "cell_type": "code",
      "source": [
        "df1.info()"
      ],
      "metadata": {
        "colab": {
          "base_uri": "https://localhost:8080/"
        },
        "id": "2JtO6WQ-LBYZ",
        "outputId": "47d67fc9-9aca-44e7-83d2-df11a77a7e6d"
      },
      "execution_count": null,
      "outputs": [
        {
          "output_type": "stream",
          "name": "stdout",
          "text": [
            "<class 'pandas.core.frame.DataFrame'>\n",
            "RangeIndex: 1376 entries, 0 to 1375\n",
            "Data columns (total 13 columns):\n",
            " #   Column            Non-Null Count  Dtype  \n",
            "---  ------            --------------  -----  \n",
            " 0   NO                1376 non-null   float64\n",
            " 1   NIK               1376 non-null   int64  \n",
            " 2   BUSINESS_UNIT     1376 non-null   object \n",
            " 3   JOB_LEVEL         1376 non-null   object \n",
            " 4   LOCATION          1376 non-null   object \n",
            " 5   DEPARTMENT        1376 non-null   object \n",
            " 6   JOB_POSITION      1375 non-null   object \n",
            " 7   PK                1376 non-null   float64\n",
            " 8   BEHAVIOR          1372 non-null   float64\n",
            " 9   ADDITIONAL POINT  1375 non-null   float64\n",
            " 10  PERFORMANCE       1376 non-null   object \n",
            " 11  COMPETENCY        1376 non-null   object \n",
            " 12  LEARNING POINT    1376 non-null   float64\n",
            "dtypes: float64(5), int64(1), object(7)\n",
            "memory usage: 139.9+ KB\n"
          ]
        }
      ]
    },
    {
      "cell_type": "code",
      "source": [
        "df1.columns"
      ],
      "metadata": {
        "colab": {
          "base_uri": "https://localhost:8080/"
        },
        "id": "mz7i5twgKELe",
        "outputId": "edbe4a82-8986-46bd-a4cc-fc385ee554eb"
      },
      "execution_count": null,
      "outputs": [
        {
          "output_type": "execute_result",
          "data": {
            "text/plain": [
              "Index(['NO', 'NIK', 'BUSINESS_UNIT', 'JOB_LEVEL', 'LOCATION', 'DEPARTMENT',\n",
              "       'JOB_POSITION', 'PK', 'BEHAVIOR', 'ADDITIONAL POINT', 'PERFORMANCE',\n",
              "       'COMPETENCY', 'LEARNING POINT'],\n",
              "      dtype='object')"
            ]
          },
          "metadata": {},
          "execution_count": 8
        }
      ]
    },
    {
      "cell_type": "code",
      "source": [
        "df1 = df1.drop_duplicates(subset=['NIK'],keep='first')"
      ],
      "metadata": {
        "id": "hv6mxr5t40Rt"
      },
      "execution_count": null,
      "outputs": []
    },
    {
      "cell_type": "code",
      "source": [
        "df1.info()"
      ],
      "metadata": {
        "colab": {
          "base_uri": "https://localhost:8080/"
        },
        "id": "e8ZlvuTI44or",
        "outputId": "3e80266e-a7a6-4e43-f344-aefa7ed70d7f"
      },
      "execution_count": null,
      "outputs": [
        {
          "output_type": "stream",
          "name": "stdout",
          "text": [
            "<class 'pandas.core.frame.DataFrame'>\n",
            "Int64Index: 1345 entries, 0 to 1375\n",
            "Data columns (total 13 columns):\n",
            " #   Column            Non-Null Count  Dtype  \n",
            "---  ------            --------------  -----  \n",
            " 0   NO                1345 non-null   float64\n",
            " 1   NIK               1345 non-null   int64  \n",
            " 2   BUSINESS_UNIT     1345 non-null   object \n",
            " 3   JOB_LEVEL         1345 non-null   object \n",
            " 4   LOCATION          1345 non-null   object \n",
            " 5   DEPARTMENT        1345 non-null   object \n",
            " 6   JOB_POSITION      1344 non-null   object \n",
            " 7   PK                1345 non-null   float64\n",
            " 8   BEHAVIOR          1341 non-null   float64\n",
            " 9   ADDITIONAL POINT  1344 non-null   float64\n",
            " 10  PERFORMANCE       1345 non-null   object \n",
            " 11  COMPETENCY        1345 non-null   object \n",
            " 12  LEARNING POINT    1345 non-null   float64\n",
            "dtypes: float64(5), int64(1), object(7)\n",
            "memory usage: 147.1+ KB\n"
          ]
        }
      ]
    },
    {
      "cell_type": "code",
      "source": [
        "df1.to_csv(r'/content/gdrive/MyDrive/skripsi/master-data-clean.csv', index = None, header=True)"
      ],
      "metadata": {
        "id": "u5UFIogl5tsg"
      },
      "execution_count": null,
      "outputs": []
    },
    {
      "cell_type": "markdown",
      "source": [
        "**2. Checking second dataframe**"
      ],
      "metadata": {
        "id": "A13LKX5WJlDR"
      }
    },
    {
      "cell_type": "code",
      "source": [],
      "metadata": {
        "id": "Zp8GXDfi4o3p"
      },
      "execution_count": null,
      "outputs": []
    },
    {
      "cell_type": "code",
      "source": [
        "df2"
      ],
      "metadata": {
        "colab": {
          "base_uri": "https://localhost:8080/",
          "height": 419
        },
        "id": "SplEL8hF-oN-",
        "outputId": "512dd7d8-5c6a-4a25-c196-50cca4250360"
      },
      "execution_count": null,
      "outputs": [
        {
          "output_type": "execute_result",
          "data": {
            "text/plain": [
              "      Nomor          NIK  Kerja Ibadah  Apresiasi  Lebih cepat  Aktif bersama\n",
              "0       1.0  198900028.0         0.925    0.90625        0.950         0.8750\n",
              "1       1.0  198900028.0           NaN        NaN          NaN            NaN\n",
              "2       1.0  198900028.0           NaN        NaN          NaN            NaN\n",
              "3       1.0  198900028.0           NaN        NaN          NaN            NaN\n",
              "4       1.0  198900028.0           NaN        NaN          NaN            NaN\n",
              "...     ...          ...           ...        ...          ...            ...\n",
              "4156  257.0  201500837.0           NaN        NaN          NaN            NaN\n",
              "4157  257.0  201500837.0           NaN        NaN          NaN            NaN\n",
              "4158  258.0  201491237.0         0.850    1.00000        0.865         0.8875\n",
              "4159  258.0  201491237.0           NaN        NaN          NaN            NaN\n",
              "4160  258.0  201491237.0           NaN        NaN          NaN            NaN\n",
              "\n",
              "[4161 rows x 6 columns]"
            ],
            "text/html": [
              "\n",
              "  <div id=\"df-2ed3ba35-741d-4a70-9edd-690d437a7f4e\">\n",
              "    <div class=\"colab-df-container\">\n",
              "      <div>\n",
              "<style scoped>\n",
              "    .dataframe tbody tr th:only-of-type {\n",
              "        vertical-align: middle;\n",
              "    }\n",
              "\n",
              "    .dataframe tbody tr th {\n",
              "        vertical-align: top;\n",
              "    }\n",
              "\n",
              "    .dataframe thead th {\n",
              "        text-align: right;\n",
              "    }\n",
              "</style>\n",
              "<table border=\"1\" class=\"dataframe\">\n",
              "  <thead>\n",
              "    <tr style=\"text-align: right;\">\n",
              "      <th></th>\n",
              "      <th>Nomor</th>\n",
              "      <th>NIK</th>\n",
              "      <th>Kerja Ibadah</th>\n",
              "      <th>Apresiasi</th>\n",
              "      <th>Lebih cepat</th>\n",
              "      <th>Aktif bersama</th>\n",
              "    </tr>\n",
              "  </thead>\n",
              "  <tbody>\n",
              "    <tr>\n",
              "      <th>0</th>\n",
              "      <td>1.0</td>\n",
              "      <td>198900028.0</td>\n",
              "      <td>0.925</td>\n",
              "      <td>0.90625</td>\n",
              "      <td>0.950</td>\n",
              "      <td>0.8750</td>\n",
              "    </tr>\n",
              "    <tr>\n",
              "      <th>1</th>\n",
              "      <td>1.0</td>\n",
              "      <td>198900028.0</td>\n",
              "      <td>NaN</td>\n",
              "      <td>NaN</td>\n",
              "      <td>NaN</td>\n",
              "      <td>NaN</td>\n",
              "    </tr>\n",
              "    <tr>\n",
              "      <th>2</th>\n",
              "      <td>1.0</td>\n",
              "      <td>198900028.0</td>\n",
              "      <td>NaN</td>\n",
              "      <td>NaN</td>\n",
              "      <td>NaN</td>\n",
              "      <td>NaN</td>\n",
              "    </tr>\n",
              "    <tr>\n",
              "      <th>3</th>\n",
              "      <td>1.0</td>\n",
              "      <td>198900028.0</td>\n",
              "      <td>NaN</td>\n",
              "      <td>NaN</td>\n",
              "      <td>NaN</td>\n",
              "      <td>NaN</td>\n",
              "    </tr>\n",
              "    <tr>\n",
              "      <th>4</th>\n",
              "      <td>1.0</td>\n",
              "      <td>198900028.0</td>\n",
              "      <td>NaN</td>\n",
              "      <td>NaN</td>\n",
              "      <td>NaN</td>\n",
              "      <td>NaN</td>\n",
              "    </tr>\n",
              "    <tr>\n",
              "      <th>...</th>\n",
              "      <td>...</td>\n",
              "      <td>...</td>\n",
              "      <td>...</td>\n",
              "      <td>...</td>\n",
              "      <td>...</td>\n",
              "      <td>...</td>\n",
              "    </tr>\n",
              "    <tr>\n",
              "      <th>4156</th>\n",
              "      <td>257.0</td>\n",
              "      <td>201500837.0</td>\n",
              "      <td>NaN</td>\n",
              "      <td>NaN</td>\n",
              "      <td>NaN</td>\n",
              "      <td>NaN</td>\n",
              "    </tr>\n",
              "    <tr>\n",
              "      <th>4157</th>\n",
              "      <td>257.0</td>\n",
              "      <td>201500837.0</td>\n",
              "      <td>NaN</td>\n",
              "      <td>NaN</td>\n",
              "      <td>NaN</td>\n",
              "      <td>NaN</td>\n",
              "    </tr>\n",
              "    <tr>\n",
              "      <th>4158</th>\n",
              "      <td>258.0</td>\n",
              "      <td>201491237.0</td>\n",
              "      <td>0.850</td>\n",
              "      <td>1.00000</td>\n",
              "      <td>0.865</td>\n",
              "      <td>0.8875</td>\n",
              "    </tr>\n",
              "    <tr>\n",
              "      <th>4159</th>\n",
              "      <td>258.0</td>\n",
              "      <td>201491237.0</td>\n",
              "      <td>NaN</td>\n",
              "      <td>NaN</td>\n",
              "      <td>NaN</td>\n",
              "      <td>NaN</td>\n",
              "    </tr>\n",
              "    <tr>\n",
              "      <th>4160</th>\n",
              "      <td>258.0</td>\n",
              "      <td>201491237.0</td>\n",
              "      <td>NaN</td>\n",
              "      <td>NaN</td>\n",
              "      <td>NaN</td>\n",
              "      <td>NaN</td>\n",
              "    </tr>\n",
              "  </tbody>\n",
              "</table>\n",
              "<p>4161 rows × 6 columns</p>\n",
              "</div>\n",
              "      <button class=\"colab-df-convert\" onclick=\"convertToInteractive('df-2ed3ba35-741d-4a70-9edd-690d437a7f4e')\"\n",
              "              title=\"Convert this dataframe to an interactive table.\"\n",
              "              style=\"display:none;\">\n",
              "        \n",
              "  <svg xmlns=\"http://www.w3.org/2000/svg\" height=\"24px\"viewBox=\"0 0 24 24\"\n",
              "       width=\"24px\">\n",
              "    <path d=\"M0 0h24v24H0V0z\" fill=\"none\"/>\n",
              "    <path d=\"M18.56 5.44l.94 2.06.94-2.06 2.06-.94-2.06-.94-.94-2.06-.94 2.06-2.06.94zm-11 1L8.5 8.5l.94-2.06 2.06-.94-2.06-.94L8.5 2.5l-.94 2.06-2.06.94zm10 10l.94 2.06.94-2.06 2.06-.94-2.06-.94-.94-2.06-.94 2.06-2.06.94z\"/><path d=\"M17.41 7.96l-1.37-1.37c-.4-.4-.92-.59-1.43-.59-.52 0-1.04.2-1.43.59L10.3 9.45l-7.72 7.72c-.78.78-.78 2.05 0 2.83L4 21.41c.39.39.9.59 1.41.59.51 0 1.02-.2 1.41-.59l7.78-7.78 2.81-2.81c.8-.78.8-2.07 0-2.86zM5.41 20L4 18.59l7.72-7.72 1.47 1.35L5.41 20z\"/>\n",
              "  </svg>\n",
              "      </button>\n",
              "      \n",
              "  <style>\n",
              "    .colab-df-container {\n",
              "      display:flex;\n",
              "      flex-wrap:wrap;\n",
              "      gap: 12px;\n",
              "    }\n",
              "\n",
              "    .colab-df-convert {\n",
              "      background-color: #E8F0FE;\n",
              "      border: none;\n",
              "      border-radius: 50%;\n",
              "      cursor: pointer;\n",
              "      display: none;\n",
              "      fill: #1967D2;\n",
              "      height: 32px;\n",
              "      padding: 0 0 0 0;\n",
              "      width: 32px;\n",
              "    }\n",
              "\n",
              "    .colab-df-convert:hover {\n",
              "      background-color: #E2EBFA;\n",
              "      box-shadow: 0px 1px 2px rgba(60, 64, 67, 0.3), 0px 1px 3px 1px rgba(60, 64, 67, 0.15);\n",
              "      fill: #174EA6;\n",
              "    }\n",
              "\n",
              "    [theme=dark] .colab-df-convert {\n",
              "      background-color: #3B4455;\n",
              "      fill: #D2E3FC;\n",
              "    }\n",
              "\n",
              "    [theme=dark] .colab-df-convert:hover {\n",
              "      background-color: #434B5C;\n",
              "      box-shadow: 0px 1px 3px 1px rgba(0, 0, 0, 0.15);\n",
              "      filter: drop-shadow(0px 1px 2px rgba(0, 0, 0, 0.3));\n",
              "      fill: #FFFFFF;\n",
              "    }\n",
              "  </style>\n",
              "\n",
              "      <script>\n",
              "        const buttonEl =\n",
              "          document.querySelector('#df-2ed3ba35-741d-4a70-9edd-690d437a7f4e button.colab-df-convert');\n",
              "        buttonEl.style.display =\n",
              "          google.colab.kernel.accessAllowed ? 'block' : 'none';\n",
              "\n",
              "        async function convertToInteractive(key) {\n",
              "          const element = document.querySelector('#df-2ed3ba35-741d-4a70-9edd-690d437a7f4e');\n",
              "          const dataTable =\n",
              "            await google.colab.kernel.invokeFunction('convertToInteractive',\n",
              "                                                     [key], {});\n",
              "          if (!dataTable) return;\n",
              "\n",
              "          const docLinkHtml = 'Like what you see? Visit the ' +\n",
              "            '<a target=\"_blank\" href=https://colab.research.google.com/notebooks/data_table.ipynb>data table notebook</a>'\n",
              "            + ' to learn more about interactive tables.';\n",
              "          element.innerHTML = '';\n",
              "          dataTable['output_type'] = 'display_data';\n",
              "          await google.colab.output.renderOutput(dataTable, element);\n",
              "          const docLink = document.createElement('div');\n",
              "          docLink.innerHTML = docLinkHtml;\n",
              "          element.appendChild(docLink);\n",
              "        }\n",
              "      </script>\n",
              "    </div>\n",
              "  </div>\n",
              "  "
            ]
          },
          "metadata": {},
          "execution_count": 13
        }
      ]
    },
    {
      "cell_type": "code",
      "source": [
        "df2.info()"
      ],
      "metadata": {
        "colab": {
          "base_uri": "https://localhost:8080/"
        },
        "id": "BB5Ig43CAm8a",
        "outputId": "2d1ba44c-7cd0-4d66-b126-5d6ebe5e8d08"
      },
      "execution_count": null,
      "outputs": [
        {
          "output_type": "stream",
          "name": "stdout",
          "text": [
            "<class 'pandas.core.frame.DataFrame'>\n",
            "RangeIndex: 4161 entries, 0 to 4160\n",
            "Data columns (total 6 columns):\n",
            " #   Column         Non-Null Count  Dtype  \n",
            "---  ------         --------------  -----  \n",
            " 0   Nomor          3668 non-null   float64\n",
            " 1   NIK            3666 non-null   float64\n",
            " 2   Kerja Ibadah   1360 non-null   float64\n",
            " 3   Apresiasi      1362 non-null   float64\n",
            " 4   Lebih cepat    1362 non-null   float64\n",
            " 5   Aktif bersama  1361 non-null   float64\n",
            "dtypes: float64(6)\n",
            "memory usage: 195.2 KB\n"
          ]
        }
      ]
    },
    {
      "cell_type": "code",
      "source": [
        "df2.columns\n"
      ],
      "metadata": {
        "colab": {
          "base_uri": "https://localhost:8080/"
        },
        "id": "KVymv84mAoby",
        "outputId": "49a689ed-7288-4fae-b1f5-3fac2b5f455f"
      },
      "execution_count": null,
      "outputs": [
        {
          "output_type": "execute_result",
          "data": {
            "text/plain": [
              "Index(['Nomor', 'NIK', 'Kerja Ibadah', 'Apresiasi', 'Lebih cepat',\n",
              "       'Aktif bersama'],\n",
              "      dtype='object')"
            ]
          },
          "metadata": {},
          "execution_count": 15
        }
      ]
    },
    {
      "cell_type": "code",
      "source": [
        "df2 = df2.dropna()"
      ],
      "metadata": {
        "id": "8Ri3mtxGPIME"
      },
      "execution_count": null,
      "outputs": []
    },
    {
      "cell_type": "code",
      "source": [
        "\n",
        "# convert from Float to int\n",
        "df2 = df2.astype({'NIK':'int'})\n",
        "print(df2.dtypes)\n"
      ],
      "metadata": {
        "colab": {
          "base_uri": "https://localhost:8080/"
        },
        "id": "5W4OCKnoLoVf",
        "outputId": "ad6922a3-ac4b-4943-80f5-a6955672664d"
      },
      "execution_count": null,
      "outputs": [
        {
          "output_type": "stream",
          "name": "stdout",
          "text": [
            "Nomor            float64\n",
            "NIK                int64\n",
            "Kerja Ibadah     float64\n",
            "Apresiasi        float64\n",
            "Lebih cepat      float64\n",
            "Aktif bersama    float64\n",
            "dtype: object\n"
          ]
        }
      ]
    },
    {
      "cell_type": "code",
      "source": [
        "print(df2)"
      ],
      "metadata": {
        "colab": {
          "base_uri": "https://localhost:8080/"
        },
        "id": "YBpKU0emGMNT",
        "outputId": "baaa3279-c237-49e5-d502-c9a1d7d91f91"
      },
      "execution_count": null,
      "outputs": [
        {
          "output_type": "stream",
          "name": "stdout",
          "text": [
            "      Nomor        NIK  Kerja Ibadah  Apresiasi  Lebih cepat  Aktif bersama\n",
            "0       1.0  198900028      0.925000    0.90625        0.950        0.87500\n",
            "6       2.0  199700160      0.995833    0.96875        0.950        0.97500\n",
            "9       3.0  198200002      0.883333    0.96875        0.980        0.99375\n",
            "12      4.0  201200667      0.983333    0.99375        0.950        0.93750\n",
            "15      5.0  201390516      1.000000    1.00000        1.000        1.00000\n",
            "...     ...        ...           ...        ...          ...            ...\n",
            "4146  254.0  200991156      0.725000    0.88125        0.530        0.87500\n",
            "4149  255.0  201903141      0.962500    1.00000        1.000        0.99375\n",
            "4152  256.0  201500838      0.995833    1.00000        1.000        1.00000\n",
            "4155  257.0  201500837      1.000000    1.00000        0.990        1.00000\n",
            "4158  258.0  201491237      0.850000    1.00000        0.865        0.88750\n",
            "\n",
            "[1357 rows x 6 columns]\n"
          ]
        }
      ]
    },
    {
      "cell_type": "code",
      "source": [
        "df2.isna().sum()"
      ],
      "metadata": {
        "colab": {
          "base_uri": "https://localhost:8080/"
        },
        "id": "4GnRMbSlHXsl",
        "outputId": "a17791e3-878e-4ca3-fe96-d4636dc73ddf"
      },
      "execution_count": null,
      "outputs": [
        {
          "output_type": "execute_result",
          "data": {
            "text/plain": [
              "Nomor            0\n",
              "NIK              0\n",
              "Kerja Ibadah     0\n",
              "Apresiasi        0\n",
              "Lebih cepat      0\n",
              "Aktif bersama    0\n",
              "dtype: int64"
            ]
          },
          "metadata": {},
          "execution_count": 19
        }
      ]
    },
    {
      "cell_type": "code",
      "source": [
        "mergedCSV = df1.merge(df2[['NIK','Kerja Ibadah', 'Apresiasi', 'Lebih cepat', 'Aktif bersama']], on = 'NIK',how = 'left')"
      ],
      "metadata": {
        "id": "erIuK2mvA4VR"
      },
      "execution_count": null,
      "outputs": []
    },
    {
      "cell_type": "code",
      "source": [
        "print(mergedCSV)"
      ],
      "metadata": {
        "colab": {
          "base_uri": "https://localhost:8080/"
        },
        "id": "WDF6wVluDCIU",
        "outputId": "8668f92c-1b96-45be-dad5-31dc4b25c54e"
      },
      "execution_count": null,
      "outputs": [
        {
          "output_type": "stream",
          "name": "stdout",
          "text": [
            "          NO        NIK              BUSINESS_UNIT            JOB_LEVEL  \\\n",
            "0        1.0  200700326  PT. HADJI KALLA (HOLDING)    EXECUTIVE LEADERS   \n",
            "1        2.0  199500085  PT. HADJI KALLA (HOLDING)    EXECUTIVE LEADERS   \n",
            "2        3.0  199500048  PT. HADJI KALLA (HOLDING)    EXECUTIVE LEADERS   \n",
            "3        4.0  200700297  PT. HADJI KALLA (HOLDING)    EXECUTIVE LEADERS   \n",
            "4        5.0  201600670  PT. HADJI KALLA (HOLDING)    EXECUTIVE LEADERS   \n",
            "...      ...        ...                        ...                  ...   \n",
            "1341  1483.0  201000393       PT. KALLA INTI KARSA       STAFF/OPERATOR   \n",
            "1342  1484.0  200800348       PT. KALLA INTI KARSA       STAFF/OPERATOR   \n",
            "1343  1485.0  200100421       PT. KALLA INTI KARSA    STRATEGIC LEADERS   \n",
            "1344  1486.0  199500919       PT. KALLA INTI KARSA  OPERATIONAL LEADERS   \n",
            "1345  1487.0  201929411       PT. KALLA INTI KARSA  OPERATIONAL LEADERS   \n",
            "\n",
            "                            LOCATION                   DEPARTMENT  \\\n",
            "0     HEAD OFFICE WISMA KALLA LT. 13                     DIRECTOR   \n",
            "1     HEAD OFFICE WISMA KALLA LT. 13                     DIRECTOR   \n",
            "2     HEAD OFFICE WISMA KALLA LT. 14                     DIRECTOR   \n",
            "3     HEAD OFFICE WISMA KALLA LT. 13                     DIRECTOR   \n",
            "4     HEAD OFFICE WISMA KALLA LT. 13                     DIRECTOR   \n",
            "...                              ...                          ...   \n",
            "1341                     WISMA KALLA  WISMA KALLA OFFICE BUILDING   \n",
            "1342                     WISMA KALLA  WISMA KALLA OFFICE BUILDING   \n",
            "1343                     WISMA KALLA              FOOD & BEVERAGE   \n",
            "1344                     WISMA KALLA              FOOD & BEVERAGE   \n",
            "1345                     WISMA KALLA              FOOD & BEVERAGE   \n",
            "\n",
            "                                   JOB_POSITION     PK  BEHAVIOR  \\\n",
            "0             CHIEF EXECUTIVE OFFICER GO DEVCON  1.002  0.935000   \n",
            "1              CHIEF FINANCE OFFICER  KALLA OTO  0.930  0.905729   \n",
            "2                    CORPORATE FINANCE DIRECTOR  0.906  0.990000   \n",
            "3     MARKETING & BUSINESS DEVELOPMENT DIRECTOR  0.984  0.938000   \n",
            "4                 PEOPLE & PERFORMANCE DIRECTOR  0.902  0.978000   \n",
            "...                                         ...    ...       ...   \n",
            "1341                            OPERATION STAFF  0.988  0.674479   \n",
            "1342                      TENANT RELATION STAFF  0.930  0.997917   \n",
            "1343            FOOD & BEVERAGE GENERAL MANAGER  0.913  0.880729   \n",
            "1344                             EXECUTIVE CHEF  0.930  0.882813   \n",
            "1345  FOOD & BEVEREAGE BUSINESS SUPPORT MANAGER  0.932  0.827604   \n",
            "\n",
            "      ADDITIONAL POINT         PERFORMANCE          COMPETENCY  \\\n",
            "0                0.000          1.02001875  1.0933333333333335   \n",
            "1                0.005         0.931359375  1.0155555555555558   \n",
            "2                0.000          0.98305625  1.0533333333333332   \n",
            "3                0.000         1.030740625  1.1333333333333333   \n",
            "4                0.000  1.0231249999999998   1.017777777777778   \n",
            "...                ...                 ...                 ...   \n",
            "1341             0.010         0.950971875  1.0114285714285716   \n",
            "1342             0.010           0.9501875   1.157142857142857   \n",
            "1343             0.015         0.923159375  1.1142857142857143   \n",
            "1344             0.015         0.937921875  1.0857142857142859   \n",
            "1345             0.015         0.931340625  0.9257142857142857   \n",
            "\n",
            "      LEARNING POINT  Kerja Ibadah  Apresiasi  Lebih cepat  Aktif bersama  \n",
            "0               0.00      0.950000    0.97500        0.945        0.86875  \n",
            "1               0.00      0.875000    0.86250        0.900        0.99375  \n",
            "2               0.00      0.958333    0.98750        1.000        1.00000  \n",
            "3               0.00      0.920000    0.89000        1.000        0.94000  \n",
            "4               0.00      0.954167    0.97500        0.995        0.98750  \n",
            "...              ...           ...        ...          ...            ...  \n",
            "1341            0.58      0.650000    0.71875        0.675        0.65625  \n",
            "1342            1.00      0.995833    1.00000        0.995        1.00000  \n",
            "1343            1.00      0.883333    0.88125        0.865        0.86875  \n",
            "1344            0.00      0.875000    0.86875        0.980        0.80625  \n",
            "1345            1.00      0.912500    0.87500        0.705        0.76875  \n",
            "\n",
            "[1346 rows x 17 columns]\n"
          ]
        }
      ]
    },
    {
      "cell_type": "code",
      "source": [
        "del(mergedCSV['BEHAVIOR'])"
      ],
      "metadata": {
        "id": "P2-eeBHzQHmO"
      },
      "execution_count": null,
      "outputs": []
    },
    {
      "cell_type": "code",
      "source": [
        "mergedCSV.columns"
      ],
      "metadata": {
        "colab": {
          "base_uri": "https://localhost:8080/"
        },
        "id": "F-lem2isQPKl",
        "outputId": "b137ef65-f2ec-44ec-f905-f8394d8c635f"
      },
      "execution_count": null,
      "outputs": [
        {
          "output_type": "execute_result",
          "data": {
            "text/plain": [
              "Index(['NO', 'NIK', 'BUSINESS_UNIT', 'JOB_LEVEL', 'LOCATION', 'DEPARTMENT',\n",
              "       'JOB_POSITION', 'PK', 'ADDITIONAL POINT', 'PERFORMANCE', 'COMPETENCY',\n",
              "       'LEARNING POINT', 'Kerja Ibadah', 'Apresiasi', 'Lebih cepat',\n",
              "       'Aktif bersama'],\n",
              "      dtype='object')"
            ]
          },
          "metadata": {},
          "execution_count": 23
        }
      ]
    },
    {
      "cell_type": "code",
      "source": [
        "del(mergedCSV['ADDITIONAL POINT'])\n",
        "del(mergedCSV['BUSINESS_UNIT'])\n",
        "del(mergedCSV['JOB_LEVEL'])\n",
        "del(mergedCSV['NO'])\n",
        "del(mergedCSV['LOCATION'])\n",
        "del(mergedCSV['DEPARTMENT'])\n",
        "del(mergedCSV['JOB_POSITION'])"
      ],
      "metadata": {
        "id": "ZLc2xC9ITykq"
      },
      "execution_count": null,
      "outputs": []
    },
    {
      "cell_type": "code",
      "source": [
        "mergedCSV.columns"
      ],
      "metadata": {
        "colab": {
          "base_uri": "https://localhost:8080/"
        },
        "id": "FEd925ZfQxKc",
        "outputId": "b2d6c845-afa6-4cfa-c556-43522606fafa"
      },
      "execution_count": null,
      "outputs": [
        {
          "output_type": "execute_result",
          "data": {
            "text/plain": [
              "Index(['NIK', 'PK', 'PERFORMANCE', 'COMPETENCY', 'LEARNING POINT',\n",
              "       'Kerja Ibadah', 'Apresiasi', 'Lebih cepat', 'Aktif bersama'],\n",
              "      dtype='object')"
            ]
          },
          "metadata": {},
          "execution_count": 25
        }
      ]
    },
    {
      "cell_type": "code",
      "source": [
        "mergedCSV.isna().sum()"
      ],
      "metadata": {
        "colab": {
          "base_uri": "https://localhost:8080/"
        },
        "id": "a06QuhJ3Iog7",
        "outputId": "6439d7cd-d024-4428-82ab-6fe42476c4a0"
      },
      "execution_count": null,
      "outputs": [
        {
          "output_type": "execute_result",
          "data": {
            "text/plain": [
              "NIK               0\n",
              "PK                0\n",
              "PERFORMANCE       0\n",
              "COMPETENCY        0\n",
              "LEARNING POINT    0\n",
              "Kerja Ibadah      9\n",
              "Apresiasi         9\n",
              "Lebih cepat       9\n",
              "Aktif bersama     9\n",
              "dtype: int64"
            ]
          },
          "metadata": {},
          "execution_count": 26
        }
      ]
    },
    {
      "cell_type": "code",
      "source": [
        "mergedCSV[mergedCSV['Kerja Ibadah'].isna()]"
      ],
      "metadata": {
        "colab": {
          "base_uri": "https://localhost:8080/",
          "height": 328
        },
        "id": "jtwt-EFJIupJ",
        "outputId": "27ba4112-7182-4964-a528-fbfc4887edbb"
      },
      "execution_count": null,
      "outputs": [
        {
          "output_type": "execute_result",
          "data": {
            "text/plain": [
              "            NIK     PK PERFORMANCE          COMPETENCY  LEARNING POINT  \\\n",
              "117   201903358  0.994      0.9999              1.0829            1.00   \n",
              "118   202104152  0.967           -                   -            0.00   \n",
              "119   202104153  0.967           -                   -            0.00   \n",
              "140   201500655  0.969     0.98215                 1.0            1.00   \n",
              "179   202104146  0.997           -                   -            0.90   \n",
              "180   202104150  0.997           -                   -            0.53   \n",
              "788   201190289  0.950      0.9575                 1.0            0.00   \n",
              "1029  201700978  0.989  1.02530625  1.0955555555555556            1.00   \n",
              "1237  200100218  0.885   0.8981875  1.1733333333333333            0.30   \n",
              "\n",
              "      Kerja Ibadah  Apresiasi  Lebih cepat  Aktif bersama  \n",
              "117            NaN        NaN          NaN            NaN  \n",
              "118            NaN        NaN          NaN            NaN  \n",
              "119            NaN        NaN          NaN            NaN  \n",
              "140            NaN        NaN          NaN            NaN  \n",
              "179            NaN        NaN          NaN            NaN  \n",
              "180            NaN        NaN          NaN            NaN  \n",
              "788            NaN        NaN          NaN            NaN  \n",
              "1029           NaN        NaN          NaN            NaN  \n",
              "1237           NaN        NaN          NaN            NaN  "
            ],
            "text/html": [
              "\n",
              "  <div id=\"df-4e529691-e082-41b6-b666-44aab38a41ac\">\n",
              "    <div class=\"colab-df-container\">\n",
              "      <div>\n",
              "<style scoped>\n",
              "    .dataframe tbody tr th:only-of-type {\n",
              "        vertical-align: middle;\n",
              "    }\n",
              "\n",
              "    .dataframe tbody tr th {\n",
              "        vertical-align: top;\n",
              "    }\n",
              "\n",
              "    .dataframe thead th {\n",
              "        text-align: right;\n",
              "    }\n",
              "</style>\n",
              "<table border=\"1\" class=\"dataframe\">\n",
              "  <thead>\n",
              "    <tr style=\"text-align: right;\">\n",
              "      <th></th>\n",
              "      <th>NIK</th>\n",
              "      <th>PK</th>\n",
              "      <th>PERFORMANCE</th>\n",
              "      <th>COMPETENCY</th>\n",
              "      <th>LEARNING POINT</th>\n",
              "      <th>Kerja Ibadah</th>\n",
              "      <th>Apresiasi</th>\n",
              "      <th>Lebih cepat</th>\n",
              "      <th>Aktif bersama</th>\n",
              "    </tr>\n",
              "  </thead>\n",
              "  <tbody>\n",
              "    <tr>\n",
              "      <th>117</th>\n",
              "      <td>201903358</td>\n",
              "      <td>0.994</td>\n",
              "      <td>0.9999</td>\n",
              "      <td>1.0829</td>\n",
              "      <td>1.00</td>\n",
              "      <td>NaN</td>\n",
              "      <td>NaN</td>\n",
              "      <td>NaN</td>\n",
              "      <td>NaN</td>\n",
              "    </tr>\n",
              "    <tr>\n",
              "      <th>118</th>\n",
              "      <td>202104152</td>\n",
              "      <td>0.967</td>\n",
              "      <td>-</td>\n",
              "      <td>-</td>\n",
              "      <td>0.00</td>\n",
              "      <td>NaN</td>\n",
              "      <td>NaN</td>\n",
              "      <td>NaN</td>\n",
              "      <td>NaN</td>\n",
              "    </tr>\n",
              "    <tr>\n",
              "      <th>119</th>\n",
              "      <td>202104153</td>\n",
              "      <td>0.967</td>\n",
              "      <td>-</td>\n",
              "      <td>-</td>\n",
              "      <td>0.00</td>\n",
              "      <td>NaN</td>\n",
              "      <td>NaN</td>\n",
              "      <td>NaN</td>\n",
              "      <td>NaN</td>\n",
              "    </tr>\n",
              "    <tr>\n",
              "      <th>140</th>\n",
              "      <td>201500655</td>\n",
              "      <td>0.969</td>\n",
              "      <td>0.98215</td>\n",
              "      <td>1.0</td>\n",
              "      <td>1.00</td>\n",
              "      <td>NaN</td>\n",
              "      <td>NaN</td>\n",
              "      <td>NaN</td>\n",
              "      <td>NaN</td>\n",
              "    </tr>\n",
              "    <tr>\n",
              "      <th>179</th>\n",
              "      <td>202104146</td>\n",
              "      <td>0.997</td>\n",
              "      <td>-</td>\n",
              "      <td>-</td>\n",
              "      <td>0.90</td>\n",
              "      <td>NaN</td>\n",
              "      <td>NaN</td>\n",
              "      <td>NaN</td>\n",
              "      <td>NaN</td>\n",
              "    </tr>\n",
              "    <tr>\n",
              "      <th>180</th>\n",
              "      <td>202104150</td>\n",
              "      <td>0.997</td>\n",
              "      <td>-</td>\n",
              "      <td>-</td>\n",
              "      <td>0.53</td>\n",
              "      <td>NaN</td>\n",
              "      <td>NaN</td>\n",
              "      <td>NaN</td>\n",
              "      <td>NaN</td>\n",
              "    </tr>\n",
              "    <tr>\n",
              "      <th>788</th>\n",
              "      <td>201190289</td>\n",
              "      <td>0.950</td>\n",
              "      <td>0.9575</td>\n",
              "      <td>1.0</td>\n",
              "      <td>0.00</td>\n",
              "      <td>NaN</td>\n",
              "      <td>NaN</td>\n",
              "      <td>NaN</td>\n",
              "      <td>NaN</td>\n",
              "    </tr>\n",
              "    <tr>\n",
              "      <th>1029</th>\n",
              "      <td>201700978</td>\n",
              "      <td>0.989</td>\n",
              "      <td>1.02530625</td>\n",
              "      <td>1.0955555555555556</td>\n",
              "      <td>1.00</td>\n",
              "      <td>NaN</td>\n",
              "      <td>NaN</td>\n",
              "      <td>NaN</td>\n",
              "      <td>NaN</td>\n",
              "    </tr>\n",
              "    <tr>\n",
              "      <th>1237</th>\n",
              "      <td>200100218</td>\n",
              "      <td>0.885</td>\n",
              "      <td>0.8981875</td>\n",
              "      <td>1.1733333333333333</td>\n",
              "      <td>0.30</td>\n",
              "      <td>NaN</td>\n",
              "      <td>NaN</td>\n",
              "      <td>NaN</td>\n",
              "      <td>NaN</td>\n",
              "    </tr>\n",
              "  </tbody>\n",
              "</table>\n",
              "</div>\n",
              "      <button class=\"colab-df-convert\" onclick=\"convertToInteractive('df-4e529691-e082-41b6-b666-44aab38a41ac')\"\n",
              "              title=\"Convert this dataframe to an interactive table.\"\n",
              "              style=\"display:none;\">\n",
              "        \n",
              "  <svg xmlns=\"http://www.w3.org/2000/svg\" height=\"24px\"viewBox=\"0 0 24 24\"\n",
              "       width=\"24px\">\n",
              "    <path d=\"M0 0h24v24H0V0z\" fill=\"none\"/>\n",
              "    <path d=\"M18.56 5.44l.94 2.06.94-2.06 2.06-.94-2.06-.94-.94-2.06-.94 2.06-2.06.94zm-11 1L8.5 8.5l.94-2.06 2.06-.94-2.06-.94L8.5 2.5l-.94 2.06-2.06.94zm10 10l.94 2.06.94-2.06 2.06-.94-2.06-.94-.94-2.06-.94 2.06-2.06.94z\"/><path d=\"M17.41 7.96l-1.37-1.37c-.4-.4-.92-.59-1.43-.59-.52 0-1.04.2-1.43.59L10.3 9.45l-7.72 7.72c-.78.78-.78 2.05 0 2.83L4 21.41c.39.39.9.59 1.41.59.51 0 1.02-.2 1.41-.59l7.78-7.78 2.81-2.81c.8-.78.8-2.07 0-2.86zM5.41 20L4 18.59l7.72-7.72 1.47 1.35L5.41 20z\"/>\n",
              "  </svg>\n",
              "      </button>\n",
              "      \n",
              "  <style>\n",
              "    .colab-df-container {\n",
              "      display:flex;\n",
              "      flex-wrap:wrap;\n",
              "      gap: 12px;\n",
              "    }\n",
              "\n",
              "    .colab-df-convert {\n",
              "      background-color: #E8F0FE;\n",
              "      border: none;\n",
              "      border-radius: 50%;\n",
              "      cursor: pointer;\n",
              "      display: none;\n",
              "      fill: #1967D2;\n",
              "      height: 32px;\n",
              "      padding: 0 0 0 0;\n",
              "      width: 32px;\n",
              "    }\n",
              "\n",
              "    .colab-df-convert:hover {\n",
              "      background-color: #E2EBFA;\n",
              "      box-shadow: 0px 1px 2px rgba(60, 64, 67, 0.3), 0px 1px 3px 1px rgba(60, 64, 67, 0.15);\n",
              "      fill: #174EA6;\n",
              "    }\n",
              "\n",
              "    [theme=dark] .colab-df-convert {\n",
              "      background-color: #3B4455;\n",
              "      fill: #D2E3FC;\n",
              "    }\n",
              "\n",
              "    [theme=dark] .colab-df-convert:hover {\n",
              "      background-color: #434B5C;\n",
              "      box-shadow: 0px 1px 3px 1px rgba(0, 0, 0, 0.15);\n",
              "      filter: drop-shadow(0px 1px 2px rgba(0, 0, 0, 0.3));\n",
              "      fill: #FFFFFF;\n",
              "    }\n",
              "  </style>\n",
              "\n",
              "      <script>\n",
              "        const buttonEl =\n",
              "          document.querySelector('#df-4e529691-e082-41b6-b666-44aab38a41ac button.colab-df-convert');\n",
              "        buttonEl.style.display =\n",
              "          google.colab.kernel.accessAllowed ? 'block' : 'none';\n",
              "\n",
              "        async function convertToInteractive(key) {\n",
              "          const element = document.querySelector('#df-4e529691-e082-41b6-b666-44aab38a41ac');\n",
              "          const dataTable =\n",
              "            await google.colab.kernel.invokeFunction('convertToInteractive',\n",
              "                                                     [key], {});\n",
              "          if (!dataTable) return;\n",
              "\n",
              "          const docLinkHtml = 'Like what you see? Visit the ' +\n",
              "            '<a target=\"_blank\" href=https://colab.research.google.com/notebooks/data_table.ipynb>data table notebook</a>'\n",
              "            + ' to learn more about interactive tables.';\n",
              "          element.innerHTML = '';\n",
              "          dataTable['output_type'] = 'display_data';\n",
              "          await google.colab.output.renderOutput(dataTable, element);\n",
              "          const docLink = document.createElement('div');\n",
              "          docLink.innerHTML = docLinkHtml;\n",
              "          element.appendChild(docLink);\n",
              "        }\n",
              "      </script>\n",
              "    </div>\n",
              "  </div>\n",
              "  "
            ]
          },
          "metadata": {},
          "execution_count": 27
        }
      ]
    },
    {
      "cell_type": "code",
      "source": [
        "mergedCSV.dropna(subset=['Kerja Ibadah'], how='all', inplace=True)"
      ],
      "metadata": {
        "id": "WvjkfpXaJuzC"
      },
      "execution_count": null,
      "outputs": []
    },
    {
      "cell_type": "code",
      "source": [
        "mergedCSV[mergedCSV['Kerja Ibadah'].isna()]"
      ],
      "metadata": {
        "colab": {
          "base_uri": "https://localhost:8080/",
          "height": 49
        },
        "id": "PXa0Q-lLKdOP",
        "outputId": "8748cbe8-a120-423a-fe14-a1d62eaa4219"
      },
      "execution_count": null,
      "outputs": [
        {
          "output_type": "execute_result",
          "data": {
            "text/plain": [
              "Empty DataFrame\n",
              "Columns: [NIK, PK, PERFORMANCE, COMPETENCY, LEARNING POINT, Kerja Ibadah, Apresiasi, Lebih cepat, Aktif bersama]\n",
              "Index: []"
            ],
            "text/html": [
              "\n",
              "  <div id=\"df-0d380eb0-ee39-421e-8553-c21771690e31\">\n",
              "    <div class=\"colab-df-container\">\n",
              "      <div>\n",
              "<style scoped>\n",
              "    .dataframe tbody tr th:only-of-type {\n",
              "        vertical-align: middle;\n",
              "    }\n",
              "\n",
              "    .dataframe tbody tr th {\n",
              "        vertical-align: top;\n",
              "    }\n",
              "\n",
              "    .dataframe thead th {\n",
              "        text-align: right;\n",
              "    }\n",
              "</style>\n",
              "<table border=\"1\" class=\"dataframe\">\n",
              "  <thead>\n",
              "    <tr style=\"text-align: right;\">\n",
              "      <th></th>\n",
              "      <th>NIK</th>\n",
              "      <th>PK</th>\n",
              "      <th>PERFORMANCE</th>\n",
              "      <th>COMPETENCY</th>\n",
              "      <th>LEARNING POINT</th>\n",
              "      <th>Kerja Ibadah</th>\n",
              "      <th>Apresiasi</th>\n",
              "      <th>Lebih cepat</th>\n",
              "      <th>Aktif bersama</th>\n",
              "    </tr>\n",
              "  </thead>\n",
              "  <tbody>\n",
              "  </tbody>\n",
              "</table>\n",
              "</div>\n",
              "      <button class=\"colab-df-convert\" onclick=\"convertToInteractive('df-0d380eb0-ee39-421e-8553-c21771690e31')\"\n",
              "              title=\"Convert this dataframe to an interactive table.\"\n",
              "              style=\"display:none;\">\n",
              "        \n",
              "  <svg xmlns=\"http://www.w3.org/2000/svg\" height=\"24px\"viewBox=\"0 0 24 24\"\n",
              "       width=\"24px\">\n",
              "    <path d=\"M0 0h24v24H0V0z\" fill=\"none\"/>\n",
              "    <path d=\"M18.56 5.44l.94 2.06.94-2.06 2.06-.94-2.06-.94-.94-2.06-.94 2.06-2.06.94zm-11 1L8.5 8.5l.94-2.06 2.06-.94-2.06-.94L8.5 2.5l-.94 2.06-2.06.94zm10 10l.94 2.06.94-2.06 2.06-.94-2.06-.94-.94-2.06-.94 2.06-2.06.94z\"/><path d=\"M17.41 7.96l-1.37-1.37c-.4-.4-.92-.59-1.43-.59-.52 0-1.04.2-1.43.59L10.3 9.45l-7.72 7.72c-.78.78-.78 2.05 0 2.83L4 21.41c.39.39.9.59 1.41.59.51 0 1.02-.2 1.41-.59l7.78-7.78 2.81-2.81c.8-.78.8-2.07 0-2.86zM5.41 20L4 18.59l7.72-7.72 1.47 1.35L5.41 20z\"/>\n",
              "  </svg>\n",
              "      </button>\n",
              "      \n",
              "  <style>\n",
              "    .colab-df-container {\n",
              "      display:flex;\n",
              "      flex-wrap:wrap;\n",
              "      gap: 12px;\n",
              "    }\n",
              "\n",
              "    .colab-df-convert {\n",
              "      background-color: #E8F0FE;\n",
              "      border: none;\n",
              "      border-radius: 50%;\n",
              "      cursor: pointer;\n",
              "      display: none;\n",
              "      fill: #1967D2;\n",
              "      height: 32px;\n",
              "      padding: 0 0 0 0;\n",
              "      width: 32px;\n",
              "    }\n",
              "\n",
              "    .colab-df-convert:hover {\n",
              "      background-color: #E2EBFA;\n",
              "      box-shadow: 0px 1px 2px rgba(60, 64, 67, 0.3), 0px 1px 3px 1px rgba(60, 64, 67, 0.15);\n",
              "      fill: #174EA6;\n",
              "    }\n",
              "\n",
              "    [theme=dark] .colab-df-convert {\n",
              "      background-color: #3B4455;\n",
              "      fill: #D2E3FC;\n",
              "    }\n",
              "\n",
              "    [theme=dark] .colab-df-convert:hover {\n",
              "      background-color: #434B5C;\n",
              "      box-shadow: 0px 1px 3px 1px rgba(0, 0, 0, 0.15);\n",
              "      filter: drop-shadow(0px 1px 2px rgba(0, 0, 0, 0.3));\n",
              "      fill: #FFFFFF;\n",
              "    }\n",
              "  </style>\n",
              "\n",
              "      <script>\n",
              "        const buttonEl =\n",
              "          document.querySelector('#df-0d380eb0-ee39-421e-8553-c21771690e31 button.colab-df-convert');\n",
              "        buttonEl.style.display =\n",
              "          google.colab.kernel.accessAllowed ? 'block' : 'none';\n",
              "\n",
              "        async function convertToInteractive(key) {\n",
              "          const element = document.querySelector('#df-0d380eb0-ee39-421e-8553-c21771690e31');\n",
              "          const dataTable =\n",
              "            await google.colab.kernel.invokeFunction('convertToInteractive',\n",
              "                                                     [key], {});\n",
              "          if (!dataTable) return;\n",
              "\n",
              "          const docLinkHtml = 'Like what you see? Visit the ' +\n",
              "            '<a target=\"_blank\" href=https://colab.research.google.com/notebooks/data_table.ipynb>data table notebook</a>'\n",
              "            + ' to learn more about interactive tables.';\n",
              "          element.innerHTML = '';\n",
              "          dataTable['output_type'] = 'display_data';\n",
              "          await google.colab.output.renderOutput(dataTable, element);\n",
              "          const docLink = document.createElement('div');\n",
              "          docLink.innerHTML = docLinkHtml;\n",
              "          element.appendChild(docLink);\n",
              "        }\n",
              "      </script>\n",
              "    </div>\n",
              "  </div>\n",
              "  "
            ]
          },
          "metadata": {},
          "execution_count": 29
        }
      ]
    },
    {
      "cell_type": "code",
      "source": [
        "mergedCSV.isna().sum()"
      ],
      "metadata": {
        "colab": {
          "base_uri": "https://localhost:8080/"
        },
        "id": "pYmJuOByKiTZ",
        "outputId": "98fd22f8-8aa1-4055-aee2-9e0011e7d390"
      },
      "execution_count": null,
      "outputs": [
        {
          "output_type": "execute_result",
          "data": {
            "text/plain": [
              "NIK               0\n",
              "PK                0\n",
              "PERFORMANCE       0\n",
              "COMPETENCY        0\n",
              "LEARNING POINT    0\n",
              "Kerja Ibadah      0\n",
              "Apresiasi         0\n",
              "Lebih cepat       0\n",
              "Aktif bersama     0\n",
              "dtype: int64"
            ]
          },
          "metadata": {},
          "execution_count": 30
        }
      ]
    },
    {
      "cell_type": "code",
      "source": [
        "mergedCSV.isnull().sum()"
      ],
      "metadata": {
        "colab": {
          "base_uri": "https://localhost:8080/"
        },
        "id": "aRTrLLYPhGdG",
        "outputId": "22cab710-bd3e-476d-ce5c-a22bc9464068"
      },
      "execution_count": null,
      "outputs": [
        {
          "output_type": "execute_result",
          "data": {
            "text/plain": [
              "NIK               0\n",
              "PK                0\n",
              "PERFORMANCE       0\n",
              "COMPETENCY        0\n",
              "LEARNING POINT    0\n",
              "Kerja Ibadah      0\n",
              "Apresiasi         0\n",
              "Lebih cepat       0\n",
              "Aktif bersama     0\n",
              "dtype: int64"
            ]
          },
          "metadata": {},
          "execution_count": 31
        }
      ]
    },
    {
      "cell_type": "code",
      "source": [
        "mergedCSV[mergedCSV['PK'].isna()]"
      ],
      "metadata": {
        "colab": {
          "base_uri": "https://localhost:8080/",
          "height": 49
        },
        "id": "J7BICcj9Kp6R",
        "outputId": "afde5050-622d-4244-b0a8-d02a13d568ee"
      },
      "execution_count": null,
      "outputs": [
        {
          "output_type": "execute_result",
          "data": {
            "text/plain": [
              "Empty DataFrame\n",
              "Columns: [NIK, PK, PERFORMANCE, COMPETENCY, LEARNING POINT, Kerja Ibadah, Apresiasi, Lebih cepat, Aktif bersama]\n",
              "Index: []"
            ],
            "text/html": [
              "\n",
              "  <div id=\"df-f4f5618d-dcce-41bf-8651-fdd15649a46e\">\n",
              "    <div class=\"colab-df-container\">\n",
              "      <div>\n",
              "<style scoped>\n",
              "    .dataframe tbody tr th:only-of-type {\n",
              "        vertical-align: middle;\n",
              "    }\n",
              "\n",
              "    .dataframe tbody tr th {\n",
              "        vertical-align: top;\n",
              "    }\n",
              "\n",
              "    .dataframe thead th {\n",
              "        text-align: right;\n",
              "    }\n",
              "</style>\n",
              "<table border=\"1\" class=\"dataframe\">\n",
              "  <thead>\n",
              "    <tr style=\"text-align: right;\">\n",
              "      <th></th>\n",
              "      <th>NIK</th>\n",
              "      <th>PK</th>\n",
              "      <th>PERFORMANCE</th>\n",
              "      <th>COMPETENCY</th>\n",
              "      <th>LEARNING POINT</th>\n",
              "      <th>Kerja Ibadah</th>\n",
              "      <th>Apresiasi</th>\n",
              "      <th>Lebih cepat</th>\n",
              "      <th>Aktif bersama</th>\n",
              "    </tr>\n",
              "  </thead>\n",
              "  <tbody>\n",
              "  </tbody>\n",
              "</table>\n",
              "</div>\n",
              "      <button class=\"colab-df-convert\" onclick=\"convertToInteractive('df-f4f5618d-dcce-41bf-8651-fdd15649a46e')\"\n",
              "              title=\"Convert this dataframe to an interactive table.\"\n",
              "              style=\"display:none;\">\n",
              "        \n",
              "  <svg xmlns=\"http://www.w3.org/2000/svg\" height=\"24px\"viewBox=\"0 0 24 24\"\n",
              "       width=\"24px\">\n",
              "    <path d=\"M0 0h24v24H0V0z\" fill=\"none\"/>\n",
              "    <path d=\"M18.56 5.44l.94 2.06.94-2.06 2.06-.94-2.06-.94-.94-2.06-.94 2.06-2.06.94zm-11 1L8.5 8.5l.94-2.06 2.06-.94-2.06-.94L8.5 2.5l-.94 2.06-2.06.94zm10 10l.94 2.06.94-2.06 2.06-.94-2.06-.94-.94-2.06-.94 2.06-2.06.94z\"/><path d=\"M17.41 7.96l-1.37-1.37c-.4-.4-.92-.59-1.43-.59-.52 0-1.04.2-1.43.59L10.3 9.45l-7.72 7.72c-.78.78-.78 2.05 0 2.83L4 21.41c.39.39.9.59 1.41.59.51 0 1.02-.2 1.41-.59l7.78-7.78 2.81-2.81c.8-.78.8-2.07 0-2.86zM5.41 20L4 18.59l7.72-7.72 1.47 1.35L5.41 20z\"/>\n",
              "  </svg>\n",
              "      </button>\n",
              "      \n",
              "  <style>\n",
              "    .colab-df-container {\n",
              "      display:flex;\n",
              "      flex-wrap:wrap;\n",
              "      gap: 12px;\n",
              "    }\n",
              "\n",
              "    .colab-df-convert {\n",
              "      background-color: #E8F0FE;\n",
              "      border: none;\n",
              "      border-radius: 50%;\n",
              "      cursor: pointer;\n",
              "      display: none;\n",
              "      fill: #1967D2;\n",
              "      height: 32px;\n",
              "      padding: 0 0 0 0;\n",
              "      width: 32px;\n",
              "    }\n",
              "\n",
              "    .colab-df-convert:hover {\n",
              "      background-color: #E2EBFA;\n",
              "      box-shadow: 0px 1px 2px rgba(60, 64, 67, 0.3), 0px 1px 3px 1px rgba(60, 64, 67, 0.15);\n",
              "      fill: #174EA6;\n",
              "    }\n",
              "\n",
              "    [theme=dark] .colab-df-convert {\n",
              "      background-color: #3B4455;\n",
              "      fill: #D2E3FC;\n",
              "    }\n",
              "\n",
              "    [theme=dark] .colab-df-convert:hover {\n",
              "      background-color: #434B5C;\n",
              "      box-shadow: 0px 1px 3px 1px rgba(0, 0, 0, 0.15);\n",
              "      filter: drop-shadow(0px 1px 2px rgba(0, 0, 0, 0.3));\n",
              "      fill: #FFFFFF;\n",
              "    }\n",
              "  </style>\n",
              "\n",
              "      <script>\n",
              "        const buttonEl =\n",
              "          document.querySelector('#df-f4f5618d-dcce-41bf-8651-fdd15649a46e button.colab-df-convert');\n",
              "        buttonEl.style.display =\n",
              "          google.colab.kernel.accessAllowed ? 'block' : 'none';\n",
              "\n",
              "        async function convertToInteractive(key) {\n",
              "          const element = document.querySelector('#df-f4f5618d-dcce-41bf-8651-fdd15649a46e');\n",
              "          const dataTable =\n",
              "            await google.colab.kernel.invokeFunction('convertToInteractive',\n",
              "                                                     [key], {});\n",
              "          if (!dataTable) return;\n",
              "\n",
              "          const docLinkHtml = 'Like what you see? Visit the ' +\n",
              "            '<a target=\"_blank\" href=https://colab.research.google.com/notebooks/data_table.ipynb>data table notebook</a>'\n",
              "            + ' to learn more about interactive tables.';\n",
              "          element.innerHTML = '';\n",
              "          dataTable['output_type'] = 'display_data';\n",
              "          await google.colab.output.renderOutput(dataTable, element);\n",
              "          const docLink = document.createElement('div');\n",
              "          docLink.innerHTML = docLinkHtml;\n",
              "          element.appendChild(docLink);\n",
              "        }\n",
              "      </script>\n",
              "    </div>\n",
              "  </div>\n",
              "  "
            ]
          },
          "metadata": {},
          "execution_count": 32
        }
      ]
    },
    {
      "cell_type": "code",
      "source": [
        "#mergedCSV[mergedCSV['PERFORMANCE']=='-']"
      ],
      "metadata": {
        "colab": {
          "base_uri": "https://localhost:8080/",
          "height": 110
        },
        "id": "FsUH4BFXjTwv",
        "outputId": "17e6990f-bdc3-4f14-c719-40954784cde9"
      },
      "execution_count": null,
      "outputs": [
        {
          "output_type": "execute_result",
          "data": {
            "text/plain": [
              "Empty DataFrame\n",
              "Columns: [NO, NIK, BUSINESS_UNIT, JOB_LEVEL, LOCATION, DEPARTMENT, JOB_POSITION, PK, ADDITIONAL POINT, PERFORMANCE, COMPETENCY, LEARNING POINT, Kerja Ibadah, Apresiasi, Lebih cepat, Aktif bersama]\n",
              "Index: []"
            ],
            "text/html": [
              "\n",
              "  <div id=\"df-b11327be-aae2-4d1b-a84a-68e8521a18f0\">\n",
              "    <div class=\"colab-df-container\">\n",
              "      <div>\n",
              "<style scoped>\n",
              "    .dataframe tbody tr th:only-of-type {\n",
              "        vertical-align: middle;\n",
              "    }\n",
              "\n",
              "    .dataframe tbody tr th {\n",
              "        vertical-align: top;\n",
              "    }\n",
              "\n",
              "    .dataframe thead th {\n",
              "        text-align: right;\n",
              "    }\n",
              "</style>\n",
              "<table border=\"1\" class=\"dataframe\">\n",
              "  <thead>\n",
              "    <tr style=\"text-align: right;\">\n",
              "      <th></th>\n",
              "      <th>NO</th>\n",
              "      <th>NIK</th>\n",
              "      <th>BUSINESS_UNIT</th>\n",
              "      <th>JOB_LEVEL</th>\n",
              "      <th>LOCATION</th>\n",
              "      <th>DEPARTMENT</th>\n",
              "      <th>JOB_POSITION</th>\n",
              "      <th>PK</th>\n",
              "      <th>ADDITIONAL POINT</th>\n",
              "      <th>PERFORMANCE</th>\n",
              "      <th>COMPETENCY</th>\n",
              "      <th>LEARNING POINT</th>\n",
              "      <th>Kerja Ibadah</th>\n",
              "      <th>Apresiasi</th>\n",
              "      <th>Lebih cepat</th>\n",
              "      <th>Aktif bersama</th>\n",
              "    </tr>\n",
              "  </thead>\n",
              "  <tbody>\n",
              "  </tbody>\n",
              "</table>\n",
              "</div>\n",
              "      <button class=\"colab-df-convert\" onclick=\"convertToInteractive('df-b11327be-aae2-4d1b-a84a-68e8521a18f0')\"\n",
              "              title=\"Convert this dataframe to an interactive table.\"\n",
              "              style=\"display:none;\">\n",
              "        \n",
              "  <svg xmlns=\"http://www.w3.org/2000/svg\" height=\"24px\"viewBox=\"0 0 24 24\"\n",
              "       width=\"24px\">\n",
              "    <path d=\"M0 0h24v24H0V0z\" fill=\"none\"/>\n",
              "    <path d=\"M18.56 5.44l.94 2.06.94-2.06 2.06-.94-2.06-.94-.94-2.06-.94 2.06-2.06.94zm-11 1L8.5 8.5l.94-2.06 2.06-.94-2.06-.94L8.5 2.5l-.94 2.06-2.06.94zm10 10l.94 2.06.94-2.06 2.06-.94-2.06-.94-.94-2.06-.94 2.06-2.06.94z\"/><path d=\"M17.41 7.96l-1.37-1.37c-.4-.4-.92-.59-1.43-.59-.52 0-1.04.2-1.43.59L10.3 9.45l-7.72 7.72c-.78.78-.78 2.05 0 2.83L4 21.41c.39.39.9.59 1.41.59.51 0 1.02-.2 1.41-.59l7.78-7.78 2.81-2.81c.8-.78.8-2.07 0-2.86zM5.41 20L4 18.59l7.72-7.72 1.47 1.35L5.41 20z\"/>\n",
              "  </svg>\n",
              "      </button>\n",
              "      \n",
              "  <style>\n",
              "    .colab-df-container {\n",
              "      display:flex;\n",
              "      flex-wrap:wrap;\n",
              "      gap: 12px;\n",
              "    }\n",
              "\n",
              "    .colab-df-convert {\n",
              "      background-color: #E8F0FE;\n",
              "      border: none;\n",
              "      border-radius: 50%;\n",
              "      cursor: pointer;\n",
              "      display: none;\n",
              "      fill: #1967D2;\n",
              "      height: 32px;\n",
              "      padding: 0 0 0 0;\n",
              "      width: 32px;\n",
              "    }\n",
              "\n",
              "    .colab-df-convert:hover {\n",
              "      background-color: #E2EBFA;\n",
              "      box-shadow: 0px 1px 2px rgba(60, 64, 67, 0.3), 0px 1px 3px 1px rgba(60, 64, 67, 0.15);\n",
              "      fill: #174EA6;\n",
              "    }\n",
              "\n",
              "    [theme=dark] .colab-df-convert {\n",
              "      background-color: #3B4455;\n",
              "      fill: #D2E3FC;\n",
              "    }\n",
              "\n",
              "    [theme=dark] .colab-df-convert:hover {\n",
              "      background-color: #434B5C;\n",
              "      box-shadow: 0px 1px 3px 1px rgba(0, 0, 0, 0.15);\n",
              "      filter: drop-shadow(0px 1px 2px rgba(0, 0, 0, 0.3));\n",
              "      fill: #FFFFFF;\n",
              "    }\n",
              "  </style>\n",
              "\n",
              "      <script>\n",
              "        const buttonEl =\n",
              "          document.querySelector('#df-b11327be-aae2-4d1b-a84a-68e8521a18f0 button.colab-df-convert');\n",
              "        buttonEl.style.display =\n",
              "          google.colab.kernel.accessAllowed ? 'block' : 'none';\n",
              "\n",
              "        async function convertToInteractive(key) {\n",
              "          const element = document.querySelector('#df-b11327be-aae2-4d1b-a84a-68e8521a18f0');\n",
              "          const dataTable =\n",
              "            await google.colab.kernel.invokeFunction('convertToInteractive',\n",
              "                                                     [key], {});\n",
              "          if (!dataTable) return;\n",
              "\n",
              "          const docLinkHtml = 'Like what you see? Visit the ' +\n",
              "            '<a target=\"_blank\" href=https://colab.research.google.com/notebooks/data_table.ipynb>data table notebook</a>'\n",
              "            + ' to learn more about interactive tables.';\n",
              "          element.innerHTML = '';\n",
              "          dataTable['output_type'] = 'display_data';\n",
              "          await google.colab.output.renderOutput(dataTable, element);\n",
              "          const docLink = document.createElement('div');\n",
              "          docLink.innerHTML = docLinkHtml;\n",
              "          element.appendChild(docLink);\n",
              "        }\n",
              "      </script>\n",
              "    </div>\n",
              "  </div>\n",
              "  "
            ]
          },
          "metadata": {},
          "execution_count": 127
        }
      ]
    },
    {
      "cell_type": "code",
      "source": [
        "mergedCSV.info()\n",
        "#mergedCSV.astype({'COMPETENCY':'float'})"
      ],
      "metadata": {
        "colab": {
          "base_uri": "https://localhost:8080/"
        },
        "id": "y3tktMraw9uO",
        "outputId": "f3dac779-f7e8-4f80-bfef-cba73c933dbf"
      },
      "execution_count": null,
      "outputs": [
        {
          "output_type": "stream",
          "name": "stdout",
          "text": [
            "<class 'pandas.core.frame.DataFrame'>\n",
            "Int64Index: 1337 entries, 0 to 1345\n",
            "Data columns (total 9 columns):\n",
            " #   Column          Non-Null Count  Dtype  \n",
            "---  ------          --------------  -----  \n",
            " 0   NIK             1337 non-null   int64  \n",
            " 1   PK              1337 non-null   float64\n",
            " 2   PERFORMANCE     1337 non-null   float64\n",
            " 3   COMPETENCY      1337 non-null   float64\n",
            " 4   LEARNING POINT  1337 non-null   float64\n",
            " 5   Kerja Ibadah    1337 non-null   float64\n",
            " 6   Apresiasi       1337 non-null   float64\n",
            " 7   Lebih cepat     1337 non-null   float64\n",
            " 8   Aktif bersama   1337 non-null   float64\n",
            "dtypes: float64(8), int64(1)\n",
            "memory usage: 104.5 KB\n"
          ]
        }
      ]
    },
    {
      "cell_type": "code",
      "source": [
        "mergedCSV = mergedCSV.astype({'COMPETENCY':'float'})\n",
        "mergedCSV.info()"
      ],
      "metadata": {
        "colab": {
          "base_uri": "https://localhost:8080/"
        },
        "id": "mDkcscikxOVK",
        "outputId": "d77fb566-9d99-4a06-efb6-a6ca250aa86a"
      },
      "execution_count": null,
      "outputs": [
        {
          "output_type": "stream",
          "name": "stdout",
          "text": [
            "<class 'pandas.core.frame.DataFrame'>\n",
            "Int64Index: 1337 entries, 0 to 1345\n",
            "Data columns (total 9 columns):\n",
            " #   Column          Non-Null Count  Dtype  \n",
            "---  ------          --------------  -----  \n",
            " 0   NIK             1337 non-null   int64  \n",
            " 1   PK              1337 non-null   float64\n",
            " 2   PERFORMANCE     1337 non-null   float64\n",
            " 3   COMPETENCY      1337 non-null   float64\n",
            " 4   LEARNING POINT  1337 non-null   float64\n",
            " 5   Kerja Ibadah    1337 non-null   float64\n",
            " 6   Apresiasi       1337 non-null   float64\n",
            " 7   Lebih cepat     1337 non-null   float64\n",
            " 8   Aktif bersama   1337 non-null   float64\n",
            "dtypes: float64(8), int64(1)\n",
            "memory usage: 104.5 KB\n"
          ]
        }
      ]
    },
    {
      "cell_type": "code",
      "source": [
        "mergedCSV = mergedCSV.astype({'PERFORMANCE':'float'})\n",
        "mergedCSV.info()"
      ],
      "metadata": {
        "colab": {
          "base_uri": "https://localhost:8080/"
        },
        "id": "-A_y6jnJxVcq",
        "outputId": "ff43fffa-e525-4943-a0ee-80eb5e9d9b24"
      },
      "execution_count": null,
      "outputs": [
        {
          "output_type": "stream",
          "name": "stdout",
          "text": [
            "<class 'pandas.core.frame.DataFrame'>\n",
            "Int64Index: 1337 entries, 0 to 1345\n",
            "Data columns (total 9 columns):\n",
            " #   Column          Non-Null Count  Dtype  \n",
            "---  ------          --------------  -----  \n",
            " 0   NIK             1337 non-null   int64  \n",
            " 1   PK              1337 non-null   float64\n",
            " 2   PERFORMANCE     1337 non-null   float64\n",
            " 3   COMPETENCY      1337 non-null   float64\n",
            " 4   LEARNING POINT  1337 non-null   float64\n",
            " 5   Kerja Ibadah    1337 non-null   float64\n",
            " 6   Apresiasi       1337 non-null   float64\n",
            " 7   Lebih cepat     1337 non-null   float64\n",
            " 8   Aktif bersama   1337 non-null   float64\n",
            "dtypes: float64(8), int64(1)\n",
            "memory usage: 104.5 KB\n"
          ]
        }
      ]
    },
    {
      "cell_type": "code",
      "source": [
        "column = ['PK','PERFORMANCE','COMPETENCY','LEARNING POINT','Kerja Ibadah','Lebih cepat','Apresiasi','Aktif bersama']\n",
        "def round_2(name):\n",
        "  mergedCSV[name] = round(mergedCSV[name],2)\n",
        "\n",
        "for i in range(len(column)):\n",
        "  round_2(column[i])\n"
      ],
      "metadata": {
        "id": "9NVklY2Vm12G"
      },
      "execution_count": null,
      "outputs": []
    },
    {
      "cell_type": "code",
      "source": [
        "duplicate = mergedCSV[mergedCSV.duplicated('NIK')]\n",
        " \n",
        "print(\"Duplicate Rows based on NIK :\",duplicate)"
      ],
      "metadata": {
        "colab": {
          "base_uri": "https://localhost:8080/"
        },
        "id": "nquRuKHv5k_w",
        "outputId": "d9b99c8b-54f8-4a9a-b63b-73b45cc7b802"
      },
      "execution_count": null,
      "outputs": [
        {
          "output_type": "stream",
          "name": "stdout",
          "text": [
            "Duplicate Rows based on NIK :           NIK   PK  PERFORMANCE  COMPETENCY  LEARNING POINT  Kerja Ibadah  \\\n",
            "65  200000161  0.9         0.94        1.13             1.0          0.85   \n",
            "\n",
            "    Apresiasi  Lebih cepat  Aktif bersama  \n",
            "65       0.78         0.91           0.88  \n"
          ]
        }
      ]
    },
    {
      "cell_type": "code",
      "source": [
        "mergedCSV = mergedCSV.drop_duplicates(subset=['NIK'],keep='first')"
      ],
      "metadata": {
        "id": "XgeotnNv6J2E"
      },
      "execution_count": null,
      "outputs": []
    },
    {
      "cell_type": "code",
      "source": [
        "duplicate = mergedCSV[mergedCSV.duplicated('NIK')]\n",
        " \n",
        "print(\"Duplicate Rows based on NIK :\",duplicate)"
      ],
      "metadata": {
        "colab": {
          "base_uri": "https://localhost:8080/"
        },
        "id": "RaAcA8t56P1O",
        "outputId": "fe276dad-0472-44f2-a9bc-e423f713494e"
      },
      "execution_count": null,
      "outputs": [
        {
          "output_type": "stream",
          "name": "stdout",
          "text": [
            "Duplicate Rows based on NIK : Empty DataFrame\n",
            "Columns: [NIK, PK, PERFORMANCE, COMPETENCY, LEARNING POINT, Kerja Ibadah, Apresiasi, Lebih cepat, Aktif bersama]\n",
            "Index: []\n"
          ]
        }
      ]
    },
    {
      "cell_type": "code",
      "source": [
        "def find_range(name):\n",
        "  print(\"Nilai min dari \",name,\" \", mergedCSV[name].min())\n",
        "  print(\"Nilai max dari \",name,\" \", mergedCSV[name].max())"
      ],
      "metadata": {
        "id": "CrRd33SVk8jb"
      },
      "execution_count": null,
      "outputs": []
    },
    {
      "cell_type": "code",
      "source": [
        "column = ['PK','PERFORMANCE','COMPETENCY','LEARNING POINT','Kerja Ibadah','Lebih cepat','Apresiasi','Aktif bersama']\n",
        "for i in range(len(column)):\n",
        "  find_range(column[i])"
      ],
      "metadata": {
        "colab": {
          "base_uri": "https://localhost:8080/"
        },
        "id": "W_NS-Oaym2qc",
        "outputId": "bff7c1bb-35dc-46dd-adc2-ce88e81b4665"
      },
      "execution_count": null,
      "outputs": [
        {
          "output_type": "stream",
          "name": "stdout",
          "text": [
            "Nilai min dari  PK   0.0\n",
            "Nilai max dari  PK   1.03\n",
            "Nilai min dari  PERFORMANCE   0.11\n",
            "Nilai max dari  PERFORMANCE   1.06\n",
            "Nilai min dari  COMPETENCY   0.86\n",
            "Nilai max dari  COMPETENCY   1.2\n",
            "Nilai min dari  LEARNING POINT   0.0\n",
            "Nilai max dari  LEARNING POINT   1.0\n",
            "Nilai min dari  Kerja Ibadah   0.1\n",
            "Nilai max dari  Kerja Ibadah   1.0\n",
            "Nilai min dari  Lebih cepat   0.42\n",
            "Nilai max dari  Lebih cepat   1.0\n",
            "Nilai min dari  Apresiasi   0.42\n",
            "Nilai max dari  Apresiasi   1.0\n",
            "Nilai min dari  Aktif bersama   0.44\n",
            "Nilai max dari  Aktif bersama   1.0\n"
          ]
        }
      ]
    },
    {
      "cell_type": "code",
      "source": [
        "mergedCSV"
      ],
      "metadata": {
        "colab": {
          "base_uri": "https://localhost:8080/",
          "height": 419
        },
        "id": "D4cS2PeEygb7",
        "outputId": "40d1efa2-16b1-49e7-da7b-6ed1a4c1086a"
      },
      "execution_count": null,
      "outputs": [
        {
          "output_type": "execute_result",
          "data": {
            "text/plain": [
              "            NIK    PK  PERFORMANCE  COMPETENCY  LEARNING POINT  Kerja Ibadah  \\\n",
              "0     200700326  1.00         1.02        1.09            0.00          0.95   \n",
              "1     199500085  0.93         0.93        1.02            0.00          0.88   \n",
              "2     199500048  0.91         0.98        1.05            0.00          0.96   \n",
              "3     200700297  0.98         1.03        1.13            0.00          0.92   \n",
              "4     201600670  0.90         1.02        1.02            0.00          0.95   \n",
              "...         ...   ...          ...         ...             ...           ...   \n",
              "1341  201000393  0.99         0.95        1.01            0.58          0.65   \n",
              "1342  200800348  0.93         0.95        1.16            1.00          1.00   \n",
              "1343  200100421  0.91         0.92        1.11            1.00          0.88   \n",
              "1344  199500919  0.93         0.94        1.09            0.00          0.88   \n",
              "1345  201929411  0.93         0.93        0.93            1.00          0.91   \n",
              "\n",
              "      Apresiasi  Lebih cepat  Aktif bersama  \n",
              "0          0.98         0.94           0.87  \n",
              "1          0.86         0.90           0.99  \n",
              "2          0.99         1.00           1.00  \n",
              "3          0.89         1.00           0.94  \n",
              "4          0.98         1.00           0.99  \n",
              "...         ...          ...            ...  \n",
              "1341       0.72         0.68           0.66  \n",
              "1342       1.00         1.00           1.00  \n",
              "1343       0.88         0.86           0.87  \n",
              "1344       0.87         0.98           0.81  \n",
              "1345       0.88         0.70           0.77  \n",
              "\n",
              "[1336 rows x 9 columns]"
            ],
            "text/html": [
              "\n",
              "  <div id=\"df-8db48ab8-cd54-4073-8007-bd0853fee773\">\n",
              "    <div class=\"colab-df-container\">\n",
              "      <div>\n",
              "<style scoped>\n",
              "    .dataframe tbody tr th:only-of-type {\n",
              "        vertical-align: middle;\n",
              "    }\n",
              "\n",
              "    .dataframe tbody tr th {\n",
              "        vertical-align: top;\n",
              "    }\n",
              "\n",
              "    .dataframe thead th {\n",
              "        text-align: right;\n",
              "    }\n",
              "</style>\n",
              "<table border=\"1\" class=\"dataframe\">\n",
              "  <thead>\n",
              "    <tr style=\"text-align: right;\">\n",
              "      <th></th>\n",
              "      <th>NIK</th>\n",
              "      <th>PK</th>\n",
              "      <th>PERFORMANCE</th>\n",
              "      <th>COMPETENCY</th>\n",
              "      <th>LEARNING POINT</th>\n",
              "      <th>Kerja Ibadah</th>\n",
              "      <th>Apresiasi</th>\n",
              "      <th>Lebih cepat</th>\n",
              "      <th>Aktif bersama</th>\n",
              "    </tr>\n",
              "  </thead>\n",
              "  <tbody>\n",
              "    <tr>\n",
              "      <th>0</th>\n",
              "      <td>200700326</td>\n",
              "      <td>1.00</td>\n",
              "      <td>1.02</td>\n",
              "      <td>1.09</td>\n",
              "      <td>0.00</td>\n",
              "      <td>0.95</td>\n",
              "      <td>0.98</td>\n",
              "      <td>0.94</td>\n",
              "      <td>0.87</td>\n",
              "    </tr>\n",
              "    <tr>\n",
              "      <th>1</th>\n",
              "      <td>199500085</td>\n",
              "      <td>0.93</td>\n",
              "      <td>0.93</td>\n",
              "      <td>1.02</td>\n",
              "      <td>0.00</td>\n",
              "      <td>0.88</td>\n",
              "      <td>0.86</td>\n",
              "      <td>0.90</td>\n",
              "      <td>0.99</td>\n",
              "    </tr>\n",
              "    <tr>\n",
              "      <th>2</th>\n",
              "      <td>199500048</td>\n",
              "      <td>0.91</td>\n",
              "      <td>0.98</td>\n",
              "      <td>1.05</td>\n",
              "      <td>0.00</td>\n",
              "      <td>0.96</td>\n",
              "      <td>0.99</td>\n",
              "      <td>1.00</td>\n",
              "      <td>1.00</td>\n",
              "    </tr>\n",
              "    <tr>\n",
              "      <th>3</th>\n",
              "      <td>200700297</td>\n",
              "      <td>0.98</td>\n",
              "      <td>1.03</td>\n",
              "      <td>1.13</td>\n",
              "      <td>0.00</td>\n",
              "      <td>0.92</td>\n",
              "      <td>0.89</td>\n",
              "      <td>1.00</td>\n",
              "      <td>0.94</td>\n",
              "    </tr>\n",
              "    <tr>\n",
              "      <th>4</th>\n",
              "      <td>201600670</td>\n",
              "      <td>0.90</td>\n",
              "      <td>1.02</td>\n",
              "      <td>1.02</td>\n",
              "      <td>0.00</td>\n",
              "      <td>0.95</td>\n",
              "      <td>0.98</td>\n",
              "      <td>1.00</td>\n",
              "      <td>0.99</td>\n",
              "    </tr>\n",
              "    <tr>\n",
              "      <th>...</th>\n",
              "      <td>...</td>\n",
              "      <td>...</td>\n",
              "      <td>...</td>\n",
              "      <td>...</td>\n",
              "      <td>...</td>\n",
              "      <td>...</td>\n",
              "      <td>...</td>\n",
              "      <td>...</td>\n",
              "      <td>...</td>\n",
              "    </tr>\n",
              "    <tr>\n",
              "      <th>1341</th>\n",
              "      <td>201000393</td>\n",
              "      <td>0.99</td>\n",
              "      <td>0.95</td>\n",
              "      <td>1.01</td>\n",
              "      <td>0.58</td>\n",
              "      <td>0.65</td>\n",
              "      <td>0.72</td>\n",
              "      <td>0.68</td>\n",
              "      <td>0.66</td>\n",
              "    </tr>\n",
              "    <tr>\n",
              "      <th>1342</th>\n",
              "      <td>200800348</td>\n",
              "      <td>0.93</td>\n",
              "      <td>0.95</td>\n",
              "      <td>1.16</td>\n",
              "      <td>1.00</td>\n",
              "      <td>1.00</td>\n",
              "      <td>1.00</td>\n",
              "      <td>1.00</td>\n",
              "      <td>1.00</td>\n",
              "    </tr>\n",
              "    <tr>\n",
              "      <th>1343</th>\n",
              "      <td>200100421</td>\n",
              "      <td>0.91</td>\n",
              "      <td>0.92</td>\n",
              "      <td>1.11</td>\n",
              "      <td>1.00</td>\n",
              "      <td>0.88</td>\n",
              "      <td>0.88</td>\n",
              "      <td>0.86</td>\n",
              "      <td>0.87</td>\n",
              "    </tr>\n",
              "    <tr>\n",
              "      <th>1344</th>\n",
              "      <td>199500919</td>\n",
              "      <td>0.93</td>\n",
              "      <td>0.94</td>\n",
              "      <td>1.09</td>\n",
              "      <td>0.00</td>\n",
              "      <td>0.88</td>\n",
              "      <td>0.87</td>\n",
              "      <td>0.98</td>\n",
              "      <td>0.81</td>\n",
              "    </tr>\n",
              "    <tr>\n",
              "      <th>1345</th>\n",
              "      <td>201929411</td>\n",
              "      <td>0.93</td>\n",
              "      <td>0.93</td>\n",
              "      <td>0.93</td>\n",
              "      <td>1.00</td>\n",
              "      <td>0.91</td>\n",
              "      <td>0.88</td>\n",
              "      <td>0.70</td>\n",
              "      <td>0.77</td>\n",
              "    </tr>\n",
              "  </tbody>\n",
              "</table>\n",
              "<p>1336 rows × 9 columns</p>\n",
              "</div>\n",
              "      <button class=\"colab-df-convert\" onclick=\"convertToInteractive('df-8db48ab8-cd54-4073-8007-bd0853fee773')\"\n",
              "              title=\"Convert this dataframe to an interactive table.\"\n",
              "              style=\"display:none;\">\n",
              "        \n",
              "  <svg xmlns=\"http://www.w3.org/2000/svg\" height=\"24px\"viewBox=\"0 0 24 24\"\n",
              "       width=\"24px\">\n",
              "    <path d=\"M0 0h24v24H0V0z\" fill=\"none\"/>\n",
              "    <path d=\"M18.56 5.44l.94 2.06.94-2.06 2.06-.94-2.06-.94-.94-2.06-.94 2.06-2.06.94zm-11 1L8.5 8.5l.94-2.06 2.06-.94-2.06-.94L8.5 2.5l-.94 2.06-2.06.94zm10 10l.94 2.06.94-2.06 2.06-.94-2.06-.94-.94-2.06-.94 2.06-2.06.94z\"/><path d=\"M17.41 7.96l-1.37-1.37c-.4-.4-.92-.59-1.43-.59-.52 0-1.04.2-1.43.59L10.3 9.45l-7.72 7.72c-.78.78-.78 2.05 0 2.83L4 21.41c.39.39.9.59 1.41.59.51 0 1.02-.2 1.41-.59l7.78-7.78 2.81-2.81c.8-.78.8-2.07 0-2.86zM5.41 20L4 18.59l7.72-7.72 1.47 1.35L5.41 20z\"/>\n",
              "  </svg>\n",
              "      </button>\n",
              "      \n",
              "  <style>\n",
              "    .colab-df-container {\n",
              "      display:flex;\n",
              "      flex-wrap:wrap;\n",
              "      gap: 12px;\n",
              "    }\n",
              "\n",
              "    .colab-df-convert {\n",
              "      background-color: #E8F0FE;\n",
              "      border: none;\n",
              "      border-radius: 50%;\n",
              "      cursor: pointer;\n",
              "      display: none;\n",
              "      fill: #1967D2;\n",
              "      height: 32px;\n",
              "      padding: 0 0 0 0;\n",
              "      width: 32px;\n",
              "    }\n",
              "\n",
              "    .colab-df-convert:hover {\n",
              "      background-color: #E2EBFA;\n",
              "      box-shadow: 0px 1px 2px rgba(60, 64, 67, 0.3), 0px 1px 3px 1px rgba(60, 64, 67, 0.15);\n",
              "      fill: #174EA6;\n",
              "    }\n",
              "\n",
              "    [theme=dark] .colab-df-convert {\n",
              "      background-color: #3B4455;\n",
              "      fill: #D2E3FC;\n",
              "    }\n",
              "\n",
              "    [theme=dark] .colab-df-convert:hover {\n",
              "      background-color: #434B5C;\n",
              "      box-shadow: 0px 1px 3px 1px rgba(0, 0, 0, 0.15);\n",
              "      filter: drop-shadow(0px 1px 2px rgba(0, 0, 0, 0.3));\n",
              "      fill: #FFFFFF;\n",
              "    }\n",
              "  </style>\n",
              "\n",
              "      <script>\n",
              "        const buttonEl =\n",
              "          document.querySelector('#df-8db48ab8-cd54-4073-8007-bd0853fee773 button.colab-df-convert');\n",
              "        buttonEl.style.display =\n",
              "          google.colab.kernel.accessAllowed ? 'block' : 'none';\n",
              "\n",
              "        async function convertToInteractive(key) {\n",
              "          const element = document.querySelector('#df-8db48ab8-cd54-4073-8007-bd0853fee773');\n",
              "          const dataTable =\n",
              "            await google.colab.kernel.invokeFunction('convertToInteractive',\n",
              "                                                     [key], {});\n",
              "          if (!dataTable) return;\n",
              "\n",
              "          const docLinkHtml = 'Like what you see? Visit the ' +\n",
              "            '<a target=\"_blank\" href=https://colab.research.google.com/notebooks/data_table.ipynb>data table notebook</a>'\n",
              "            + ' to learn more about interactive tables.';\n",
              "          element.innerHTML = '';\n",
              "          dataTable['output_type'] = 'display_data';\n",
              "          await google.colab.output.renderOutput(dataTable, element);\n",
              "          const docLink = document.createElement('div');\n",
              "          docLink.innerHTML = docLinkHtml;\n",
              "          element.appendChild(docLink);\n",
              "        }\n",
              "      </script>\n",
              "    </div>\n",
              "  </div>\n",
              "  "
            ]
          },
          "metadata": {},
          "execution_count": 48
        }
      ]
    },
    {
      "cell_type": "code",
      "source": [
        "mergedCSV.to_csv(r'/content/gdrive/MyDrive/skripsi/data-sebelum-normalisasi.csv', index = None, header=True)"
      ],
      "metadata": {
        "id": "anD3j5Gn6YEn"
      },
      "execution_count": null,
      "outputs": []
    },
    {
      "cell_type": "markdown",
      "source": [
        "### **NORMALISASI**"
      ],
      "metadata": {
        "id": "uhcS7xoDysEF"
      }
    },
    {
      "cell_type": "code",
      "source": [
        "mergedCSV['Kerja Ibadah'].min()"
      ],
      "metadata": {
        "colab": {
          "base_uri": "https://localhost:8080/"
        },
        "id": "FtMvIJh4dIKv",
        "outputId": "d42a127a-b7e9-4b7c-ea1d-fcc65c6a214d"
      },
      "execution_count": null,
      "outputs": [
        {
          "output_type": "execute_result",
          "data": {
            "text/plain": [
              "0.1"
            ]
          },
          "metadata": {},
          "execution_count": 50
        }
      ]
    },
    {
      "cell_type": "code",
      "source": [
        "array = mergedCSV.values\n",
        "array"
      ],
      "metadata": {
        "colab": {
          "base_uri": "https://localhost:8080/"
        },
        "id": "_TGxyivh329O",
        "outputId": "3ce90a98-b5c9-4e1b-db1a-9542c269d54c"
      },
      "execution_count": null,
      "outputs": [
        {
          "output_type": "execute_result",
          "data": {
            "text/plain": [
              "array([[2.00700326e+08, 1.00000000e+00, 1.02000000e+00, ...,\n",
              "        9.80000000e-01, 9.40000000e-01, 8.70000000e-01],\n",
              "       [1.99500085e+08, 9.30000000e-01, 9.30000000e-01, ...,\n",
              "        8.60000000e-01, 9.00000000e-01, 9.90000000e-01],\n",
              "       [1.99500048e+08, 9.10000000e-01, 9.80000000e-01, ...,\n",
              "        9.90000000e-01, 1.00000000e+00, 1.00000000e+00],\n",
              "       ...,\n",
              "       [2.00100421e+08, 9.10000000e-01, 9.20000000e-01, ...,\n",
              "        8.80000000e-01, 8.60000000e-01, 8.70000000e-01],\n",
              "       [1.99500919e+08, 9.30000000e-01, 9.40000000e-01, ...,\n",
              "        8.70000000e-01, 9.80000000e-01, 8.10000000e-01],\n",
              "       [2.01929411e+08, 9.30000000e-01, 9.30000000e-01, ...,\n",
              "        8.80000000e-01, 7.00000000e-01, 7.70000000e-01]])"
            ]
          },
          "metadata": {},
          "execution_count": 51
        }
      ]
    },
    {
      "cell_type": "code",
      "source": [
        "X = array[:,1:9]"
      ],
      "metadata": {
        "id": "gE1hLQUq5gUs"
      },
      "execution_count": null,
      "outputs": []
    },
    {
      "cell_type": "code",
      "source": [
        "import pandas as pd\n",
        "import numpy as np\n",
        "from sklearn import preprocessing\n",
        "\n",
        "min_max_scaler = preprocessing.MinMaxScaler(feature_range=(0,1)) #inisialisasi normalisasi MinMax\n",
        "data = min_max_scaler.fit_transform(X) #transformasi MinMax untuk fitur\n",
        "dataset = pd.DataFrame({'NIK':array[:,0],'PK':data[:,0],'PERFORMANCE':data[:,1],'COMPETENCY':data[:,2],'LEARNING POINT':data[:,3],'Kerja Ibadah':data[:,4],'Apresiasi':data[:,5],'Lebih cepat':data[:,6],'Aktif bersama':data[:,7],})"
      ],
      "metadata": {
        "id": "fEZAoCmUyu4y"
      },
      "execution_count": null,
      "outputs": []
    },
    {
      "cell_type": "code",
      "source": [
        "dataset"
      ],
      "metadata": {
        "colab": {
          "base_uri": "https://localhost:8080/",
          "height": 419
        },
        "id": "Z7e3yqrX48Ij",
        "outputId": "9712778f-735f-40de-94e9-17051f54639b"
      },
      "execution_count": null,
      "outputs": [
        {
          "output_type": "execute_result",
          "data": {
            "text/plain": [
              "              NIK        PK  PERFORMANCE  COMPETENCY  LEARNING POINT  \\\n",
              "0     200700326.0  0.970874     0.957895    0.676471            0.00   \n",
              "1     199500085.0  0.902913     0.863158    0.470588            0.00   \n",
              "2     199500048.0  0.883495     0.915789    0.558824            0.00   \n",
              "3     200700297.0  0.951456     0.968421    0.794118            0.00   \n",
              "4     201600670.0  0.873786     0.957895    0.470588            0.00   \n",
              "...           ...       ...          ...         ...             ...   \n",
              "1331  201000393.0  0.961165     0.884211    0.441176            0.58   \n",
              "1332  200800348.0  0.902913     0.884211    0.882353            1.00   \n",
              "1333  200100421.0  0.883495     0.852632    0.735294            1.00   \n",
              "1334  199500919.0  0.902913     0.873684    0.676471            0.00   \n",
              "1335  201929411.0  0.902913     0.863158    0.205882            1.00   \n",
              "\n",
              "      Kerja Ibadah  Apresiasi  Lebih cepat  Aktif bersama  \n",
              "0         0.944444   0.965517     0.896552       0.767857  \n",
              "1         0.866667   0.758621     0.827586       0.982143  \n",
              "2         0.955556   0.982759     1.000000       1.000000  \n",
              "3         0.911111   0.810345     1.000000       0.892857  \n",
              "4         0.944444   0.965517     1.000000       0.982143  \n",
              "...            ...        ...          ...            ...  \n",
              "1331      0.611111   0.517241     0.448276       0.392857  \n",
              "1332      1.000000   1.000000     1.000000       1.000000  \n",
              "1333      0.866667   0.793103     0.758621       0.767857  \n",
              "1334      0.866667   0.775862     0.965517       0.660714  \n",
              "1335      0.900000   0.793103     0.482759       0.589286  \n",
              "\n",
              "[1336 rows x 9 columns]"
            ],
            "text/html": [
              "\n",
              "  <div id=\"df-f948872b-98d6-4d06-9828-7a7efb6f7fee\">\n",
              "    <div class=\"colab-df-container\">\n",
              "      <div>\n",
              "<style scoped>\n",
              "    .dataframe tbody tr th:only-of-type {\n",
              "        vertical-align: middle;\n",
              "    }\n",
              "\n",
              "    .dataframe tbody tr th {\n",
              "        vertical-align: top;\n",
              "    }\n",
              "\n",
              "    .dataframe thead th {\n",
              "        text-align: right;\n",
              "    }\n",
              "</style>\n",
              "<table border=\"1\" class=\"dataframe\">\n",
              "  <thead>\n",
              "    <tr style=\"text-align: right;\">\n",
              "      <th></th>\n",
              "      <th>NIK</th>\n",
              "      <th>PK</th>\n",
              "      <th>PERFORMANCE</th>\n",
              "      <th>COMPETENCY</th>\n",
              "      <th>LEARNING POINT</th>\n",
              "      <th>Kerja Ibadah</th>\n",
              "      <th>Apresiasi</th>\n",
              "      <th>Lebih cepat</th>\n",
              "      <th>Aktif bersama</th>\n",
              "    </tr>\n",
              "  </thead>\n",
              "  <tbody>\n",
              "    <tr>\n",
              "      <th>0</th>\n",
              "      <td>200700326.0</td>\n",
              "      <td>0.970874</td>\n",
              "      <td>0.957895</td>\n",
              "      <td>0.676471</td>\n",
              "      <td>0.00</td>\n",
              "      <td>0.944444</td>\n",
              "      <td>0.965517</td>\n",
              "      <td>0.896552</td>\n",
              "      <td>0.767857</td>\n",
              "    </tr>\n",
              "    <tr>\n",
              "      <th>1</th>\n",
              "      <td>199500085.0</td>\n",
              "      <td>0.902913</td>\n",
              "      <td>0.863158</td>\n",
              "      <td>0.470588</td>\n",
              "      <td>0.00</td>\n",
              "      <td>0.866667</td>\n",
              "      <td>0.758621</td>\n",
              "      <td>0.827586</td>\n",
              "      <td>0.982143</td>\n",
              "    </tr>\n",
              "    <tr>\n",
              "      <th>2</th>\n",
              "      <td>199500048.0</td>\n",
              "      <td>0.883495</td>\n",
              "      <td>0.915789</td>\n",
              "      <td>0.558824</td>\n",
              "      <td>0.00</td>\n",
              "      <td>0.955556</td>\n",
              "      <td>0.982759</td>\n",
              "      <td>1.000000</td>\n",
              "      <td>1.000000</td>\n",
              "    </tr>\n",
              "    <tr>\n",
              "      <th>3</th>\n",
              "      <td>200700297.0</td>\n",
              "      <td>0.951456</td>\n",
              "      <td>0.968421</td>\n",
              "      <td>0.794118</td>\n",
              "      <td>0.00</td>\n",
              "      <td>0.911111</td>\n",
              "      <td>0.810345</td>\n",
              "      <td>1.000000</td>\n",
              "      <td>0.892857</td>\n",
              "    </tr>\n",
              "    <tr>\n",
              "      <th>4</th>\n",
              "      <td>201600670.0</td>\n",
              "      <td>0.873786</td>\n",
              "      <td>0.957895</td>\n",
              "      <td>0.470588</td>\n",
              "      <td>0.00</td>\n",
              "      <td>0.944444</td>\n",
              "      <td>0.965517</td>\n",
              "      <td>1.000000</td>\n",
              "      <td>0.982143</td>\n",
              "    </tr>\n",
              "    <tr>\n",
              "      <th>...</th>\n",
              "      <td>...</td>\n",
              "      <td>...</td>\n",
              "      <td>...</td>\n",
              "      <td>...</td>\n",
              "      <td>...</td>\n",
              "      <td>...</td>\n",
              "      <td>...</td>\n",
              "      <td>...</td>\n",
              "      <td>...</td>\n",
              "    </tr>\n",
              "    <tr>\n",
              "      <th>1331</th>\n",
              "      <td>201000393.0</td>\n",
              "      <td>0.961165</td>\n",
              "      <td>0.884211</td>\n",
              "      <td>0.441176</td>\n",
              "      <td>0.58</td>\n",
              "      <td>0.611111</td>\n",
              "      <td>0.517241</td>\n",
              "      <td>0.448276</td>\n",
              "      <td>0.392857</td>\n",
              "    </tr>\n",
              "    <tr>\n",
              "      <th>1332</th>\n",
              "      <td>200800348.0</td>\n",
              "      <td>0.902913</td>\n",
              "      <td>0.884211</td>\n",
              "      <td>0.882353</td>\n",
              "      <td>1.00</td>\n",
              "      <td>1.000000</td>\n",
              "      <td>1.000000</td>\n",
              "      <td>1.000000</td>\n",
              "      <td>1.000000</td>\n",
              "    </tr>\n",
              "    <tr>\n",
              "      <th>1333</th>\n",
              "      <td>200100421.0</td>\n",
              "      <td>0.883495</td>\n",
              "      <td>0.852632</td>\n",
              "      <td>0.735294</td>\n",
              "      <td>1.00</td>\n",
              "      <td>0.866667</td>\n",
              "      <td>0.793103</td>\n",
              "      <td>0.758621</td>\n",
              "      <td>0.767857</td>\n",
              "    </tr>\n",
              "    <tr>\n",
              "      <th>1334</th>\n",
              "      <td>199500919.0</td>\n",
              "      <td>0.902913</td>\n",
              "      <td>0.873684</td>\n",
              "      <td>0.676471</td>\n",
              "      <td>0.00</td>\n",
              "      <td>0.866667</td>\n",
              "      <td>0.775862</td>\n",
              "      <td>0.965517</td>\n",
              "      <td>0.660714</td>\n",
              "    </tr>\n",
              "    <tr>\n",
              "      <th>1335</th>\n",
              "      <td>201929411.0</td>\n",
              "      <td>0.902913</td>\n",
              "      <td>0.863158</td>\n",
              "      <td>0.205882</td>\n",
              "      <td>1.00</td>\n",
              "      <td>0.900000</td>\n",
              "      <td>0.793103</td>\n",
              "      <td>0.482759</td>\n",
              "      <td>0.589286</td>\n",
              "    </tr>\n",
              "  </tbody>\n",
              "</table>\n",
              "<p>1336 rows × 9 columns</p>\n",
              "</div>\n",
              "      <button class=\"colab-df-convert\" onclick=\"convertToInteractive('df-f948872b-98d6-4d06-9828-7a7efb6f7fee')\"\n",
              "              title=\"Convert this dataframe to an interactive table.\"\n",
              "              style=\"display:none;\">\n",
              "        \n",
              "  <svg xmlns=\"http://www.w3.org/2000/svg\" height=\"24px\"viewBox=\"0 0 24 24\"\n",
              "       width=\"24px\">\n",
              "    <path d=\"M0 0h24v24H0V0z\" fill=\"none\"/>\n",
              "    <path d=\"M18.56 5.44l.94 2.06.94-2.06 2.06-.94-2.06-.94-.94-2.06-.94 2.06-2.06.94zm-11 1L8.5 8.5l.94-2.06 2.06-.94-2.06-.94L8.5 2.5l-.94 2.06-2.06.94zm10 10l.94 2.06.94-2.06 2.06-.94-2.06-.94-.94-2.06-.94 2.06-2.06.94z\"/><path d=\"M17.41 7.96l-1.37-1.37c-.4-.4-.92-.59-1.43-.59-.52 0-1.04.2-1.43.59L10.3 9.45l-7.72 7.72c-.78.78-.78 2.05 0 2.83L4 21.41c.39.39.9.59 1.41.59.51 0 1.02-.2 1.41-.59l7.78-7.78 2.81-2.81c.8-.78.8-2.07 0-2.86zM5.41 20L4 18.59l7.72-7.72 1.47 1.35L5.41 20z\"/>\n",
              "  </svg>\n",
              "      </button>\n",
              "      \n",
              "  <style>\n",
              "    .colab-df-container {\n",
              "      display:flex;\n",
              "      flex-wrap:wrap;\n",
              "      gap: 12px;\n",
              "    }\n",
              "\n",
              "    .colab-df-convert {\n",
              "      background-color: #E8F0FE;\n",
              "      border: none;\n",
              "      border-radius: 50%;\n",
              "      cursor: pointer;\n",
              "      display: none;\n",
              "      fill: #1967D2;\n",
              "      height: 32px;\n",
              "      padding: 0 0 0 0;\n",
              "      width: 32px;\n",
              "    }\n",
              "\n",
              "    .colab-df-convert:hover {\n",
              "      background-color: #E2EBFA;\n",
              "      box-shadow: 0px 1px 2px rgba(60, 64, 67, 0.3), 0px 1px 3px 1px rgba(60, 64, 67, 0.15);\n",
              "      fill: #174EA6;\n",
              "    }\n",
              "\n",
              "    [theme=dark] .colab-df-convert {\n",
              "      background-color: #3B4455;\n",
              "      fill: #D2E3FC;\n",
              "    }\n",
              "\n",
              "    [theme=dark] .colab-df-convert:hover {\n",
              "      background-color: #434B5C;\n",
              "      box-shadow: 0px 1px 3px 1px rgba(0, 0, 0, 0.15);\n",
              "      filter: drop-shadow(0px 1px 2px rgba(0, 0, 0, 0.3));\n",
              "      fill: #FFFFFF;\n",
              "    }\n",
              "  </style>\n",
              "\n",
              "      <script>\n",
              "        const buttonEl =\n",
              "          document.querySelector('#df-f948872b-98d6-4d06-9828-7a7efb6f7fee button.colab-df-convert');\n",
              "        buttonEl.style.display =\n",
              "          google.colab.kernel.accessAllowed ? 'block' : 'none';\n",
              "\n",
              "        async function convertToInteractive(key) {\n",
              "          const element = document.querySelector('#df-f948872b-98d6-4d06-9828-7a7efb6f7fee');\n",
              "          const dataTable =\n",
              "            await google.colab.kernel.invokeFunction('convertToInteractive',\n",
              "                                                     [key], {});\n",
              "          if (!dataTable) return;\n",
              "\n",
              "          const docLinkHtml = 'Like what you see? Visit the ' +\n",
              "            '<a target=\"_blank\" href=https://colab.research.google.com/notebooks/data_table.ipynb>data table notebook</a>'\n",
              "            + ' to learn more about interactive tables.';\n",
              "          element.innerHTML = '';\n",
              "          dataTable['output_type'] = 'display_data';\n",
              "          await google.colab.output.renderOutput(dataTable, element);\n",
              "          const docLink = document.createElement('div');\n",
              "          docLink.innerHTML = docLinkHtml;\n",
              "          element.appendChild(docLink);\n",
              "        }\n",
              "      </script>\n",
              "    </div>\n",
              "  </div>\n",
              "  "
            ]
          },
          "metadata": {},
          "execution_count": 54
        }
      ]
    },
    {
      "cell_type": "code",
      "source": [
        "def find_range(name):\n",
        "  print(\"Nilai min dari \",name,\" \", dataset[name].min())\n",
        "  print(\"Nilai max dari \",name,\" \", dataset[name].max())\n",
        "for i in range(len(column)):\n",
        "  find_range(column[i])"
      ],
      "metadata": {
        "colab": {
          "base_uri": "https://localhost:8080/"
        },
        "id": "SYc9s3tl5_LK",
        "outputId": "13ca30b6-7b19-4013-ed13-b87a46eed137"
      },
      "execution_count": null,
      "outputs": [
        {
          "output_type": "stream",
          "name": "stdout",
          "text": [
            "Nilai min dari  PK   0.0\n",
            "Nilai max dari  PK   1.0\n",
            "Nilai min dari  PERFORMANCE   0.0\n",
            "Nilai max dari  PERFORMANCE   0.9999999999999999\n",
            "Nilai min dari  COMPETENCY   0.0\n",
            "Nilai max dari  COMPETENCY   1.0\n",
            "Nilai min dari  LEARNING POINT   0.0\n",
            "Nilai max dari  LEARNING POINT   1.0\n",
            "Nilai min dari  Kerja Ibadah   0.0\n",
            "Nilai max dari  Kerja Ibadah   1.0\n",
            "Nilai min dari  Lebih cepat   0.0\n",
            "Nilai max dari  Lebih cepat   1.0\n",
            "Nilai min dari  Apresiasi   0.0\n",
            "Nilai max dari  Apresiasi   1.0\n",
            "Nilai min dari  Aktif bersama   0.0\n",
            "Nilai max dari  Aktif bersama   0.9999999999999999\n"
          ]
        }
      ]
    },
    {
      "cell_type": "code",
      "source": [
        "import plotly.express as px\n",
        "from sklearn.decomposition import PCA\n",
        "\n",
        "\n",
        "X = dataset[['Kerja Ibadah','PERFORMANCE','COMPETENCY','PK','LEARNING POINT','Aktif bersama','Lebih cepat','Apresiasi']]\n",
        "\n",
        "pca = PCA(n_components=2)\n",
        "components = pca.fit_transform(X)\n",
        "\n",
        "fig = px.scatter(components,x=0,y=1)\n",
        "fig.show()"
      ],
      "metadata": {
        "colab": {
          "base_uri": "https://localhost:8080/",
          "height": 542
        },
        "id": "PzvwgzHVjAHI",
        "outputId": "9f34dafb-2f81-46d0-bea3-d2a5e2253e70"
      },
      "execution_count": null,
      "outputs": [
        {
          "output_type": "display_data",
          "data": {
            "text/html": [
              "<html>\n",
              "<head><meta charset=\"utf-8\" /></head>\n",
              "<body>\n",
              "    <div>            <script src=\"https://cdnjs.cloudflare.com/ajax/libs/mathjax/2.7.5/MathJax.js?config=TeX-AMS-MML_SVG\"></script><script type=\"text/javascript\">if (window.MathJax) {MathJax.Hub.Config({SVG: {font: \"STIX-Web\"}});}</script>                <script type=\"text/javascript\">window.PlotlyConfig = {MathJaxConfig: 'local'};</script>\n",
              "        <script src=\"https://cdn.plot.ly/plotly-2.8.3.min.js\"></script>                <div id=\"fefe376d-02bf-4bf8-9315-9a1861ea6216\" class=\"plotly-graph-div\" style=\"height:525px; width:100%;\"></div>            <script type=\"text/javascript\">                                    window.PLOTLYENV=window.PLOTLYENV || {};                                    if (document.getElementById(\"fefe376d-02bf-4bf8-9315-9a1861ea6216\")) {                    Plotly.newPlot(                        \"fefe376d-02bf-4bf8-9315-9a1861ea6216\",                        [{\"hovertemplate\":\"0=%{x}<br>1=%{y}<extra></extra>\",\"legendgroup\":\"\",\"marker\":{\"color\":\"#636efa\",\"symbol\":\"circle\"},\"mode\":\"markers\",\"name\":\"\",\"showlegend\":false,\"x\":[0.3345440744887201,0.4302107245459113,0.34321582824916586,0.3141430456465861,0.3503288847998523,0.5352756602044519,0.2920793298899658,0.37300873024061565,-0.5915649854138889,-0.5652946699053226,-0.4798697731982294,-0.5787225885511084,-0.526566191792527,-0.38928512742233795,-0.37139051843056253,-0.3414036507939339,-0.4873024069742738,-0.4164436405519744,-0.3873671504738466,-0.3927804090823166,-0.5941579260644358,-0.5998923942798831,-0.5833440816693465,-0.6170151863841625,-0.576110966209402,-0.5378647879872419,-0.5243009442173983,-0.4763095385156673,-0.47244326141447646,-0.49595271958958087,-0.5321651878654533,-0.5193852524369367,-0.46135870124905176,-0.4484639967756672,-0.39216314252230067,-0.48705028195796496,-0.41471182400850864,-0.5082351410357385,-0.41787299094833885,-0.46514126614777784,-0.4314955613551528,-0.495766881669086,-0.4506837428454901,-0.4908744064764693,-0.473093679253934,-0.45763072382902475,-0.4823929021307999,-0.43769790496195415,-0.5557654924278534,-0.5320247214191164,-0.538668688228997,-0.5425791084599985,-0.5359542968408382,-0.5437708861993897,-0.08734450529260501,-0.5410184178856352,-0.5305673517970831,-0.41661861913209974,-0.496204345228781,-0.47799595944491907,-0.5557002533532115,-0.5150940319928136,-0.47574281274613234,-0.49165976376635534,-0.5089800699036098,-0.4219513380385719,-0.475413977444207,-0.5441898830914284,-0.4974822788187137,-0.41917551348823384,-0.41652365431680655,-0.5732824183003532,-0.4118330683553082,-0.4808353457990343,-0.48302734960529065,-0.4744897258565596,-0.5318032289396429,-0.5126974506653479,-0.5253552770824012,-0.40253121198260455,-0.5931232370181238,-0.5756584028161621,-0.615477735496025,-0.5938456160302045,-0.5138233804789043,-0.5978593771175467,-0.5968129222766956,-0.6172279027862068,-0.5796436648047211,-0.21673980813781316,-0.3275303313568129,-0.30076825862191203,-0.56601394100441,-0.5174609562578167,-0.5027648412429452,-0.49004974333454226,-0.4899062756454145,-0.5662653319565978,-0.5348614500881174,-0.4769834757816323,-0.5573777095428892,-0.5370198363332029,-0.4761168480694603,0.36204773873709706,0.4515050565593016,-0.5162472924547242,-0.4869928293037597,-0.5755026226184101,-0.48990466008890926,-0.37483934594409624,-0.563973214258193,-0.46900836174568666,-0.438431345388198,-0.5150479030845567,-0.4887412271258432,-0.5188895593234532,-0.44720038313483346,-0.5527979034724217,-0.5442258054431196,-0.3724732195221679,-0.4266798650857583,-0.6014910340667885,-0.45227450750480624,-0.385995764290435,-0.46996292382273525,-0.40385273158107055,-0.6045705060699762,-0.4224167278337722,-0.6045705060699762,-0.41585157366165804,-0.5065619554233548,-0.4920640243552031,-0.530251060018615,-0.4443558336327634,-0.47842236094877594,-0.4424382574268189,-0.524276190741929,-0.48849769633504436,-0.6074339828321561,-0.2594697828136548,-0.2905043371194687,-0.591697602740708,-0.379415432541474,-0.5142157534617867,-0.5438406264368397,-0.5351584165909284,-0.25614580982655166,-0.5007192750782045,-0.44740903763302375,-0.5075133102849408,-0.560223969433583,-0.5594042557071133,-0.5358352332124929,-0.4797045081525532,-0.5114208366050071,-0.4372929192842263,-0.5338490733986143,-0.47888813133392544,-0.4779625873633666,-0.575841207826687,-0.4510669874933363,-0.5774766342154759,-0.569549474020325,-0.5838959489133995,-0.5421001207567212,-0.5990062481132025,-0.4570628767548752,-0.5680101090886289,-0.4722883227286228,-0.5752956207180296,-0.5197835205735453,-0.49213735525115954,-0.5661207428268777,-0.48165529011101826,-0.6116036620082221,-0.4063716490895193,-0.41240901989066364,-0.35966087336333935,-0.5200994328263022,-0.5348793429012039,-0.5692480209563286,-0.5693219666661667,-0.5151266124062618,-0.5466185658124758,-0.5314500684416106,-0.552701173219107,-0.5514234699040041,-0.5377717069513348,-0.576670570931374,-0.10780577365315196,-0.5530584061897205,-0.5629494045324652,-0.5597461086588402,-0.5508678112261939,-0.5632577507855095,-0.5437976804347837,-0.5712975563409788,-0.5781398971385666,-0.5341596785694567,-0.5360932568329292,-0.5318478981253605,-0.5633206583082568,-0.5575111093557736,-0.49069107760240505,-0.5410891445053869,-0.5359128157120974,-0.5409774673766604,-0.5327383405464153,-0.5169559796385202,-0.5388963072968501,-0.5369794029996096,-0.48657794364236856,-0.4566276333005959,-0.43733640529497364,-0.4699182546370174,-0.4165408491304246,-0.53320500536281,-0.5485497333213906,-0.5250047520620393,-0.4917655628983108,-0.47775814937079775,-0.4020000074678112,-0.5308393416328766,-0.5509590382062585,-0.5389612647267892,-0.494671702784043,-0.4776163797139274,-0.5432739656292369,-0.5542181699084501,-0.5587506738478727,-0.3430510004379414,-0.4480003496179153,-0.4028332955984389,-0.589854150912011,-0.5702798268127599,0.37027777688504654,-0.5034911713599161,-0.4797897609978314,-0.5924673620697538,-0.5560253192035512,-0.5864235536725338,-0.5700203416538465,-0.4650942137443178,-0.24830447823920065,-0.141814085074765,-0.5429627850985708,-0.269372548126047,-0.1023939260603042,-0.5761783084042814,-0.5066906997509733,-0.5723350730234007,-0.5731835106946842,0.3241264300309674,-0.6011504537762952,-0.288659930514454,-0.5495277833473865,-0.5120241262580211,0.2791351261082645,-0.38522697689774305,-0.5835404330916633,-0.5988419923306326,-0.5909265921831827,-0.6000758052531737,-0.17705247490618853,-0.25768739260307544,-0.4913242784773752,-0.5213135890043046,-0.4296958918005859,-0.55489731417475,-0.4665420781342753,0.2934399336388399,-0.5591357258989472,-0.4901147851536106,-0.4570999611904391,-0.37801067276940675,0.35121351579679033,-0.5260398566377191,-0.5741010954328701,-0.19137051684956768,-0.5092791041034301,0.3388632657709727,0.36546343230016975,0.461034817102345,-0.5316603740890975,-0.5359762118628154,0.27064789719606963,-0.22937962739612203,0.2630708940056159,0.3636103545799388,0.3307219347462711,0.32390760441949634,0.34861036956668784,0.3366648835116388,0.3366648835116388,0.3307219347462711,0.3366648835116388,0.3307219347462711,-0.38212802622590764,0.28603374360642664,-0.46295548123327657,-0.34222739184206236,-0.5299656021363297,-0.3213859947870898,-0.2709061267218234,0.14251642352794097,-0.35213673904555626,-0.1810384664121354,0.329495970889606,0.3323156953197592,-0.5440682455046928,0.3366648835116388,0.3307219347462711,0.3307219347462711,0.3307219347462711,0.27296469633557846,0.3307219347462711,0.27296469633557846,0.27296469633557846,-0.4389574592469111,-0.45902986228882375,-0.41816759555520955,-0.4396355546337703,-0.41084409124636884,-0.5202964504432219,-0.3509897158916081,-0.27316430701404354,-0.48048500671346045,-0.5001972119757929,-0.3530421231219707,-0.4462452854928544,0.5079630587708142,-0.516594790790369,-0.5405217063260892,0.40103991774267095,-0.017384899963010094,-0.5359473950620312,0.3098883187225424,-0.556391681000297,-0.6095264490368113,-0.6018254839153854,-0.45280161753532655,-0.5065459724419125,-0.47196031999302407,0.33644888827063113,-0.5184837247762674,0.332814400950926,0.34272247925819177,0.34226504473456343,0.32300429423715304,0.34260783227700653,0.34260783227700653,0.3387573497162936,-0.35000637530892037,0.34260783227700653,0.40075206241754646,-0.0024428626179247644,0.45495534127398646,0.3461543714556102,0.34260783227700653,0.33851790303019114,0.34260783227700653,0.34260783227700653,0.34260783227700653,0.34260783227700653,0.3434944670716573,0.3395283602738188,0.34260783227700653,0.34260783227700653,0.5270835087407701,0.34855078104237414,0.45469606548657115,0.5160211036046328,0.357357206569922,-0.5174329736810418,0.39570021213087925,0.34754174714317076,0.3550144708536714,0.35141425780455426,0.35141425780455426,0.35587561068889284,0.357357206569922,0.2848505938663138,0.3349068671555807,0.3395283602738188,0.36022068333210183,0.3366648835116388,0.34260783227700653,0.34260783227700653,0.357357206569922,0.34260783227700653,0.34260783227700653,0.3454713090391865,0.3454713090391865,0.35119826256354664,0.357357206569922,0.357357206569922,0.36885863235336463,0.357357206569922,0.3629573677928465,0.357357206569922,0.357357206569922,0.357357206569922,0.357357206569922,0.3366648835116388,0.3528032464371839,0.3650248237588836,0.357357206569922,0.357357206569922,0.357357206569922,0.357357206569922,0.357357206569922,0.357357206569922,0.3685575290157711,0.357357206569922,0.3423918370359988,0.3591669623844177,0.3797800647318115,0.4201988208765629,0.6108007286925025,0.40138422915767275,0.4126088630499932,0.3482713896506488,0.34930511763366734,0.6150937264382476,0.6056307909229054,0.35752896085093233,0.44388459844400247,0.5457778869064127,0.3745993990937567,0.3745591052421588,0.3789966987591363,0.12712562731103016,-0.04008497582008377,-0.04059846692653875,-0.21038743007542862,0.04073614266249669,-0.07253859064148278,-0.5325640631567927,0.08873603369669016,0.023223178621637308,-0.004483488739857794,-0.3904877565153303,-0.3372349920191739,-0.36121750509997386,0.16808733916527843,-0.09070803794621307,-0.07073010677360016,-0.5585840295808634,0.3524641711258345,0.3703485645067793,-0.056741489777826816,-0.4679664865098255,0.3560275527109413,-0.08183829625562868,-0.5870761096224697,-0.2025283603314636,-0.5202964504432219,-0.42893611212798904,-0.28119391704144703,-0.579144384654763,-0.5811331608571022,-0.23943052133602957,-0.5426804129903587,-0.0027395366113311084,-0.16580564359529232,-0.09929846823275308,-0.5565761925188762,-0.36619242428397375,-0.5307271844859945,0.33754757119789036,-0.4546838788267084,0.09711338761874441,-0.4359119717056744,-0.24001635898546814,-0.11860587100446354,-0.2270711659504595,0.3307219347462711,0.33810479376635766,0.357357206569922,-0.4401761143668036,0.37765172812644004,-0.16518292112271077,-0.21969496758838813,0.38398149858054376,0.15574701603156668,0.3366648835116388,0.3454713090391865,-0.21999820082085395,0.056473955801338294,-0.220166612948008,0.07083823941920908,0.06917743923203926,-0.5471477175078805,-0.217277734624379,0.3650095401459035,0.353506724009209,-0.5577170386049033,0.3454713090391865,-0.2646796717306806,-0.5027070508332211,0.34260783227700653,0.36596710103368657,-0.2402075793282437,0.4584511512412649,-0.49384759088929414,-0.51538346872977,-0.20187244158715145,-0.4938235564851564,-0.24151917208556653,-0.3280725118400397,-0.3360604369106976,-0.20185246387381298,-0.2763351166227805,-0.24461482942701593,-0.1791421593324963,0.3514104501781503,0.37996643392544543,0.3307219347462711,0.08605044556014897,-0.4678517244917086,-0.5438379742863817,-0.6076499780731638,0.2719776905370455,-0.5234004865965437,-0.4511992225670869,-0.3186737074523256,-0.2416969110170752,-0.5634622050243671,-0.5383529486726127,-0.5119258230240935,0.00762586957408509,0.29710916732728937,-0.5555777425349642,-0.5867416597738733,-0.5482171903480539,-0.3417232074029231,-0.5064748425705005,-0.3229034194142066,-0.5498586803844818,-0.5362399065442491,-0.48715954543557105,-0.43925472209266625,-0.4392081585891792,-0.5390718692042645,-0.5756431165479208,-0.2744293507247341,-0.4901507989434812,0.5507484867284462,-0.20813748556706668,-0.09132693804141853,-0.464678105730997,-0.5043498162349419,-0.5926245313869568,0.2913172574372284,0.36678114647280297,0.3395283602738188,-0.12788984769122835,-0.37738839620208153,-0.10171155320720952,-0.09961657433409221,0.08684644160058601,0.1052400089635969,-0.4753521460681553,-0.5324902384644659,0.42941789733037833,-0.0860899825902702,-0.5072917400242644,-0.15964156084174985,-0.46023127428562877,-0.31605470651181006,-0.20972138146683242,-0.17851568592281192,0.36311562098255074,-0.45520231657285415,-0.17963784996028145,-0.42113303614623193,0.32821289831165534,-0.5878471201799951,-0.21133478585901116,-0.5309568727452626,-0.5909265921831827,-0.43177593514246054,0.3531039987964774,-0.3820514546795817,-0.31094878373970875,-0.23984222148671522,-0.2245050661769659,0.47472067108131105,-0.45375239115474153,0.3382221578599328,-0.5506637502199965,-0.44927060728715845,-0.5376582295639091,-0.31187467230939836,-0.14407580162058856,-0.38655916576608046,-0.10064346706858675,0.09615447359577801,-0.3412867989629761,-0.6008237135115789,-0.5704090162620915,0.13833122327946898,-0.49332561523335705,-0.1991408200314225,-0.5299422360016284,0.34657676944530846,0.5538368506556965,-0.39118737046605684,0.0020224772383086397,-0.5689862645248528,-0.5337586013677998,-0.4506738523208094,-0.5505603468337799,-0.6018254839153854,-0.5489356703684971,-0.5483049476264387,-0.5306239831116493,0.2987847166417069,-0.6142160668359938,-0.5647221854937972,-0.5791237356860932,-0.5279700123084975,-0.5093349945673531,-0.0028940639387343846,-0.4475739301689597,-0.43901217720120844,-0.22458283473486565,0.3396105784554442,-0.4389642244402856,-0.41393747238721657,-0.3382635371509459,0.2941407594712718,-0.4924858905715659,-0.1778433992904701,-0.595922983734938,-0.5940060794376976,-0.04435986909490304,0.08163319848411008,0.1909656008202716,0.5155703720934459,0.5675460091881621,0.27418528318739804,0.35427773456673417,0.4157450836558968,0.3147225070103552,0.16022709645563632,0.0753188690371862,0.04912610395831599,0.03167215609573017,0.053072078309493585,0.40417801283521376,0.3085180708155034,0.3066483773307189,0.31707802085947767,0.36398011454137574,0.362362735334419,0.33453196872206337,0.3247789859809034,0.3708364957465702,0.3604458310371785,0.17370004221537708,0.33911973666133965,-0.017639038974334505,0.1937232168041298,-0.21035273837479368,-0.06031023442337642,0.1607955996676627,0.2847770769828384,0.09688780186644098,0.22311533522838625,0.2265503880688841,0.4287063577747121,0.42057674034824627,0.4083144119909525,0.40920369603949835,0.4507770808833677,0.44088346934402584,0.42510744528086697,0.12058056344076351,0.30965815208265685,-0.030656303148556645,0.3369882151647342,0.6417248575818795,0.5254146400884452,-0.03125062994329404,0.09183933855057044,0.11304231142650137,0.11411535748027951,0.09529758284819152,0.07883833511669205,0.09287974585682512,0.30763879859483934,0.5483205543039652,0.5088342065191532,0.5170270653630142,0.5262389123404365,0.5652463034248218,0.3990992434593697,0.4365318587654734,0.4483274709256514,0.38813552113651273,0.4425821892462261,0.3579232240162318,0.3967465024386179,0.45245181662581785,0.38465713154699727,0.39835608863933497,0.0030435407799074966,0.18002632671348415,-0.11554656952164068,0.44645442859647955,0.38766194589509023,0.40197482343041374,0.4562335235430071,0.11423057323341823,0.6375846817242106,0.0754911158578838,0.1397047646104763,0.3775049399973623,0.32196959409532794,0.4416717986505363,0.397848685447293,0.43502262583161305,0.3439538511357706,0.43005239721342237,0.14114225715309392,-0.1124763536304242,0.22248887194069877,0.09532799476918254,0.5235310462449102,0.46838927735591984,-0.14463768104214053,0.09022870412660516,0.13281915220585702,-0.2210263960145911,-0.1862706103772805,-0.21547987109408953,0.1438838004561219,0.6272829127685488,0.09311115282162372,0.07678057637278161,0.09460561504248073,0.45861473882649456,0.3581243928282554,0.39048319726392783,0.2940336424325011,0.350328768423613,0.33467575674186417,0.3619807446239551,0.3828127704101865,0.3190701160602506,0.29893106846203543,0.33565739469900946,0.3225401679559198,-0.5723764284307368,-0.047812828219009514,-0.33610871205944454,0.19097216715244664,0.17910438069774376,-0.18467416545422222,0.24245761521115147,0.12109289337394284,-0.011097219788359505,-0.041800181331126514,0.5424177296177958,0.11669478347143358,0.43922276964997464,0.4630345425778041,0.3830889589581144,0.4835786117050761,0.500301248976742,-0.507720601180587,-0.14468626667561701,-0.36744550074435567,-0.18628702888693477,-0.12646254973361434,-0.47647866348037904,0.1316897582733488,0.07136125851175297,-0.019598286297386906,0.0768193478531584,0.03937312121715589,0.08637070668951864,0.3884374846877327,0.33195936313677665,0.39130096144991267,0.41473579399432414,0.3891839432548741,0.3543933588038601,0.4169176136521783,0.40733877225500775,0.07078652526734623,0.37727851907067994,0.06459505585112497,-0.1690334036834236,0.3196233915203186,-0.20698604434449802,0.30773749398958317,0.3356999170350272,0.3427262868845956,0.35940592044254976,0.3671101893110821,0.3563102631011005,0.3591304761592238,0.6963668070986163,0.7190488132173448,0.7848633970699789,0.515661267613739,0.608242105388633,0.4457610484787607,0.5952529423026733,0.5031160822852683,0.778382860623487,0.6708107961900281,0.7460494090538128,0.5410874779056678,0.5898462468957625,0.6922673827067098,0.4808562308050952,0.6123377132493774,0.15594471822018485,0.23557689665900144,0.2500262396851466,0.41702111234325234,0.6612619001059146,0.4315097101060594,0.2681694951390697,0.3670812595008804,0.38399246314224544,-0.004763768931016891,-0.26302557547705757,0.13729490714630177,0.1047970783370342,0.3940234556546119,0.4196080717783476,-0.15242733993641405,-0.1603841055224751,0.4239743911204554,0.4090873532684929,0.4306257635191645,0.4111626872586819,0.4657999798879962,0.3895901269480347,0.43320523855527576,0.39214539551770533,0.44933604373370006,0.5373428506594649,0.4140983337633105,0.38398996572511007,-0.11207868726734307,0.18003252200917225,-0.19190059603666604,-0.2364989524623641,0.42796317092745567,0.09750523748141966,-0.2919783102776989,0.37748072092672064,0.4134253181602233,-0.33714000729240534,0.3894087110569608,0.11301556310251151,0.4111734027187335,0.40508823855695475,0.3444912273898659,0.4437525061596746,0.4060220552057859,-0.07388097457612207,0.07343798923436265,0.3044828319403092,0.42554705528742603,0.39559898453258263,0.19509415595773832,0.20357172212915162,0.05108120200921709,0.17048509901509976,0.10550870281228496,0.08553722347647888,0.2104572113142556,0.23328939606507532,0.2774651654761887,0.5601723875853148,0.4198932618486167,0.06969538860088607,0.42999600049103526,0.4374985565780517,0.4152491388665823,0.4521156174162823,0.42630563581387226,0.41317457514906647,0.41805219323766196,0.41436936270537317,0.05175580670034341,-0.44679749394282753,0.2488877311857985,0.44856040302715294,0.34773793728828223,0.3819829654264724,0.02813570822801272,0.39972408730962505,-0.047669387207981986,0.01844340591321323,-0.24471985939410135,0.19310827268170092,0.2741413658619526,0.37754637454034823,0.2936570193938617,0.304273200735905,0.3153358443713801,0.28595605427243587,0.32162289932871113,0.13542787312674145,0.12068996336766666,-0.1063703858026128,-0.5379304071680225,-0.16683859090077321,-0.13697509898989407,-0.11019463224332114,0.3118244523733439,-0.5207986690766002,0.22493330583015994,0.37975710406731333,0.27378744635154134,0.2665492835951314,0.259320782448785,0.2743689382014519,0.259320782448785,0.2850136186422785,0.5875854063281768,0.4589322018496319,-0.5113091926370161,-0.6061635040429553,-0.5592999816815172,-0.5411711543630313,-0.5223805372994017,-0.5746265815388407,-0.5731469793185677,-0.5767751777873799,-0.6006634048374087,-0.41835412553700635,-0.32072464623528635,-0.24753933268878384,0.7238319060056395,0.6096379965070844,0.6470330843807175,0.6334731877192729,0.4376967006405458,0.0918498133309274,1.099313564374139,1.1036032583727773,0.8897044073744577,0.9161400174408146,1.0984269295794882,0.8821873418542928,1.0994571990820776,0.8869043267629956,0.8809731727504428,1.1170264372871412,1.10745374093349,0.4204575130351754,0.4001289810528416,1.1005041425508992,1.0945764470187749,1.0966536599901864,1.1260497901607147,1.1083237017619092,1.1036032583727773,1.1083202432814803,1.1013907773455505,1.1005041425508992,0.6409867947590089,1.1041908579570123,1.0994571990820776,1.1050774927516633,1.1005041425508992,1.1005041425508992,1.1083237017619092,1.1005041425508992,0.41725661408624154,0.39659258710427464,0.35725460708162016,0.3243735336245063,0.39572954323671367,-0.471909312073918,0.2115838569348982,0.20474348597261494,0.39082206195359115,0.36276322362247937,0.4072163619292042,-0.388283495847154,-0.4931863602056457,0.7133310091891104,-0.05987898773753979,0.22701358485720935,0.3831811739844495,0.4349543581195864,0.42403898683380437,0.39174518297343613,0.515503154198511,0.4494871542124513,0.4169459084765968,0.41001644254066666,-0.1425911624925229,-0.4891244309875037,-0.32435604356043846,-0.5696873414965135,-0.6005040282682556,-0.4693390577622029,-0.03840494465125001,-0.05498905317037098,-0.47459766286015426,-0.3686814680621737,-0.4932000532239061,-0.49827601101331365,-0.18336793918330624,0.11878427428754676,-0.27770419719027334,0.15673793206805714,-0.5237974847369962,0.18189419940166413,-0.5526785457180907,-0.3580538403452029,-0.03336180702631557,0.2216907899754857,-0.31970993060094516,-0.49394152246477546,0.44580588081072436,-0.22922551392448,-0.37089993655385756,1.0207684629607787,1.0207684629607787,0.9824571269414739,1.0169179804000656,0.15267893391539075,-0.3317190296850083,-0.4124757266085957,-0.44989474081475905,0.8229371863093174,0.8161228559825426,0.334506294012601,0.38056417270584303,0.8111102943438528,0.8074235789377395,0.821023740492506,-0.30246889970313556,-0.31499897172792035,-0.4316081245895874,-0.4195148774339571,-0.07400178860379181,0.46227070131034087,0.4694971343295101,0.4631573361049918,0.2831239669374603,0.451803003509917,0.5388087357193173,-0.24798775174464047,-0.5840370862042025,0.46292580129976807,0.555037852456357,0.630308444722917,0.5516063744934329,0.559282759487928,0.2940935801027897,0.07033369496087634,-0.15760334494394518,-0.373248079237808,0.32666502321294555,0.3664588786084825,1.0808787371977855,1.0128449018487515,0.6010714686456454,-0.5348957731480466,0.39076765701502547,0.48645780200426375,0.2628038581658506,0.3741922695886293,0.5818033493126958,1.0099814417593589,1.0567809777497372,0.9243300251082414,0.4376329593767495,1.093279430883067,0.304273200735905,0.9950065084963808,0.407961967881938,0.5718119062177628,-0.03967043596983018,0.5222800484580488,0.7927886708814194,1.0313471620019707,0.47630747154857567,0.5526853926001671,0.8690312999091451,-0.492250401804249,-0.05151324661902647,1.0560678874992109,0.45788622573042936,1.1555535798816396,1.039726166588306,0.6397245979138454,1.082663249541023,0.5849675199371899,0.07377132632644334,0.6112189258067503,0.14365892797565635,0.6030924594852887,1.0552391428840795,1.1007881890891218,1.1007881890891218,1.0552391428840795,1.0552391428840795,1.0552391428840795,1.1007881890891218,1.1007881890891218,1.1007881890891218,1.1007881890891218,0.6385341568364872,1.1007881890891218,1.0552391428840795,1.0667905905662176,1.0552391428840795,1.0552391428840795,1.0552391428840795,1.0552391428840795,1.1007881890891218,-0.450849627112403,-0.29094184071721646,0.6129896527944083,-0.4362285523178742,0.40586746540494445,0.4352088681166866,0.523287968392961,0.6017000433323941,0.34873950538947496,0.5170089666308976,0.45448948891252855,0.5707816367151735,0.5756536588625653,0.5461157662771627,0.29454365418851236,1.093279430883067,1.0559019003806742,1.0858998562792181,1.0028226092269623,1.008213354898386,1.039584836244389,1.0618010968140152,0.9605896018718002,1.0934725634385023,1.03637259360252,0.9497478919958922,0.08295656875889523,0.6625023518454468,0.9362706623296096,0.5448935507088895,0.5139282798137517,0.6005351162698462,1.0789477604794915,1.095279087827451,0.4192413861213829,1.1484875364060927,1.093279430883067,1.0475682580053096,1.0602592386676433,-0.5574437978978536,-0.48364091628897754,-0.46379638320464167,-0.40364239335609575,-0.3287404429976849,-0.5484566384556167,-0.5688541068677282,-0.5835767522980462,-0.6005040282682556,-0.3953940382743316,-0.4241074377761546,-0.3684089918526231,-0.5759225079396462,0.5050878293006796,-0.3507585612390834,-0.12365254950464846,-0.5158341754851405,0.4693358603166409,-0.5538794552494529,0.04779316527922957,-0.3997402656680176,-0.43515393268375213,-0.5633820278070464,-0.5153241637291294,-0.4641257413858105,-0.449317271352366,-0.498715541217478,-0.4006996532706913,-0.5257811308181747,-0.47726927414718845,-0.49630551870979134,-0.4899421959952176,-0.49205809839363995,-0.45283225050244064,-0.5230587107919501,-0.5407399035789388,-0.5688536638708215,-0.568811009098189,-0.46993889696417457,-0.3401406204894218,-0.2987187960863596,-0.571761641378448,-0.3158515036944992,-0.4499019238453559,-0.40466698595869743,-0.46542937884559865,-0.5817364582158658,-0.5926806624950792,-0.5512214866990363,-0.5269001574205089,-0.3183037982734348,-0.35390335806737583,-0.3431921035037716,-0.5482122376788111,-0.47360271112533286,-0.4662136034674662,-0.3545162549171918,-0.28617017029339936,-0.3661606969726598,-0.3668235231681084,-0.41344340236166105,-0.15295320481029295,-0.4108930723486524,-0.4027471453999017,0.1987987467174339,-0.4190140414824052,-0.46779646016944915,-0.559264122624969,0.2842273407002688,-0.12149525394942977,0.16926810629410807,0.11119167126806255,0.20401761750063724,0.19499519673208182,0.19884567929279465,0.2047282017599035,0.07958191123718873,0.6813155679453905,0.19499519673208182,-0.05205811509943474,-0.44853291689858293,0.4959218196290584,0.37804952962820493,0.39058261526748883,0.3875031432643012,-0.2320635402397205,-0.6018102306821415,0.2800131055070682,-0.4833739682244152,-0.3951995194136722,-0.49887453506905577,-0.5299103748283222,-0.360990214133643,-0.4735119756698013,-0.4204934575639567,-0.41562069262706525,-0.5919573655650696,-0.2670291656165699,0.18339454590351664,-0.5788995711915108,-0.33902067496676697,-0.39694456626410013,-0.5701208521397237,-0.370592197777191,-0.2601288345578834,-0.5923512492046578,0.06704023337523006,0.5225048091611134,0.13577794016825112,0.23344434622621066,0.5156928995844811,0.3502958598942669,0.35521309818276314,0.14757232518580052,0.3464065331732201,0.515833564439961,0.5725361513987917,0.3938200814019857,0.41192172125241755,0.44136859710153614,-0.2993256380734846,0.34554348930565926,-0.057628753728324315,0.3858167773230375,-0.5097642171887249,-0.5180350414739646,-0.5451724133849296,0.3322905452365801,-0.43689080533544045,-0.4231860079663919,-0.44550261319305995,-0.3793467809054134,-0.36687328379044326,-0.6086398142421601,-0.5981387685092723,-0.6006599463569791,-0.5486170202976663,-0.32085712779305897,-0.4855763192391521,-0.07872309652035099,-0.5105680922372099,-0.5136430360052804,-0.1998817372286727,-0.5083955544941449,0.36320910398385053,-0.5413359916831836,-0.5041141316986764,-0.461825429793578,-0.5110565607912054,-0.2774021939597235,0.45745403566935156,0.34501182796409274,-0.4656245002719063,-0.336758790476757,-0.14547272068181138,-0.1329159905802783,-0.3901294302443606,-0.5067117003513159,-0.6056759664760981,0.4706217748517321,0.3675367982447611,-0.10071275123440153,0.26002955118986165,0.3733334905314688,0.3737761604498234,0.42730009199126423,0.24838261171725842,-0.6086398142421601,0.08480305194663366,-0.567154797121712,-0.43162674049708527,0.41006902604913553,-0.30981405155995345],\"xaxis\":\"x\",\"y\":[-0.3930547941903126,-0.25133324357365167,-0.45015501212305664,-0.42656453617182183,-0.4353875572708789,0.0831445157634775,-0.49754936762845065,-0.3607425140403797,-0.060994646573656434,-0.035071709921748864,0.18449292409391407,-0.05158645966226344,0.06991191778793734,0.418868489640338,0.4462652857220134,0.48799871304767517,0.1513110638937439,0.3503474339719177,0.4027455648507928,0.38566995175861246,-0.05251336034433308,-0.06893189911232835,-0.056212451981384956,-0.08976344534373563,-0.02676293847206411,0.015629034394488588,0.042775845614543485,0.15453188859938555,0.20943246709685812,0.16146089932179458,0.028164899808778728,0.08046876414930487,0.18838396466068313,0.24058558497940977,0.39133169862092954,0.15209607090488528,0.2790367518055439,0.10789393572038103,0.3277445596215262,0.19751390677750585,0.31806574131727916,0.133171792284254,0.22086375430740288,0.11795051731234879,0.1800109524114383,0.18911433739821687,0.17459894649324229,0.22909617188676876,0.024559080577266294,0.056000984292086595,0.02547266771303804,0.025266467463686153,0.04106993479709325,0.030393224726052166,-0.11292416366654123,0.055893606897151976,0.06835341247977553,0.32943326457918765,-0.009880699705940282,0.0988346408989161,0.005212557314536268,0.04932405774089877,0.13531660853511052,0.10299337092512055,0.09639564589126637,0.36070306333528823,0.15117078895381364,0.05047550910663359,0.12318735574999369,0.30653599592457714,0.3215307880629938,-0.01530484237565138,0.3214265942126462,0.1835650896220016,0.1301093408894644,0.1509727554028564,0.01287428149939031,0.0743709019567158,0.030123671075078413,0.42554126705752277,-0.04412683722880874,0.03585253584442121,-0.08611333978058895,-0.06135496882648044,0.11903590015537296,-0.07158389400211705,-0.06479385017119417,-0.08494746814184138,0.014832997157866424,-0.2865643766676591,0.5249856992070844,0.5744978786849009,-0.01998149581184572,0.06053201392948412,0.139797016503699,0.1525131302292981,0.12950311568855505,-0.02744280928531486,0.043535515532558515,0.17775497833629658,-0.02604497396048842,-0.0010101546487119688,0.13216563250224475,-0.38711658310272057,-0.24090720242004904,0.08745506225155156,0.1811088621576854,-0.03030018283095168,0.14710082099923932,0.411910347118774,-0.03168429905960686,0.150095249539582,0.22413998059011453,0.058244515104500176,0.10277076550700337,0.03486060854871134,0.2682232499509887,0.011616130282639994,0.037592859854773675,0.43586319192372414,0.29948388808149795,-0.07499783897088676,0.21570479616925065,0.41577641852174674,0.17170488590252017,0.38504592758226347,-0.07913588791202088,0.32987255610260796,-0.07913588791202088,0.37562262504864047,0.0927521795827193,0.1581405210767045,0.060632459333011056,0.25736221896790834,0.12458103561183213,0.2067492645173482,0.11516681732592252,0.13096033128846815,-0.08301124215215036,0.6608092973518372,0.5593161507501447,-0.06260241515949543,0.4086332770808484,0.08870324328309133,0.017703236220768245,0.056549465565479066,0.6617787442013964,0.1305026730477441,0.21631644650935736,0.09375015691897534,0.0022877884086131106,0.011237931118510578,0.06359447975732084,0.14426641890166825,0.08424950438376827,0.2964289007308029,0.040807258738445346,0.15338403615695256,0.1587569187316273,-0.039577910852680274,0.2507892458650763,-0.031313515610948334,0.015984417059857436,-0.03870787202604562,0.025272351355605308,-0.05631606079084847,0.2158470356941396,-0.009185384993162226,0.2547977768116702,-0.03562686986659691,0.11027665858692895,0.16594545974695013,0.010934890918694058,0.188977722556777,-0.0867113643338556,0.3805418565437424,0.33744963025512625,0.47557221564846847,0.09083838823128637,0.03706936511709821,0.010703905112434848,-0.011307949382680385,0.16332513027898538,0.012909587172722212,0.053005454381858746,-0.0019851447466425792,0.008630236705851274,0.02732419086511057,-0.03662745542494832,-0.17221518936761743,0.021068911709814928,-0.0026256138083031147,-0.025763230831852873,-0.0047338340093225515,-0.026561498486462425,0.004153987469142238,-0.03890929272223643,-0.04518527779349544,0.012619016452764531,0.014131529943763089,0.006759276843557902,-0.034058377141752014,-0.002478757239279685,0.0893942658160193,-0.006360250940197949,0.0021121890554466646,0.004798114477922866,0.02481565102682662,0.02366976646191625,-0.004378842498842989,0.0015156916222833184,0.1506361557102644,0.2587710543522002,0.2753181342492091,0.17781989055835246,0.3331641031719952,0.08144926838988102,0.01083315940164375,0.051830824351484645,0.16260967008886937,0.13638473683977248,0.34615863092774235,0.032255319174295465,-0.005305269842228268,0.031060133399940144,0.11692346395109297,0.15679479682851122,0.018166117998498172,0.009876321073299872,0.05591089466383371,0.5235919616714196,0.2738180533938229,0.3508915387672889,-0.050283918127875436,0.012622766836346068,-0.3472775588434675,0.15120174589521815,0.1662323153337738,-0.05625473217230133,0.008269895810670733,-0.060350500922519125,-0.01783471344804185,0.18641602058466275,0.41912029669244927,-0.2776291959845776,-0.00902355782997555,-0.13546219623653694,-0.024869681477012,-0.04702920697371139,0.09836099633115368,-0.02953157413375662,-0.027729835891520085,-0.48389873879811807,-0.07528162914088118,0.18382581576197962,-0.007537597087961469,0.03678622400861843,-0.5267704564292812,0.22321874971221514,-0.052209495258448764,-0.07138755188874082,-0.06235844347050162,-0.06858525726007755,-0.16740217991287426,-0.11613544165444832,0.08319914032993313,-0.08707628849401505,-0.14357574599183762,-0.008066204283825,0.19255954693085137,-0.5209097781738681,-0.02679561203948062,0.13396263028448444,0.19701293758656085,-0.101327448675829,-0.44704390169551794,0.09422730757117474,-0.04696046734314188,-0.1587584080829417,0.03804352847760903,-0.4258807408540228,-0.3750645628560174,-0.30248993311321076,0.05423249032167622,0.005074508221857563,-0.5393411122990969,-0.16377606947019,-0.5547351728525279,-0.3667831539612833,-0.47825941369899955,-0.4848668144594762,-0.436968508638572,-0.4702460105177362,-0.4702460105177362,-0.47825941369899955,-0.4702460105177362,-0.47825941369899955,0.4433457433219687,0.8687012757432028,0.1535764419026728,0.521825896744293,0.017660371612349658,0.18660318295013917,-0.028858099849599583,0.489267968263594,0.4897278001418076,0.1442684632821957,-0.47354060935259645,-0.46243728452211535,-0.012148273991112792,-0.4702460105177362,-0.47825941369899955,-0.47825941369899955,-0.47825941369899955,-0.5439897231509171,-0.47825941369899955,-0.5439897231509171,-0.5439897231509171,0.27449022051224437,0.2339607310235797,0.3000504292260303,0.2613196304412996,0.3391611366077734,0.019905338733941444,0.4812826528351351,0.4271480051682635,0.11967557666621248,0.09378529783436258,0.4593415436708403,0.20340034458402853,-0.01774991678649832,0.0390563226939937,-0.0035217119919961786,-0.2667896633878303,0.5943981140184372,0.011064370693914338,-0.4965916518224338,-0.004619911927088741,-0.08664262470328611,-0.07787858344303032,-0.1705732507329582,-0.10241229423353808,-0.1496179722175731,-0.47050870521874083,0.04766286164789635,-0.47462803114786395,-0.4394015428822857,-0.45657066370465543,-0.469938078751334,-0.4622326073364725,-0.4622326073364725,-0.4666146279666004,-0.07962253387224491,-0.4622326073364725,-0.3201351479852538,-0.05980653470331169,-0.16972616914325298,-0.45360604533735593,-0.4622326073364725,-0.45092995940849834,-0.4622326073364725,-0.4622326073364725,-0.4622326073364725,-0.4622326073364725,-0.4600759668366934,-0.4663706562776067,-0.4622326073364725,-0.4622326073364725,0.0167149948091743,-0.454219204155209,-0.11071002551270288,-0.014520304517305412,-0.4423304467338159,0.02378069297407089,-0.2849650936498497,-0.409304346845079,-0.39203542801366886,-0.4503438499150795,-0.4503438499150795,-0.42497912403888655,-0.4423304467338159,-0.52796291678839,-0.47099664859672824,-0.4663706562776067,-0.4384550924936866,-0.4702460105177362,-0.4622326073364725,-0.4622326073364725,-0.4423304467338159,-0.4622326073364725,-0.4622326073364725,-0.4583572530963431,-0.4583572530963431,-0.4506065446160842,-0.4423304467338159,-0.4423304467338159,-0.4069632420070579,-0.4423304467338159,-0.42865509992073536,-0.4423304467338159,-0.4423304467338159,-0.4423304467338159,-0.4423304467338159,-0.4702460105177362,-0.42888829708583076,-0.41875231024931064,-0.4423304467338159,-0.4423304467338159,-0.4423304467338159,-0.4423304467338159,-0.4423304467338159,-0.4423304467338159,-0.41497975310765456,-0.4423304467338159,-0.46249530203747724,-0.4262456228559269,-0.31278694233409193,-0.22291395948076656,0.23008832389244552,-0.23765330083797118,-0.2532725214817306,-0.45151957968980283,-0.4465681848540904,0.24050377448413837,0.2045141203861741,-0.4243805836207587,-0.19241878036577223,0.052102204475830055,-0.4015922544942832,-0.39315078268956605,-0.37771895069649325,-0.2590473479794176,-0.1553814264320971,-0.18898688781249354,-0.1871074831843475,-0.35623179173910935,-0.26253627202538804,-0.11613959078945309,0.4358511365638317,0.33662332577413423,0.4692746103711579,0.3933757753205665,0.49005079356376047,0.4222454155932734,0.09065735345539198,-0.22362670082333963,-0.19037711224784218,-0.017060518190144446,-0.44234030486979126,-0.4231789242101517,0.6587808556748995,0.02286851051046651,-0.4262078514162849,0.01631334282448943,-0.057976422840373826,-0.12758440780400163,0.019905338733941444,-0.09565425634187974,-0.22149297574084392,-0.034927846136846706,-0.04996301965911021,0.17093107392338097,0.03710526288025395,-0.18730795920487492,0.5136870670298602,-0.23525276354372787,-0.01867571643036232,-0.015291924257564574,0.013446635925261404,-0.45884367341062143,0.20461105118345108,-0.33245713056512693,0.11941436283233835,-0.0788127360897511,-0.073924930281491,-0.15988199221804952,-0.47825941369899955,-0.4642405498844552,-0.4423304467338159,-0.06953978501074702,-0.35515916505331985,-0.15951094057677936,-0.10134777262770008,-0.3829214924681047,0.7761494681435506,-0.4702460105177362,-0.4583572530963431,0.16458517621862284,-0.10743662209324399,-0.055767823831411045,0.17816252895829746,0.2993633748855653,-0.016286322932246942,-0.1474865684066582,-0.41658224556488255,-0.44671246736394377,-0.019169529114306288,-0.4583572530963431,-0.11123636669457744,0.05963021683583429,-0.4622326073364725,-0.42257356190095274,-0.16964507733059106,-0.16264104521771647,0.08271524039569762,0.05481479223400721,-0.04101945337824022,0.08768390032301344,-0.036187184191230445,0.009545179689865927,-0.008153667576450373,-0.04432684989453761,-0.04549960673604554,-0.04337738334194023,-0.065352284619792,-0.43013083523203177,-0.4085203488287697,-0.47825941369899955,0.10297332756584927,0.13207589845854145,0.012595459273859367,-0.08327393685315505,-0.5444963895409156,0.07243125299751894,0.19917602956088126,-0.18240178795660852,-0.12871894460413408,-0.004147598851123348,0.013898939454453738,0.05148172143637292,-0.40564360431095176,-0.5011513662209015,0.015284936159046518,-0.055095678368230185,-0.007009820643010889,-0.05399811292152069,0.07797804436064962,0.24374446587087778,0.02217038066238334,0.021285480718540202,0.14230391321282349,0.19837537425241566,-0.030437901844046787,-0.002115690928852409,-0.04744841072112926,-0.13085976109632078,0.136085413507666,0.09353846222194304,-0.1900072760841221,-0.21018646082321718,0.04240359693275379,-0.11018470265353005,-0.05631758385455764,-0.5059373830777707,-0.32102011958332377,-0.4663706562776067,-0.26406186871945475,0.4338093094292544,-0.21755422851795359,-0.22999794098943924,-0.31175375938612043,-0.260089072105214,0.13362763319680107,0.01736877034773852,-0.2254318984518417,-0.28288020029442795,0.08355624337801808,-0.043972839835574457,0.11047931880075021,-0.021222884009047614,-0.11938538462456925,-0.16527106896638452,-0.3906580053299839,0.21037761200864855,-0.061896741890388324,-0.09240773233691749,-0.45426227506926775,-0.05822039452936751,-0.13947316522539455,0.009618925846711845,-0.06235844347050162,-0.14434986658276072,-0.43687470335135076,0.4003093296042305,-0.053268676879642395,-0.07807576382536949,-0.11823024968699157,-0.09305165653279292,0.21394216744840255,-0.4661954242191824,-0.017787599090231213,-0.026814868951139895,0.00035364224813325026,-0.10774245203546282,-0.07499675007663666,0.05028972043755542,0.16469578501928278,0.17142024826439292,-0.06368640686847116,-0.06335007631076532,0.032627669900070225,-0.40095435556301584,-0.0024427025452446833,-0.0225227425963033,0.03695340004990004,-0.4552325369352057,-0.05799954743321789,0.3290049625485749,0.09162538427643611,-0.034309834509742586,0.08017662946499735,0.25106499337592064,0.03902138304496772,-0.07787858344303032,0.028255139585340944,0.05358394655761549,0.01250204277583411,-0.4906175594626748,-0.0863609002170072,-0.017398092629561854,-0.015160685090111066,0.05728702991968436,0.10321338129622033,0.01680008091563799,0.26578997190226983,0.2823934902263138,0.29645615083830135,0.27119376735792966,0.3105079537029996,-0.10863674088014406,0.4515286407651231,-0.4865184096457459,0.17187425216187482,0.8771106864780386,-0.05853755857558748,-0.05264302445446118,0.025953972315959795,-0.07343615746737878,-0.1594397029524862,-0.04656341472464559,0.08798164907608691,0.043007850578591696,-0.44646849567495017,-0.2415969528637293,-0.48783304919981596,0.01961462446625134,-0.18299869254030138,-0.27138034939930694,-0.30386743615713335,-0.25889211356063396,-0.2684246737819396,-0.48501363334621966,-0.4969226368433329,-0.495036858140519,-0.390545389188699,-0.376033153758855,-0.4625497713826926,-0.4862728168802632,-0.380947896507933,-0.38192768787998127,-0.19515911744984069,0.2706258283740017,-0.16542563839410693,0.10541028556266674,0.30845165987234596,0.18643084834302606,0.036165108367046596,0.10682645222982592,-0.202303790894715,-0.09464385399156905,-0.09937378394511386,-0.20488150858607657,-0.2108793539596344,-0.24032166305012467,-0.24822794848539054,-0.13984170348040761,-0.15278527971655886,-0.1894850731009337,0.3716854232785214,0.03505314847296016,0.11350118947677323,-0.13583287475667982,0.2864109826274182,0.008418264267032492,-0.23756023495280504,-0.33470904480210334,-0.14159737960733237,-0.10953558334900342,-0.18806047770174217,-0.21523823847036774,-0.17711585282570277,-0.39111360688234037,0.011573123756702232,-0.06149845829112106,-0.05557678220251185,-0.046567184397638184,0.07834311678837431,-0.34189195337143463,-0.24844707613735398,-0.20749036273872953,-0.3612791725928382,-0.21641091647841115,-0.4285222172529231,-0.3449189303524276,-0.18912716050443507,-0.37579247220442696,-0.3395811908681834,-0.05873916958066025,-0.06481756151085526,0.09334965844147362,-0.1787793082195303,-0.34430052873183004,-0.2846536667329064,-0.15660355208252066,-0.08440931202661284,0.27278580091764804,-0.09709430585469041,-0.030294457587069175,-0.39144681662964875,-0.4556798398411227,-0.1829720319386494,-0.2778214031157706,-0.19942870890301437,-0.4004384115587462,-0.2184500508283078,0.08407683001183912,0.04561016557132011,-0.1041946277659255,-0.2261181619442898,-0.0033000598294687564,-0.16267054275362558,-0.017652338854503208,-0.3198300735529897,-0.16234713735094233,-0.20377974113896105,-0.1555347042128694,-0.21633278239191786,-0.2616330623787625,0.2056796853616728,-0.33216022593796907,-0.380958805788814,-0.33670558156197555,-0.10510351014020057,-0.39834166380880326,-0.33242201774146934,-0.5145351117693711,-0.40641060308930754,-0.45417633954679026,-0.39633508322638744,-0.34947180936138333,-0.4897555014796024,-0.513822245130021,-0.4334542860167655,-0.46669951376405294,-0.02171740544410356,0.0892439620101743,-0.11180982954892116,-0.2988491901852803,-0.2066391527704577,0.1983070400473577,0.14253284558298507,-0.31847191242252537,0.175747499296873,0.15702129033902368,0.02232741538513497,-0.29683555291460295,-0.22815583226414562,-0.18738430108761003,-0.3119711482280388,-0.10647122299607399,-0.11991910990257793,0.0673126855535377,0.10297581827343046,0.3374198793553899,-0.01985856650215325,0.015714571512295775,0.18918909126526173,-0.29094993999414875,-0.23173092227825126,-0.3537657582961911,-0.17919535007000495,-0.29510339489687765,-0.1825057107365127,-0.36981566372727875,-0.46508646170064455,-0.36594030948714945,-0.3206923462116173,-0.36802677513470244,-0.4445558268641646,-0.27970615329605897,-0.33370092884086183,-0.2195155687485726,-0.4146588546388897,-0.23100981716853006,-0.16389296120690716,-0.4859066813461006,-0.2084372714805501,-0.5019334877086279,-0.4562224987886959,-0.45961455756533376,-0.43147109359232844,-0.4186074012362452,-0.43866129274303833,-0.43801716573425764,0.4801862042123004,0.5347823654204129,0.6709376323063401,-0.0003126578481627972,0.2532329859475867,-0.18161735551038233,0.19773632539396999,-0.025011246043731627,0.6384149214032022,0.38998461793708256,0.5561844428114404,0.054183411153015296,0.16561921540062338,0.4209517614519843,-0.09517026811903649,0.20277475549650878,-0.1431508696575545,0.05883299179568789,0.04057168953768257,0.04490130806645806,0.3050905175019433,-0.26843737720697197,-0.43136949927627893,-0.3894663479220221,-0.39254801181145765,0.28176939716465454,0.4178063903252164,-0.0730816176223581,-0.13813201385162377,-0.3687539853154969,-0.31004191294375827,-0.21263717157076198,-0.22368163354900594,-0.29750989249281673,-0.3338549000252973,-0.2750137713067385,-0.31808997964533026,-0.2087023746557194,-0.3766510379329304,-0.2708892955608392,-0.3760659216994514,-0.22832207264055995,-0.010022652318388541,-0.31333505729122363,-0.39032638474601095,-0.014125148883279006,0.17202672183048853,-0.14854881024961125,0.06763865335915738,-0.2770639392060886,-0.16245722463903825,0.13306985390906623,-0.33255688630577956,-0.347559744374287,0.051891251496508264,-0.3858659142724027,-0.2669703302327351,-0.2603620602258287,-0.2712480784655549,-0.4272507376163602,-0.18100176774679289,-0.2790515283325645,-0.11827299734141622,-0.2543009600410102,-0.32315310626281735,-0.28388449418612055,-0.387675048940699,0.07854863911523632,0.022906142328162342,-0.22598846601423644,0.053353665985004385,-0.1623007456991566,-0.1998057068155405,-0.4307670845634429,0.0730671974452524,0.18525264542439135,0.07219114779798863,-0.26871090050759355,-0.17812329830444104,-0.228944463738231,-0.25340220477222997,-0.2649217193635088,-0.21415219741105931,-0.23695415232437503,-0.2750533849291234,-0.298242288387889,-0.3196503612754881,0.017558101648373323,0.22126602134771003,0.042451161567231964,-0.190320783884567,-0.4142449643186289,-0.3638108097697842,-0.28279333427801745,-0.32706215350155154,-0.09861645041201271,0.3061866626674423,-0.2520135060928347,-0.06754756842251688,0.10909667767164594,0.2789692321474512,-0.5160741593669971,-0.48810057806771506,-0.46333926341420334,-0.5248382006272528,-0.4204930716269711,-0.17207932809033336,-0.17408973234823175,-0.08435323805306477,0.05400528831023215,0.020044910762293845,-0.031554042739718687,0.00595380489005433,-0.46812274421754524,-0.09226926391938568,0.06518275871236233,0.4426772446186141,-0.5284115656630265,-0.5402218732409392,-0.5607671675924366,-0.5189715274011025,-0.5607671675924366,-0.5017885596127385,0.005000999466224284,-0.23680495149955197,0.09967499544310375,-0.07790716459101686,-0.0117241209415885,0.03117071179772368,0.0862620684727466,-0.018898062846597074,-0.036366195945600116,-0.03856663970000463,-0.06917587080132198,0.2907234873964419,0.5613632927886206,0.6793013892693384,0.3484176059266329,0.1894127347186656,0.2548965361046994,0.2185040282773089,-0.25980467166699955,0.3610263277720327,0.8526175962259381,0.8589333957218034,0.2960668319268165,0.3895722295014671,0.8504609557261591,0.2764969509926096,0.8541988493475063,0.28922915852027614,0.2835648970452137,0.8961716528563569,0.8633154163519315,-0.34341939623226414,0.3291711512835645,0.8505296953567285,0.8460789350960309,0.8461476747266007,0.9078126122677639,0.8728791044638354,0.8589333957218034,0.8716656032494703,0.8526863358565077,0.8505296953567285,0.23686040799715077,0.8595240092630481,0.8541988493475063,0.8616806497628272,0.8505296953567285,0.8505296953567285,0.8728791044638354,0.8505296953567285,-0.3196955811094131,-0.359369243233755,-0.42635373165682194,-0.4614786363284141,-0.36650592891692874,0.12122541963513613,-0.16609386522928077,-0.16977545187934368,-0.39623143608758976,-0.43003029665962184,-0.34658113285011993,0.3428476325621715,0.12980281079303674,0.5620772760539133,-0.22962856098199697,-0.25542157855779896,-0.39820397965290916,-0.27685760967602924,-0.3035110680523839,-0.3823032527094798,-0.08829493168248974,-0.27813416696079996,-0.32076419205061707,-0.33974345944357964,-0.19049694369712336,0.17576886266326394,0.43435685884815584,-0.007929899434009515,-0.07449117258088837,0.18231954786583357,1.1208401582917586,0.7230675492372381,0.15712034383515391,0.2593568214354421,0.1262377954154919,0.11611538131006655,-0.0340362182536407,-0.20977831229177898,-0.0017678704827828273,-0.05083950795064722,0.07476844240205964,0.008798419972545372,0.009778066351986086,0.3810097778772613,0.18390346685448788,-0.006616851592493785,0.29858025461955556,0.07460665273017392,0.2466454022528117,0.1307118713098493,0.3142991076109704,0.5716984527170861,0.5716984527170861,0.4826470890386902,0.5673164320869583,-0.37058712783270226,0.450025398623434,0.26303277473531544,0.18733661798357953,0.20718886435553951,0.20058146359506285,-0.455958657363205,-0.3801673516773462,0.18749673032322656,0.1785024164169073,0.2025078314487782,0.47131589306333993,-0.01617065242465468,0.2437383488988364,0.24269028092410191,0.08752106125236724,-0.19585039438221943,-0.18175558417278395,-0.19369375388244034,-0.019610168750534514,-0.22626620427326513,-0.02272303874883049,0.6652770474127669,-0.042510752213060395,-0.1647950203832605,0.08953623443023381,0.24523019473731913,-0.0007636736584984199,0.09981518723318969,-0.5187109321501472,0.04649845095716139,0.11549597826442468,0.3553272062145215,-0.4662282463567178,-0.41454654892969617,0.802552939228204,0.6329895533949506,0.13256904296225944,0.014319437849422332,-0.32273116663374196,-0.08099674561875879,-0.11953160261742929,-0.4102565879330418,0.13954090652922257,0.6055824026018499,0.7123371017741287,0.3802470333256266,-0.20465031422525967,0.8186697052912221,-0.48810057806771506,0.5509008579333133,-0.25194530072192917,0.11532908824706203,-0.05909868989413903,-0.036942500260988886,0.35875644150721553,0.6633264003997521,-0.10222296709365998,0.10177998271505179,0.2486147464989528,0.15259134025126733,0.2909342106720806,0.6883038590080531,-0.18155467918853954,0.9641607737145396,0.6595314611138963,-0.05009261528999788,0.7906961239919399,0.11940911967283427,0.012519248873529119,0.1378796654628291,-0.21358309959792227,0.16976256240528956,0.7290406742994646,0.8410495667243952,0.8410495667243952,0.7290406742994646,0.7290406742994646,0.7290406742994646,0.8410495667243952,0.8410495667243952,0.8410495667243952,0.8410495667243952,0.21758028679186636,0.8410495667243952,0.7290406742994646,0.7421867361898485,0.7290406742994646,0.7290406742994646,0.7290406742994646,0.7290406742994646,0.8410495667243952,0.2035528688568168,0.21202014560495447,0.21924048185473147,0.2756202572119054,-0.2531263974361887,-0.20957002576094982,-0.04497690270593856,0.14949029360607513,-0.3708435644447187,-0.06796556643561182,-0.19110700655156626,0.1115911946257148,0.08082784108045833,0.05225082917153648,-0.5139175188672179,0.8186697052912221,0.6943069670117814,0.8088424788523408,0.5720367658260552,0.5896725919487215,0.6854128575024084,0.7095483407833965,0.4729069553638741,0.8402422890803171,0.6728748612611016,0.5333037807277041,-0.1321646658670386,0.5298506176419018,0.41754801691812216,0.03854370544908366,-0.05521129102641518,0.17411405252302276,0.798278384922585,0.8033543880819094,0.3929486643452936,0.9356971852349059,0.8186697052912221,0.7020509100660534,0.7287270232698462,0.0007242631877645093,0.12414225955668057,0.1102175813235803,0.26685158099758033,0.20095101812837285,0.01835317651088779,-0.01829724711140079,-0.03938977047446828,-0.07449117258088837,0.24790874869708937,0.16759234978980936,0.26734782162510623,-0.044748786255723115,-0.12005144213105397,0.012715620169502105,-0.18417470824728577,0.034930049649485796,-0.08344063234590947,0.02029184492108276,-0.2652413064364593,0.25519256641848204,0.2320849736128227,0.0037318957974506466,0.03554764255163895,0.21227150692672106,0.2510922667991543,0.12987541073674766,0.37336987899690255,0.04900628412292032,0.09522008224149703,0.10306882190595758,0.11507163069029201,0.11353414344108843,0.2469719066655756,0.10894092472526544,0.05664056813620475,-0.009170269370932516,0.006598239756459127,0.12469141070898798,0.3931945875790187,0.49841330689231883,-0.0042476892003797204,-0.09625112922205857,0.23217765603570503,0.2945889307682136,0.1808381142916352,-0.03159069695623752,-0.03988049388143566,0.0020924209128196816,0.028851378016622048,0.5109179416383205,0.4578956009777519,0.4830476715677969,0.04635375423177406,0.17307793425955448,0.17953636283333502,0.48468140580379754,0.6568685983648924,0.46120750163942204,0.33470846991605796,0.2548167479396755,0.22992256104442235,0.3304640505545381,0.38133887287113616,-0.03410304569520063,0.0981391815730207,0.11926709503400205,-0.010960754283307818,0.03005572638672256,0.1396776461888524,-0.2747575720458898,-0.3398059830493847,-0.07859052477193751,-0.09074197689433522,-0.08635995626420731,-0.06371153488046717,-0.03244319419652763,0.5298737291162724,-0.09074197689433522,-0.35524986785414236,-0.10199219643735076,-0.09078831636491273,-0.4144148829498958,-0.3805467675294875,-0.3846848164706217,0.6267017879958201,-0.07431594052246422,-0.5328516038085165,0.1974376781753756,0.32186968406050254,0.15660483283701276,0.08526144147573984,0.4695802717216649,0.17915341892602474,0.26288876425531893,0.2484465221175453,-0.041783671312973766,0.6334394155100933,0.3199477088529878,-0.038353617559581776,0.5088920861839832,0.3507387997060251,-0.027152057413973592,0.28667594019488946,0.6326932693484691,-0.0648012611832164,0.1747032684029046,-0.05152404175480853,0.2860047379838714,-0.2567258488144812,-0.06002283243310659,0.03951489830905523,0.0594063554388609,0.02239754159283537,0.036550279941755595,-0.0701142783476044,0.10556593488189804,0.17453108298126974,0.2005468130181023,0.12146922806042244,0.4794274603668245,0.02941359425858201,0.3614081790367401,0.16010136366665184,0.1353369272198658,0.122608841163038,0.04705350923824222,-0.029868956810414186,0.1821474464062654,0.2120376667039952,0.15305392754987773,0.34100444042597106,0.3576218603297427,-0.08448598420350698,-0.06888426953671087,-0.06796236958695685,0.030141196977014725,0.011491975224984689,0.1655844352600911,-0.0638673404139682,0.10871283774576737,0.07881568212019087,0.07362157378402581,0.09229652492257098,-0.3907893608776927,0.0156478511133968,0.12642213444405345,0.19324319058041642,0.10541429184323459,-0.025958577751711988,-0.11554490618803649,0.10384439200927233,0.20038131319615,0.4794434495289538,0.1730157334966706,0.0035217760530607666,-0.08369996941296627,0.14217296405302096,-0.08226060407315819,-0.1907259201531188,-0.4156657136421863,-0.22437674901755084,-0.1384162935162293,-0.409858494240576,-0.40671121416047323,-0.24625803544432576,-0.15966857061515785,-0.08448598420350696,0.4809228675451164,-0.030304830745447448,0.28497090335596076,-0.24099226986302485,0.5138367114934396],\"yaxis\":\"y\",\"type\":\"scattergl\"}],                        {\"template\":{\"data\":{\"bar\":[{\"error_x\":{\"color\":\"#2a3f5f\"},\"error_y\":{\"color\":\"#2a3f5f\"},\"marker\":{\"line\":{\"color\":\"#E5ECF6\",\"width\":0.5},\"pattern\":{\"fillmode\":\"overlay\",\"size\":10,\"solidity\":0.2}},\"type\":\"bar\"}],\"barpolar\":[{\"marker\":{\"line\":{\"color\":\"#E5ECF6\",\"width\":0.5},\"pattern\":{\"fillmode\":\"overlay\",\"size\":10,\"solidity\":0.2}},\"type\":\"barpolar\"}],\"carpet\":[{\"aaxis\":{\"endlinecolor\":\"#2a3f5f\",\"gridcolor\":\"white\",\"linecolor\":\"white\",\"minorgridcolor\":\"white\",\"startlinecolor\":\"#2a3f5f\"},\"baxis\":{\"endlinecolor\":\"#2a3f5f\",\"gridcolor\":\"white\",\"linecolor\":\"white\",\"minorgridcolor\":\"white\",\"startlinecolor\":\"#2a3f5f\"},\"type\":\"carpet\"}],\"choropleth\":[{\"colorbar\":{\"outlinewidth\":0,\"ticks\":\"\"},\"type\":\"choropleth\"}],\"contour\":[{\"colorbar\":{\"outlinewidth\":0,\"ticks\":\"\"},\"colorscale\":[[0.0,\"#0d0887\"],[0.1111111111111111,\"#46039f\"],[0.2222222222222222,\"#7201a8\"],[0.3333333333333333,\"#9c179e\"],[0.4444444444444444,\"#bd3786\"],[0.5555555555555556,\"#d8576b\"],[0.6666666666666666,\"#ed7953\"],[0.7777777777777778,\"#fb9f3a\"],[0.8888888888888888,\"#fdca26\"],[1.0,\"#f0f921\"]],\"type\":\"contour\"}],\"contourcarpet\":[{\"colorbar\":{\"outlinewidth\":0,\"ticks\":\"\"},\"type\":\"contourcarpet\"}],\"heatmap\":[{\"colorbar\":{\"outlinewidth\":0,\"ticks\":\"\"},\"colorscale\":[[0.0,\"#0d0887\"],[0.1111111111111111,\"#46039f\"],[0.2222222222222222,\"#7201a8\"],[0.3333333333333333,\"#9c179e\"],[0.4444444444444444,\"#bd3786\"],[0.5555555555555556,\"#d8576b\"],[0.6666666666666666,\"#ed7953\"],[0.7777777777777778,\"#fb9f3a\"],[0.8888888888888888,\"#fdca26\"],[1.0,\"#f0f921\"]],\"type\":\"heatmap\"}],\"heatmapgl\":[{\"colorbar\":{\"outlinewidth\":0,\"ticks\":\"\"},\"colorscale\":[[0.0,\"#0d0887\"],[0.1111111111111111,\"#46039f\"],[0.2222222222222222,\"#7201a8\"],[0.3333333333333333,\"#9c179e\"],[0.4444444444444444,\"#bd3786\"],[0.5555555555555556,\"#d8576b\"],[0.6666666666666666,\"#ed7953\"],[0.7777777777777778,\"#fb9f3a\"],[0.8888888888888888,\"#fdca26\"],[1.0,\"#f0f921\"]],\"type\":\"heatmapgl\"}],\"histogram\":[{\"marker\":{\"pattern\":{\"fillmode\":\"overlay\",\"size\":10,\"solidity\":0.2}},\"type\":\"histogram\"}],\"histogram2d\":[{\"colorbar\":{\"outlinewidth\":0,\"ticks\":\"\"},\"colorscale\":[[0.0,\"#0d0887\"],[0.1111111111111111,\"#46039f\"],[0.2222222222222222,\"#7201a8\"],[0.3333333333333333,\"#9c179e\"],[0.4444444444444444,\"#bd3786\"],[0.5555555555555556,\"#d8576b\"],[0.6666666666666666,\"#ed7953\"],[0.7777777777777778,\"#fb9f3a\"],[0.8888888888888888,\"#fdca26\"],[1.0,\"#f0f921\"]],\"type\":\"histogram2d\"}],\"histogram2dcontour\":[{\"colorbar\":{\"outlinewidth\":0,\"ticks\":\"\"},\"colorscale\":[[0.0,\"#0d0887\"],[0.1111111111111111,\"#46039f\"],[0.2222222222222222,\"#7201a8\"],[0.3333333333333333,\"#9c179e\"],[0.4444444444444444,\"#bd3786\"],[0.5555555555555556,\"#d8576b\"],[0.6666666666666666,\"#ed7953\"],[0.7777777777777778,\"#fb9f3a\"],[0.8888888888888888,\"#fdca26\"],[1.0,\"#f0f921\"]],\"type\":\"histogram2dcontour\"}],\"mesh3d\":[{\"colorbar\":{\"outlinewidth\":0,\"ticks\":\"\"},\"type\":\"mesh3d\"}],\"parcoords\":[{\"line\":{\"colorbar\":{\"outlinewidth\":0,\"ticks\":\"\"}},\"type\":\"parcoords\"}],\"pie\":[{\"automargin\":true,\"type\":\"pie\"}],\"scatter\":[{\"marker\":{\"colorbar\":{\"outlinewidth\":0,\"ticks\":\"\"}},\"type\":\"scatter\"}],\"scatter3d\":[{\"line\":{\"colorbar\":{\"outlinewidth\":0,\"ticks\":\"\"}},\"marker\":{\"colorbar\":{\"outlinewidth\":0,\"ticks\":\"\"}},\"type\":\"scatter3d\"}],\"scattercarpet\":[{\"marker\":{\"colorbar\":{\"outlinewidth\":0,\"ticks\":\"\"}},\"type\":\"scattercarpet\"}],\"scattergeo\":[{\"marker\":{\"colorbar\":{\"outlinewidth\":0,\"ticks\":\"\"}},\"type\":\"scattergeo\"}],\"scattergl\":[{\"marker\":{\"colorbar\":{\"outlinewidth\":0,\"ticks\":\"\"}},\"type\":\"scattergl\"}],\"scattermapbox\":[{\"marker\":{\"colorbar\":{\"outlinewidth\":0,\"ticks\":\"\"}},\"type\":\"scattermapbox\"}],\"scatterpolar\":[{\"marker\":{\"colorbar\":{\"outlinewidth\":0,\"ticks\":\"\"}},\"type\":\"scatterpolar\"}],\"scatterpolargl\":[{\"marker\":{\"colorbar\":{\"outlinewidth\":0,\"ticks\":\"\"}},\"type\":\"scatterpolargl\"}],\"scatterternary\":[{\"marker\":{\"colorbar\":{\"outlinewidth\":0,\"ticks\":\"\"}},\"type\":\"scatterternary\"}],\"surface\":[{\"colorbar\":{\"outlinewidth\":0,\"ticks\":\"\"},\"colorscale\":[[0.0,\"#0d0887\"],[0.1111111111111111,\"#46039f\"],[0.2222222222222222,\"#7201a8\"],[0.3333333333333333,\"#9c179e\"],[0.4444444444444444,\"#bd3786\"],[0.5555555555555556,\"#d8576b\"],[0.6666666666666666,\"#ed7953\"],[0.7777777777777778,\"#fb9f3a\"],[0.8888888888888888,\"#fdca26\"],[1.0,\"#f0f921\"]],\"type\":\"surface\"}],\"table\":[{\"cells\":{\"fill\":{\"color\":\"#EBF0F8\"},\"line\":{\"color\":\"white\"}},\"header\":{\"fill\":{\"color\":\"#C8D4E3\"},\"line\":{\"color\":\"white\"}},\"type\":\"table\"}]},\"layout\":{\"annotationdefaults\":{\"arrowcolor\":\"#2a3f5f\",\"arrowhead\":0,\"arrowwidth\":1},\"autotypenumbers\":\"strict\",\"coloraxis\":{\"colorbar\":{\"outlinewidth\":0,\"ticks\":\"\"}},\"colorscale\":{\"diverging\":[[0,\"#8e0152\"],[0.1,\"#c51b7d\"],[0.2,\"#de77ae\"],[0.3,\"#f1b6da\"],[0.4,\"#fde0ef\"],[0.5,\"#f7f7f7\"],[0.6,\"#e6f5d0\"],[0.7,\"#b8e186\"],[0.8,\"#7fbc41\"],[0.9,\"#4d9221\"],[1,\"#276419\"]],\"sequential\":[[0.0,\"#0d0887\"],[0.1111111111111111,\"#46039f\"],[0.2222222222222222,\"#7201a8\"],[0.3333333333333333,\"#9c179e\"],[0.4444444444444444,\"#bd3786\"],[0.5555555555555556,\"#d8576b\"],[0.6666666666666666,\"#ed7953\"],[0.7777777777777778,\"#fb9f3a\"],[0.8888888888888888,\"#fdca26\"],[1.0,\"#f0f921\"]],\"sequentialminus\":[[0.0,\"#0d0887\"],[0.1111111111111111,\"#46039f\"],[0.2222222222222222,\"#7201a8\"],[0.3333333333333333,\"#9c179e\"],[0.4444444444444444,\"#bd3786\"],[0.5555555555555556,\"#d8576b\"],[0.6666666666666666,\"#ed7953\"],[0.7777777777777778,\"#fb9f3a\"],[0.8888888888888888,\"#fdca26\"],[1.0,\"#f0f921\"]]},\"colorway\":[\"#636efa\",\"#EF553B\",\"#00cc96\",\"#ab63fa\",\"#FFA15A\",\"#19d3f3\",\"#FF6692\",\"#B6E880\",\"#FF97FF\",\"#FECB52\"],\"font\":{\"color\":\"#2a3f5f\"},\"geo\":{\"bgcolor\":\"white\",\"lakecolor\":\"white\",\"landcolor\":\"#E5ECF6\",\"showlakes\":true,\"showland\":true,\"subunitcolor\":\"white\"},\"hoverlabel\":{\"align\":\"left\"},\"hovermode\":\"closest\",\"mapbox\":{\"style\":\"light\"},\"paper_bgcolor\":\"white\",\"plot_bgcolor\":\"#E5ECF6\",\"polar\":{\"angularaxis\":{\"gridcolor\":\"white\",\"linecolor\":\"white\",\"ticks\":\"\"},\"bgcolor\":\"#E5ECF6\",\"radialaxis\":{\"gridcolor\":\"white\",\"linecolor\":\"white\",\"ticks\":\"\"}},\"scene\":{\"xaxis\":{\"backgroundcolor\":\"#E5ECF6\",\"gridcolor\":\"white\",\"gridwidth\":2,\"linecolor\":\"white\",\"showbackground\":true,\"ticks\":\"\",\"zerolinecolor\":\"white\"},\"yaxis\":{\"backgroundcolor\":\"#E5ECF6\",\"gridcolor\":\"white\",\"gridwidth\":2,\"linecolor\":\"white\",\"showbackground\":true,\"ticks\":\"\",\"zerolinecolor\":\"white\"},\"zaxis\":{\"backgroundcolor\":\"#E5ECF6\",\"gridcolor\":\"white\",\"gridwidth\":2,\"linecolor\":\"white\",\"showbackground\":true,\"ticks\":\"\",\"zerolinecolor\":\"white\"}},\"shapedefaults\":{\"line\":{\"color\":\"#2a3f5f\"}},\"ternary\":{\"aaxis\":{\"gridcolor\":\"white\",\"linecolor\":\"white\",\"ticks\":\"\"},\"baxis\":{\"gridcolor\":\"white\",\"linecolor\":\"white\",\"ticks\":\"\"},\"bgcolor\":\"#E5ECF6\",\"caxis\":{\"gridcolor\":\"white\",\"linecolor\":\"white\",\"ticks\":\"\"}},\"title\":{\"x\":0.05},\"xaxis\":{\"automargin\":true,\"gridcolor\":\"white\",\"linecolor\":\"white\",\"ticks\":\"\",\"title\":{\"standoff\":15},\"zerolinecolor\":\"white\",\"zerolinewidth\":2},\"yaxis\":{\"automargin\":true,\"gridcolor\":\"white\",\"linecolor\":\"white\",\"ticks\":\"\",\"title\":{\"standoff\":15},\"zerolinecolor\":\"white\",\"zerolinewidth\":2}}},\"xaxis\":{\"anchor\":\"y\",\"domain\":[0.0,1.0],\"title\":{\"text\":\"0\"}},\"yaxis\":{\"anchor\":\"x\",\"domain\":[0.0,1.0],\"title\":{\"text\":\"1\"}},\"legend\":{\"tracegroupgap\":0},\"margin\":{\"t\":60}},                        {\"responsive\": true}                    ).then(function(){\n",
              "                            \n",
              "var gd = document.getElementById('fefe376d-02bf-4bf8-9315-9a1861ea6216');\n",
              "var x = new MutationObserver(function (mutations, observer) {{\n",
              "        var display = window.getComputedStyle(gd).display;\n",
              "        if (!display || display === 'none') {{\n",
              "            console.log([gd, 'removed!']);\n",
              "            Plotly.purge(gd);\n",
              "            observer.disconnect();\n",
              "        }}\n",
              "}});\n",
              "\n",
              "// Listen for the removal of the full notebook cells\n",
              "var notebookContainer = gd.closest('#notebook-container');\n",
              "if (notebookContainer) {{\n",
              "    x.observe(notebookContainer, {childList: true});\n",
              "}}\n",
              "\n",
              "// Listen for the clearing of the current output cell\n",
              "var outputEl = gd.closest('.output');\n",
              "if (outputEl) {{\n",
              "    x.observe(outputEl, {childList: true});\n",
              "}}\n",
              "\n",
              "                        })                };                            </script>        </div>\n",
              "</body>\n",
              "</html>"
            ]
          },
          "metadata": {}
        }
      ]
    },
    {
      "cell_type": "markdown",
      "source": [
        "## SAVE DATASET \n",
        "setelah normalisasi\n"
      ],
      "metadata": {
        "id": "l3MvsVC0WGmy"
      }
    },
    {
      "cell_type": "code",
      "source": [
        "dataset = dataset.astype({'NIK':'int'})\n",
        "dataset.info()"
      ],
      "metadata": {
        "colab": {
          "base_uri": "https://localhost:8080/"
        },
        "id": "sp8M-oIMWkE9",
        "outputId": "a5ecb0dc-3941-459a-85d2-283b764b9530"
      },
      "execution_count": null,
      "outputs": [
        {
          "output_type": "stream",
          "name": "stdout",
          "text": [
            "<class 'pandas.core.frame.DataFrame'>\n",
            "RangeIndex: 1336 entries, 0 to 1335\n",
            "Data columns (total 9 columns):\n",
            " #   Column          Non-Null Count  Dtype  \n",
            "---  ------          --------------  -----  \n",
            " 0   NIK             1336 non-null   int64  \n",
            " 1   PK              1336 non-null   float64\n",
            " 2   PERFORMANCE     1336 non-null   float64\n",
            " 3   COMPETENCY      1336 non-null   float64\n",
            " 4   LEARNING POINT  1336 non-null   float64\n",
            " 5   Kerja Ibadah    1336 non-null   float64\n",
            " 6   Apresiasi       1336 non-null   float64\n",
            " 7   Lebih cepat     1336 non-null   float64\n",
            " 8   Aktif bersama   1336 non-null   float64\n",
            "dtypes: float64(8), int64(1)\n",
            "memory usage: 94.1 KB\n"
          ]
        }
      ]
    },
    {
      "cell_type": "code",
      "source": [
        "dataset"
      ],
      "metadata": {
        "colab": {
          "base_uri": "https://localhost:8080/",
          "height": 419
        },
        "id": "kRLUqS0oWwX3",
        "outputId": "2d4ceb3e-52ba-4af2-c7dc-ce0cf7f045cd"
      },
      "execution_count": null,
      "outputs": [
        {
          "output_type": "execute_result",
          "data": {
            "text/plain": [
              "            NIK        PK  PERFORMANCE  COMPETENCY  LEARNING POINT  \\\n",
              "0     200700326  0.970874     0.957895    0.676471            0.00   \n",
              "1     199500085  0.902913     0.863158    0.470588            0.00   \n",
              "2     199500048  0.883495     0.915789    0.558824            0.00   \n",
              "3     200700297  0.951456     0.968421    0.794118            0.00   \n",
              "4     201600670  0.873786     0.957895    0.470588            0.00   \n",
              "...         ...       ...          ...         ...             ...   \n",
              "1331  201000393  0.961165     0.884211    0.441176            0.58   \n",
              "1332  200800348  0.902913     0.884211    0.882353            1.00   \n",
              "1333  200100421  0.883495     0.852632    0.735294            1.00   \n",
              "1334  199500919  0.902913     0.873684    0.676471            0.00   \n",
              "1335  201929411  0.902913     0.863158    0.205882            1.00   \n",
              "\n",
              "      Kerja Ibadah  Apresiasi  Lebih cepat  Aktif bersama  \n",
              "0         0.944444   0.965517     0.896552       0.767857  \n",
              "1         0.866667   0.758621     0.827586       0.982143  \n",
              "2         0.955556   0.982759     1.000000       1.000000  \n",
              "3         0.911111   0.810345     1.000000       0.892857  \n",
              "4         0.944444   0.965517     1.000000       0.982143  \n",
              "...            ...        ...          ...            ...  \n",
              "1331      0.611111   0.517241     0.448276       0.392857  \n",
              "1332      1.000000   1.000000     1.000000       1.000000  \n",
              "1333      0.866667   0.793103     0.758621       0.767857  \n",
              "1334      0.866667   0.775862     0.965517       0.660714  \n",
              "1335      0.900000   0.793103     0.482759       0.589286  \n",
              "\n",
              "[1336 rows x 9 columns]"
            ],
            "text/html": [
              "\n",
              "  <div id=\"df-eeba21e5-b06b-4910-b350-4b33caca1c0b\">\n",
              "    <div class=\"colab-df-container\">\n",
              "      <div>\n",
              "<style scoped>\n",
              "    .dataframe tbody tr th:only-of-type {\n",
              "        vertical-align: middle;\n",
              "    }\n",
              "\n",
              "    .dataframe tbody tr th {\n",
              "        vertical-align: top;\n",
              "    }\n",
              "\n",
              "    .dataframe thead th {\n",
              "        text-align: right;\n",
              "    }\n",
              "</style>\n",
              "<table border=\"1\" class=\"dataframe\">\n",
              "  <thead>\n",
              "    <tr style=\"text-align: right;\">\n",
              "      <th></th>\n",
              "      <th>NIK</th>\n",
              "      <th>PK</th>\n",
              "      <th>PERFORMANCE</th>\n",
              "      <th>COMPETENCY</th>\n",
              "      <th>LEARNING POINT</th>\n",
              "      <th>Kerja Ibadah</th>\n",
              "      <th>Apresiasi</th>\n",
              "      <th>Lebih cepat</th>\n",
              "      <th>Aktif bersama</th>\n",
              "    </tr>\n",
              "  </thead>\n",
              "  <tbody>\n",
              "    <tr>\n",
              "      <th>0</th>\n",
              "      <td>200700326</td>\n",
              "      <td>0.970874</td>\n",
              "      <td>0.957895</td>\n",
              "      <td>0.676471</td>\n",
              "      <td>0.00</td>\n",
              "      <td>0.944444</td>\n",
              "      <td>0.965517</td>\n",
              "      <td>0.896552</td>\n",
              "      <td>0.767857</td>\n",
              "    </tr>\n",
              "    <tr>\n",
              "      <th>1</th>\n",
              "      <td>199500085</td>\n",
              "      <td>0.902913</td>\n",
              "      <td>0.863158</td>\n",
              "      <td>0.470588</td>\n",
              "      <td>0.00</td>\n",
              "      <td>0.866667</td>\n",
              "      <td>0.758621</td>\n",
              "      <td>0.827586</td>\n",
              "      <td>0.982143</td>\n",
              "    </tr>\n",
              "    <tr>\n",
              "      <th>2</th>\n",
              "      <td>199500048</td>\n",
              "      <td>0.883495</td>\n",
              "      <td>0.915789</td>\n",
              "      <td>0.558824</td>\n",
              "      <td>0.00</td>\n",
              "      <td>0.955556</td>\n",
              "      <td>0.982759</td>\n",
              "      <td>1.000000</td>\n",
              "      <td>1.000000</td>\n",
              "    </tr>\n",
              "    <tr>\n",
              "      <th>3</th>\n",
              "      <td>200700297</td>\n",
              "      <td>0.951456</td>\n",
              "      <td>0.968421</td>\n",
              "      <td>0.794118</td>\n",
              "      <td>0.00</td>\n",
              "      <td>0.911111</td>\n",
              "      <td>0.810345</td>\n",
              "      <td>1.000000</td>\n",
              "      <td>0.892857</td>\n",
              "    </tr>\n",
              "    <tr>\n",
              "      <th>4</th>\n",
              "      <td>201600670</td>\n",
              "      <td>0.873786</td>\n",
              "      <td>0.957895</td>\n",
              "      <td>0.470588</td>\n",
              "      <td>0.00</td>\n",
              "      <td>0.944444</td>\n",
              "      <td>0.965517</td>\n",
              "      <td>1.000000</td>\n",
              "      <td>0.982143</td>\n",
              "    </tr>\n",
              "    <tr>\n",
              "      <th>...</th>\n",
              "      <td>...</td>\n",
              "      <td>...</td>\n",
              "      <td>...</td>\n",
              "      <td>...</td>\n",
              "      <td>...</td>\n",
              "      <td>...</td>\n",
              "      <td>...</td>\n",
              "      <td>...</td>\n",
              "      <td>...</td>\n",
              "    </tr>\n",
              "    <tr>\n",
              "      <th>1331</th>\n",
              "      <td>201000393</td>\n",
              "      <td>0.961165</td>\n",
              "      <td>0.884211</td>\n",
              "      <td>0.441176</td>\n",
              "      <td>0.58</td>\n",
              "      <td>0.611111</td>\n",
              "      <td>0.517241</td>\n",
              "      <td>0.448276</td>\n",
              "      <td>0.392857</td>\n",
              "    </tr>\n",
              "    <tr>\n",
              "      <th>1332</th>\n",
              "      <td>200800348</td>\n",
              "      <td>0.902913</td>\n",
              "      <td>0.884211</td>\n",
              "      <td>0.882353</td>\n",
              "      <td>1.00</td>\n",
              "      <td>1.000000</td>\n",
              "      <td>1.000000</td>\n",
              "      <td>1.000000</td>\n",
              "      <td>1.000000</td>\n",
              "    </tr>\n",
              "    <tr>\n",
              "      <th>1333</th>\n",
              "      <td>200100421</td>\n",
              "      <td>0.883495</td>\n",
              "      <td>0.852632</td>\n",
              "      <td>0.735294</td>\n",
              "      <td>1.00</td>\n",
              "      <td>0.866667</td>\n",
              "      <td>0.793103</td>\n",
              "      <td>0.758621</td>\n",
              "      <td>0.767857</td>\n",
              "    </tr>\n",
              "    <tr>\n",
              "      <th>1334</th>\n",
              "      <td>199500919</td>\n",
              "      <td>0.902913</td>\n",
              "      <td>0.873684</td>\n",
              "      <td>0.676471</td>\n",
              "      <td>0.00</td>\n",
              "      <td>0.866667</td>\n",
              "      <td>0.775862</td>\n",
              "      <td>0.965517</td>\n",
              "      <td>0.660714</td>\n",
              "    </tr>\n",
              "    <tr>\n",
              "      <th>1335</th>\n",
              "      <td>201929411</td>\n",
              "      <td>0.902913</td>\n",
              "      <td>0.863158</td>\n",
              "      <td>0.205882</td>\n",
              "      <td>1.00</td>\n",
              "      <td>0.900000</td>\n",
              "      <td>0.793103</td>\n",
              "      <td>0.482759</td>\n",
              "      <td>0.589286</td>\n",
              "    </tr>\n",
              "  </tbody>\n",
              "</table>\n",
              "<p>1336 rows × 9 columns</p>\n",
              "</div>\n",
              "      <button class=\"colab-df-convert\" onclick=\"convertToInteractive('df-eeba21e5-b06b-4910-b350-4b33caca1c0b')\"\n",
              "              title=\"Convert this dataframe to an interactive table.\"\n",
              "              style=\"display:none;\">\n",
              "        \n",
              "  <svg xmlns=\"http://www.w3.org/2000/svg\" height=\"24px\"viewBox=\"0 0 24 24\"\n",
              "       width=\"24px\">\n",
              "    <path d=\"M0 0h24v24H0V0z\" fill=\"none\"/>\n",
              "    <path d=\"M18.56 5.44l.94 2.06.94-2.06 2.06-.94-2.06-.94-.94-2.06-.94 2.06-2.06.94zm-11 1L8.5 8.5l.94-2.06 2.06-.94-2.06-.94L8.5 2.5l-.94 2.06-2.06.94zm10 10l.94 2.06.94-2.06 2.06-.94-2.06-.94-.94-2.06-.94 2.06-2.06.94z\"/><path d=\"M17.41 7.96l-1.37-1.37c-.4-.4-.92-.59-1.43-.59-.52 0-1.04.2-1.43.59L10.3 9.45l-7.72 7.72c-.78.78-.78 2.05 0 2.83L4 21.41c.39.39.9.59 1.41.59.51 0 1.02-.2 1.41-.59l7.78-7.78 2.81-2.81c.8-.78.8-2.07 0-2.86zM5.41 20L4 18.59l7.72-7.72 1.47 1.35L5.41 20z\"/>\n",
              "  </svg>\n",
              "      </button>\n",
              "      \n",
              "  <style>\n",
              "    .colab-df-container {\n",
              "      display:flex;\n",
              "      flex-wrap:wrap;\n",
              "      gap: 12px;\n",
              "    }\n",
              "\n",
              "    .colab-df-convert {\n",
              "      background-color: #E8F0FE;\n",
              "      border: none;\n",
              "      border-radius: 50%;\n",
              "      cursor: pointer;\n",
              "      display: none;\n",
              "      fill: #1967D2;\n",
              "      height: 32px;\n",
              "      padding: 0 0 0 0;\n",
              "      width: 32px;\n",
              "    }\n",
              "\n",
              "    .colab-df-convert:hover {\n",
              "      background-color: #E2EBFA;\n",
              "      box-shadow: 0px 1px 2px rgba(60, 64, 67, 0.3), 0px 1px 3px 1px rgba(60, 64, 67, 0.15);\n",
              "      fill: #174EA6;\n",
              "    }\n",
              "\n",
              "    [theme=dark] .colab-df-convert {\n",
              "      background-color: #3B4455;\n",
              "      fill: #D2E3FC;\n",
              "    }\n",
              "\n",
              "    [theme=dark] .colab-df-convert:hover {\n",
              "      background-color: #434B5C;\n",
              "      box-shadow: 0px 1px 3px 1px rgba(0, 0, 0, 0.15);\n",
              "      filter: drop-shadow(0px 1px 2px rgba(0, 0, 0, 0.3));\n",
              "      fill: #FFFFFF;\n",
              "    }\n",
              "  </style>\n",
              "\n",
              "      <script>\n",
              "        const buttonEl =\n",
              "          document.querySelector('#df-eeba21e5-b06b-4910-b350-4b33caca1c0b button.colab-df-convert');\n",
              "        buttonEl.style.display =\n",
              "          google.colab.kernel.accessAllowed ? 'block' : 'none';\n",
              "\n",
              "        async function convertToInteractive(key) {\n",
              "          const element = document.querySelector('#df-eeba21e5-b06b-4910-b350-4b33caca1c0b');\n",
              "          const dataTable =\n",
              "            await google.colab.kernel.invokeFunction('convertToInteractive',\n",
              "                                                     [key], {});\n",
              "          if (!dataTable) return;\n",
              "\n",
              "          const docLinkHtml = 'Like what you see? Visit the ' +\n",
              "            '<a target=\"_blank\" href=https://colab.research.google.com/notebooks/data_table.ipynb>data table notebook</a>'\n",
              "            + ' to learn more about interactive tables.';\n",
              "          element.innerHTML = '';\n",
              "          dataTable['output_type'] = 'display_data';\n",
              "          await google.colab.output.renderOutput(dataTable, element);\n",
              "          const docLink = document.createElement('div');\n",
              "          docLink.innerHTML = docLinkHtml;\n",
              "          element.appendChild(docLink);\n",
              "        }\n",
              "      </script>\n",
              "    </div>\n",
              "  </div>\n",
              "  "
            ]
          },
          "metadata": {},
          "execution_count": 58
        }
      ]
    },
    {
      "cell_type": "code",
      "source": [
        "dataset.to_csv(r'/content/gdrive/MyDrive/skripsi/hasil-data-fix.csv',index = False)"
      ],
      "metadata": {
        "id": "ye3JOx3DWFz0"
      },
      "execution_count": null,
      "outputs": []
    },
    {
      "cell_type": "markdown",
      "source": [
        "## **STOP HERE**"
      ],
      "metadata": {
        "id": "JvfZqVhRiZdc"
      }
    },
    {
      "cell_type": "code",
      "source": [],
      "metadata": {
        "id": "bKMD9QNgiYrU"
      },
      "execution_count": null,
      "outputs": []
    },
    {
      "cell_type": "code",
      "source": [
        "PCA_components = pd.DataFrame(components)\n"
      ],
      "metadata": {
        "id": "eO5gGktr9k9z"
      },
      "execution_count": null,
      "outputs": []
    },
    {
      "cell_type": "code",
      "source": [
        "import matplotlib.pyplot as plt\n",
        "plt.scatter(PCA_components[0], PCA_components[1],alpha=.3, color='gold')\n",
        "plt.xlabel('PCA 1')\n",
        "plt.ylabel('PCA 2')\n",
        "plt.show()"
      ],
      "metadata": {
        "colab": {
          "base_uri": "https://localhost:8080/",
          "height": 279
        },
        "id": "pnmPtyP489C7",
        "outputId": "0457464c-2856-4080-c774-b6d85c3bfb3d"
      },
      "execution_count": null,
      "outputs": [
        {
          "output_type": "display_data",
          "data": {
            "text/plain": [
              "<Figure size 432x288 with 1 Axes>"
            ],
            "image/png": "[encoded data removed]"
          },
          "metadata": {
            "needs_background": "light"
          }
        }
      ]
    },
    {
      "cell_type": "code",
      "source": [
        "import plotly.express as px\n",
        "from sklearn.decomposition import PCA\n",
        "\n",
        "fig = px.scatter_3d(\n",
        "    components, x=0, y=1, z=2, color=dataset['Kerja Ibadah'],\n",
        "    title=f'Total Explained Variance: {total_var:.2f}%',\n",
        "    labels={'0': 'PC 1', '1': 'PC 2', '2': 'PC 3'}\n",
        ")\n",
        "fig.show()"
      ],
      "metadata": {
        "colab": {
          "base_uri": "https://localhost:8080/",
          "height": 232
        },
        "id": "2pobyjKz-Ehz",
        "outputId": "28a87bae-2667-42ad-c767-edb0d369194f"
      },
      "execution_count": null,
      "outputs": [
        {
          "output_type": "error",
          "ename": "NameError",
          "evalue": "ignored",
          "traceback": [
            "\u001b[0;31m---------------------------------------------------------------------------\u001b[0m",
            "\u001b[0;31mNameError\u001b[0m                                 Traceback (most recent call last)",
            "\u001b[0;32m<ipython-input-40-472f1b520209>\u001b[0m in \u001b[0;36m<module>\u001b[0;34m()\u001b[0m\n\u001b[1;32m      4\u001b[0m fig = px.scatter_3d(\n\u001b[1;32m      5\u001b[0m     \u001b[0mcomponents\u001b[0m\u001b[0;34m,\u001b[0m \u001b[0mx\u001b[0m\u001b[0;34m=\u001b[0m\u001b[0;36m0\u001b[0m\u001b[0;34m,\u001b[0m \u001b[0my\u001b[0m\u001b[0;34m=\u001b[0m\u001b[0;36m1\u001b[0m\u001b[0;34m,\u001b[0m \u001b[0mz\u001b[0m\u001b[0;34m=\u001b[0m\u001b[0;36m2\u001b[0m\u001b[0;34m,\u001b[0m \u001b[0mcolor\u001b[0m\u001b[0;34m=\u001b[0m\u001b[0mdataset\u001b[0m\u001b[0;34m[\u001b[0m\u001b[0;34m'Kerja Ibadah'\u001b[0m\u001b[0;34m]\u001b[0m\u001b[0;34m,\u001b[0m\u001b[0;34m\u001b[0m\u001b[0;34m\u001b[0m\u001b[0m\n\u001b[0;32m----> 6\u001b[0;31m     \u001b[0mtitle\u001b[0m\u001b[0;34m=\u001b[0m\u001b[0;34mf'Total Explained Variance: {total_var:.2f}%'\u001b[0m\u001b[0;34m,\u001b[0m\u001b[0;34m\u001b[0m\u001b[0;34m\u001b[0m\u001b[0m\n\u001b[0m\u001b[1;32m      7\u001b[0m     \u001b[0mlabels\u001b[0m\u001b[0;34m=\u001b[0m\u001b[0;34m{\u001b[0m\u001b[0;34m'0'\u001b[0m\u001b[0;34m:\u001b[0m \u001b[0;34m'PC 1'\u001b[0m\u001b[0;34m,\u001b[0m \u001b[0;34m'1'\u001b[0m\u001b[0;34m:\u001b[0m \u001b[0;34m'PC 2'\u001b[0m\u001b[0;34m,\u001b[0m \u001b[0;34m'2'\u001b[0m\u001b[0;34m:\u001b[0m \u001b[0;34m'PC 3'\u001b[0m\u001b[0;34m}\u001b[0m\u001b[0;34m\u001b[0m\u001b[0;34m\u001b[0m\u001b[0m\n\u001b[1;32m      8\u001b[0m )\n",
            "\u001b[0;31mNameError\u001b[0m: name 'total_var' is not defined"
          ]
        }
      ]
    },
    {
      "cell_type": "code",
      "source": [
        "import plotly.express as px\n",
        "from sklearn.decomposition import PCA\n",
        "\n",
        "\n",
        "X = dataset[['Kerja Ibadah','PERFORMANCE','COMPETENCY','PK','LEARNING POINT','Aktif bersama','Lebih cepat','Apresiasi']]\n",
        "\n",
        "\n",
        "pca = PCA(n_components=3)\n",
        "components = pca.fit_transform(X)\n",
        "\n",
        "total_var = pca.explained_variance_ratio_.sum() * 100\n",
        "\n",
        "fig = px.scatter_3d(\n",
        "    components, x=0, y=1, z=2, color=dataset['Kerja Ibadah'],\n",
        "    title=f'Total Explained Variance: {total_var:.2f}%',\n",
        "    labels={'0': 'PC 1', '1': 'PC 2', '2': 'PC 3'}\n",
        ")\n",
        "fig.show()"
      ],
      "metadata": {
        "id": "WqejKo6FiPZt",
        "colab": {
          "base_uri": "https://localhost:8080/",
          "height": 542
        },
        "outputId": "b19972a9-8e69-484f-8540-c9daa2ac1963"
      },
      "execution_count": null,
      "outputs": [
        {
          "output_type": "display_data",
          "data": {
            "text/html": [
              "<html>\n",
              "<head><meta charset=\"utf-8\" /></head>\n",
              "<body>\n",
              "    <div>            <script src=\"https://cdnjs.cloudflare.com/ajax/libs/mathjax/2.7.5/MathJax.js?config=TeX-AMS-MML_SVG\"></script><script type=\"text/javascript\">if (window.MathJax) {MathJax.Hub.Config({SVG: {font: \"STIX-Web\"}});}</script>                <script type=\"text/javascript\">window.PlotlyConfig = {MathJaxConfig: 'local'};</script>\n",
              "        <script src=\"https://cdn.plot.ly/plotly-2.8.3.min.js\"></script>                <div id=\"c945a93c-ead1-4a54-8b68-4eb5ae875eee\" class=\"plotly-graph-div\" style=\"height:525px; width:100%;\"></div>            <script type=\"text/javascript\">                                    window.PLOTLYENV=window.PLOTLYENV || {};                                    if (document.getElementById(\"c945a93c-ead1-4a54-8b68-4eb5ae875eee\")) {                    Plotly.newPlot(                        \"c945a93c-ead1-4a54-8b68-4eb5ae875eee\",                        [{\"hovertemplate\":\"PC 1=%{x}<br>PC 2=%{y}<br>PC 3=%{z}<br>color=%{marker.color}<extra></extra>\",\"legendgroup\":\"\",\"marker\":{\"color\":[0.9444444444444444,0.8666666666666667,0.9555555555555555,0.0,0.9444444444444444,0.6444444444444445,0.9444444444444444,0.9777777777777779,0.9888888888888889,0.9555555555555555,1.0,1.0,1.0,0.9666666666666666,0.8666666666666667,0.8333333333333333,0.8333333333333333,0.9666666666666666,0.9444444444444444,0.8777777777777778,0.788888888888889,0.9111111111111112,1.0,1.0,1.0,0.9555555555555555,1.0,1.0,0.9444444444444444,0.6444444444444445,0.8888888888888888,0.9888888888888889,0.9444444444444444,0.9444444444444444,0.9000000000000001,0.8555555555555555,0.811111111111111,0.9333333333333333,0.9111111111111112,0.9555555555555555,0.9111111111111112,0.7777777777777778,0.9555555555555555,0.9111111111111112,0.9444444444444444,0.7999999999999999,0.9000000000000001,0.8222222222222222,0.9555555555555555,0.9444444444444444,0.9444444444444444,0.9555555555555555,0.9444444444444444,0.9444444444444444,0.9555555555555555,0.9333333333333333,0.9333333333333333,0.9111111111111112,0.8555555555555555,1.0,0.9777777777777779,1.0,1.0,0.9555555555555555,1.0,0.9777777777777779,0.8333333333333333,0.7555555555555555,0.811111111111111,1.0,0.9777777777777779,0.9777777777777779,0.8888888888888888,0.9444444444444444,0.9000000000000001,0.9555555555555555,0.9666666666666666,0.9111111111111112,0.9111111111111112,0.8444444444444444,0.9444444444444444,0.7444444444444445,0.9777777777777779,0.9777777777777779,1.0,1.0,0.9666666666666666,0.9888888888888889,1.0,1.0,1.0,1.0,0.7555555555555555,0.7777777777777778,0.9888888888888889,1.0,0.8777777777777778,1.0,1.0,0.9777777777777779,0.8333333333333333,1.0,0.9555555555555555,0.9333333333333333,1.0,1.0,1.0,0.9555555555555555,0.9555555555555555,0.8888888888888888,0.9444444444444444,1.0,0.9333333333333333,0.8444444444444444,1.0,0.9888888888888889,0.9444444444444444,1.0,1.0,1.0,0.9444444444444444,1.0,0.9000000000000001,0.7,0.8888888888888888,1.0,0.9555555555555555,0.7555555555555555,1.0,0.788888888888889,1.0,0.8333333333333333,1.0,0.8666666666666667,0.9333333333333333,0.6777777777777777,0.9111111111111112,0.788888888888889,1.0,0.9444444444444444,1.0,0.9555555555555555,1.0,0.0,0.0,1.0,0.8666666666666667,0.9555555555555555,0.9555555555555555,0.9555555555555555,0.9111111111111112,0.9555555555555555,0.9444444444444444,0.9333333333333333,0.9222222222222223,0.9555555555555555,0.9888888888888889,0.7777777777777778,0.9000000000000001,0.8777777777777778,1.0,1.0,0.9111111111111112,1.0,0.9111111111111112,1.0,0.8666666666666667,0.9777777777777779,0.9444444444444444,0.9888888888888889,0.9666666666666666,0.9555555555555555,0.7555555555555555,0.9777777777777779,0.9111111111111112,0.8555555555555555,0.9888888888888889,0.9555555555555555,0.9777777777777779,0.8222222222222222,0.8333333333333333,0.7333333333333333,0.9777777777777779,0.9888888888888889,0.8666666666666667,1.0,0.9111111111111112,0.8666666666666667,0.8666666666666667,0.8777777777777778,0.8666666666666667,0.8666666666666667,0.8777777777777778,0.7444444444444445,0.8666666666666667,0.9777777777777779,0.9888888888888889,0.9666666666666666,1.0,1.0,0.9888888888888889,0.9444444444444444,0.9888888888888889,0.9888888888888889,1.0,1.0,0.9555555555555555,0.8666666666666667,0.9888888888888889,1.0,0.9888888888888889,1.0,1.0,1.0,1.0,0.8888888888888888,1.0,0.9111111111111112,0.9111111111111112,0.7777777777777778,0.9777777777777779,1.0,1.0,1.0,1.0,0.8222222222222222,1.0,0.9222222222222223,0.9888888888888889,1.0,0.9555555555555555,1.0,0.9888888888888889,1.0,0.9111111111111112,0.9555555555555555,0.8666666666666667,1.0,1.0,0.9333333333333333,0.7555555555555555,0.9111111111111112,0.9888888888888889,0.8555555555555555,1.0,0.9777777777777779,0.9111111111111112,0.8666666666666667,0.9777777777777779,1.0,1.0,0.9555555555555555,0.9777777777777779,0.9444444444444444,1.0,0.9666666666666666,1.0,1.0,0.9555555555555555,0.9555555555555555,1.0,0.9777777777777779,0.7555555555555555,0.9888888888888889,1.0,1.0,1.0,0.9777777777777779,1.0,0.9777777777777779,0.9333333333333333,0.9444444444444444,1.0,0.9777777777777779,0.8666666666666667,0.9777777777777779,1.0,1.0,0.8666666666666667,0.8666666666666667,0.8333333333333333,1.0,0.9555555555555555,0.9777777777777779,0.9444444444444444,1.0,0.9555555555555555,0.9666666666666666,1.0,1.0,0.9888888888888889,1.0,1.0,1.0,1.0,1.0,0.9888888888888889,0.788888888888889,1.0,0.9888888888888889,0.9888888888888889,1.0,1.0,1.0,1.0,1.0,0.7555555555555555,0.6555555555555554,0.8444444444444444,0.7222222222222222,0.9555555555555555,0.8333333333333333,0.9555555555555555,0.7,0.811111111111111,0.9111111111111112,1.0,0.9888888888888889,1.0,1.0,1.0,1.0,1.0,1.0,1.0,1.0,1.0,0.9111111111111112,0.8777777777777778,0.9111111111111112,0.9111111111111112,0.9000000000000001,1.0,0.7555555555555555,0.7555555555555555,0.8888888888888888,0.9555555555555555,0.788888888888889,0.9777777777777779,0.8777777777777778,0.9555555555555555,0.9555555555555555,0.9888888888888889,0.7555555555555555,1.0,0.9888888888888889,1.0,1.0,1.0,0.9888888888888889,0.9777777777777779,1.0,1.0,0.9555555555555555,0.9777777777777779,1.0,0.9888888888888889,1.0,1.0,1.0,1.0,1.0,1.0,1.0,0.9444444444444444,0.8777777777777778,0.8777777777777778,0.9555555555555555,1.0,0.9888888888888889,1.0,1.0,1.0,1.0,1.0,1.0,0.9888888888888889,1.0,1.0,1.0,0.788888888888889,1.0,0.7555555555555555,0.788888888888889,1.0,1.0,0.9555555555555555,0.9111111111111112,1.0,1.0,1.0,1.0,1.0,1.0,1.0,1.0,1.0,1.0,1.0,1.0,1.0,1.0,1.0,1.0,1.0,1.0,1.0,1.0,1.0,1.0,1.0,1.0,1.0,1.0,1.0,1.0,1.0,1.0,1.0,1.0,1.0,1.0,1.0,1.0,1.0,1.0,1.0,1.0,1.0,0.9888888888888889,0.9111111111111112,0.9111111111111112,0.7555555555555555,0.9555555555555555,0.7777777777777778,1.0,1.0,0.6666666666666666,0.788888888888889,0.9888888888888889,0.8777777777777778,0.8222222222222222,0.9444444444444444,0.9222222222222223,0.9222222222222223,1.0,1.0,1.0,0.9777777777777779,1.0,0.9888888888888889,1.0,0.788888888888889,0.8333333333333333,0.8333333333333333,0.8666666666666667,0.7,0.7555555555555555,0.7333333333333333,1.0,1.0,0.9888888888888889,1.0,1.0,0.6666666666666666,0.9888888888888889,0.9777777777777779,0.8777777777777778,1.0,1.0,1.0,1.0,1.0,1.0,0.9777777777777779,1.0,0.8666666666666667,0.9111111111111112,1.0,0.7222222222222222,1.0,0.8666666666666667,0.9555555555555555,0.9555555555555555,0.9111111111111112,0.9777777777777779,1.0,0.8777777777777778,1.0,0.9111111111111112,1.0,1.0,0.8777777777777778,0.5777777777777777,1.0,1.0,1.0,1.0,1.0,0.9777777777777779,0.9555555555555555,1.0,1.0,1.0,1.0,0.7555555555555555,1.0,1.0,0.8777777777777778,0.8666666666666667,1.0,0.8777777777777778,0.788888888888889,0.8333333333333333,1.0,1.0,0.9777777777777779,1.0,0.9888888888888889,1.0,0.9777777777777779,1.0,1.0,1.0,0.9555555555555555,0.7777777777777778,0.9555555555555555,0.9888888888888889,0.9555555555555555,0.8333333333333333,0.9444444444444444,0.9555555555555555,0.9555555555555555,0.8333333333333333,0.9888888888888889,0.8333333333333333,0.9444444444444444,0.9555555555555555,0.9333333333333333,0.9888888888888889,1.0,1.0,1.0,1.0,0.9777777777777779,1.0,1.0,0.9111111111111112,0.9000000000000001,0.9222222222222223,0.9777777777777779,0.9777777777777779,0.9888888888888889,0.9888888888888889,1.0,1.0,0.9222222222222223,1.0,0.9888888888888889,0.9444444444444444,0.9666666666666666,0.8333333333333333,0.9444444444444444,1.0,0.9444444444444444,0.9777777777777779,1.0,1.0,1.0,0.9888888888888889,0.9222222222222223,0.6666666666666666,0.9888888888888889,1.0,0.9777777777777779,0.9777777777777779,1.0,0.9777777777777779,0.9888888888888889,1.0,0.8333333333333333,1.0,1.0,0.788888888888889,0.9555555555555555,1.0,1.0,0.9777777777777779,0.9444444444444444,0.9666666666666666,0.811111111111111,1.0,0.9777777777777779,0.8333333333333333,0.7555555555555555,0.9666666666666666,0.9777777777777779,0.9444444444444444,0.9222222222222223,0.7777777777777778,0.8888888888888888,1.0,1.0,1.0,1.0,1.0,1.0,0.9666666666666666,0.9888888888888889,0.9555555555555555,1.0,0.9555555555555555,0.9666666666666666,0.8333333333333333,0.8333333333333333,1.0,0.9111111111111112,0.8888888888888888,0.9555555555555555,1.0,0.9777777777777779,1.0,0.9666666666666666,0.9555555555555555,0.9777777777777779,0.9444444444444444,0.9777777777777779,0.8444444444444444,0.7777777777777778,0.8333333333333333,0.9444444444444444,1.0,0.9777777777777779,1.0,0.9777777777777779,0.9777777777777779,0.788888888888889,0.9666666666666666,1.0,0.9222222222222223,0.8333333333333333,0.8555555555555555,1.0,1.0,0.9222222222222223,0.9555555555555555,1.0,0.8222222222222222,0.8444444444444444,1.0,0.9888888888888889,0.9333333333333333,1.0,1.0,1.0,1.0,0.7111111111111111,0.8777777777777778,0.8555555555555555,0.8666666666666667,0.7444444444444445,0.8333333333333333,1.0,0.7666666666666667,0.9444444444444444,0.788888888888889,0.6111111111111112,0.8777777777777778,0.8777777777777778,0.8444444444444444,1.0,0.8888888888888888,0.788888888888889,0.7555555555555555,0.8666666666666667,1.0,0.9222222222222223,1.0,0.9111111111111112,1.0,0.8777777777777778,1.0,0.8777777777777778,0.9111111111111112,1.0,1.0,1.0,1.0,1.0,0.8777777777777778,1.0,0.5,1.0,0.9333333333333333,0.6666666666666666,0.9111111111111112,0.7555555555555555,0.7444444444444445,0.8888888888888888,0.8333333333333333,0.6777777777777777,0.8333333333333333,0.9777777777777779,0.9555555555555555,0.7777777777777778,0.8666666666666667,0.9000000000000001,0.9111111111111112,0.788888888888889,0.7999999999999999,0.7777777777777778,0.788888888888889,0.9444444444444444,0.811111111111111,0.9111111111111112,0.7777777777777778,0.788888888888889,0.8888888888888888,1.0,0.9111111111111112,0.9333333333333333,0.811111111111111,0.8333333333333333,0.811111111111111,1.0,0.7222222222222222,0.9111111111111112,0.7222222222222222,0.7222222222222222,0.9111111111111112,0.7777777777777778,0.7555555555555555,0.7777777777777778,0.8333333333333333,0.7666666666666667,0.9444444444444444,0.9555555555555555,0.788888888888889,0.8333333333333333,0.7111111111111111,0.8888888888888888,0.9111111111111112,0.9333333333333333,0.9111111111111112,1.0,0.9555555555555555,0.8333333333333333,0.811111111111111,0.6555555555555554,0.8333333333333333,0.9444444444444444,1.0,0.9000000000000001,0.9000000000000001,0.9000000000000001,0.8777777777777778,0.9555555555555555,0.8666666666666667,0.7444444444444445,0.8888888888888888,0.8777777777777778,0.9111111111111112,0.8666666666666667,0.7777777777777778,0.8888888888888888,0.9333333333333333,0.8777777777777778,0.9777777777777779,0.9888888888888889,1.0,0.9888888888888889,0.7,0.9555555555555555,0.9555555555555555,0.9444444444444444,0.6777777777777777,0.8666666666666667,0.9444444444444444,0.9888888888888889,1.0,1.0,0.9888888888888889,0.9444444444444444,0.9888888888888889,1.0,0.9888888888888889,0.9888888888888889,1.0,0.8555555555555555,0.8333333333333333,0.8777777777777778,1.0,0.9111111111111112,0.6444444444444445,0.9555555555555555,0.9555555555555555,0.8777777777777778,0.8666666666666667,1.0,0.9111111111111112,0.8333333333333333,0.9555555555555555,0.9444444444444444,0.7999999999999999,0.9777777777777779,0.8444444444444444,0.8888888888888888,0.9555555555555555,0.9444444444444444,0.9444444444444444,0.9555555555555555,1.0,0.9888888888888889,0.8666666666666667,1.0,1.0,1.0,0.9888888888888889,1.0,0.9555555555555555,0.9555555555555555,0.9888888888888889,0.9111111111111112,1.0,0.9888888888888889,1.0,0.8888888888888888,1.0,1.0,0.9888888888888889,1.0,1.0,1.0,0.9888888888888889,0.8777777777777778,0.9888888888888889,0.9777777777777779,0.6666666666666666,0.6666666666666666,0.3777777777777778,0.6222222222222222,0.6666666666666666,0.8777777777777778,0.6222222222222222,0.788888888888889,0.5,0.5,0.5444444444444444,0.7111111111111111,0.6222222222222222,0.5444444444444444,0.7555555555555555,0.7555555555555555,0.9777777777777779,0.8333333333333333,0.8666666666666667,0.8777777777777778,0.7111111111111111,0.9555555555555555,1.0,0.9333333333333333,0.8777777777777778,0.8333333333333333,0.7999999999999999,0.9111111111111112,0.8888888888888888,1.0,0.9888888888888889,1.0,0.9777777777777779,0.9444444444444444,0.9555555555555555,0.9111111111111112,1.0,0.8777777777777778,0.9555555555555555,0.8333333333333333,0.9555555555555555,0.9111111111111112,0.6666666666666666,0.9555555555555555,0.9555555555555555,0.8888888888888888,0.8666666666666667,0.9444444444444444,0.9000000000000001,1.0,0.9888888888888889,0.7555555555555555,0.9888888888888889,0.9555555555555555,0.9555555555555555,0.9555555555555555,0.9444444444444444,0.8777777777777778,0.8777777777777778,1.0,0.8333333333333333,0.8222222222222222,1.0,0.9222222222222223,0.9888888888888889,0.8777777777777778,1.0,0.9111111111111112,0.9111111111111112,0.8555555555555555,0.9444444444444444,0.8666666666666667,1.0,1.0,0.8666666666666667,0.7111111111111111,0.7555555555555555,0.788888888888889,0.8333333333333333,0.8333333333333333,0.8666666666666667,0.8777777777777778,0.7555555555555555,0.8333333333333333,0.8777777777777778,0.8777777777777778,0.788888888888889,0.8888888888888888,0.8333333333333333,0.8222222222222222,1.0,0.9888888888888889,1.0,0.9555555555555555,0.9111111111111112,0.7999999999999999,0.7555555555555555,0.9888888888888889,0.9888888888888889,0.8222222222222222,0.6888888888888889,1.0,0.9888888888888889,0.8777777777777778,1.0,1.0,0.9888888888888889,0.9777777777777779,0.9777777777777779,0.9000000000000001,0.8555555555555555,0.8888888888888888,0.9111111111111112,1.0,1.0,0.7333333333333333,0.7222222222222222,0.9888888888888889,0.9888888888888889,1.0,0.9777777777777779,1.0,1.0,0.8333333333333333,0.8777777777777778,0.9777777777777779,1.0,0.9888888888888889,0.9222222222222223,0.9555555555555555,0.9555555555555555,0.9555555555555555,0.9555555555555555,1.0,0.9111111111111112,0.7555555555555555,0.7444444444444445,0.7222222222222222,0.7444444444444445,0.7555555555555555,0.7444444444444445,0.9111111111111112,0.7555555555555555,0.7222222222222222,0.7444444444444445,0.9111111111111112,0.9111111111111112,0.7333333333333333,0.9111111111111112,0.7444444444444445,0.9111111111111112,0.9000000000000001,0.7111111111111111,0.7444444444444445,0.9111111111111112,0.7333333333333333,0.7555555555555555,0.7333333333333333,0.7555555555555555,0.7333333333333333,0.7333333333333333,0.7444444444444445,0.7444444444444445,0.7444444444444445,0.7555555555555555,0.7555555555555555,0.7444444444444445,0.7444444444444445,0.7333333333333333,0.7555555555555555,0.7555555555555555,0.7333333333333333,0.7555555555555555,0.9111111111111112,1.0,1.0,0.9777777777777779,0.9888888888888889,0.9555555555555555,0.9555555555555555,0.9111111111111112,0.9888888888888889,0.9888888888888889,0.9888888888888889,0.8888888888888888,0.9333333333333333,0.3777777777777778,0.9777777777777779,0.9888888888888889,0.9777777777777779,0.9777777777777779,0.9000000000000001,0.9888888888888889,0.8666666666666667,0.9777777777777779,0.9888888888888889,0.9888888888888889,0.9666666666666666,0.9111111111111112,0.9000000000000001,0.9111111111111112,1.0,0.9444444444444444,0.6111111111111112,0.8666666666666667,0.9444444444444444,0.9777777777777779,0.9555555555555555,0.9555555555555555,0.9444444444444444,0.9444444444444444,0.9555555555555555,0.9444444444444444,0.9555555555555555,0.8777777777777778,0.9777777777777779,0.9111111111111112,0.8555555555555555,0.9222222222222223,0.9444444444444444,0.9555555555555555,0.7444444444444445,0.7777777777777778,0.811111111111111,0.9111111111111112,0.9111111111111112,0.9111111111111112,0.9111111111111112,0.9444444444444444,0.7999999999999999,0.8333333333333333,0.7999999999999999,1.0,0.9888888888888889,0.9888888888888889,0.9777777777777779,0.9888888888888889,1.0,0.9888888888888889,0.7999999999999999,0.9444444444444444,0.8333333333333333,0.8333333333333333,0.8333333333333333,0.8222222222222222,0.7999999999999999,0.811111111111111,0.8222222222222222,0.8222222222222222,0.6888888888888889,0.788888888888889,0.8777777777777778,0.8777777777777778,0.6666666666666666,0.7555555555555555,0.7333333333333333,0.6222222222222222,1.0,0.8777777777777778,0.8222222222222222,0.9333333333333333,1.0,1.0,0.6777777777777777,0.7,0.7,0.9777777777777779,0.9888888888888889,0.8555555555555555,0.788888888888889,1.0,0.7444444444444445,0.8222222222222222,0.7444444444444445,0.9111111111111112,0.7777777777777778,0.6555555555555554,0.9888888888888889,0.8333333333333333,0.788888888888889,0.6555555555555554,0.9333333333333333,0.7111111111111111,0.7555555555555555,0.8666666666666667,0.7444444444444445,0.7,1.0,0.8777777777777778,0.9111111111111112,0.9555555555555555,0.8555555555555555,0.8666666666666667,0.9555555555555555,1.0,0.6666666666666666,0.6666666666666666,0.8888888888888888,0.7,1.0,0.7,0.7777777777777778,0.7,0.7,0.7777777777777778,0.7777777777777778,0.7777777777777778,0.7,0.7,0.7,0.7,0.7,0.7,0.7777777777777778,0.7777777777777778,0.7777777777777778,0.7777777777777778,0.7777777777777778,0.7777777777777778,0.7,0.9444444444444444,0.8777777777777778,0.7222222222222222,0.7777777777777778,0.8222222222222222,0.7,0.6222222222222222,0.7333333333333333,1.0,0.811111111111111,1.0,0.6444444444444445,0.6777777777777777,0.7666666666666667,0.9888888888888889,0.6555555555555554,0.8333333333333333,0.7444444444444445,0.8222222222222222,0.7111111111111111,0.811111111111111,0.8222222222222222,0.9111111111111112,0.7333333333333333,0.7555555555555555,0.6555555555555554,0.9111111111111112,0.9000000000000001,0.9333333333333333,0.6888888888888889,0.7333333333333333,0.788888888888889,0.8333333333333333,0.7222222222222222,0.6666666666666666,0.7,0.6555555555555554,0.811111111111111,0.6888888888888889,0.9000000000000001,0.7777777777777778,0.9777777777777779,0.9222222222222223,0.9444444444444444,0.9888888888888889,1.0,1.0,1.0,1.0,0.9777777777777779,0.9888888888888889,1.0,1.0,0.9555555555555555,1.0,1.0,0.788888888888889,0.9444444444444444,0.9888888888888889,0.9111111111111112,0.9333333333333333,0.9333333333333333,1.0,0.9333333333333333,0.8333333333333333,0.9555555555555555,0.8666666666666667,1.0,0.9888888888888889,0.8777777777777778,0.8777777777777778,1.0,0.9111111111111112,0.7777777777777778,1.0,0.8333333333333333,0.9444444444444444,0.9888888888888889,0.9444444444444444,0.8888888888888888,0.9444444444444444,1.0,0.8333333333333333,0.811111111111111,0.9555555555555555,0.9888888888888889,0.9777777777777779,0.8555555555555555,0.8222222222222222,0.8333333333333333,0.8888888888888888,0.7444444444444445,1.0,0.9555555555555555,0.9444444444444444,0.8333333333333333,0.811111111111111,0.7555555555555555,0.8666666666666667,0.9555555555555555,0.9444444444444444,0.8666666666666667,0.8444444444444444,0.8777777777777778,0.9111111111111112,0.9444444444444444,0.8333333333333333,0.7777777777777778,0.8666666666666667,0.8777777777777778,0.8555555555555555,0.8777777777777778,0.8777777777777778,0.8777777777777778,0.8666666666666667,0.8777777777777778,0.23333333333333334,0.8777777777777778,1.0,0.8333333333333333,0.8666666666666667,1.0,0.9888888888888889,0.9888888888888889,0.788888888888889,0.9777777777777779,1.0,0.7999999999999999,0.9888888888888889,0.8888888888888888,0.9666666666666666,0.811111111111111,1.0,0.8444444444444444,0.8777777777777778,0.8666666666666667,0.9444444444444444,0.5777777777777777,0.9777777777777779,0.7999999999999999,0.9000000000000001,0.9888888888888889,0.9444444444444444,0.7222222222222222,0.9777777777777779,0.9000000000000001,0.8333333333333333,0.8333333333333333,0.9888888888888889,0.8333333333333333,0.8333333333333333,0.8555555555555555,0.788888888888889,0.8777777777777778,0.8666666666666667,0.7111111111111111,0.7111111111111111,0.7,0.8333333333333333,0.7111111111111111,0.8666666666666667,0.811111111111111,0.8333333333333333,1.0,0.9555555555555555,0.9555555555555555,0.8666666666666667,0.8666666666666667,0.8222222222222222,0.9555555555555555,0.9555555555555555,0.9555555555555555,0.9888888888888889,0.9888888888888889,0.9888888888888889,0.7555555555555555,0.9555555555555555,0.9888888888888889,0.9777777777777779,0.9555555555555555,0.9555555555555555,0.9333333333333333,0.9555555555555555,1.0,0.9111111111111112,0.9444444444444444,0.9555555555555555,0.9444444444444444,0.9444444444444444,0.8333333333333333,0.8333333333333333,0.9444444444444444,0.8555555555555555,0.8333333333333333,0.8333333333333333,0.9333333333333333,0.8888888888888888,1.0,0.9444444444444444,0.9444444444444444,0.9444444444444444,0.9444444444444444,0.9444444444444444,0.9555555555555555,0.9555555555555555,0.9444444444444444,0.9888888888888889,0.6111111111111112,1.0,0.8666666666666667,0.8666666666666667,0.9000000000000001],\"coloraxis\":\"coloraxis\",\"symbol\":\"circle\"},\"mode\":\"markers\",\"name\":\"\",\"scene\":\"scene\",\"showlegend\":false,\"x\":[0.37065616018683206,0.45148364681013103,0.4063234392317239,0.6104528166847176,0.6560342158365299,0.47770246841249797,0.41113210521530325,0.35212703636062503,0.41067377637690217,-0.5574328922788833,-0.5329579738213363,-0.5007308887274308,-0.5454802597845303,-0.5181237158147057,-0.46067501135938005,-0.4465338322646026,-0.42329472456523676,-0.4979673362744265,-0.4747328500533531,-0.4520275102763197,-0.4534228785812289,-0.5628157348078343,-0.567871920963153,-0.5496280179781119,-0.5840402120331035,-0.5512382259928779,-0.517556801522405,-0.509014535638665,-0.47796788095578485,-0.48782355115759396,-0.5094947684996785,-0.5137240756525061,-0.5146515622329938,-0.47613694602091955,-0.47416634763445054,-0.4501974110611535,-0.4975822662483983,-0.4506347508260149,-0.511638298298346,-0.47079587269509837,-0.4758889899752585,-0.4758096715097571,-0.5010383154982789,-0.46984562484356657,-0.48774288567578794,-0.4837989445537094,-0.4721832174513946,-0.4923819799865534,-0.4597068839526852,-0.5422667267304405,-0.5213994521841442,-0.519827024363868,-0.5247755973707658,-0.5207267041319716,-0.5279012679521672,-0.0674524081741084,-0.531859600810433,-0.5222444106362208,-0.4667364718464715,-0.47110894872371833,-0.4561899260791257,-0.53631863674463,-0.4889049616186834,-0.47330341297984124,-0.4875405384674135,-0.49967830856394885,-0.46933919919447514,-0.4809521279196367,-0.4784137384470059,-0.5360435410385589,-0.4987250360483234,-0.4692854672088956,-0.4607616823115641,-0.5518659185328741,-0.45645518995885237,-0.4943093434567385,-0.48317265810335425,-0.4807077221651024,-0.5027993807411993,-0.4978623145458152,-0.5032962142452229,-0.4769818642842245,-0.5670905645683254,-0.5694926530927463,-0.5823716947180576,-0.5618197397420749,-0.5173405527758528,-0.5630013317819687,-0.5649637832088393,-0.5849375689501265,-0.5675179478799234,-0.1698995446841867,-0.4145330514788876,-0.3992902035421075,-0.5394121442124901,-0.5041755629509515,-0.506772402934325,-0.5026818654556391,-0.49307843146027197,-0.49967830856394885,-0.46933919919447514,-0.5324510149476833,-0.518500755021185,-0.4910082645096771,-0.5257271351267764,-0.506768763435321,-0.47585758004602857,0.4036148449844337,0.47502613396484716,-0.5100356117357764,-0.5069032640852311,-0.5506543115369966,-0.49689674924363103,-0.435153617631861,-0.5314643992529546,-0.4717054572538854,-0.4561110431382891,-0.5001770919794197,-0.4823853906704983,-0.4965006921472653,-0.4812653135656204,-0.5330386962815608,-0.5254041165917513,-0.4345941995942405,-0.4664567734067762,-0.5659491260261333,-0.47315422647937344,-0.44868358312069573,-0.4826471167485662,-0.46296214132912916,-0.5688572637804471,-0.46851645881377196,-0.5688572637804471,-0.47763981041778103,-0.49898483084892375,-0.4975033738042219,-0.5191356894737612,-0.47339739896477745,-0.4740753556226924,-0.45670805133187997,-0.531270434248971,-0.4924247403270136,-0.5715904587880962,-0.3450773803959025,-0.35067808105176024,-0.5567798452902224,-0.44194930339228755,-0.5090103074777451,-0.5248485469061971,-0.5283077512914179,-0.37152390714270556,-0.5109613705189395,-0.4672484987920956,-0.500424855869436,-0.5379722929096626,-0.5416858962886714,-0.5345496652694872,-0.4796126897028199,-0.504121435230979,-0.4794262987180965,-0.5196972445152954,-0.4852770306389678,-0.48273821145423573,-0.5433564485509353,-0.4821484136596301,-0.5522438174695932,-0.5505974354658449,-0.5564924260888894,-0.5242355393649883,-0.5713112722973384,-0.48157079718803614,-0.5467881211161807,-0.5061830619126829,-0.547177418299964,-0.5248521211072463,-0.5050899362179414,-0.5538353436222041,-0.5048398981132252,-0.5757548353661913,-0.4639331365277891,-0.460360916774844,-0.43749284409272143,-0.5184858323879862,-0.5195328583061264,-0.550984836022643,-0.5471756116559386,-0.5368722712287085,-0.5224304442082739,-0.51584592679685,-0.525241068578699,-0.5269661842609692,-0.5154202665972476,-0.5444128967211508,-0.06664579056193033,-0.5338734696988008,-0.5433911510770387,-0.5294360876944066,-0.5241615823031459,-0.5337710986971582,-0.518982934460738,-0.5400199316162497,-0.5453158172988076,-0.5086186088369095,-0.5115724649280924,-0.5017472408929917,-0.5313684678887396,-0.5336944174873547,-0.4757275047826746,-0.5108768651390516,-0.5073612272276095,-0.5152906002776213,-0.511246588820283,-0.48987356350453476,-0.5087072054766719,-0.508133113593907,-0.49131156910698404,-0.49532026073967406,-0.47192465757364616,-0.48369925659677376,-0.4566870408721354,-0.5331179578332929,-0.5301365051454823,-0.5132606116456611,-0.5043069053079833,-0.4805321997096768,-0.4493767809313815,-0.5137363857150117,-0.5238382609923344,-0.5227336427207875,-0.49886790813746384,-0.48979368267525336,-0.5247041341440382,-0.5364996413383123,-0.5553597629850976,-0.43725675077310105,-0.484477264281429,-0.45934554644604375,-0.5621961518487882,-0.5601050576703694,0.40537203808724276,-0.5064053579989759,-0.49136680806044253,-0.5624115927948724,-0.5325574340875022,-0.5525361557324255,-0.5459228767246392,-0.47541550319750886,-0.24263648654046657,-0.09238606092005744,-0.5124100961972842,-0.22933132722330718,-0.08849737770259694,-0.5433834933810283,-0.5014109389968345,-0.5416427449450479,-0.5465075251448999,0.38977213676261063,-0.5675902969138338,-0.2705491979346071,-0.5180225743275905,-0.4823609217103326,0.34501343453037603,-0.36517330421031513,-0.5512464523577275,-0.5653019693791541,-0.5561600350705885,-0.5682599028222668,0.34501343453037603,-0.13249435952890595,-0.21816121144810938,-0.4730467350793491,-0.48840630248263256,-0.38926850814690045,-0.5295833967670944,-0.4765556548095264,0.36083311298443255,-0.5416427449450479,-0.5271416983127087,-0.4910590191464815,-0.4910590191464815,-0.46781766143555775,-0.5271416983127087,-0.3425977182078127,0.41505404443359895,-0.5255854059011091,-0.5413325015909488,-0.3425977182078127,-0.15766747248876997,-0.48015160555810205,0.38754053000078326,0.4052586641677539,0.5192688361586486,-0.5214954885598986,-0.5091364258453103,0.3372753353649109,-0.18737997480470978,0.3333646256692986,0.40512672932192195,0.3955094008887889,0.3891919830328275,0.40544772795702166,0.401150733650752,0.401150733650752,0.3955094008887889,0.401150733650752,0.3955094008887889,-0.4567158979561227,0.10123280615245801,-0.4619463642094932,-0.4310439512941043,-0.5040122430757028,-0.32762584265644146,-0.24831337558611985,0.03631936894360094,-0.43758723380807873,-0.18972792300828475,0.3914001563995394,0.3909146611565366,-0.5137287280190012,0.401150733650752,0.3955094008887889,0.3955094008887889,0.3955094008887889,0.3425901812795738,0.3955094008887889,0.3425901812795738,0.3425901812795738,-0.4752252077581298,-0.48774833640673215,-0.4559169505733454,-0.4701773529792002,-0.4599455438867767,-0.4911633969711487,-0.427793492562458,-0.34735047425520127,-0.4708041991755981,-0.4929803455927744,-0.42253204420814106,-0.46175963778518214,0.4659310486203805,-0.49250537116234056,-0.5107748156512649,0.41395197095513386,-0.1302483899112664,-0.5128048802135208,0.37298245345335246,-0.5332880410127168,-0.5737038435761116,-0.5666479476282162,-0.4108414069737052,-0.4728438693030548,-0.43154464886948923,0.4009757909040876,-0.5107748156512649,-0.4994064497981052,0.39762278567680426,0.3985550754327765,0.40306672643064906,0.3824004681809279,0.40679206641271515,0.40679206641271515,0.40326411843876747,-0.31375886030049527,0.40679206641271515,0.4304199459141703,0.024055863677685613,0.4508568059942528,0.4097459787804514,0.40679206641271515,0.3985550754327765,0.40306672643064906,0.3957717974896967,0.40679206641271515,0.40679206641271515,0.40679206641271515,0.40679206641271515,0.4075305445046492,0.40388392865840134,0.40679206641271515,0.40679206641271515,0.4848705348314928,0.41243339917467825,0.4376035403467734,0.4812396946843501,0.42080792694429076,-0.4884302019634993,0.4115894120234344,0.39739417697495355,0.3946679087511939,0.41516659418232765,0.41516659418232765,0.4110044267236722,0.42080792694429076,0.3538728468034998,0.39973617046481974,0.40388392865840134,0.42354112195194,0.401150733650752,0.40679206641271515,0.40679206641271515,0.42080792694429076,0.40679206641271515,0.40679206641271515,0.4095252614203645,0.4095252614203645,0.4149916514356632,0.42080792694429076,0.42080792694429076,0.42425247824088075,0.42080792694429076,0.42272391972418777,0.42080792694429076,0.42080792694429076,0.42080792694429076,0.42080792694429076,0.401150733650752,0.40824093683497253,0.42310429447535075,-0.4884302019634993,0.42080792694429076,0.42080792694429076,0.42080792694429076,0.42080792694429076,0.42080792694429076,0.42080792694429076,0.424639912504085,0.42080792694429076,0.3957717974896967,0.40661712366605063,0.4163881299587028,0.4052638683215108,0.42343181644160544,0.5159975977437927,0.4037926308380587,0.4300426165826896,0.41048325781031303,0.4106734451858943,0.5209474260893167,0.5120402270283182,0.4135863500141838,0.4441994474671272,0.4905237468439514,0.4306247078503655,0.42776059118446397,0.4273425380928124,0.17863305048998793,0.004136651573648454,0.005226426455589314,-0.17234729442030752,0.09568625011638748,-0.023654917940082086,-0.4945928549568954,-0.012083552787451365,-0.04832738110101562,-0.09970239420354035,-0.4492908201948951,-0.4131294855617473,-0.4249240132102743,0.13391340291151843,-0.04390214827637025,-0.028027180578753166,-0.5312798712489771,0.41355871634020736,0.4334092242899339,-0.18241977995422948,-0.4432008145943665,0.4120593671714389,-0.08596128449068526,-0.552632087096641,-0.552632087096641,-0.16190650600254342,-0.4911633969711487,-0.39133957795189844,-0.2346578616519618,-0.5495166848302645,-0.5469907543346777,-0.2502230519562712,-0.5266446865810405,0.04352975173126092,-0.2516047434059707,-0.052101733299318324,-0.4492908201948951,-0.5249825389112708,-0.33344899255114663,-0.5266446865810405,-0.5003662160733389,-0.052101733299318324,-0.08596128449068526,0.39735680873181617,-0.469178291594717,0.15169110430877764,-0.4365059116334379,-0.20156779490025958,-0.0939131480829663,-0.18509164727002983,0.3955094008887889,0.4031681870745523,0.42080792694429076,-0.4056460890120195,-0.5003662160733389,0.4176848026597882,-0.12251340584493083,-0.18055263798467638,0.4301456360376768,0.4301456360376768,-0.004254816568023402,0.401150733650752,0.4095252614203645,-0.08596128449068526,-0.2488031343756344,0.09976813660422773,-0.1961787534490277,0.03327761599055834,0.00503149567690268,-0.516636865773315,-0.17592236653411905,0.42197318784630194,0.417279978970343,-0.529097901524092,0.4095252614203645,-0.23246142083419677,-0.4817317196343298,0.40679206641271515,0.4264870325791785,-0.1991074515250519,0.4598249887753587,-0.1991074515250519,-0.5312798712489771,-0.47766064480492515,-0.49459280150416496,-0.17961947213818946,-0.48061002106876327,-0.21768575647797753,-0.3028476159979447,-0.31173397322616464,-0.17506703940375587,-0.2471841908298794,-0.21879582901458963,-0.15316059420670355,0.40640572434697014,0.4410392121205945,0.3955094008887889,0.0664778890035088,-0.45495291470375565,-0.5218470511266395,-0.5717654015347609,0.34179542831327525,-0.5110872946455738,-0.4674399828923984,-0.2769969681477831,-0.2148759807097571,-0.5429267679331874,-0.5158718967929232,-0.4918996245302223,0.06744107260223985,0.35912347290115665,-0.5365595353339417,-0.5519332654945577,-0.5180972773880319,-0.3107163512929967,-0.4933342568741347,-0.3505478662121203,-0.532811406237287,-0.5170624618534966,-0.4964452093495992,-0.447172583236487,-0.4074242590504642,-0.5102464983819224,-0.5425721220302167,-0.23841201131945552,-0.49380511253921755,0.4906022945864091,-0.16916222070809617,-0.050300043793159964,-0.4481561897583873,-0.4481561897583873,-0.4660911692314372,-0.4481561897583873,-0.5603824400480579,0.3537929798821629,0.38959368932151267,0.40388392865840134,-0.07959914906147127,-0.44521950928619575,-0.06084219045351081,-0.051498843061450285,0.14063729572462766,0.1501417925049617,-0.4666210104779855,-0.5075525011121561,0.4424383412948406,-0.03514456072943975,-0.49860098261829394,-0.15653799545463573,-0.4617732175005265,-0.2968449202493985,-0.17631926513735935,-0.13814764447956848,0.40591763858204327,-0.4703025202722765,-0.15347585750046364,-0.3850615149885356,0.38260222530891014,-0.5532518973162743,-0.17028103377215592,-0.5025146474319447,-0.5561600350705885,-0.3917247109200987,0.41213401395532673,-0.44859791466217913,-0.27769577168124665,-0.2072637452044092,-0.5075525011121561,0.38959368932151267,0.38959368932151267,-0.27769577168124665,-0.19430290950124565,0.4519022876272992,-0.473914607212691,-0.27769577168124665,0.4024527470879557,-0.5194659921451793,-0.4211532329480365,-0.5080416206436156,-0.273683556925313,-0.12429496856413365,-0.36255332568425974,-0.1297596873505455,0.04806860454920599,0.38959368932151267,-0.4964452093495992,-0.3139552641836968,-0.5699686310901015,-0.562248949872743,0.19779432233868374,-0.46831336071813323,-0.17868596529947373,-0.5122164365207695,0.41084389324208154,0.5564449948793775,-0.42095380023812823,-0.0008629022874120776,-0.5373263930984512,-0.5349187266473285,-0.4833083454831601,-0.5424195431872085,-0.5666479476282162,-0.529608741857215,-0.5402699200880953,-0.4999047302158559,0.35987237743867034,-0.5786171985070825,-0.5406902778347875,-0.5593714107718323,-0.5214844664034074,-0.5124370319297653,-0.013122286470884384,-0.4844906215566046,-0.4768510489899334,-0.2815830682812626,0.2786956097178699,-0.4888510251073232,-0.3830639630112255,-0.4019684872704936,0.3505105791545322,-0.5087799801173657,-0.3271270321421267,-0.5620526365908893,-0.5614785447081241,-0.04258586682244554,0.08144877029641198,0.20570544847128663,0.49356646321764225,0.5114569860121618,0.23791554641167065,0.4178997891899769,0.4287556433852623,0.3800503578665011,0.13996935625447224,0.10181610492858569,0.09949935224029588,0.08432019728112573,0.10041163029337549,0.41506167396690147,0.37184949996611827,0.3748486719187556,0.38281217217893027,0.4032800175861056,0.40310985977090946,0.3979913271381005,0.3898680681268258,0.42891585777248636,0.4025357678881445,0.19822184251343744,0.279983577588229,-0.0018375625379136165,0.1585308535063897,-0.2601824919256066,-0.10498834778112534,0.13698454756676368,0.2360419803288952,0.1198883980483957,0.2173223474403642,0.22412549564278333,0.4309293822131298,0.4212653413122252,0.4145910854513597,0.41685553271659626,0.43689317026791347,0.4271031153537514,0.4240525367768442,0.055827478189929565,0.2946189281995877,-0.04817626202836054,0.33208712981628324,0.5435686930378251,0.4856682213883632,0.010203051828612522,0.14744741475098092,0.13412140909418757,0.12662230833813884,0.13419367154380926,0.12047605344606646,0.12724100612510206,0.35889405059382884,0.5190518601005523,0.4852801844312298,0.4985375188911007,0.5111132902827431,0.5116680690635342,0.44553386478917073,0.4608298654869002,0.46317783535078483,0.43596831320701723,0.46119829894456543,0.4185926052215956,0.4379688656850024,0.463439363402746,0.4366750802730446,0.44571061733739903,0.003408351024253311,0.17552241599277763,-0.13944004935386015,0.4479172032126894,0.42572376219966535,0.42430533659021347,0.4527532608518047,0.11987052524915416,0.5432073467715656,0.0827092646396015,0.12633718344859587,0.43058560679929175,0.38244576650357404,0.43613569681820497,0.412922633132969,0.43289841003367757,0.3840589976273175,0.4357888372060185,0.11725648947982445,-0.11195235147189213,0.2302837173326937,0.12182656214249454,0.48492678973350717,0.47413302891790954,-0.14519181216792584,0.14126436814820453,0.14984088820682384,-0.18203785877705803,-0.15631897717728982,-0.17287990247284932,0.17795505103873616,0.5532949303302256,0.1342360957347134,0.12949536187786018,0.13765849032839217,0.4393704239756855,0.4065832228937973,0.4207829311052891,0.36074773815771277,0.3981821603515175,0.391597095344184,0.4057135396064697,0.4185938073359264,0.3848692820925815,0.366491064130909,0.38554207408913066,0.3811359966465714,-0.5483507393734,-0.07081015576161931,-0.3013313347435358,0.23541854462441378,0.20432220285724847,-0.21328595079708912,0.20437532243991238,0.17010775149854512,-0.035218821026003946,-0.06696823996234066,0.4982968947343804,0.1545279641073892,0.45688659742748494,0.47368781792175524,0.41032009488708526,0.47158896568386843,0.503003467759218,-0.4855120126549182,-0.14960166483535228,-0.3960932020182266,-0.1853376415727185,-0.13672526203823027,-0.4965819314717768,0.16923748118089163,0.11224960216148598,0.03405544854374171,0.10391290138697863,0.09137609322902113,0.10922826871532831,0.43329602859809,0.39824841242275744,0.4360292236057394,0.4506657704474636,0.4352919445758777,0.41801845706227714,0.44513142978077336,0.44418391010577973,0.10563666817402641,0.4398453100181955,0.10523461804206762,-0.12604135381887852,0.38614825742444775,-0.1612811770685045,0.3748655919005214,0.39174991232225476,0.4073159452681339,0.41970262148165416,0.42893118595556556,0.4185925489450421,0.42228488312815887,0.5433334329209993,0.5508601844560232,0.6033796073542179,0.4801217436594538,0.510486875963453,0.44354263561899077,0.5091741216365366,0.46728461829165896,0.5993120576929195,0.5468144970063922,0.582987238666873,0.48691565585567864,0.5140590564846764,0.5632226001566896,0.4620368580915162,0.5256278305705956,0.17942803496839313,0.20973820086226833,0.2406211674015441,0.3767832885809267,0.555666822812107,0.45806736097056305,0.3183915789519743,0.4163879414358602,0.4436960811165704,-0.06424240873973716,-0.3272258909331793,0.14397089569910085,0.12599910893350333,0.4426667786940495,0.4567068072630018,-0.10677893373255436,-0.11269605966689629,0.458269425520221,0.45274096547854414,0.4615839742955651,0.44936547026313534,0.4847154588492696,0.4407924831756446,0.46704197079405824,0.445243991187139,0.4677613966524074,0.5103263876486958,0.4537409716224392,0.43887649039574744,-0.09840658364686358,0.1390821633075821,-0.16399088807232823,-0.23503412453740521,0.45511344860282676,0.1184476323866695,-0.3011822136106777,0.4026578002209253,0.4651330128411978,-0.3368773734845284,0.4460611934148914,0.16161921706784738,0.4249834332386802,0.4188890634367542,0.3921603077178958,0.4397948578304136,0.42580536428452564,-0.04370900587834208,0.11239328708255361,0.3498084429728846,0.45392983852461805,0.45543897715935355,0.1667472264401834,0.1873049070997956,0.09113584095940722,0.14216707493768968,0.13862916875274356,0.11857887701647923,0.27382192885966944,0.2021715156632862,0.22210991216924306,0.5086285363522836,0.44781360108223783,0.09699642532438076,0.44289781230219555,0.4618651518471393,0.436111914374665,0.4709722084147749,0.44141126353944937,0.43558689175788795,0.4547555342667608,0.45765178147881497,0.042264540060687764,-0.46109265249300413,0.23455234590034513,0.44820696280391187,0.4071781049291235,0.42512993099750607,0.07267274613397774,0.43878560700641334,-0.026248671644883734,-0.036437742976679045,-0.19594084658834743,0.18160068959742726,0.2366392228713896,0.30038699271328434,0.36224737457311246,0.36620210535713715,0.3761111195236081,0.35519147862521705,0.36785917838653576,0.1553328539810209,0.1399467604941642,-0.09505910050232136,-0.5245736388457345,-0.16685769088494412,-0.13083155969778293,-0.10834699355738994,0.3696757639276476,-0.4861008021005016,0.19667211613954846,0.2611456916268329,0.3373756313276876,0.3326578586032713,0.3298929525697152,0.33572691693015444,0.3298929525697152,0.3428379449668953,0.583834907370541,0.49810702046060396,-0.508313239400672,-0.5734522907593301,-0.5331510012308931,-0.5225957422328844,-0.5179031058405342,-0.5500082419202852,-0.5421881612464793,-0.5447813819058935,-0.5684917311827868,-0.44880946865290017,-0.41654073961921234,-0.35635463490472324,0.6426716330139796,0.5361344384638418,0.5644848310022651,0.5604749681293949,0.4641156999431658,0.004886416990856756,1.00108946669005,1.0038666265095584,0.9195033554359945,0.9191233128516786,1.000350988598116,0.9170132707733323,1.000186602388947,0.9185453590460456,0.9126118456972682,1.0094885008530328,1.0073945744835058,0.4764956015630146,0.313575103752856,1.0024019803881956,0.9968230406241684,0.9988740324142478,1.0161775131536719,1.0057532883670222,1.0038666265095584,1.0053987147822714,1.0031404584801298,1.0024019803881956,0.5626104792073066,1.0040984548700784,1.000186602388947,1.0048369329620124,1.0024019803881956,1.0024019803881956,1.0057532883670222,1.0024019803881956,0.4590512340026827,0.44593202212411115,0.4174079305027037,0.3871333549210428,0.4482824554100957,-0.46109373664490155,0.23561700045483497,0.228233753823347,0.4524862638536897,0.42647199621433884,0.4527337035936142,-0.42924481357064415,-0.4903947829852266,0.5532709389572968,-0.01637043614105627,0.26772667064014155,0.4426225261142571,0.46450106659535073,0.46185778102117736,0.44732798877616786,0.5044054057539543,0.48860873884650646,0.4559499562857049,0.45369169998356274,-0.10014206267779541,-0.5046458648770934,-0.367934398848896,-0.5449368674126029,-0.565154373059835,-0.4851429833331801,-0.22412202763412983,-0.16340186506271948,-0.484017760700087,-0.36402274778546445,-0.49236827159716795,-0.4958276346342458,-0.16894936508853964,0.14828752504972414,-0.2651773806980547,0.1665940056342767,-0.5167810104880479,0.18295309998649167,-0.5317707167213449,-0.39561563571344666,-0.054792895927777835,0.2275766412056499,-0.3529478054386814,-0.4769560704980628,0.42147796056010295,-0.21531931401399518,-0.38890615812733087,0.991316844534678,0.991316844534678,0.9727800914158214,0.9877888965607303,0.21050809561769335,-0.38548430528563793,-0.42722701043451305,-0.4471980088063033,0.8601022192085414,0.8537848013525803,0.39967340205426904,0.4373011866634081,0.8521006369332034,0.8504041624513206,0.8598827009105271,-0.348557608195878,-0.311590419419383,-0.4462539670628385,-0.4267613846028207,-0.0715272202062106,0.47879242822262486,0.48245141825079935,0.479530906314559,0.28609221071492513,0.47553806430161627,0.5265847717050598,-0.35095920710085515,-0.550769971066963,0.4624206930920843,0.49343943054163875,0.5419268135279813,0.5282325371318484,0.5065489373869062,0.3621683631906631,0.05198185168497517,-0.16254194890849688,-0.41257000705254765,0.38817060801413955,0.4282564784921003,0.9964433337662847,0.9632557858659712,0.5376080401710889,-0.5032912738094184,0.4190844462647802,0.46688966099496637,0.26747637916908806,0.4319995582698932,0.5076683096251697,0.9666062352930915,0.9937497516054093,0.933132212574274,0.44836301538490414,1.0045120457005197,0.36620210535713715,0.9680159224640165,0.42337504182574054,0.5092993618744159,-0.03333719544473916,0.49823405631981876,0.742050906935665,0.973742388760098,0.4609549220031792,0.48453311573270647,0.9068513300344834,-0.49932960476925303,-0.11335656572744707,0.9922483965115014,0.466952901891617,1.0277837361651188,0.986063914642618,0.6855668837616489,1.000557314916495,0.5279099621382439,0.07674353430413151,0.5639407427258214,0.19172928389340987,0.5323969728360607,0.9847140335597799,1.005044325614312,1.005044325614312,0.9847140335597799,0.9847140335597799,0.9847140335597799,1.005044325614312,1.005044325614312,1.005044325614312,1.005044325614312,0.566070026661175,1.005044325614312,0.9847140335597799,0.995297877481623,0.9847140335597799,0.9847140335597799,0.9847140335597799,0.9847140335597799,1.005044325614312,-0.46357933378207156,-0.3169033828503027,0.5254924585221745,-0.46397764512078776,0.4210267087181636,0.4441019069809992,0.5068695829627161,0.5316305076855777,0.4088267376301954,0.49941157316215523,0.455034560147308,0.5094637480835851,0.5253740651275792,0.49418170095121994,0.36298585266504657,1.0045120457005197,0.9946046285615752,0.9979849583413227,0.9710126568580923,0.9727284346407276,0.9765980613211342,0.9970272710728865,0.9453126962981468,0.9910397679201303,0.9798343380482949,0.9211491091820933,0.10598250769337332,0.6581402854735726,0.9358259757164248,0.5003691715866497,0.49227990664136373,0.5165751317171704,0.9881727735251895,1.013311309820074,0.34560777634065026,1.0322223883985973,1.0045120457005197,0.9814985931400825,0.9907809939539576,-0.532128802041445,-0.47828985141309593,-0.43577022341252525,-0.4182961488219551,-0.338060733382754,-0.5292628708886503,-0.5447618284336662,-0.555855997484742,-0.565154373059835,-0.3971752717326003,-0.40726732303827,-0.36959754272792456,-0.5445222633945819,0.5362149292290651,-0.33365274618738044,-0.07889353611128758,-0.48725321984286635,0.4441282305576646,-0.538093168346286,0.09590636782356844,-0.4061579771271637,-0.4524196434766139,-0.5393359955700165,-0.48501510533553266,-0.4835050201071769,-0.4788335006647543,-0.5024144290993001,-0.4620902166736578,-0.5102411343977743,-0.4584548544464745,-0.49085911105178487,-0.48717199700611746,-0.49419238811331684,-0.48788542043088984,-0.5208381860890775,-0.534733645677555,-0.5440630845218819,-0.5518128861678994,-0.4578280834178608,-0.3788773232456334,-0.3610236247498566,-0.5525771654262457,-0.286800189776419,-0.47279703112196547,-0.42939019725705346,-0.47889845141453147,-0.555409022291797,-0.5672045294860708,-0.5219327689946816,-0.498656004684988,-0.39762402328404367,-0.42786632368091887,-0.41759389247963097,-0.5383361888714918,-0.48685431437716153,-0.4778701797062846,-0.4410639482182097,-0.4090178325143627,-0.44421253149836176,-0.4224575359270788,-0.4490490681427854,-0.18875198517112038,-0.4578823949975547,-0.4608570455282426,0.19516231366851428,-0.4211017160882115,-0.452239373525193,-0.5285868128968919,0.2646166024634069,-0.15726510355834353,0.22130282986321032,0.167747181649848,0.1956878585107596,0.1871383879944827,0.19066633596843047,0.19070921427132395,0.06731566739593668,0.5393172610722554,0.1871383879944827,0.004380317920165138,-0.41059937515248424,0.48332958792697206,0.4404651202378294,0.4449939429046192,0.4420858051503053,-0.348443412838138,-0.5665855546302805,0.3495501458632539,-0.5008232446355896,-0.4440552668822712,-0.513927502126235,-0.5284566687686206,-0.4390887032523449,-0.4928309917203473,-0.44427066147108824,-0.43185404928413773,-0.5625838501707608,-0.37586543972028225,0.11684050075246455,-0.5493369239002626,-0.42166118251564805,-0.4441493133350369,-0.5417506847745163,-0.376754067827398,-0.35269646381327563,-0.5581150954964529,0.026107739478622435,0.5051451506010188,0.07066586291168138,0.2774391366624363,0.4994092090631005,0.3292538829965306,0.3267206915918531,0.1307397052321557,0.3225746306467283,0.5023296006033662,0.5206784714562188,0.3421606404359107,0.3571741538472858,0.38906489301707525,-0.3785089647148829,0.324925063932713,-0.13094856384571252,0.33242542623058546,-0.5239556874606075,-0.5282772331845527,-0.5372230778982151,0.32493104468005146,-0.4308866058902673,-0.42364414116675314,-0.4374897224718024,-0.4190136150150174,-0.40749912113057113,-0.5729653654841778,-0.5649514731463339,-0.5681371575980364,-0.5279410248383174,-0.3099033907368755,-0.5026682028463958,-0.0635595388921207,-0.5126108387579389,-0.5085665203334621,-0.21352835194888148,-0.5026692185922571,0.40266020736647173,-0.5146650181332765,-0.5064672863810812,-0.4804122183657809,-0.5057354599558881,-0.2558071791738443,0.43816443202377775,0.2978841373364115,-0.48350603377661927,-0.41318882557630127,-0.17027436665358928,-0.12076815539050602,-0.3617416098797749,-0.5177981160978421,-0.570175895602164,0.481115359782965,0.4274462280311995,-0.05666634552247919,0.2625755195706646,0.4320576429458214,0.43166142837613214,0.4384925435199543,0.25460734556968956,-0.5729653654841778,-0.02243097140092607,-0.533594704022736,-0.4633132634831815,0.4258233879789366,-0.3893313009307111],\"y\":[-0.38444390431977415,-0.24232348672265833,-0.3304398983852652,0.2072803312662944,0.1971570900940824,-0.16513309940796786,-0.3381973797230202,-0.40519369980843717,-0.31040766800906955,0.0035072982631061587,0.024902333499586142,0.09534901885332725,0.006843698823991333,0.04792436277601875,0.17323204690786004,0.1900387156678738,0.21602535376039644,0.07910699085898987,0.1456492529364009,0.18166013960385874,0.17656989279139845,0.0016152798262804055,-0.013921539742739334,0.006636514657918461,-0.035235380105062164,-0.016201811124749707,0.0321149974347146,0.04640620558381139,0.15011314941833367,0.11860067112986311,0.08268303067749817,0.04433371040407141,0.05727913441559681,0.11063290502613861,0.12166324261559978,0.19497404169351332,0.08910070951278797,0.1475293274691801,0.07134486765516751,0.13644797402225425,0.16630757350034617,0.15132599320727996,0.08112517957845429,0.13337114795653396,0.08752590062124076,0.09809561082817506,0.11428057713241975,0.10926354192868427,0.1297159647388007,0.02959028488622336,0.05291435771682625,0.04898799804745077,0.043074585975642184,0.05312931714336046,0.04236750765561197,-0.11411960490513666,0.03348378638563551,0.055242757510134764,0.17373124086204175,0.03133488741991378,0.19714518615172613,0.03162885824731332,0.15805871259390655,0.1277717076798579,0.0997694955229795,0.12658835325744308,0.19930065522175228,0.16120359094128364,0.10093695341692009,0.03378456373870495,0.08738114316711262,0.14232831681599012,0.16449485616379864,0.007386053053548681,0.1648042558987121,0.11326572734866237,0.10296988171367306,0.10374898797033244,0.06259159691123688,0.08073956955490295,0.05731822037043486,0.18225502865600732,-0.006790382632577731,0.010518592951259202,-0.023358778711287945,-0.005318304292506068,0.06488247200001922,-0.004266260999247688,-0.007879646962815763,-0.02802370507656832,0.009009693434851723,-0.20546963671241752,0.24502905010447823,0.26065333113347894,0.024889345146737518,0.06610869500072693,0.09670023679271089,0.09796534414500419,0.09212645242004253,0.12658835325744308,0.19930065522175228,0.07402199789454073,0.06638616630471746,0.11209169532777186,0.03128852436070699,0.058513590289223615,0.11396971994172345,-0.35243459404360344,-0.2166159827730169,0.07185087531108503,0.08782401806018249,0.004971343267324373,0.09494111752203938,0.20880439265347173,0.03664182097823604,0.12784792059676847,0.16392468636982033,0.08225793407339803,0.10267134411462403,0.07601491287754798,0.14657869016718625,0.05163372979639405,0.07825827076740073,0.23676125158873604,0.15986320481936364,0.002616195856452977,0.13661595503990676,0.206279030203188,0.11449173823401848,0.19214558764222792,-0.0034256969234706326,0.17447161371586836,-0.0034256969234706326,0.1829898919770363,0.09082315648654093,0.12517214734845214,0.073628094230908,0.1382140276487486,0.1254919253031431,0.15088267155432808,0.07827488080148783,0.09138082735981361,-0.00933047578826987,0.3947054582074858,0.3731407214481402,0.017687405974173925,0.20688804745760755,0.058698257864426014,0.03412397209580264,0.03778498195809249,0.31908893172320985,0.07466416580251883,0.1277133988999094,0.08031062810462057,0.02137432934374205,0.021516834032751734,0.036072900395999856,0.11115342244820833,0.07487243283635248,0.13301036785999726,0.04688013716646209,0.10138463696658455,0.12418033892500406,0.03782331678222471,0.1375980218440576,0.01053182405092643,0.0386236459322812,0.014349027827581655,0.040433306238367266,-0.015948180678490066,0.10665423041730002,0.017874460378569185,0.11619552008015663,0.0040582776188302664,0.0650392425141795,0.09059911161909992,0.012592936532065467,0.08778030551616638,-0.018086390963339367,0.17549703526696633,0.16106656389537596,0.21821388339241982,0.05223504715941613,0.04695498837012664,0.02900783414486264,0.013885229732669067,0.06607895507755897,0.03992907305365672,0.05523768863707228,0.03737072469109214,0.04278280381102816,0.05061603133774072,0.01814378246108827,-0.11597914088331349,0.038672118140604006,0.01683105029232029,0.019540403675047713,0.03557717836760785,0.01954088957635534,0.042041197749900144,0.01016678825605303,0.011696051525126457,0.05092646856987095,0.04932245712803487,0.07337761624087176,0.01934185271598422,0.0167208495024932,0.09541419070983712,0.04538205648752657,0.04885137894302966,0.04524058742656287,0.054668318251315705,0.06405443612185141,0.04982857103262351,0.05134909806378564,0.09357839778066772,0.11158534189413387,0.13518034246150357,0.10370571890438361,0.17160391150442106,0.03090134593597335,0.02322109340773456,0.03846436593128126,0.07832608566472953,0.08314918598648047,0.16703448040842134,0.04467849438657636,0.03162247780542239,0.03547793016626102,0.06973574527895007,0.09341139664050818,0.0347416831648932,0.023005276034652238,0.019268433470174547,0.2132315097104571,0.12436988395908634,0.1606011359082466,-0.006485994985520815,0.009324515541725432,-0.3105972940183213,0.12503406725741306,0.09312577481304687,-0.010598450310677639,0.040069267317190016,0.0005946218779948722,0.011956848205411555,0.12378920552814134,0.620450691860354,-0.18861134699516796,0.04656691864450087,-0.06391185316391094,0.0021876461817630154,0.007117100986719285,0.08692264928993491,0.05443321418792086,0.01037405846278959,-0.37106570825770047,-0.021839971190440646,0.3170829728501425,0.0696969175987894,0.13228526438696656,-0.4132857533561717,0.3506039790254605,0.0039930484150287795,-0.01288072410359176,0.014770051667248625,-0.010860624819294963,-0.4132857533561717,-0.048700082869244245,-0.03126727262121007,0.11848353535123622,-0.03621254801760215,-0.06522709906215719,0.024118851321908944,0.12228122456594352,-0.41913047492113364,0.05443321418792086,0.036986119059433276,0.09265270810338809,0.09265270810338809,0.14229500573626228,0.036986119059433276,-0.038626466442767037,-0.3259229738230067,0.06731193207264734,0.007050882990064212,-0.038626466442767037,-0.10424434019788854,0.12380742929643941,-0.3555994958116515,-0.3503959728807128,-0.1138664565215776,0.04734539546148,0.04503032291208117,-0.42550582716362245,-0.09155946557800144,-0.43398267346129626,-0.33073854347514414,-0.3764190048752295,-0.38107270358639944,-0.3538718536648421,-0.3644723332305068,-0.3644723332305068,-0.3764190048752295,-0.3644723332305068,-0.3764190048752295,0.19454291803351842,0.31456312780314954,0.14606820435094706,0.2295012585161721,0.060240415724507,0.16208802747164663,0.0010844648946288665,0.16864912348648828,0.21219874487084744,0.11871715662509617,-0.38476142665493956,-0.38518405614885415,0.03496454508097532,-0.3644723332305068,-0.3764190048752295,-0.3764190048752295,-0.3764190048752295,-0.42328708197020287,-0.3764190048752295,-0.42328708197020287,-0.42328708197020287,0.14099085962624497,0.1123199538697458,0.16849015338501042,0.15385360821744523,0.1752614296140249,0.08275123165986639,0.23405895368795507,0.18383184966472588,0.13715640896771134,0.09363090215361779,0.24332823727113817,0.14979057691682965,-0.21214451819339455,0.08538005821486605,0.041346058020282024,-0.2930547162728487,0.28338395420854784,0.037257543636454234,-0.41024570699270885,0.021264245627751095,-0.018152608959994442,-0.011903532013997973,-0.09384421131372103,-0.04610557490008542,-0.07630934917112567,-0.36460944714563115,0.041346058020282024,0.07153345756292696,-0.36759687170350497,-0.3552569673851868,-0.3603048875628055,-0.3691870780343673,-0.352525661585784,-0.352525661585784,-0.35565020005878223,-0.009027970081102996,-0.352525661585784,-0.3003232099255856,0.02158807958495841,-0.2493216773318455,-0.3461441486464773,-0.352525661585784,-0.3552569673851868,-0.3603048875628055,-0.3703948814008705,-0.352525661585784,-0.352525661585784,-0.352525661585784,-0.352525661585784,-0.3509302833509574,-0.3585675543657077,-0.352525661585784,-0.352525661585784,-0.17016405932800727,-0.3405789899410612,-0.22903579589089587,-0.17986487041466534,-0.32272753943153926,0.08865601052466572,-0.29800528397854126,-0.33535421832405815,-0.3380071894929744,-0.334674211076262,-0.334674211076262,-0.342276107793434,-0.32272753943153926,-0.3993937386807573,-0.3587747385317805,-0.3585675543657077,-0.31682276056674014,-0.3644723332305068,-0.352525661585784,-0.352525661585784,-0.32272753943153926,-0.352525661585784,-0.352525661585784,-0.34662088272098474,-0.34662088272098474,-0.3348113249913863,-0.32272753943153926,-0.32272753943153926,-0.3136043772445663,-0.32272753943153926,-0.31856009376383804,-0.32272753943153926,-0.32272753943153926,-0.32272753943153926,-0.32272753943153926,-0.3644723332305068,-0.3469265810617179,-0.3166454313068906,0.08865601052466572,-0.32272753943153926,-0.32272753943153926,-0.32272753943153926,-0.32272753943153926,-0.32272753943153926,-0.32272753943153926,-0.3143926480961368,-0.32272753943153926,-0.3703948814008705,-0.3526627755009083,-0.33135547679003957,-0.3058991798610775,-0.27520862471156204,-0.09898116250947923,-0.2937776405277502,-0.26228222419050207,-0.3445371598871341,-0.3435798286586605,-0.0883018594647164,-0.1117943202198057,-0.3325398530457061,-0.2522819865250743,-0.1609977977671968,-0.3010806205612873,-0.306375846487863,-0.3067297665689231,-0.13431966080879462,-0.036498566287901504,-0.08092602350968695,-0.10977655282350685,-0.24030427082024264,-0.15048322250441332,-0.046253301164466055,0.11251940764889956,0.10455372715516903,0.18847253139885622,0.20290495441814016,0.24158096633842727,0.20998385510063514,-0.0528692465138911,-0.13811383222560705,-0.10415471110505584,0.020439750253231654,-0.33725541460769176,-0.28723182257856833,0.2763271978656588,0.07314281886712752,-0.34018624316877344,-0.04264981007138868,0.01789459014024675,0.01789459014024675,-0.03773088621918685,0.08275123165986639,-0.012899970227243514,-0.126480871028252,0.029547112999169827,0.029841261784969576,0.13252112462159538,0.07344157872808568,-0.0699138436516669,0.26344905490862736,-0.15582816882000472,0.20290495441814016,0.04614787239054097,0.06647172124101287,0.07344157872808568,0.09386834097277694,-0.15582816882000472,-0.04264981007138868,-0.36753115659839575,0.14841770435486445,-0.23834336233906925,0.08813579220912414,0.03011915165777791,-0.035757719401166295,-0.08260021849115251,-0.3764190048752295,-0.3383502317965303,-0.32272753943153926,-0.016560108644726863,0.09386834097277694,-0.32368215686450313,-0.07114616358295203,-0.006998272278239316,-0.3241913564960609,-0.3241913564960609,0.2952649164761683,-0.3644723332305068,-0.34662088272098474,-0.04264981007138868,0.05185336847794694,0.04941575888043643,0.004100901859450878,0.0516953736490805,0.09799085675951608,0.028922652301051708,-0.0675290083734315,-0.3150331865186891,-0.32585207790453746,0.024541480815823677,-0.34662088272098474,-0.06914136398537735,0.10384656525194638,-0.352525661585784,-0.30120294865342717,-0.1076208391479266,-0.21740941393831942,-0.1076208391479266,0.020439750253231654,0.1207998749768881,0.08487437628222706,-0.0033538949783357853,0.1068988191529779,0.00876492211357781,0.061623159218561326,0.043168188365651096,0.005534948256424416,0.015613328863635013,0.006261564093557765,-0.018100369423428422,-0.3517881308309913,-0.27946221860140985,-0.3764190048752295,0.042020361497870216,0.21380176346893226,0.0367459718233245,-0.009467589703394242,-0.4205068415784018,0.07960992847617697,0.13584252213643427,-0.11218540156682227,-0.08659985195219555,0.010841734398562944,0.04002270411985113,0.08321453458441032,-0.29190239143021934,-0.4003805527702141,0.04870655160992303,0.03241431801069776,0.06115335041291463,-0.0015485596045488475,0.08595499315954036,0.13634896434258412,0.024078729739024914,0.033911599035527255,0.08013251006242961,0.16504559412042327,0.03550510549311644,0.04252696489206111,0.012885591603914876,-0.07788516574438446,0.09148638907363255,-0.13936032312385374,-0.11241104609317407,-0.14250243920508346,0.054859116863827884,0.054859116863827884,-0.028167159770836524,0.054859116863827884,0.010796801812771517,-0.3947465816210415,-0.3393081043569543,-0.3585675543657077,-0.17888431438665892,0.2143445526208788,-0.1479123237385621,-0.1240084726873021,-0.20620687484320385,-0.1540657052962357,0.1733392131946581,0.05746066123401366,-0.26734329185612477,-0.1626920686577534,0.08660885079175878,-0.07686278845182411,0.0726524897262859,0.005398122114620537,-0.06685374033009873,-0.09881025048261591,-0.35290011128916565,0.1377096837119588,-0.01860646633777878,-0.03860770332907421,-0.37245835242235287,0.020811944447172177,-0.05558233672870866,0.06357829097955346,0.014770051667248625,-0.07503076247907663,-0.33642017748036934,0.1780225677913521,0.02154817789881757,-0.01142551059895894,0.05746066123401366,-0.3393081043569543,-0.3393081043569543,0.02154817789881757,-0.07389134942082688,-0.23686699282937965,0.1345177791090596,0.02154817789881757,-0.36141869067597776,0.04031784169850439,0.03313676092326984,0.047250836885081235,-0.036472250583414016,-0.054126219323539185,0.12231294147596607,0.04193063809538078,-0.00881954265630997,-0.3393081043569543,0.08013251006242961,-0.014200064835722555,-0.009417440407996724,0.016164563660426755,-0.2972789231956708,0.04612801745309263,0.007390740301130441,0.049033947241499426,-0.3350185091574592,-0.02518757013679678,0.267053172627375,0.10750164861618684,0.028995916756476395,0.03871543559784983,0.12119238807213313,0.02528682806609958,-0.011903532013997973,0.05486400300461662,0.038378501216152494,0.09936260375972374,-0.37662768974887856,-0.02378866358387975,0.0172623129932444,0.005554521508377524,0.04538943391689466,0.0749617947973715,-0.07206221171285822,0.12313811122890765,0.13616550894691845,0.08842711472968995,0.0953882462186323,0.1384086152883734,-0.060506079591630464,0.2746204217802048,-0.4129133533463118,0.09362479128589514,0.41747671800462494,0.002521090096097223,0.004041617127259356,0.011353547091021045,-0.13481291559716152,-0.17419393520303653,-0.1477648661437175,-0.1139226193047713,-0.11402712984133967,-0.3287694322114628,-0.24561427033976813,-0.36105563258059264,-0.08957550890918123,-0.1701555323824345,-0.18483337488451704,-0.20863161241360698,-0.17831177071257887,-0.31649578111243504,-0.3518856350779542,-0.34604657131826444,-0.39461475346594876,-0.3591935568460436,-0.35495429717910976,-0.3708165159368589,-0.3883656765199524,-0.3044898703929048,-0.35647482421027193,-0.15151110950245175,0.09761006093529553,-0.1744859394926413,-0.03843340161275876,0.14009914976180984,0.023944225592550324,-0.07971584705141921,-0.07546834446165279,-0.1888966519450855,-0.15079388628229026,-0.1449438496346567,-0.26723237117400145,-0.27384359072225817,-0.2917484117856863,-0.293525333516102,-0.24888642986269333,-0.2602549667064234,-0.26619707285687344,0.19468922157056598,-0.0267732443405626,0.03927161545843068,-0.1920581085711543,-0.05019817757423346,-0.16549187845920157,-0.16152167910981033,-0.22125057824289024,-0.12748281333881317,-0.10891550663462206,-0.11101391194748934,-0.14018173454043872,-0.11972693937091114,-0.29964099558244234,-0.12136361393628736,-0.17484713055348233,-0.15664167858232902,-0.1377233742451486,-0.12064202330279811,-0.2688150557034847,-0.23377500849913327,-0.22592794032486627,-0.28888217913885983,-0.22978441307663328,-0.317958671141078,-0.2875576506809788,-0.22452221735474934,-0.28837825173988596,-0.26430748698485446,-0.10193727608164688,-0.1323213774421461,-0.01879089772887682,-0.21544188357087138,-0.29487651241039464,-0.2692713545436444,-0.22637245230987857,-0.11304780769983123,-0.05974145940862907,-0.12799548332578198,-0.11226408675729208,-0.2948391270598638,-0.33330180064652326,-0.28080448202157815,-0.3198001047249013,-0.2843170141295515,-0.36785364958623046,-0.28677311226184665,-0.015784152384433623,0.027727283819942022,-0.12852108113038668,-0.19091214228398418,-0.16038117951079484,-0.18918004055556395,-0.04728654750165036,-0.22446675925742937,-0.16268445055975625,-0.12273773254486257,-0.12387910899480313,-0.1515011997567777,-0.20606149503085724,-0.04366200235349393,-0.2733472431242073,-0.28955520528580686,-0.27082911010636784,-0.23714336224807653,-0.3338808670557269,-0.3120574305502118,-0.40176824394742205,-0.3536594620582238,-0.3666954335697655,-0.34482811435467653,-0.32459488931356256,-0.38141700166759646,-0.39863507226741424,-0.36532500880657637,-0.37518042717314104,0.014750807667522655,-0.019641600193885715,-0.05907757252175425,-0.21200631402630413,-0.17078083359509735,0.10904650269956291,-0.007904335927224079,-0.22813779588215524,0.12035103489812907,0.062337000447502636,-0.1412358926232537,-0.22556402592920383,-0.2463043075755126,-0.2081982010460898,-0.29792728576525823,-0.2101434891187057,-0.13639487128299818,0.16541691473126122,0.08309989581537382,0.29435440367100163,-0.06487653906052887,-0.05884501659149035,0.09554459249488371,-0.2355348936007827,-0.14890578463430063,-0.24973686560605238,-0.13847572902795577,-0.20238253546761042,-0.16356427314876537,-0.2958484183131094,-0.31396447476679845,-0.28994363944831025,-0.2717583986194056,-0.2915506282076534,-0.3242566996697108,-0.26557132424014174,-0.2812644500317105,-0.1660797805948748,-0.2780653913256466,-0.16331332024296696,-0.07427070205595028,-0.35689027846844695,-0.11844043642155677,-0.3807836217578923,-0.3839889551306227,-0.3381430476304573,-0.3202328146185286,-0.30517837884844584,-0.3227361726385487,-0.3195367829618859,-0.02877736296681702,-0.014470784133122071,0.07002371951550863,-0.1823453512987272,-0.10534691710471794,-0.2658843360244321,-0.11493685200182811,-0.20927686353872654,0.048153301995164384,-0.03934302039289867,0.018796914767077438,-0.18023117281234502,-0.11985112852336219,-0.02554025987372782,-0.2242575802393546,-0.11512697581568605,-0.07106114640182261,-0.03504830312312149,0.027354933805969192,-0.11977020301116958,-0.042846543242071544,-0.23890464772859554,-0.34678098304196303,-0.30011167072745465,-0.27372261574791473,0.09847930929093547,0.22176400363900373,-0.08585467506531128,-0.11501163874016537,-0.27974663141749817,-0.2435141916118649,-0.10691240524647815,-0.1149718028635973,-0.24039053890081832,-0.2524045313048981,-0.230777795196589,-0.2577884976710059,-0.19607826705394416,-0.2799503461996835,-0.21982742967003246,-0.2702309580053303,-0.21814635067396282,-0.12491171965132966,-0.24940343009995447,-0.28411779186738473,0.019974826122316387,0.029459869549958908,-0.11701721777145119,0.05340753584803613,-0.2452861606679023,-0.13925992788015978,0.07892262049126067,-0.34420410390750417,-0.2283426035898437,0.015588733131938592,-0.2684936248082324,-0.1699684572472456,-0.30723573283625316,-0.31275255360265797,-0.3739210857439617,-0.27273828654678356,-0.3068614768179307,-0.03130595766041642,-0.19753688105512335,-0.23833858021758472,-0.24690256302268748,-0.24910090064447643,-0.0355430615928619,-0.05842239620524057,-0.1390385528991849,-0.06500106686125046,-0.10000469212377763,-0.13118556432448525,-0.2882728406465658,-0.05206721632594119,-0.016498680972588987,-0.12060787608948914,-0.2385851682698365,-0.13050995165186582,-0.23558679112348216,-0.23231142862104423,-0.2503031953981914,-0.21179606517929095,-0.23962512927166096,-0.25360927736677846,-0.24614411595271185,-0.2437266113958079,-0.04954131265087315,0.15837902332630918,-0.020169752214802543,-0.24736013085486944,-0.30011833587235826,-0.28879305116882953,-0.21783419209882723,-0.26799879984040365,-0.08876515764474206,0.12835635759551478,-0.15260317545846436,-0.1648809864983066,-0.04173477643753354,0.02499093756557792,-0.3815422881712352,-0.37231877502021354,-0.3508862956947117,-0.3877913651172317,-0.35590051280755136,-0.1780061342555612,-0.15369214808108494,-0.09122255643568111,0.05098110266919481,-0.021185239735658397,-0.06508003226689073,-0.034323381171411066,-0.3589954588616704,-0.019100006091205025,-0.07579031556865667,0.05344412712659586,-0.4291347789369022,-0.4344866008602701,-0.4414828305609221,-0.4266511007872791,-0.4414828305609221,-0.41998853044592327,0.033323234793575136,-0.08524474747919084,0.07362503242884168,-0.029485875412200224,0.03391866248453492,0.05716095958961361,0.06995894565924578,0.020638015207718498,0.01822628890407399,0.026140928191912906,-0.01100418543581393,0.20051574993036103,0.2660434129173168,0.39076821806596784,0.16976400094890756,-0.05631823290928103,0.004926516246939778,-0.004710490299441254,-0.22590359310968033,0.06574743654011438,0.9343619341934929,0.9362358784141691,0.7360642570482782,0.7610343352761699,0.9327665559586661,0.7303762843494155,0.9326917047550018,0.7339805342144278,0.7298900313059467,0.9496074792633177,0.9393604168871671,-0.20431891586264345,0.057601390200414423,0.9327003379620109,0.9296420174856678,0.9295757994890127,0.9551691577596813,0.9408723107113203,0.9362358784141691,0.9398401282791815,0.9342957161968376,0.9327003379620109,-5.470003271612563e-05,0.9363794390306882,0.9326917047550018,0.9379748172655147,0.9327003379620109,0.9327003379620109,0.9408723107113203,0.9327003379620109,-0.24038326740705507,-0.26283462125364077,-0.2943927485542897,-0.31932283834162034,-0.26228215021351714,0.15266830580525806,-0.12543202770704587,-0.13022413822115544,-0.2554940241082997,-0.28896816698281275,-0.2545919691131661,0.23220740826584466,0.14164986341547994,0.06654502721634603,-0.12544399107253404,-0.17676164741840705,-0.2714139456074995,-0.23129865394097643,-0.23420080831835766,-0.2657173397016267,-0.15484181055544463,-0.17312902245098175,-0.24696383419697102,-0.25250824627931545,-0.09582171735214956,0.09419287868185393,0.39733395780608116,0.03221755059261694,-0.00016404453534808028,0.10042565813406916,0.68071518919374,0.5183857413040437,0.09261057195816176,0.36600004218260695,0.111496927337381,0.1036519862552501,-0.021702728056464022,-0.1724626794817765,0.0033916660791085025,-0.032187642629330486,0.054822392481656025,0.025578446093149104,0.05052556558248589,0.3094039469497765,0.11029812417310329,-0.016001014153406098,0.18586992105336306,0.09613822436822873,0.2841001198416707,0.20185717941543033,0.31146526814840264,0.8464515852498594,0.8464515852498594,0.8096177620269371,0.843327046776861,-0.2436617200234355,0.30648813509868006,0.24447717463647278,0.2194350159177229,0.6749126270435296,0.6702589283323598,-0.29750458467901597,-0.21673815557478227,0.6662350432811778,0.6625559422125006,0.6744242824445057,0.388400294758076,-0.04085552284665934,0.2219725113170887,0.2745990144781637,0.09696127216380925,-0.1732337836784459,-0.16557400721105675,-0.17163840544361939,0.003351631870192549,-0.18139961463694523,-0.09116774199167393,0.3766205200293071,0.026414433385542807,-0.22467383183416,-0.16440402355763947,-0.03946087216735612,-0.07675561013194539,-0.09082604472419202,-0.3989793703486115,-0.03586126262080136,0.09328223043650977,0.239668016553111,-0.3478653162764887,-0.25820051414336825,0.9203445408736289,0.8596032778671504,-0.07684977422538103,0.1225634986324814,-0.3218532400658962,-0.18815477602965167,-0.1713923493960457,-0.2986313671218603,-0.11641616526442958,0.8448205525648841,0.8945420943990493,0.766956216554503,-0.2335139092508805,0.9321371865632585,-0.37231877502021354,0.8344229331440817,-0.2869198591157805,-0.11821012076647389,-0.05051264943130049,-0.1488587553955044,0.3896423893602634,0.8641586291484672,-0.22365267322316448,-0.1699737075744524,0.7125485577804721,0.1113322202371462,0.07360528057348117,0.8698800386672356,-0.19829169759153942,0.9670747330716005,0.8599515274531274,0.25343042161139023,0.9229136734122366,-0.07964694733860468,0.0081559469506779,-0.0022314159831222334,-0.032064368363259224,-0.06849555555187128,0.888401208183946,0.9340650651989698,0.9340650651989698,0.888401208183946,0.888401208183946,0.888401208183946,0.9340650651989698,0.9340650651989698,0.9340650651989698,0.9340650651989698,0.003047360401341006,0.9340650651989698,0.888401208183946,0.8977748236029408,0.888401208183946,0.888401208183946,0.888401208183946,0.888401208183946,0.9340650651989698,0.180768511260994,0.11487295616969163,-0.08516158645650318,0.19030232953335655,-0.2860202535870523,-0.2655875573710004,-0.16274722698559663,-0.09426178391671483,-0.2267986634523592,-0.16021277344763643,-0.24260608117965096,-0.11813526956280937,-0.11363267858963819,-0.14850977970555904,-0.37994690993640856,0.9321371865632585,0.8848656241143644,0.9200188709196963,0.8415627234612527,0.8557529032887702,0.8733330347972107,0.8904848874003731,0.7947148233899967,0.9266326162731491,0.8756799379227701,0.8152680974892242,-0.09842006685491106,0.8947184020226011,0.7748287844891543,-0.1323015780149101,-0.17330988253913757,-0.10807355573942726,0.9029636158750703,0.929683657806984,0.23607258881349855,0.971338756514422,0.9321371865632585,0.8806139722745226,0.8988809359402106,0.049261191290271074,0.10332388317530446,0.26578644445403016,0.23987602774038846,0.19307851672924511,0.0599731572683589,0.014257682115782683,0.019980404529652804,-0.00016404453534808028,0.2936125738545541,0.2620698252727467,0.30897070112420477,0.008927421657841932,0.019991059869363108,0.05120198062677617,-0.08691717460326845,0.12199623368853037,-0.2231816791630533,0.03696736904185768,-0.14875976053076698,0.2722008659750643,0.18496818705243376,0.05283746080386577,0.1438175676995437,0.15145958930970432,0.1321766718805394,0.07832024722839963,0.17006362416918336,0.09089104333586273,0.15713526206284184,0.08493723886484293,0.09654985128962564,0.07780669245100261,0.12787809522157778,0.09160283146740267,0.05000232704913047,0.023693755482875643,0.021657028296285036,0.1780941486318282,0.3377396329718197,0.3789427812952946,0.019179170036649214,-0.06328780621717003,0.13295577582199228,0.22024284724556203,0.11809301078152426,0.005064085353798145,-0.006672321776442873,0.06210214064011539,0.08077798965832782,0.27954505065939805,0.22807096253080847,0.25819701636009873,0.03208593099776646,0.0986901257163324,0.1083945749123813,0.20910801746441993,0.2839168882652742,0.2067325124659554,0.13821661962561282,0.11552172576706858,0.0774555339485987,0.17286035011312412,0.19291089257285388,-0.05944789008902387,0.05768284105734078,0.17537996223619734,0.04285815790623862,-0.05895550656945206,0.0042954036224125995,-0.16491268962599026,-0.21741214342303467,-0.13018992186878126,-0.14817848629342759,-0.14505394782042938,-0.13951816894509436,-0.09826489028871613,0.09219486800393503,-0.14817848629342759,-0.2426185260771546,-0.022787737660553697,-0.1650568072351888,-0.280982745632572,-0.2702387054503881,-0.2762805982303117,0.2601111526800847,-0.0030151808456183138,-0.39973803676195463,0.10686410884360686,0.16283716068346737,0.07243239314223532,0.049170765882986106,0.20973668593846534,0.09302850741517618,0.16824960660132385,0.18055704488914537,0.006536341940269993,0.3207858014502038,0.11535001943514318,0.008346959441134708,0.2397070514892588,0.18237595603097093,0.02879218498405284,0.34650365084623425,0.39535864206865806,-0.0024636985983481174,0.0027212367472369105,-0.129838090794443,0.06272310277353554,-0.15701025003627853,-0.13956511921857487,-0.03325804230145275,-0.04202704886027276,-0.04339978622317072,-0.04741878121778105,-0.13864551191862687,-0.06669719336610185,0.004118521843888209,0.023076017196359478,-0.06418977645720274,0.2260566608828457,-0.04686631017765735,0.11610273355499787,-0.01238773154450214,0.06969145618173797,0.06371347515737041,0.040287967932872114,-0.05466780304487647,0.21305275004572172,0.21998783678785394,0.18441852964239838,0.2478819187789,0.27191882268486467,-0.016557230725167727,-0.008224430945320632,-0.009972003003675796,0.050745576054207646,0.006634918769204311,0.07800204877874253,-0.04696834886654729,0.0681583609578344,0.06406191658212143,-0.017722013975067268,0.06732054637364895,-0.3562762025391183,0.069037638068057,0.10565790365831437,0.12736881715675247,0.1310448877938761,0.02805351701134591,-0.25325788948268274,-0.059332865254762626,0.1404408992213949,0.23682023918859496,0.0837258724554812,0.015060485139219613,-0.02894418661754466,0.07660382191053544,-0.015028070486996148,-0.16932859011726178,-0.29913083634409293,-0.15640088359165424,-0.16042215066708856,-0.29863653094498194,-0.29885494276516544,-0.25545437158917117,-0.17319283178502312,-0.01655723072516772,0.1221996841593122,0.06255673824613964,0.19948012318541583,-0.2614776071407872,0.28162906613861344],\"z\":[-0.07334184752584463,0.05327176384716436,-0.12016232980885953,1.1515553383071881,-0.3073001023478654,0.3282928396393804,0.08102163361139382,-0.24405743831237228,-0.0987411300504926,-0.22677774895029923,-0.11867898164249593,0.03209680211826597,-0.14875942802540057,0.01594730018359857,0.2759508259249987,0.3454938405162085,0.44443388474224393,0.11222274017831262,0.2010702483060015,0.28322781044036216,0.2999363933837658,-0.23786143820453806,-0.24579123602662495,-0.18685334301380435,-0.2942861166520314,-0.03771480599363196,0.024892444864945674,0.052590937119043876,-0.07314202201900243,0.1510643239856904,0.03760833337560263,0.010541091152067302,0.00799759169419098,0.17315807785689272,0.22013709844664067,0.22918812292004392,0.10009619852195502,0.2935941842816577,-0.0031510561320808018,0.23936339558001118,-0.07531646485924753,0.17849004068810603,0.06202067508311959,0.16982200263560104,0.12839215454364997,0.21734155089261076,0.20084297737204065,0.07590067925260163,0.2560411087349052,-0.13557865475004552,-0.045851431500494,-0.055531134328883715,-0.06314898805582381,-0.05941614157598913,-0.0786511583892316,0.08009285252360614,-0.024337994677005904,-0.044096536909663135,0.11273398794253367,-0.0687090628457403,-0.20301125089219293,-0.13774692473080885,-0.33476302789586765,0.0496313202108166,0.02075931005153077,-0.20008809173599554,-0.04324757853413102,0.13153765937298467,0.20385831262228224,-0.08301818701895863,0.038339173581724874,0.19190730457993535,0.2037542280444852,-0.14960707690878156,0.23508170473907225,0.021424342048341243,0.08474456613013465,0.1388449346418096,0.01589855698029431,0.056742726942080705,0.0458261740549842,0.13846690523377905,-0.24070444790608725,-0.2540539136130814,-0.3369291346565904,-0.23075201916648647,-0.007332588730902021,-0.2548921833932997,-0.24806578753470246,-0.3315171618440857,-0.26132610503471554,-0.3303972474752481,0.43682096000836446,0.5293597812676665,-0.15182062317086112,0.013621754126884858,-0.029177554546065475,-0.034076020227057316,0.05142079569826269,-0.20008809173599554,-0.04324757853413102,-0.3522884582224426,-0.10977833659043111,0.04383492277018607,-0.08226471112153616,-0.036549134506546205,0.08303726119241259,0.03394651185048157,0.0954802406973903,-0.0021601250312064126,0.0352753786038921,-0.16021225872113787,0.04930518408422292,0.3053812553243516,-0.16191690668768832,0.0711392735363476,0.11536494504941211,-0.03902791669681523,0.050373543492027335,-0.003240419253251242,0.053292699987313646,-0.2045443004066047,-0.2142118614467603,0.238671757503549,0.15478777144664904,-0.32023458380044534,0.09916043511640786,0.23624209895953296,0.06836876691798575,0.14465941109784414,-0.31796003229236786,0.1152060299587496,-0.31796003229236786,0.037427061666101595,-0.013445554191530698,-0.03127334381736121,-0.12093122027892082,0.18483371987219202,0.029223887701737037,0.14831430190801956,-0.20457755321763,0.06838177378986653,-0.31509057374365695,0.6266129248525618,0.5721023704346305,-0.30746891211707084,0.248115570852358,0.05969680462471681,-0.030202891023854445,-0.03182584084832469,0.5259602306164592,0.0011160709251634498,0.1974932926777273,0.03215457604086632,-0.07470064984542057,-0.10938652961151808,-0.08254451403176315,0.14518033823475918,0.022922157597532626,0.18244680870775834,-0.03549917661001465,0.09751477475344689,0.036385561733839174,-0.2730602240171584,0.07519227968197377,-0.20177053929888547,-0.2343937260690218,-0.25726731062851854,-0.04373896459349187,-0.24585226586252182,0.17855277229122968,-0.1577560665060935,0.04264894484460816,-0.12444042465995285,-0.06524778881167835,0.044037674713419905,-0.17687113564087395,0.057202503649229845,-0.3027467905245548,0.21430678509449635,0.256601745682204,0.33898313641843647,0.011247958890598058,-0.03572177291221293,-0.19432134640517545,-0.15280710169499104,-0.10345340596966446,-0.015939962091380974,0.005405445279600646,-0.047190751273527426,-0.0735330487490976,0.003517651024059798,-0.1449800391130006,0.08168729994905707,-0.09223367022282981,-0.12312859000362911,-0.049514098351995064,-0.057216286054956024,-0.08806947228581492,-0.04796241931103898,-0.10324314357248458,-0.14866967685977908,0.004948116235305176,-0.009139082621502998,-0.06187737781157523,-0.07712070106474773,-0.032962602915756284,0.16899348251129134,-0.007026097579726626,0.01101703225565388,-0.030275333873074177,-0.024771471519223872,0.10065458916345041,-0.012900535668961067,-0.009078052785605886,0.11800821076246969,0.0834385873297816,0.20193303719182612,0.14614470170985527,0.25448193955584925,-0.01010278429878541,-0.038505402957049455,0.0686966369922454,0.07672176668776687,0.20397322759975223,0.32969651447678877,0.010674539247284733,-0.023495376278437525,-0.012728098914009866,0.09895981477662372,0.10857416136614247,-0.04365041934515158,-0.08708663022110438,-0.16578654009710822,0.36985721150218853,0.14575821749247103,0.26346847704883314,-0.21835970019692935,-0.2096870743424979,-0.10496439974196957,-0.11633847716637312,0.12794762157601966,-0.20027495157370895,-0.10201919097189273,-0.18457879150572673,-0.13324635746510874,0.13022601662781222,-0.19988693123824744,-0.2160171014550398,-0.0314051244497578,-0.008692582470331516,0.036986305895290436,-0.12137542161484592,-0.007989281490789193,-0.332568738557628,-0.1378863436912955,-0.10316877777743368,-0.2098411657854458,-0.09328580940410867,-0.17858452076551137,-0.1655699791942249,-0.29749928997031766,-0.030151384473957148,-0.1778404772888289,-0.23229995054176417,-0.28728467886882986,-0.26529040769593765,-0.29749928997031766,-0.2301144086870746,-0.053339109999342764,0.05016508620929419,-0.2089376101318678,-0.2341411617230324,-0.05125376632402232,0.14929145005595473,-0.1319914681571666,-0.332568738557628,-0.12322808465865095,0.11093158272129514,0.11093158272129514,0.12797357661292677,-0.12322808465865095,-0.10706701463777128,-0.07617657834579225,-0.11077926733449771,-0.11066551303699665,-0.10706701463777128,-0.13607815491722533,-0.10382746536823613,-0.1331849739520394,0.04841361302367194,-0.1378746175418933,-0.04030384192131416,0.01830488705966706,-0.31973928632408405,-0.008439224417011601,-0.3221067337048208,0.00946448797284768,-0.023516582211281778,-0.055736059110451285,-0.005530674312151879,-0.02866059226807019,-0.02866059226807019,-0.023516582211281778,-0.02866059226807019,-0.023516582211281778,0.2586858531271732,0.8384854221212688,0.09836871002192145,0.39053816676125286,0.009740896125637801,0.250373949644401,0.0891895734830314,0.418533549331276,0.35456029134946104,0.17700427555003242,-0.010131693015835901,0.0038944760050751573,0.01242770763606795,-0.02866059226807019,-0.023516582211281778,-0.023516582211281778,-0.023516582211281778,-0.2921618083137288,-0.023516582211281778,-0.2921618083137288,-0.2921618083137288,0.1439863767001273,0.1470022902159363,0.19089176739638425,0.1021342984291374,0.1722668539468449,-0.00814833259108569,0.33794624171441207,0.2857830199209764,0.026592738120575034,0.013228441565948535,0.29759698143485913,0.10211341377698169,0.2732470689338416,0.002085544814149408,0.02682725396069567,-0.046581847201979845,0.38644985978638285,0.032375844165354654,-0.053526345337916795,-0.06880740366676992,-0.2920368819467055,-0.25621751846637913,-0.29357162645639573,-0.23989610431728184,-0.26049637770875167,-0.029255499308703543,0.02682725396069567,0.01920068945806078,-0.04657027400823328,-0.05771078182605002,-0.01982379975746566,-0.1594084712249546,-0.03380460232485858,-0.03380460232485858,-0.051714284065021654,-0.010984019698871566,-0.03380460232485858,0.06339801256013648,-0.05077745559723035,0.16945231795372687,-0.019405056000230844,-0.03380460232485858,-0.05771078182605002,-0.01982379975746566,-0.02121117099775555,-0.03380460232485858,-0.03380460232485858,-0.03380460232485858,-0.03380460232485858,-0.030204715743701684,-0.031530050816781084,-0.03380460232485858,-0.03380460232485858,0.28605828206680317,-0.03894861238164697,0.06602183249242966,0.2673916086849313,-0.04696208098714626,-0.011017791139796606,-0.06314471527274668,-0.11281849133235641,-0.13445571758552835,-0.04181807093035788,-0.04181807093035788,-0.009677878280833215,-0.04696208098714626,-0.3024498284273056,-0.06962396580518501,-0.031530050816781084,-0.04983153953585712,-0.02866059226807019,-0.03380460232485858,-0.03380460232485858,-0.04696208098714626,-0.03380460232485858,-0.03380460232485858,-0.036674060873569496,-0.036674060873569496,-0.04241297797099129,-0.04696208098714626,-0.04696208098714626,-0.024027183687015057,-0.04696208098714626,-0.038125288476541744,-0.04696208098714626,-0.04696208098714626,-0.04696208098714626,-0.04696208098714626,-0.02866059226807019,-0.009130042758534827,-0.03167214945372545,-0.011017791139796606,-0.04696208098714626,-0.04696208098714626,-0.04696208098714626,-0.04696208098714626,-0.04696208098714626,-0.04696208098714626,-0.02928849596593711,-0.04696208098714626,-0.02121117099775555,-0.03439950936549196,-0.018956115730155997,-0.08730800256922676,0.0009362026027800857,0.4238678245113174,-0.09273613051649147,-0.002898625752340553,-0.032255664618267205,-0.02902909510685911,0.44824852090527045,0.40705357286882526,-0.0331324627939447,0.10074938180518163,0.30375547835421884,-0.014844589519105061,0.005055011259726715,0.01998883816176409,-0.06471931982697648,-0.06415818422726814,-0.04929666862255258,-0.26279456631157055,-0.3167183912063538,-0.28231371912755876,-0.2584995767289778,0.4020442189642194,0.3027154593260484,0.32525252034096325,0.1864898111754948,0.44122582946451877,0.3975587186935135,0.08597553535056494,-0.020731552264883466,-0.025142392954861127,-0.0592720491604815,-0.03198770186255086,-0.10108293318654875,0.5488330188984958,-0.011046324221520779,-0.006389736208855486,0.09179923646377314,-0.2693749971286668,-0.2693749971286668,-0.0312898161522427,-0.00814833259108569,-0.19152400923508994,-0.28222846057624706,-0.27038524339956177,-0.27451900718545524,0.11380432414581276,-0.21050345125463432,-0.06044046058460391,0.32432808677569913,-0.012123176618750772,0.1864898111754948,-0.1296076786228973,-0.016329134227906637,-0.21050345125463432,-0.13947381027220168,-0.012123176618750772,0.09179923646377314,-0.03172559531317685,0.07160081385296216,-0.02354284689768561,0.07724455481303705,-0.1563928230019286,-0.030368518337367537,-0.03089800917332971,-0.023516582211281778,-0.13651048968796198,-0.04696208098714626,0.00900462024216988,-0.13947381027220168,0.04791172232363355,-0.02757209250957853,-0.038447512909267435,0.09778392418175513,0.09778392418175513,0.6737424303360522,-0.02866059226807019,-0.036674060873569496,0.09179923646377314,0.07334695248386383,-0.11247546819312132,-0.14045456312852989,0.16797480848972973,0.273705608905645,0.014702259144145479,-0.01813233748995502,-0.041279379494661456,-0.06487176272730936,-0.06527993534493337,-0.036674060873569496,0.026051697003556664,0.006922750305815152,-0.03380460232485858,-0.08560279522830071,-0.01742818304322242,0.11928486069033467,-0.01742818304322242,-0.0592720491604815,-0.009523309445192314,0.03799220778072776,0.03205685980200013,0.04345583646082624,0.022042184792413017,0.048100899943053506,0.005169157159605235,0.05225902891518239,0.010105233151710372,0.01771293674409157,0.027245156974952976,-0.0011122780568496322,-0.06144108682286711,-0.023516582211281778,0.14891272155318294,-0.2467251416308705,-0.0280628185322072,-0.31568548078429043,-0.31294094860260274,-0.06787754186708299,0.1372926131769221,-0.18429804795594545,-0.21290789543690813,-0.08558951802984009,0.0010192370625348476,0.023354177595656483,-0.3424771451062616,-0.22490961157161665,-0.1916941553952095,-0.3333920624627331,-0.144687472295493,0.02126417853002242,0.035042752609966046,0.26207893821861145,-0.03114723262537104,0.02794071796239223,0.11102377975727712,0.1469143307243638,-0.04308693422328611,0.013975639011345567,-0.15103397953347814,-0.0036096022494399695,0.08039489499660742,0.294735891799928,-0.2309332067064119,-0.03669394008553153,0.06461596233596406,0.06461596233596406,-0.29013725169707827,0.06461596233596406,-0.2911691979193959,-0.30328183851820656,-0.03592253327477818,-0.031530050816781084,-0.15166729586368158,0.2349648114403686,-0.09265214577068129,-0.16093644757575734,-0.07194917447465009,-0.19188879614735668,-0.11839914110825649,-0.008035337519308084,0.15281554327334906,-0.342185165192999,-0.013161988287403455,-0.10168485505153382,0.005294935067611204,-0.04874025209979376,0.013742483435222294,-0.005089400654495561,0.058566414026357476,0.16196091897323933,0.044007396683325414,-0.00748628183839019,-0.12429041107467677,-0.28955923037690745,-0.023276347546743428,-0.014906118090008472,-0.28728467886882986,-0.1968234445932664,-0.040599132146693445,0.2978691891191768,-0.020025653915790233,-0.014796658113536811,-0.008035337519308084,-0.03592253327477818,-0.03592253327477818,-0.020025653915790233,-0.07736770019633206,0.205321063240067,0.09960617615131197,-0.020025653915790233,-0.022055726146389742,-0.06722448793008397,-0.12995554807554527,0.023957795411984773,-0.020845663182767506,-0.017696649154667524,-0.018272582527416523,0.20518633410834017,0.14094880039193003,-0.03592253327477818,0.11102377975727712,-0.14635279258129233,-0.2728628949693599,-0.23517453782458134,-0.1411234456304017,-0.10534212176925221,0.05010128037852861,0.01941901425397193,-0.08050689295939523,0.020500241794626457,0.03309518881982676,-0.05997888418938738,-0.17372955403641868,-0.07547160371803302,0.1412478055109984,-0.10346456780897724,-0.25621751846637913,-0.12266105067600422,-0.10561963478455981,-0.17032218227210033,-0.32255682918526607,-0.28379814118377206,-0.12666744674888916,-0.2156090361450387,-0.03317283523067909,-0.05551008760847997,0.0816240103699519,0.14944492748609212,0.1741362772340438,0.2273043579375521,0.2661744427409604,0.10340848650772021,-0.17108580690940667,0.30027596016609087,-0.19924090242768305,0.017031848783371824,0.7408152493774288,-0.23452844781381604,-0.23070596493046072,0.01698832388302806,0.07777686455975957,0.051200154432269704,0.16930701055455494,0.3053676634936372,0.23906161732000134,-0.04468752947906878,-0.12198321760385633,-0.23727563236556135,0.17958491844858515,0.027938288861904807,0.01518324792610354,-0.060234867946949086,0.003239893816520411,0.08812575423061816,-0.3468700119884401,-0.3645841492322074,-0.05419193563481977,0.04348497541973862,0.04815756823782276,0.021226180238232802,-0.018372572154493345,0.1390732209814133,0.04433508535446758,-0.17405448733305826,0.28659814159105934,-0.12508964772814543,0.21771476148749835,0.18559483284376457,0.05883268446483269,0.15548593363537022,0.15933627241454665,-0.14499477666159552,0.0650164945109313,0.09493061472470775,0.0830143881653014,0.0063029237238675425,0.004170964397609537,0.01375433651957858,0.1047920361544315,0.06711244835914072,0.0432327872007559,0.30138729182867113,0.2330727186170661,0.11553957071848622,0.015954613174976304,0.46620139474759237,0.25640228524130615,-0.16621140917294852,-0.1464329675090299,0.13751035354741475,0.01986426683682488,0.03602395695432552,0.034693807650286124,0.0377740070184629,-0.1590481474359526,0.33429525991682724,0.1828236237931632,0.25918071336110365,0.2802727003685072,0.28947476977198244,0.05682729421945799,0.11517044592603747,0.1373587090866711,0.043286809791533855,0.1351090521246076,-0.0571370457949777,0.03808001555105966,0.14898772990887277,0.02912819900671907,0.05678359728986208,-0.04372789472730338,0.14287398064995832,0.055575152107198975,-0.040706346368685996,-0.0355387910808244,-0.09585214914429163,0.1004944880509812,0.050055834980879704,0.534178185755715,0.06658719911179606,0.11442175829958018,-0.04666274039120716,-0.2926497199275284,0.18409664362726216,0.08432767769673737,0.16242605156431372,-0.06449648966593118,0.18315818627465513,0.19600180871304101,0.007127574667194217,0.0915309002127598,-0.185070223430599,0.18410260721864163,0.08969470793169441,-0.14233276100368997,-0.14412969467122763,-0.01009996272552259,-0.2981958246373718,-0.032091352837214544,-0.09819878864793344,-0.15973716272573962,0.4424002451954906,-0.247703612472831,-0.25929106903532606,-0.23401730633218312,0.13925387652344184,-0.021575701994999585,0.03035895942154011,-0.2159701704372753,-0.032786508211922895,-0.07889239953113926,-0.009140289054487265,0.0601910351672429,-0.09442488113948835,-0.18757317642146118,-0.1088064652167826,-0.1303025331213469,-0.18003938100668151,0.17891468198030896,-0.09506235762042424,-0.12270539325653976,-0.06289663342045806,0.09949667490862746,0.24933200747288084,-0.1642782479938683,0.09984883138893151,0.14685834242841073,0.2239145796920963,-0.2953076147131236,0.13241183954588373,0.13868819519810188,-0.09236718510511918,0.19841025999325168,0.10147159269892775,-0.31872646222294915,0.03551853131122306,0.0836833476063941,0.045854199607446376,0.005189239526691252,0.08664121230586312,-0.1104140909632479,-0.054896444014236025,-0.3164434149576347,-0.07950043749463569,-0.024415504466622648,0.04340837073818935,-0.005052669942200916,-0.2967640972552634,-0.007922128490911784,0.08074950662412544,0.004928480127124449,-0.06127187614615241,0.07105504670288373,0.04844027855933464,-0.004610996746202708,-0.0854478029544629,-0.006336012912326201,-0.04548177424974162,-0.20587466514053732,-0.15696163973615002,-0.1955866450269605,0.005993960630095597,-0.09841657469955835,-0.05312014521447582,-0.007363328594420079,-0.05744939326279727,-0.03976230782483247,0.6089467140499089,0.6476581678569044,0.9035755910930676,0.3322128167577468,0.47479911894366117,0.1755769582873044,0.4500011900433436,0.28813403531518084,0.8970363038699731,0.6356358779555727,0.8047700823481122,0.40880531124561814,0.4763159175783376,0.7222521889818264,0.24924141757503404,0.5523545564988435,-0.2391772248415921,0.09370164471785991,0.00021652194101595866,0.23678396963189235,0.5528029994028214,0.04152430307851667,-0.29982949552236454,-0.1207661761049668,-0.01610341733271916,0.1381460139549787,0.2393372790288337,0.08872544938001116,0.02936780983448373,-0.005274224269016699,-0.0023685736491232245,-0.22900504337506114,-0.24185879670013524,0.01991474085146485,-0.0057771270062034925,0.03926330651532787,0.0006143792220752245,0.12741998418197756,-0.016340177244281582,0.053887064137942975,-0.026587645135300136,0.07132288291627592,0.25270553849940497,0.009451780397155184,-0.025176969754886112,-0.09186235118271857,0.21014904082592684,-0.10569176570335104,0.05598309039790121,0.027124756753888913,0.022543890141980726,0.13588886518625426,0.03312857698923572,-0.044204072275448376,0.01579245189084499,-0.03829389619461569,-0.017397208721728258,0.1452564960795408,0.10799830320364752,-0.010693034660724922,0.19700934294064235,0.14414351456854943,-0.2573653795450818,-0.07306627247294485,-0.016731446599774463,0.04397010214728127,-0.07400265211320774,0.19454406713315517,0.1471729872499017,-0.22430747249943384,0.10629991293343975,0.031397015036581384,-0.05968063741803124,-0.32534169835798293,0.13111402873595954,0.28040077078912323,0.29706576022491776,0.004425255388463333,-0.163126240084366,-0.023937769858933193,0.07611139700615614,-0.05601090120477008,0.12357771146779106,-0.02722536350040344,-0.060737324241807195,0.0430825901635123,0.04863875873090155,0.0921018395358363,0.13233198500771473,0.20324414392872486,0.0775891297769163,-0.0576044924986337,-0.09406564132812353,-0.06915089017906502,-0.02153477481088909,0.0702604320719112,0.2696087780298661,-0.3158742238895407,0.15134070775985078,0.23414627049708844,0.3648441463863636,-0.3104632970328049,-0.2904708003813139,-0.2573423994497693,-0.34628266051313134,-0.2835750030041704,0.06629106916225684,-0.18041407802399131,-0.06599530359397704,-0.051121182954952014,0.048344456929618806,0.0508832455806691,0.11545945537387148,-0.30669858451620785,-0.29923553973293454,0.23841083748902545,0.5318152812255371,-0.2849349833456125,-0.3079481229200059,-0.3228371617372669,-0.29323738051670684,-0.3228371617372669,-0.2563769110600368,0.043923559408394416,-0.3446308275970101,-0.0033693092713001174,-0.22165381313417637,-0.13678039997940894,-0.10106302193021074,-0.0728036252554722,-0.20510387282831308,-0.15012571869371122,-0.21246414589164656,-0.2659754692748655,0.07840240759091421,0.3613321464753787,0.36082151433535786,0.25646578450508745,0.34090416169900656,0.3340738692956747,0.31304026666783996,0.04938107397680747,0.3533372318262447,-0.10092293087671338,-0.08647968762248973,-0.4534636024925811,-0.47642852877866737,-0.10452281745787032,-0.466122877886541,-0.10430022115567208,-0.45788199874788343,-0.4895055622751059,-0.05606084829727654,-0.06857000588232659,-0.05334773483030442,0.3630137807938694,-0.09381290888002103,-0.12243249919803363,-0.11172259062018412,-0.023112009930942645,-0.07523483527462238,-0.08647968762248973,-0.07823880848383212,-0.09021302229886409,-0.09381290888002103,0.3226955688525898,-0.08579462604356172,-0.10430022115567208,-0.08219473946240481,-0.09381290888002103,-0.09381290888002103,-0.07523483527462238,-0.09381290888002103,0.008671503499386437,-0.049942778467352796,-0.19884136132057326,-0.3528287238197275,-0.03727000265663734,0.00897190012214024,0.025303250829255074,-0.010066050930082308,-0.07195170323864222,-0.15348664333395856,-0.024172668335422375,0.13701882793337755,-0.15366031691240883,0.3936613046896353,-0.30884722935926967,-0.01663103009810334,-0.07069221223241952,0.03699287610736765,0.021019034384167173,-0.04754562456280883,0.21880111675603703,-0.06083667560947137,-0.0077800582650882156,-0.01975427208012002,-0.19401985295125893,0.03153939276535499,-0.09344062943463294,-0.19485476000327112,-0.2994554435115714,0.14403166213994611,0.5082756393986996,0.21209421923195407,0.16310231091855487,-0.12712622893492756,-0.028497717689582383,-0.029361593817245814,-0.04662964562048214,-0.04694484791784557,-0.0252762919110832,0.023850339534724957,0.0002873356394666068,-0.04691254487465277,-0.18235189370594818,0.06453220876403348,0.30239720119076796,0.3111395603331922,0.2960498254227502,0.11172872525257978,0.006000499317784001,0.028476745364591112,0.04995481641686797,-0.12076108867272108,-0.12076108867272108,-0.1835669422286744,-0.13867077041288456,-0.26263805048418787,0.2688155702710649,0.013910326205496176,-0.09105067310333294,-0.7547304041276386,-0.7869498810268083,-0.3570478279129555,-0.36851429864282814,-0.7951016119584849,-0.803119894794944,-0.755548913801784,0.1842569608747135,-0.19411324666695862,-0.048851056021993904,-0.1568848177169976,0.12979539775358387,-0.005138336072231525,0.007404215468336343,-0.0015384494910745798,-0.01835553369560598,-0.02484666386095467,0.22532541484353114,0.45043376051479184,-0.2448164679273927,0.14695128161586832,0.43787175798611466,0.3562296769966343,0.15518133200323,0.20849930782860832,-0.22626199845049824,0.12858563050119334,0.07824430639184929,0.24495940908050778,-0.213488771201799,-0.278159750064152,-0.11949935919058918,-0.28726800776411815,0.3800426519459449,-0.3061967629693711,0.0687263861427464,0.10693689792964066,0.16532179257559046,-0.04181051536503324,0.34499395542803196,-0.24889490208580506,-0.12812624776772993,-0.40554679345972366,0.0619694293054442,-0.09126016509133392,-0.2904708003813139,-0.24279953366245224,0.07079385201976408,0.3655770691904789,-0.17575443639244978,0.23862693529869136,-0.03095946489205436,-0.22900986294067516,0.24318173581348912,0.3950164110093667,-0.5165649869523338,-0.031846750245457286,0.30555943778246036,-0.11599951909572627,0.04020089914178792,0.03142406245472475,-0.13634464419493592,-0.3288543936433868,-0.11125266174282503,0.3250085323118342,0.07731795518126044,0.24739033693717602,-0.4212113614529427,0.3509948720063486,-0.16662321628792398,-0.08526632204831053,-0.08526632204831053,-0.16662321628792398,-0.16662321628792398,-0.16662321628792398,-0.08526632204831053,-0.08526632204831053,-0.08526632204831053,-0.08526632204831053,0.31953590462498477,-0.08526632204831053,-0.16662321628792398,-0.11289417106743448,-0.16662321628792398,-0.16662321628792398,-0.16662321628792398,-0.16662321628792398,-0.08526632204831053,-0.0581391272250385,0.15323935479661996,0.42565770346355625,0.029194082994822373,0.0412206643467007,0.2015931720033668,0.4059400411426764,0.4371945345086947,-0.09717899520262642,0.24329694659749201,0.1068662060274456,0.36535447288828055,0.4250976919148044,0.28917936537351946,-0.306863410451648,-0.09126016509133392,-0.12514733839476844,-0.11548300704059508,-0.22722543326626352,-0.24183881975881893,-0.21725392474175664,-0.11339572088193485,-0.3462511957872416,-0.1716412400946188,-0.1989292469100372,-0.495156153033482,0.04742380120055389,-0.42096767273549035,-0.38607833464553193,0.264924610423877,0.2914835121991454,0.3917808894178385,-0.14979946246045664,-0.03894991813115502,0.25667506903178355,0.05100755713800811,-0.09126016509133392,-0.19265178343475356,-0.14962772314738781,-0.16676420806913678,0.16911512430357442,-0.36851979069146523,0.09665224400920058,0.006412295075827596,-0.20399216878812035,-0.14313628643085785,-0.28752077558778416,-0.2994554435115714,-0.03661304804896928,-0.0539394213513869,0.1240720768020243,-0.1443410317700983,-0.020762890376009393,-0.09317825077413701,-0.06996175246081748,-0.15600857921344796,0.11054393172366785,-0.14723582162839868,-0.22098667878257885,0.02118826787237527,0.051661697121120155,-0.2469414478039012,-0.24690181922782098,-0.05186194628593847,0.1551260175386299,0.06118544116714871,0.2223367066991616,-0.1762721925893701,-0.029640716885161164,0.10591008488877128,0.08855576429799712,0.08840331377255654,0.06710577309850861,-0.12562161901885763,-0.1604288876107344,-0.12854203799924951,-0.19546575849202932,-0.09349569761815207,0.055784383389952404,0.1280646161444299,-0.2025148108867926,0.012526848199241797,0.17182002032176688,0.16086138702797667,0.10354745353148773,-0.1938633711047646,-0.2372995819807175,-0.13216418674514788,0.002544462011168148,0.36428885166439984,0.30106013540108734,0.30106670397983615,-0.10222178999041022,0.1327382437458904,0.16591028707889796,0.33019692215597407,0.4183333289360812,0.3153944652073979,0.21638292205002438,0.26137631422067575,0.31930125903947665,0.19520759985181654,0.14033007822565588,-0.015615100769424342,-0.09280827726453299,-0.030649896590774824,-0.09931023232420172,0.19290232347902403,-0.04208863424733546,0.0045203065540763265,-0.23387145458910516,-0.15503151899551154,-0.14761295743064567,-0.12970327569048237,-0.1282163741511017,-0.14103515420521187,0.43063842783405215,-0.14761295743064567,-0.32802432220092165,-0.25774947264208947,0.10496901126613177,-0.06526356970622227,-0.041448590171376115,-0.039174038663298605,0.5569223075235782,-0.28998111884118016,-0.3411386504563429,0.05380765254803976,0.30234496758648444,0.0446302380865269,-0.0560171598995289,0.3366468975876883,0.0991998306014826,0.2620264084999742,0.2762204672528381,-0.2368640291577906,0.43698437661933387,0.29500377636857256,-0.1659115696933473,0.3781500045358822,0.2775190691792234,-0.19779629367259785,-0.08875924693629797,0.3181945635465245,-0.21319838182373882,0.31918960325415063,0.14976876230647337,0.34576168642554533,-0.03847564706872655,0.1508634270197566,0.13872473500294696,0.17766320513998488,-0.08770362494417379,0.1383059912457122,0.14814307994864181,0.17990380343761303,0.2445402928729198,0.30341816238115765,0.24598712004921638,0.33957206088727954,0.15097876705642765,0.3229310518994419,0.19586865125063516,-0.0883285904984077,-0.0827128263779526,-0.12819790407337314,0.1074396156375216,0.04561805226851266,0.11423616089616201,0.07497879930245444,0.11727309262913418,0.10767013409448528,-0.2884369953655487,-0.24819923562991997,-0.2629714960656557,-0.06370147376400925,0.05508998080642578,0.0868771885568814,-0.008360683340841465,0.0021950836677370996,0.014771523066197534,0.14201573698262365,0.07192606260011919,0.023300742171498034,-0.10888469370499236,-0.10455634113922531,0.05521078900498844,-0.25344154215901255,-0.10345857786649715,0.16700034067714564,0.08926688137199494,-0.019135734160036985,0.4079223370600183,0.12339828866082728,0.05125157287465276,-0.283362987303034,-0.024579951423524454,-0.27412720020654213,-0.03850947385499658,-0.06473390377380518,-0.01883276950592422,-0.008144704869930968,-0.02526986562754548,-0.025732330904275093,-0.018997668482862315,-0.03202071424067402,-0.28843699536554873,0.4679029519028106,-0.30786071909598356,-0.031326401868597135,-0.04009726964429985,0.39718084723475655],\"type\":\"scatter3d\"}],                        {\"template\":{\"data\":{\"bar\":[{\"error_x\":{\"color\":\"#2a3f5f\"},\"error_y\":{\"color\":\"#2a3f5f\"},\"marker\":{\"line\":{\"color\":\"#E5ECF6\",\"width\":0.5},\"pattern\":{\"fillmode\":\"overlay\",\"size\":10,\"solidity\":0.2}},\"type\":\"bar\"}],\"barpolar\":[{\"marker\":{\"line\":{\"color\":\"#E5ECF6\",\"width\":0.5},\"pattern\":{\"fillmode\":\"overlay\",\"size\":10,\"solidity\":0.2}},\"type\":\"barpolar\"}],\"carpet\":[{\"aaxis\":{\"endlinecolor\":\"#2a3f5f\",\"gridcolor\":\"white\",\"linecolor\":\"white\",\"minorgridcolor\":\"white\",\"startlinecolor\":\"#2a3f5f\"},\"baxis\":{\"endlinecolor\":\"#2a3f5f\",\"gridcolor\":\"white\",\"linecolor\":\"white\",\"minorgridcolor\":\"white\",\"startlinecolor\":\"#2a3f5f\"},\"type\":\"carpet\"}],\"choropleth\":[{\"colorbar\":{\"outlinewidth\":0,\"ticks\":\"\"},\"type\":\"choropleth\"}],\"contour\":[{\"colorbar\":{\"outlinewidth\":0,\"ticks\":\"\"},\"colorscale\":[[0.0,\"#0d0887\"],[0.1111111111111111,\"#46039f\"],[0.2222222222222222,\"#7201a8\"],[0.3333333333333333,\"#9c179e\"],[0.4444444444444444,\"#bd3786\"],[0.5555555555555556,\"#d8576b\"],[0.6666666666666666,\"#ed7953\"],[0.7777777777777778,\"#fb9f3a\"],[0.8888888888888888,\"#fdca26\"],[1.0,\"#f0f921\"]],\"type\":\"contour\"}],\"contourcarpet\":[{\"colorbar\":{\"outlinewidth\":0,\"ticks\":\"\"},\"type\":\"contourcarpet\"}],\"heatmap\":[{\"colorbar\":{\"outlinewidth\":0,\"ticks\":\"\"},\"colorscale\":[[0.0,\"#0d0887\"],[0.1111111111111111,\"#46039f\"],[0.2222222222222222,\"#7201a8\"],[0.3333333333333333,\"#9c179e\"],[0.4444444444444444,\"#bd3786\"],[0.5555555555555556,\"#d8576b\"],[0.6666666666666666,\"#ed7953\"],[0.7777777777777778,\"#fb9f3a\"],[0.8888888888888888,\"#fdca26\"],[1.0,\"#f0f921\"]],\"type\":\"heatmap\"}],\"heatmapgl\":[{\"colorbar\":{\"outlinewidth\":0,\"ticks\":\"\"},\"colorscale\":[[0.0,\"#0d0887\"],[0.1111111111111111,\"#46039f\"],[0.2222222222222222,\"#7201a8\"],[0.3333333333333333,\"#9c179e\"],[0.4444444444444444,\"#bd3786\"],[0.5555555555555556,\"#d8576b\"],[0.6666666666666666,\"#ed7953\"],[0.7777777777777778,\"#fb9f3a\"],[0.8888888888888888,\"#fdca26\"],[1.0,\"#f0f921\"]],\"type\":\"heatmapgl\"}],\"histogram\":[{\"marker\":{\"pattern\":{\"fillmode\":\"overlay\",\"size\":10,\"solidity\":0.2}},\"type\":\"histogram\"}],\"histogram2d\":[{\"colorbar\":{\"outlinewidth\":0,\"ticks\":\"\"},\"colorscale\":[[0.0,\"#0d0887\"],[0.1111111111111111,\"#46039f\"],[0.2222222222222222,\"#7201a8\"],[0.3333333333333333,\"#9c179e\"],[0.4444444444444444,\"#bd3786\"],[0.5555555555555556,\"#d8576b\"],[0.6666666666666666,\"#ed7953\"],[0.7777777777777778,\"#fb9f3a\"],[0.8888888888888888,\"#fdca26\"],[1.0,\"#f0f921\"]],\"type\":\"histogram2d\"}],\"histogram2dcontour\":[{\"colorbar\":{\"outlinewidth\":0,\"ticks\":\"\"},\"colorscale\":[[0.0,\"#0d0887\"],[0.1111111111111111,\"#46039f\"],[0.2222222222222222,\"#7201a8\"],[0.3333333333333333,\"#9c179e\"],[0.4444444444444444,\"#bd3786\"],[0.5555555555555556,\"#d8576b\"],[0.6666666666666666,\"#ed7953\"],[0.7777777777777778,\"#fb9f3a\"],[0.8888888888888888,\"#fdca26\"],[1.0,\"#f0f921\"]],\"type\":\"histogram2dcontour\"}],\"mesh3d\":[{\"colorbar\":{\"outlinewidth\":0,\"ticks\":\"\"},\"type\":\"mesh3d\"}],\"parcoords\":[{\"line\":{\"colorbar\":{\"outlinewidth\":0,\"ticks\":\"\"}},\"type\":\"parcoords\"}],\"pie\":[{\"automargin\":true,\"type\":\"pie\"}],\"scatter\":[{\"marker\":{\"colorbar\":{\"outlinewidth\":0,\"ticks\":\"\"}},\"type\":\"scatter\"}],\"scatter3d\":[{\"line\":{\"colorbar\":{\"outlinewidth\":0,\"ticks\":\"\"}},\"marker\":{\"colorbar\":{\"outlinewidth\":0,\"ticks\":\"\"}},\"type\":\"scatter3d\"}],\"scattercarpet\":[{\"marker\":{\"colorbar\":{\"outlinewidth\":0,\"ticks\":\"\"}},\"type\":\"scattercarpet\"}],\"scattergeo\":[{\"marker\":{\"colorbar\":{\"outlinewidth\":0,\"ticks\":\"\"}},\"type\":\"scattergeo\"}],\"scattergl\":[{\"marker\":{\"colorbar\":{\"outlinewidth\":0,\"ticks\":\"\"}},\"type\":\"scattergl\"}],\"scattermapbox\":[{\"marker\":{\"colorbar\":{\"outlinewidth\":0,\"ticks\":\"\"}},\"type\":\"scattermapbox\"}],\"scatterpolar\":[{\"marker\":{\"colorbar\":{\"outlinewidth\":0,\"ticks\":\"\"}},\"type\":\"scatterpolar\"}],\"scatterpolargl\":[{\"marker\":{\"colorbar\":{\"outlinewidth\":0,\"ticks\":\"\"}},\"type\":\"scatterpolargl\"}],\"scatterternary\":[{\"marker\":{\"colorbar\":{\"outlinewidth\":0,\"ticks\":\"\"}},\"type\":\"scatterternary\"}],\"surface\":[{\"colorbar\":{\"outlinewidth\":0,\"ticks\":\"\"},\"colorscale\":[[0.0,\"#0d0887\"],[0.1111111111111111,\"#46039f\"],[0.2222222222222222,\"#7201a8\"],[0.3333333333333333,\"#9c179e\"],[0.4444444444444444,\"#bd3786\"],[0.5555555555555556,\"#d8576b\"],[0.6666666666666666,\"#ed7953\"],[0.7777777777777778,\"#fb9f3a\"],[0.8888888888888888,\"#fdca26\"],[1.0,\"#f0f921\"]],\"type\":\"surface\"}],\"table\":[{\"cells\":{\"fill\":{\"color\":\"#EBF0F8\"},\"line\":{\"color\":\"white\"}},\"header\":{\"fill\":{\"color\":\"#C8D4E3\"},\"line\":{\"color\":\"white\"}},\"type\":\"table\"}]},\"layout\":{\"annotationdefaults\":{\"arrowcolor\":\"#2a3f5f\",\"arrowhead\":0,\"arrowwidth\":1},\"autotypenumbers\":\"strict\",\"coloraxis\":{\"colorbar\":{\"outlinewidth\":0,\"ticks\":\"\"}},\"colorscale\":{\"diverging\":[[0,\"#8e0152\"],[0.1,\"#c51b7d\"],[0.2,\"#de77ae\"],[0.3,\"#f1b6da\"],[0.4,\"#fde0ef\"],[0.5,\"#f7f7f7\"],[0.6,\"#e6f5d0\"],[0.7,\"#b8e186\"],[0.8,\"#7fbc41\"],[0.9,\"#4d9221\"],[1,\"#276419\"]],\"sequential\":[[0.0,\"#0d0887\"],[0.1111111111111111,\"#46039f\"],[0.2222222222222222,\"#7201a8\"],[0.3333333333333333,\"#9c179e\"],[0.4444444444444444,\"#bd3786\"],[0.5555555555555556,\"#d8576b\"],[0.6666666666666666,\"#ed7953\"],[0.7777777777777778,\"#fb9f3a\"],[0.8888888888888888,\"#fdca26\"],[1.0,\"#f0f921\"]],\"sequentialminus\":[[0.0,\"#0d0887\"],[0.1111111111111111,\"#46039f\"],[0.2222222222222222,\"#7201a8\"],[0.3333333333333333,\"#9c179e\"],[0.4444444444444444,\"#bd3786\"],[0.5555555555555556,\"#d8576b\"],[0.6666666666666666,\"#ed7953\"],[0.7777777777777778,\"#fb9f3a\"],[0.8888888888888888,\"#fdca26\"],[1.0,\"#f0f921\"]]},\"colorway\":[\"#636efa\",\"#EF553B\",\"#00cc96\",\"#ab63fa\",\"#FFA15A\",\"#19d3f3\",\"#FF6692\",\"#B6E880\",\"#FF97FF\",\"#FECB52\"],\"font\":{\"color\":\"#2a3f5f\"},\"geo\":{\"bgcolor\":\"white\",\"lakecolor\":\"white\",\"landcolor\":\"#E5ECF6\",\"showlakes\":true,\"showland\":true,\"subunitcolor\":\"white\"},\"hoverlabel\":{\"align\":\"left\"},\"hovermode\":\"closest\",\"mapbox\":{\"style\":\"light\"},\"paper_bgcolor\":\"white\",\"plot_bgcolor\":\"#E5ECF6\",\"polar\":{\"angularaxis\":{\"gridcolor\":\"white\",\"linecolor\":\"white\",\"ticks\":\"\"},\"bgcolor\":\"#E5ECF6\",\"radialaxis\":{\"gridcolor\":\"white\",\"linecolor\":\"white\",\"ticks\":\"\"}},\"scene\":{\"xaxis\":{\"backgroundcolor\":\"#E5ECF6\",\"gridcolor\":\"white\",\"gridwidth\":2,\"linecolor\":\"white\",\"showbackground\":true,\"ticks\":\"\",\"zerolinecolor\":\"white\"},\"yaxis\":{\"backgroundcolor\":\"#E5ECF6\",\"gridcolor\":\"white\",\"gridwidth\":2,\"linecolor\":\"white\",\"showbackground\":true,\"ticks\":\"\",\"zerolinecolor\":\"white\"},\"zaxis\":{\"backgroundcolor\":\"#E5ECF6\",\"gridcolor\":\"white\",\"gridwidth\":2,\"linecolor\":\"white\",\"showbackground\":true,\"ticks\":\"\",\"zerolinecolor\":\"white\"}},\"shapedefaults\":{\"line\":{\"color\":\"#2a3f5f\"}},\"ternary\":{\"aaxis\":{\"gridcolor\":\"white\",\"linecolor\":\"white\",\"ticks\":\"\"},\"baxis\":{\"gridcolor\":\"white\",\"linecolor\":\"white\",\"ticks\":\"\"},\"bgcolor\":\"#E5ECF6\",\"caxis\":{\"gridcolor\":\"white\",\"linecolor\":\"white\",\"ticks\":\"\"}},\"title\":{\"x\":0.05},\"xaxis\":{\"automargin\":true,\"gridcolor\":\"white\",\"linecolor\":\"white\",\"ticks\":\"\",\"title\":{\"standoff\":15},\"zerolinecolor\":\"white\",\"zerolinewidth\":2},\"yaxis\":{\"automargin\":true,\"gridcolor\":\"white\",\"linecolor\":\"white\",\"ticks\":\"\",\"title\":{\"standoff\":15},\"zerolinecolor\":\"white\",\"zerolinewidth\":2}}},\"scene\":{\"domain\":{\"x\":[0.0,1.0],\"y\":[0.0,1.0]},\"xaxis\":{\"title\":{\"text\":\"PC 1\"}},\"yaxis\":{\"title\":{\"text\":\"PC 2\"}},\"zaxis\":{\"title\":{\"text\":\"PC 3\"}}},\"coloraxis\":{\"colorbar\":{\"title\":{\"text\":\"color\"}},\"colorscale\":[[0.0,\"#0d0887\"],[0.1111111111111111,\"#46039f\"],[0.2222222222222222,\"#7201a8\"],[0.3333333333333333,\"#9c179e\"],[0.4444444444444444,\"#bd3786\"],[0.5555555555555556,\"#d8576b\"],[0.6666666666666666,\"#ed7953\"],[0.7777777777777778,\"#fb9f3a\"],[0.8888888888888888,\"#fdca26\"],[1.0,\"#f0f921\"]]},\"legend\":{\"tracegroupgap\":0},\"title\":{\"text\":\"Total Explained Variance: 91.51%\"}},                        {\"responsive\": true}                    ).then(function(){\n",
              "                            \n",
              "var gd = document.getElementById('c945a93c-ead1-4a54-8b68-4eb5ae875eee');\n",
              "var x = new MutationObserver(function (mutations, observer) {{\n",
              "        var display = window.getComputedStyle(gd).display;\n",
              "        if (!display || display === 'none') {{\n",
              "            console.log([gd, 'removed!']);\n",
              "            Plotly.purge(gd);\n",
              "            observer.disconnect();\n",
              "        }}\n",
              "}});\n",
              "\n",
              "// Listen for the removal of the full notebook cells\n",
              "var notebookContainer = gd.closest('#notebook-container');\n",
              "if (notebookContainer) {{\n",
              "    x.observe(notebookContainer, {childList: true});\n",
              "}}\n",
              "\n",
              "// Listen for the clearing of the current output cell\n",
              "var outputEl = gd.closest('.output');\n",
              "if (outputEl) {{\n",
              "    x.observe(outputEl, {childList: true});\n",
              "}}\n",
              "\n",
              "                        })                };                            </script>        </div>\n",
              "</body>\n",
              "</html>"
            ]
          },
          "metadata": {}
        }
      ]
    },
    {
      "cell_type": "code",
      "source": [
        "from sklearn.cluster import KMeans # Our clustering algorithm\n",
        "from sklearn.decomposition import PCA \n",
        "inertias = []\n",
        "\n",
        "# Creating 10 K-Mean models while varying the number of clusters (k)\n",
        "for k in range(1,10):\n",
        "    model = KMeans(n_clusters=k)\n",
        "    \n",
        "    # Fit model to samples\n",
        "    #model.fit(PCA_components.iloc[:,:4])\n",
        "    model.fit(dataset)\n",
        "    # Append the inertia to the list of inertias\n",
        "    inertias.append(model.inertia_)\n",
        "    \n",
        "plt.plot(range(1,10), inertias, '-p', color='gold')\n",
        "plt.xlabel('number of clusters, k')\n",
        "plt.ylabel('inertia')\n",
        "\n",
        "plt.show()\n"
      ],
      "metadata": {
        "colab": {
          "base_uri": "https://localhost:8080/",
          "height": 290
        },
        "id": "0eUHHB2G-4FZ",
        "outputId": "9ec09e57-f8de-4182-fe7a-a5be9b53fd39"
      },
      "execution_count": null,
      "outputs": [
        {
          "output_type": "display_data",
          "data": {
            "text/plain": [
              "<Figure size 432x288 with 1 Axes>"
            ],
            "image/png": "[encoded data removed]"
          },
          "metadata": {
            "needs_background": "light"
          }
        }
      ]
    },
    {
      "cell_type": "code",
      "source": [
        "model = KMeans(n_clusters=3)\n",
        "model.fit(PCA_components)\n",
        "\n"
      ],
      "metadata": {
        "colab": {
          "base_uri": "https://localhost:8080/"
        },
        "id": "KYpQyjBjVPio",
        "outputId": "8566fca7-6b36-4b43-828d-2aed43904438"
      },
      "execution_count": null,
      "outputs": [
        {
          "output_type": "execute_result",
          "data": {
            "text/plain": [
              "KMeans(n_clusters=3)"
            ]
          },
          "metadata": {},
          "execution_count": 67
        }
      ]
    },
    {
      "cell_type": "code",
      "source": [
        "labels = model.predict(PCA_components.iloc[:,:3])\n",
        "plt.scatter(PCA_components[0], PCA_components[1], c=labels)\n",
        "plt.show()"
      ],
      "metadata": {
        "colab": {
          "base_uri": "https://localhost:8080/",
          "height": 265
        },
        "id": "73Z_kOQmVT6_",
        "outputId": "f9bf581a-b9bd-4aa5-88b3-43aed1d8a302"
      },
      "execution_count": null,
      "outputs": [
        {
          "output_type": "display_data",
          "data": {
            "text/plain": [
              "<Figure size 432x288 with 1 Axes>"
            ],
            "image/png": "[encoded data removed]"
          },
          "metadata": {
            "needs_background": "light"
          }
        }
      ]
    },
    {
      "cell_type": "code",
      "source": [
        "model = KMeans(n_clusters=3)\n",
        "model.fit(PCA_components.iloc[:,:2])\n",
        "\n",
        "labels = model.predict(PCA_components.iloc[:,:2])\n",
        "plt.scatter(PCA_components[0], PCA_components[1], c=labels)\n",
        "plt.show()"
      ],
      "metadata": {
        "colab": {
          "base_uri": "https://localhost:8080/",
          "height": 265
        },
        "id": "m8W6eI0K_RTO",
        "outputId": "c1a50930-16b3-4de0-b2ef-d67f240c7f62"
      },
      "execution_count": null,
      "outputs": [
        {
          "output_type": "display_data",
          "data": {
            "text/plain": [
              "<Figure size 432x288 with 1 Axes>"
            ],
            "image/png": "[encoded data removed]"
          },
          "metadata": {
            "needs_background": "light"
          }
        }
      ]
    },
    {
      "cell_type": "code",
      "source": [
        "fig = px.scatter_3d(PCA_components, x=0, y=1, z=2,color=1,title=\"Iris 3D\")\n",
        "fig.update_traces(marker_coloraxis=None)\n",
        "fig.show()"
      ],
      "metadata": {
        "id": "N2sn07pzRKpX",
        "colab": {
          "base_uri": "https://localhost:8080/",
          "height": 542
        },
        "outputId": "f5215be6-9e97-436a-cca5-772cde69480b"
      },
      "execution_count": null,
      "outputs": [
        {
          "output_type": "display_data",
          "data": {
            "text/html": [
              "<html>\n",
              "<head><meta charset=\"utf-8\" /></head>\n",
              "<body>\n",
              "    <div>            <script src=\"https://cdnjs.cloudflare.com/ajax/libs/mathjax/2.7.5/MathJax.js?config=TeX-AMS-MML_SVG\"></script><script type=\"text/javascript\">if (window.MathJax) {MathJax.Hub.Config({SVG: {font: \"STIX-Web\"}});}</script>                <script type=\"text/javascript\">window.PlotlyConfig = {MathJaxConfig: 'local'};</script>\n",
              "        <script src=\"https://cdn.plot.ly/plotly-2.8.3.min.js\"></script>                <div id=\"d7bd72c1-e16e-4550-9eb5-31d5911c7a89\" class=\"plotly-graph-div\" style=\"height:525px; width:100%;\"></div>            <script type=\"text/javascript\">                                    window.PLOTLYENV=window.PLOTLYENV || {};                                    if (document.getElementById(\"d7bd72c1-e16e-4550-9eb5-31d5911c7a89\")) {                    Plotly.newPlot(                        \"d7bd72c1-e16e-4550-9eb5-31d5911c7a89\",                        [{\"hovertemplate\":\"0=%{x}<br>1=%{marker.color}<br>2=%{z}<extra></extra>\",\"legendgroup\":\"\",\"marker\":{\"color\":[-0.38444390431977415,-0.24232348672265833,-0.3304398983852652,0.2072803312662944,0.1971570900940824,-0.16513309940796786,-0.3381973797230202,-0.40519369980843717,-0.31040766800906955,0.0035072982631061587,0.024902333499586142,0.09534901885332725,0.006843698823991333,0.04792436277601875,0.17323204690786004,0.1900387156678738,0.21602535376039644,0.07910699085898987,0.1456492529364009,0.18166013960385874,0.17656989279139845,0.0016152798262804055,-0.013921539742739334,0.006636514657918461,-0.035235380105062164,-0.016201811124749707,0.0321149974347146,0.04640620558381139,0.15011314941833367,0.11860067112986311,0.08268303067749817,0.04433371040407141,0.05727913441559681,0.11063290502613861,0.12166324261559978,0.19497404169351332,0.08910070951278797,0.1475293274691801,0.07134486765516751,0.13644797402225425,0.16630757350034617,0.15132599320727996,0.08112517957845429,0.13337114795653396,0.08752590062124076,0.09809561082817506,0.11428057713241975,0.10926354192868427,0.1297159647388007,0.02959028488622336,0.05291435771682625,0.04898799804745077,0.043074585975642184,0.05312931714336046,0.04236750765561197,-0.11411960490513666,0.03348378638563551,0.055242757510134764,0.17373124086204175,0.03133488741991378,0.19714518615172613,0.03162885824731332,0.15805871259390655,0.1277717076798579,0.0997694955229795,0.12658835325744308,0.19930065522175228,0.16120359094128364,0.10093695341692009,0.03378456373870495,0.08738114316711262,0.14232831681599012,0.16449485616379864,0.007386053053548681,0.1648042558987121,0.11326572734866237,0.10296988171367306,0.10374898797033244,0.06259159691123688,0.08073956955490295,0.05731822037043486,0.18225502865600732,-0.006790382632577731,0.010518592951259202,-0.023358778711287945,-0.005318304292506068,0.06488247200001922,-0.004266260999247688,-0.007879646962815763,-0.02802370507656832,0.009009693434851723,-0.20546963671241752,0.24502905010447823,0.26065333113347894,0.024889345146737518,0.06610869500072693,0.09670023679271089,0.09796534414500419,0.09212645242004253,0.12658835325744308,0.19930065522175228,0.07402199789454073,0.06638616630471746,0.11209169532777186,0.03128852436070699,0.058513590289223615,0.11396971994172345,-0.35243459404360344,-0.2166159827730169,0.07185087531108503,0.08782401806018249,0.004971343267324373,0.09494111752203938,0.20880439265347173,0.03664182097823604,0.12784792059676847,0.16392468636982033,0.08225793407339803,0.10267134411462403,0.07601491287754798,0.14657869016718625,0.05163372979639405,0.07825827076740073,0.23676125158873604,0.15986320481936364,0.002616195856452977,0.13661595503990676,0.206279030203188,0.11449173823401848,0.19214558764222792,-0.0034256969234706326,0.17447161371586836,-0.0034256969234706326,0.1829898919770363,0.09082315648654093,0.12517214734845214,0.073628094230908,0.1382140276487486,0.1254919253031431,0.15088267155432808,0.07827488080148783,0.09138082735981361,-0.00933047578826987,0.3947054582074858,0.3731407214481402,0.017687405974173925,0.20688804745760755,0.058698257864426014,0.03412397209580264,0.03778498195809249,0.31908893172320985,0.07466416580251883,0.1277133988999094,0.08031062810462057,0.02137432934374205,0.021516834032751734,0.036072900395999856,0.11115342244820833,0.07487243283635248,0.13301036785999726,0.04688013716646209,0.10138463696658455,0.12418033892500406,0.03782331678222471,0.1375980218440576,0.01053182405092643,0.0386236459322812,0.014349027827581655,0.040433306238367266,-0.015948180678490066,0.10665423041730002,0.017874460378569185,0.11619552008015663,0.0040582776188302664,0.0650392425141795,0.09059911161909992,0.012592936532065467,0.08778030551616638,-0.018086390963339367,0.17549703526696633,0.16106656389537596,0.21821388339241982,0.05223504715941613,0.04695498837012664,0.02900783414486264,0.013885229732669067,0.06607895507755897,0.03992907305365672,0.05523768863707228,0.03737072469109214,0.04278280381102816,0.05061603133774072,0.01814378246108827,-0.11597914088331349,0.038672118140604006,0.01683105029232029,0.019540403675047713,0.03557717836760785,0.01954088957635534,0.042041197749900144,0.01016678825605303,0.011696051525126457,0.05092646856987095,0.04932245712803487,0.07337761624087176,0.01934185271598422,0.0167208495024932,0.09541419070983712,0.04538205648752657,0.04885137894302966,0.04524058742656287,0.054668318251315705,0.06405443612185141,0.04982857103262351,0.05134909806378564,0.09357839778066772,0.11158534189413387,0.13518034246150357,0.10370571890438361,0.17160391150442106,0.03090134593597335,0.02322109340773456,0.03846436593128126,0.07832608566472953,0.08314918598648047,0.16703448040842134,0.04467849438657636,0.03162247780542239,0.03547793016626102,0.06973574527895007,0.09341139664050818,0.0347416831648932,0.023005276034652238,0.019268433470174547,0.2132315097104571,0.12436988395908634,0.1606011359082466,-0.006485994985520815,0.009324515541725432,-0.3105972940183213,0.12503406725741306,0.09312577481304687,-0.010598450310677639,0.040069267317190016,0.0005946218779948722,0.011956848205411555,0.12378920552814134,0.620450691860354,-0.18861134699516796,0.04656691864450087,-0.06391185316391094,0.0021876461817630154,0.007117100986719285,0.08692264928993491,0.05443321418792086,0.01037405846278959,-0.37106570825770047,-0.021839971190440646,0.3170829728501425,0.0696969175987894,0.13228526438696656,-0.4132857533561717,0.3506039790254605,0.0039930484150287795,-0.01288072410359176,0.014770051667248625,-0.010860624819294963,-0.4132857533561717,-0.048700082869244245,-0.03126727262121007,0.11848353535123622,-0.03621254801760215,-0.06522709906215719,0.024118851321908944,0.12228122456594352,-0.41913047492113364,0.05443321418792086,0.036986119059433276,0.09265270810338809,0.09265270810338809,0.14229500573626228,0.036986119059433276,-0.038626466442767037,-0.3259229738230067,0.06731193207264734,0.007050882990064212,-0.038626466442767037,-0.10424434019788854,0.12380742929643941,-0.3555994958116515,-0.3503959728807128,-0.1138664565215776,0.04734539546148,0.04503032291208117,-0.42550582716362245,-0.09155946557800144,-0.43398267346129626,-0.33073854347514414,-0.3764190048752295,-0.38107270358639944,-0.3538718536648421,-0.3644723332305068,-0.3644723332305068,-0.3764190048752295,-0.3644723332305068,-0.3764190048752295,0.19454291803351842,0.31456312780314954,0.14606820435094706,0.2295012585161721,0.060240415724507,0.16208802747164663,0.0010844648946288665,0.16864912348648828,0.21219874487084744,0.11871715662509617,-0.38476142665493956,-0.38518405614885415,0.03496454508097532,-0.3644723332305068,-0.3764190048752295,-0.3764190048752295,-0.3764190048752295,-0.42328708197020287,-0.3764190048752295,-0.42328708197020287,-0.42328708197020287,0.14099085962624497,0.1123199538697458,0.16849015338501042,0.15385360821744523,0.1752614296140249,0.08275123165986639,0.23405895368795507,0.18383184966472588,0.13715640896771134,0.09363090215361779,0.24332823727113817,0.14979057691682965,-0.21214451819339455,0.08538005821486605,0.041346058020282024,-0.2930547162728487,0.28338395420854784,0.037257543636454234,-0.41024570699270885,0.021264245627751095,-0.018152608959994442,-0.011903532013997973,-0.09384421131372103,-0.04610557490008542,-0.07630934917112567,-0.36460944714563115,0.041346058020282024,0.07153345756292696,-0.36759687170350497,-0.3552569673851868,-0.3603048875628055,-0.3691870780343673,-0.352525661585784,-0.352525661585784,-0.35565020005878223,-0.009027970081102996,-0.352525661585784,-0.3003232099255856,0.02158807958495841,-0.2493216773318455,-0.3461441486464773,-0.352525661585784,-0.3552569673851868,-0.3603048875628055,-0.3703948814008705,-0.352525661585784,-0.352525661585784,-0.352525661585784,-0.352525661585784,-0.3509302833509574,-0.3585675543657077,-0.352525661585784,-0.352525661585784,-0.17016405932800727,-0.3405789899410612,-0.22903579589089587,-0.17986487041466534,-0.32272753943153926,0.08865601052466572,-0.29800528397854126,-0.33535421832405815,-0.3380071894929744,-0.334674211076262,-0.334674211076262,-0.342276107793434,-0.32272753943153926,-0.3993937386807573,-0.3587747385317805,-0.3585675543657077,-0.31682276056674014,-0.3644723332305068,-0.352525661585784,-0.352525661585784,-0.32272753943153926,-0.352525661585784,-0.352525661585784,-0.34662088272098474,-0.34662088272098474,-0.3348113249913863,-0.32272753943153926,-0.32272753943153926,-0.3136043772445663,-0.32272753943153926,-0.31856009376383804,-0.32272753943153926,-0.32272753943153926,-0.32272753943153926,-0.32272753943153926,-0.3644723332305068,-0.3469265810617179,-0.3166454313068906,0.08865601052466572,-0.32272753943153926,-0.32272753943153926,-0.32272753943153926,-0.32272753943153926,-0.32272753943153926,-0.32272753943153926,-0.3143926480961368,-0.32272753943153926,-0.3703948814008705,-0.3526627755009083,-0.33135547679003957,-0.3058991798610775,-0.27520862471156204,-0.09898116250947923,-0.2937776405277502,-0.26228222419050207,-0.3445371598871341,-0.3435798286586605,-0.0883018594647164,-0.1117943202198057,-0.3325398530457061,-0.2522819865250743,-0.1609977977671968,-0.3010806205612873,-0.306375846487863,-0.3067297665689231,-0.13431966080879462,-0.036498566287901504,-0.08092602350968695,-0.10977655282350685,-0.24030427082024264,-0.15048322250441332,-0.046253301164466055,0.11251940764889956,0.10455372715516903,0.18847253139885622,0.20290495441814016,0.24158096633842727,0.20998385510063514,-0.0528692465138911,-0.13811383222560705,-0.10415471110505584,0.020439750253231654,-0.33725541460769176,-0.28723182257856833,0.2763271978656588,0.07314281886712752,-0.34018624316877344,-0.04264981007138868,0.01789459014024675,0.01789459014024675,-0.03773088621918685,0.08275123165986639,-0.012899970227243514,-0.126480871028252,0.029547112999169827,0.029841261784969576,0.13252112462159538,0.07344157872808568,-0.0699138436516669,0.26344905490862736,-0.15582816882000472,0.20290495441814016,0.04614787239054097,0.06647172124101287,0.07344157872808568,0.09386834097277694,-0.15582816882000472,-0.04264981007138868,-0.36753115659839575,0.14841770435486445,-0.23834336233906925,0.08813579220912414,0.03011915165777791,-0.035757719401166295,-0.08260021849115251,-0.3764190048752295,-0.3383502317965303,-0.32272753943153926,-0.016560108644726863,0.09386834097277694,-0.32368215686450313,-0.07114616358295203,-0.006998272278239316,-0.3241913564960609,-0.3241913564960609,0.2952649164761683,-0.3644723332305068,-0.34662088272098474,-0.04264981007138868,0.05185336847794694,0.04941575888043643,0.004100901859450878,0.0516953736490805,0.09799085675951608,0.028922652301051708,-0.0675290083734315,-0.3150331865186891,-0.32585207790453746,0.024541480815823677,-0.34662088272098474,-0.06914136398537735,0.10384656525194638,-0.352525661585784,-0.30120294865342717,-0.1076208391479266,-0.21740941393831942,-0.1076208391479266,0.020439750253231654,0.1207998749768881,0.08487437628222706,-0.0033538949783357853,0.1068988191529779,0.00876492211357781,0.061623159218561326,0.043168188365651096,0.005534948256424416,0.015613328863635013,0.006261564093557765,-0.018100369423428422,-0.3517881308309913,-0.27946221860140985,-0.3764190048752295,0.042020361497870216,0.21380176346893226,0.0367459718233245,-0.009467589703394242,-0.4205068415784018,0.07960992847617697,0.13584252213643427,-0.11218540156682227,-0.08659985195219555,0.010841734398562944,0.04002270411985113,0.08321453458441032,-0.29190239143021934,-0.4003805527702141,0.04870655160992303,0.03241431801069776,0.06115335041291463,-0.0015485596045488475,0.08595499315954036,0.13634896434258412,0.024078729739024914,0.033911599035527255,0.08013251006242961,0.16504559412042327,0.03550510549311644,0.04252696489206111,0.012885591603914876,-0.07788516574438446,0.09148638907363255,-0.13936032312385374,-0.11241104609317407,-0.14250243920508346,0.054859116863827884,0.054859116863827884,-0.028167159770836524,0.054859116863827884,0.010796801812771517,-0.3947465816210415,-0.3393081043569543,-0.3585675543657077,-0.17888431438665892,0.2143445526208788,-0.1479123237385621,-0.1240084726873021,-0.20620687484320385,-0.1540657052962357,0.1733392131946581,0.05746066123401366,-0.26734329185612477,-0.1626920686577534,0.08660885079175878,-0.07686278845182411,0.0726524897262859,0.005398122114620537,-0.06685374033009873,-0.09881025048261591,-0.35290011128916565,0.1377096837119588,-0.01860646633777878,-0.03860770332907421,-0.37245835242235287,0.020811944447172177,-0.05558233672870866,0.06357829097955346,0.014770051667248625,-0.07503076247907663,-0.33642017748036934,0.1780225677913521,0.02154817789881757,-0.01142551059895894,0.05746066123401366,-0.3393081043569543,-0.3393081043569543,0.02154817789881757,-0.07389134942082688,-0.23686699282937965,0.1345177791090596,0.02154817789881757,-0.36141869067597776,0.04031784169850439,0.03313676092326984,0.047250836885081235,-0.036472250583414016,-0.054126219323539185,0.12231294147596607,0.04193063809538078,-0.00881954265630997,-0.3393081043569543,0.08013251006242961,-0.014200064835722555,-0.009417440407996724,0.016164563660426755,-0.2972789231956708,0.04612801745309263,0.007390740301130441,0.049033947241499426,-0.3350185091574592,-0.02518757013679678,0.267053172627375,0.10750164861618684,0.028995916756476395,0.03871543559784983,0.12119238807213313,0.02528682806609958,-0.011903532013997973,0.05486400300461662,0.038378501216152494,0.09936260375972374,-0.37662768974887856,-0.02378866358387975,0.0172623129932444,0.005554521508377524,0.04538943391689466,0.0749617947973715,-0.07206221171285822,0.12313811122890765,0.13616550894691845,0.08842711472968995,0.0953882462186323,0.1384086152883734,-0.060506079591630464,0.2746204217802048,-0.4129133533463118,0.09362479128589514,0.41747671800462494,0.002521090096097223,0.004041617127259356,0.011353547091021045,-0.13481291559716152,-0.17419393520303653,-0.1477648661437175,-0.1139226193047713,-0.11402712984133967,-0.3287694322114628,-0.24561427033976813,-0.36105563258059264,-0.08957550890918123,-0.1701555323824345,-0.18483337488451704,-0.20863161241360698,-0.17831177071257887,-0.31649578111243504,-0.3518856350779542,-0.34604657131826444,-0.39461475346594876,-0.3591935568460436,-0.35495429717910976,-0.3708165159368589,-0.3883656765199524,-0.3044898703929048,-0.35647482421027193,-0.15151110950245175,0.09761006093529553,-0.1744859394926413,-0.03843340161275876,0.14009914976180984,0.023944225592550324,-0.07971584705141921,-0.07546834446165279,-0.1888966519450855,-0.15079388628229026,-0.1449438496346567,-0.26723237117400145,-0.27384359072225817,-0.2917484117856863,-0.293525333516102,-0.24888642986269333,-0.2602549667064234,-0.26619707285687344,0.19468922157056598,-0.0267732443405626,0.03927161545843068,-0.1920581085711543,-0.05019817757423346,-0.16549187845920157,-0.16152167910981033,-0.22125057824289024,-0.12748281333881317,-0.10891550663462206,-0.11101391194748934,-0.14018173454043872,-0.11972693937091114,-0.29964099558244234,-0.12136361393628736,-0.17484713055348233,-0.15664167858232902,-0.1377233742451486,-0.12064202330279811,-0.2688150557034847,-0.23377500849913327,-0.22592794032486627,-0.28888217913885983,-0.22978441307663328,-0.317958671141078,-0.2875576506809788,-0.22452221735474934,-0.28837825173988596,-0.26430748698485446,-0.10193727608164688,-0.1323213774421461,-0.01879089772887682,-0.21544188357087138,-0.29487651241039464,-0.2692713545436444,-0.22637245230987857,-0.11304780769983123,-0.05974145940862907,-0.12799548332578198,-0.11226408675729208,-0.2948391270598638,-0.33330180064652326,-0.28080448202157815,-0.3198001047249013,-0.2843170141295515,-0.36785364958623046,-0.28677311226184665,-0.015784152384433623,0.027727283819942022,-0.12852108113038668,-0.19091214228398418,-0.16038117951079484,-0.18918004055556395,-0.04728654750165036,-0.22446675925742937,-0.16268445055975625,-0.12273773254486257,-0.12387910899480313,-0.1515011997567777,-0.20606149503085724,-0.04366200235349393,-0.2733472431242073,-0.28955520528580686,-0.27082911010636784,-0.23714336224807653,-0.3338808670557269,-0.3120574305502118,-0.40176824394742205,-0.3536594620582238,-0.3666954335697655,-0.34482811435467653,-0.32459488931356256,-0.38141700166759646,-0.39863507226741424,-0.36532500880657637,-0.37518042717314104,0.014750807667522655,-0.019641600193885715,-0.05907757252175425,-0.21200631402630413,-0.17078083359509735,0.10904650269956291,-0.007904335927224079,-0.22813779588215524,0.12035103489812907,0.062337000447502636,-0.1412358926232537,-0.22556402592920383,-0.2463043075755126,-0.2081982010460898,-0.29792728576525823,-0.2101434891187057,-0.13639487128299818,0.16541691473126122,0.08309989581537382,0.29435440367100163,-0.06487653906052887,-0.05884501659149035,0.09554459249488371,-0.2355348936007827,-0.14890578463430063,-0.24973686560605238,-0.13847572902795577,-0.20238253546761042,-0.16356427314876537,-0.2958484183131094,-0.31396447476679845,-0.28994363944831025,-0.2717583986194056,-0.2915506282076534,-0.3242566996697108,-0.26557132424014174,-0.2812644500317105,-0.1660797805948748,-0.2780653913256466,-0.16331332024296696,-0.07427070205595028,-0.35689027846844695,-0.11844043642155677,-0.3807836217578923,-0.3839889551306227,-0.3381430476304573,-0.3202328146185286,-0.30517837884844584,-0.3227361726385487,-0.3195367829618859,-0.02877736296681702,-0.014470784133122071,0.07002371951550863,-0.1823453512987272,-0.10534691710471794,-0.2658843360244321,-0.11493685200182811,-0.20927686353872654,0.048153301995164384,-0.03934302039289867,0.018796914767077438,-0.18023117281234502,-0.11985112852336219,-0.02554025987372782,-0.2242575802393546,-0.11512697581568605,-0.07106114640182261,-0.03504830312312149,0.027354933805969192,-0.11977020301116958,-0.042846543242071544,-0.23890464772859554,-0.34678098304196303,-0.30011167072745465,-0.27372261574791473,0.09847930929093547,0.22176400363900373,-0.08585467506531128,-0.11501163874016537,-0.27974663141749817,-0.2435141916118649,-0.10691240524647815,-0.1149718028635973,-0.24039053890081832,-0.2524045313048981,-0.230777795196589,-0.2577884976710059,-0.19607826705394416,-0.2799503461996835,-0.21982742967003246,-0.2702309580053303,-0.21814635067396282,-0.12491171965132966,-0.24940343009995447,-0.28411779186738473,0.019974826122316387,0.029459869549958908,-0.11701721777145119,0.05340753584803613,-0.2452861606679023,-0.13925992788015978,0.07892262049126067,-0.34420410390750417,-0.2283426035898437,0.015588733131938592,-0.2684936248082324,-0.1699684572472456,-0.30723573283625316,-0.31275255360265797,-0.3739210857439617,-0.27273828654678356,-0.3068614768179307,-0.03130595766041642,-0.19753688105512335,-0.23833858021758472,-0.24690256302268748,-0.24910090064447643,-0.0355430615928619,-0.05842239620524057,-0.1390385528991849,-0.06500106686125046,-0.10000469212377763,-0.13118556432448525,-0.2882728406465658,-0.05206721632594119,-0.016498680972588987,-0.12060787608948914,-0.2385851682698365,-0.13050995165186582,-0.23558679112348216,-0.23231142862104423,-0.2503031953981914,-0.21179606517929095,-0.23962512927166096,-0.25360927736677846,-0.24614411595271185,-0.2437266113958079,-0.04954131265087315,0.15837902332630918,-0.020169752214802543,-0.24736013085486944,-0.30011833587235826,-0.28879305116882953,-0.21783419209882723,-0.26799879984040365,-0.08876515764474206,0.12835635759551478,-0.15260317545846436,-0.1648809864983066,-0.04173477643753354,0.02499093756557792,-0.3815422881712352,-0.37231877502021354,-0.3508862956947117,-0.3877913651172317,-0.35590051280755136,-0.1780061342555612,-0.15369214808108494,-0.09122255643568111,0.05098110266919481,-0.021185239735658397,-0.06508003226689073,-0.034323381171411066,-0.3589954588616704,-0.019100006091205025,-0.07579031556865667,0.05344412712659586,-0.4291347789369022,-0.4344866008602701,-0.4414828305609221,-0.4266511007872791,-0.4414828305609221,-0.41998853044592327,0.033323234793575136,-0.08524474747919084,0.07362503242884168,-0.029485875412200224,0.03391866248453492,0.05716095958961361,0.06995894565924578,0.020638015207718498,0.01822628890407399,0.026140928191912906,-0.01100418543581393,0.20051574993036103,0.2660434129173168,0.39076821806596784,0.16976400094890756,-0.05631823290928103,0.004926516246939778,-0.004710490299441254,-0.22590359310968033,0.06574743654011438,0.9343619341934929,0.9362358784141691,0.7360642570482782,0.7610343352761699,0.9327665559586661,0.7303762843494155,0.9326917047550018,0.7339805342144278,0.7298900313059467,0.9496074792633177,0.9393604168871671,-0.20431891586264345,0.057601390200414423,0.9327003379620109,0.9296420174856678,0.9295757994890127,0.9551691577596813,0.9408723107113203,0.9362358784141691,0.9398401282791815,0.9342957161968376,0.9327003379620109,-5.470003271612563e-05,0.9363794390306882,0.9326917047550018,0.9379748172655147,0.9327003379620109,0.9327003379620109,0.9408723107113203,0.9327003379620109,-0.24038326740705507,-0.26283462125364077,-0.2943927485542897,-0.31932283834162034,-0.26228215021351714,0.15266830580525806,-0.12543202770704587,-0.13022413822115544,-0.2554940241082997,-0.28896816698281275,-0.2545919691131661,0.23220740826584466,0.14164986341547994,0.06654502721634603,-0.12544399107253404,-0.17676164741840705,-0.2714139456074995,-0.23129865394097643,-0.23420080831835766,-0.2657173397016267,-0.15484181055544463,-0.17312902245098175,-0.24696383419697102,-0.25250824627931545,-0.09582171735214956,0.09419287868185393,0.39733395780608116,0.03221755059261694,-0.00016404453534808028,0.10042565813406916,0.68071518919374,0.5183857413040437,0.09261057195816176,0.36600004218260695,0.111496927337381,0.1036519862552501,-0.021702728056464022,-0.1724626794817765,0.0033916660791085025,-0.032187642629330486,0.054822392481656025,0.025578446093149104,0.05052556558248589,0.3094039469497765,0.11029812417310329,-0.016001014153406098,0.18586992105336306,0.09613822436822873,0.2841001198416707,0.20185717941543033,0.31146526814840264,0.8464515852498594,0.8464515852498594,0.8096177620269371,0.843327046776861,-0.2436617200234355,0.30648813509868006,0.24447717463647278,0.2194350159177229,0.6749126270435296,0.6702589283323598,-0.29750458467901597,-0.21673815557478227,0.6662350432811778,0.6625559422125006,0.6744242824445057,0.388400294758076,-0.04085552284665934,0.2219725113170887,0.2745990144781637,0.09696127216380925,-0.1732337836784459,-0.16557400721105675,-0.17163840544361939,0.003351631870192549,-0.18139961463694523,-0.09116774199167393,0.3766205200293071,0.026414433385542807,-0.22467383183416,-0.16440402355763947,-0.03946087216735612,-0.07675561013194539,-0.09082604472419202,-0.3989793703486115,-0.03586126262080136,0.09328223043650977,0.239668016553111,-0.3478653162764887,-0.25820051414336825,0.9203445408736289,0.8596032778671504,-0.07684977422538103,0.1225634986324814,-0.3218532400658962,-0.18815477602965167,-0.1713923493960457,-0.2986313671218603,-0.11641616526442958,0.8448205525648841,0.8945420943990493,0.766956216554503,-0.2335139092508805,0.9321371865632585,-0.37231877502021354,0.8344229331440817,-0.2869198591157805,-0.11821012076647389,-0.05051264943130049,-0.1488587553955044,0.3896423893602634,0.8641586291484672,-0.22365267322316448,-0.1699737075744524,0.7125485577804721,0.1113322202371462,0.07360528057348117,0.8698800386672356,-0.19829169759153942,0.9670747330716005,0.8599515274531274,0.25343042161139023,0.9229136734122366,-0.07964694733860468,0.0081559469506779,-0.0022314159831222334,-0.032064368363259224,-0.06849555555187128,0.888401208183946,0.9340650651989698,0.9340650651989698,0.888401208183946,0.888401208183946,0.888401208183946,0.9340650651989698,0.9340650651989698,0.9340650651989698,0.9340650651989698,0.003047360401341006,0.9340650651989698,0.888401208183946,0.8977748236029408,0.888401208183946,0.888401208183946,0.888401208183946,0.888401208183946,0.9340650651989698,0.180768511260994,0.11487295616969163,-0.08516158645650318,0.19030232953335655,-0.2860202535870523,-0.2655875573710004,-0.16274722698559663,-0.09426178391671483,-0.2267986634523592,-0.16021277344763643,-0.24260608117965096,-0.11813526956280937,-0.11363267858963819,-0.14850977970555904,-0.37994690993640856,0.9321371865632585,0.8848656241143644,0.9200188709196963,0.8415627234612527,0.8557529032887702,0.8733330347972107,0.8904848874003731,0.7947148233899967,0.9266326162731491,0.8756799379227701,0.8152680974892242,-0.09842006685491106,0.8947184020226011,0.7748287844891543,-0.1323015780149101,-0.17330988253913757,-0.10807355573942726,0.9029636158750703,0.929683657806984,0.23607258881349855,0.971338756514422,0.9321371865632585,0.8806139722745226,0.8988809359402106,0.049261191290271074,0.10332388317530446,0.26578644445403016,0.23987602774038846,0.19307851672924511,0.0599731572683589,0.014257682115782683,0.019980404529652804,-0.00016404453534808028,0.2936125738545541,0.2620698252727467,0.30897070112420477,0.008927421657841932,0.019991059869363108,0.05120198062677617,-0.08691717460326845,0.12199623368853037,-0.2231816791630533,0.03696736904185768,-0.14875976053076698,0.2722008659750643,0.18496818705243376,0.05283746080386577,0.1438175676995437,0.15145958930970432,0.1321766718805394,0.07832024722839963,0.17006362416918336,0.09089104333586273,0.15713526206284184,0.08493723886484293,0.09654985128962564,0.07780669245100261,0.12787809522157778,0.09160283146740267,0.05000232704913047,0.023693755482875643,0.021657028296285036,0.1780941486318282,0.3377396329718197,0.3789427812952946,0.019179170036649214,-0.06328780621717003,0.13295577582199228,0.22024284724556203,0.11809301078152426,0.005064085353798145,-0.006672321776442873,0.06210214064011539,0.08077798965832782,0.27954505065939805,0.22807096253080847,0.25819701636009873,0.03208593099776646,0.0986901257163324,0.1083945749123813,0.20910801746441993,0.2839168882652742,0.2067325124659554,0.13821661962561282,0.11552172576706858,0.0774555339485987,0.17286035011312412,0.19291089257285388,-0.05944789008902387,0.05768284105734078,0.17537996223619734,0.04285815790623862,-0.05895550656945206,0.0042954036224125995,-0.16491268962599026,-0.21741214342303467,-0.13018992186878126,-0.14817848629342759,-0.14505394782042938,-0.13951816894509436,-0.09826489028871613,0.09219486800393503,-0.14817848629342759,-0.2426185260771546,-0.022787737660553697,-0.1650568072351888,-0.280982745632572,-0.2702387054503881,-0.2762805982303117,0.2601111526800847,-0.0030151808456183138,-0.39973803676195463,0.10686410884360686,0.16283716068346737,0.07243239314223532,0.049170765882986106,0.20973668593846534,0.09302850741517618,0.16824960660132385,0.18055704488914537,0.006536341940269993,0.3207858014502038,0.11535001943514318,0.008346959441134708,0.2397070514892588,0.18237595603097093,0.02879218498405284,0.34650365084623425,0.39535864206865806,-0.0024636985983481174,0.0027212367472369105,-0.129838090794443,0.06272310277353554,-0.15701025003627853,-0.13956511921857487,-0.03325804230145275,-0.04202704886027276,-0.04339978622317072,-0.04741878121778105,-0.13864551191862687,-0.06669719336610185,0.004118521843888209,0.023076017196359478,-0.06418977645720274,0.2260566608828457,-0.04686631017765735,0.11610273355499787,-0.01238773154450214,0.06969145618173797,0.06371347515737041,0.040287967932872114,-0.05466780304487647,0.21305275004572172,0.21998783678785394,0.18441852964239838,0.2478819187789,0.27191882268486467,-0.016557230725167727,-0.008224430945320632,-0.009972003003675796,0.050745576054207646,0.006634918769204311,0.07800204877874253,-0.04696834886654729,0.0681583609578344,0.06406191658212143,-0.017722013975067268,0.06732054637364895,-0.3562762025391183,0.069037638068057,0.10565790365831437,0.12736881715675247,0.1310448877938761,0.02805351701134591,-0.25325788948268274,-0.059332865254762626,0.1404408992213949,0.23682023918859496,0.0837258724554812,0.015060485139219613,-0.02894418661754466,0.07660382191053544,-0.015028070486996148,-0.16932859011726178,-0.29913083634409293,-0.15640088359165424,-0.16042215066708856,-0.29863653094498194,-0.29885494276516544,-0.25545437158917117,-0.17319283178502312,-0.01655723072516772,0.1221996841593122,0.06255673824613964,0.19948012318541583,-0.2614776071407872,0.28162906613861344],\"symbol\":\"circle\"},\"mode\":\"markers\",\"name\":\"\",\"scene\":\"scene\",\"showlegend\":false,\"x\":[0.37065616018683206,0.45148364681013103,0.4063234392317239,0.6104528166847176,0.6560342158365299,0.47770246841249797,0.41113210521530325,0.35212703636062503,0.41067377637690217,-0.5574328922788833,-0.5329579738213363,-0.5007308887274308,-0.5454802597845303,-0.5181237158147057,-0.46067501135938005,-0.4465338322646026,-0.42329472456523676,-0.4979673362744265,-0.4747328500533531,-0.4520275102763197,-0.4534228785812289,-0.5628157348078343,-0.567871920963153,-0.5496280179781119,-0.5840402120331035,-0.5512382259928779,-0.517556801522405,-0.509014535638665,-0.47796788095578485,-0.48782355115759396,-0.5094947684996785,-0.5137240756525061,-0.5146515622329938,-0.47613694602091955,-0.47416634763445054,-0.4501974110611535,-0.4975822662483983,-0.4506347508260149,-0.511638298298346,-0.47079587269509837,-0.4758889899752585,-0.4758096715097571,-0.5010383154982789,-0.46984562484356657,-0.48774288567578794,-0.4837989445537094,-0.4721832174513946,-0.4923819799865534,-0.4597068839526852,-0.5422667267304405,-0.5213994521841442,-0.519827024363868,-0.5247755973707658,-0.5207267041319716,-0.5279012679521672,-0.0674524081741084,-0.531859600810433,-0.5222444106362208,-0.4667364718464715,-0.47110894872371833,-0.4561899260791257,-0.53631863674463,-0.4889049616186834,-0.47330341297984124,-0.4875405384674135,-0.49967830856394885,-0.46933919919447514,-0.4809521279196367,-0.4784137384470059,-0.5360435410385589,-0.4987250360483234,-0.4692854672088956,-0.4607616823115641,-0.5518659185328741,-0.45645518995885237,-0.4943093434567385,-0.48317265810335425,-0.4807077221651024,-0.5027993807411993,-0.4978623145458152,-0.5032962142452229,-0.4769818642842245,-0.5670905645683254,-0.5694926530927463,-0.5823716947180576,-0.5618197397420749,-0.5173405527758528,-0.5630013317819687,-0.5649637832088393,-0.5849375689501265,-0.5675179478799234,-0.1698995446841867,-0.4145330514788876,-0.3992902035421075,-0.5394121442124901,-0.5041755629509515,-0.506772402934325,-0.5026818654556391,-0.49307843146027197,-0.49967830856394885,-0.46933919919447514,-0.5324510149476833,-0.518500755021185,-0.4910082645096771,-0.5257271351267764,-0.506768763435321,-0.47585758004602857,0.4036148449844337,0.47502613396484716,-0.5100356117357764,-0.5069032640852311,-0.5506543115369966,-0.49689674924363103,-0.435153617631861,-0.5314643992529546,-0.4717054572538854,-0.4561110431382891,-0.5001770919794197,-0.4823853906704983,-0.4965006921472653,-0.4812653135656204,-0.5330386962815608,-0.5254041165917513,-0.4345941995942405,-0.4664567734067762,-0.5659491260261333,-0.47315422647937344,-0.44868358312069573,-0.4826471167485662,-0.46296214132912916,-0.5688572637804471,-0.46851645881377196,-0.5688572637804471,-0.47763981041778103,-0.49898483084892375,-0.4975033738042219,-0.5191356894737612,-0.47339739896477745,-0.4740753556226924,-0.45670805133187997,-0.531270434248971,-0.4924247403270136,-0.5715904587880962,-0.3450773803959025,-0.35067808105176024,-0.5567798452902224,-0.44194930339228755,-0.5090103074777451,-0.5248485469061971,-0.5283077512914179,-0.37152390714270556,-0.5109613705189395,-0.4672484987920956,-0.500424855869436,-0.5379722929096626,-0.5416858962886714,-0.5345496652694872,-0.4796126897028199,-0.504121435230979,-0.4794262987180965,-0.5196972445152954,-0.4852770306389678,-0.48273821145423573,-0.5433564485509353,-0.4821484136596301,-0.5522438174695932,-0.5505974354658449,-0.5564924260888894,-0.5242355393649883,-0.5713112722973384,-0.48157079718803614,-0.5467881211161807,-0.5061830619126829,-0.547177418299964,-0.5248521211072463,-0.5050899362179414,-0.5538353436222041,-0.5048398981132252,-0.5757548353661913,-0.4639331365277891,-0.460360916774844,-0.43749284409272143,-0.5184858323879862,-0.5195328583061264,-0.550984836022643,-0.5471756116559386,-0.5368722712287085,-0.5224304442082739,-0.51584592679685,-0.525241068578699,-0.5269661842609692,-0.5154202665972476,-0.5444128967211508,-0.06664579056193033,-0.5338734696988008,-0.5433911510770387,-0.5294360876944066,-0.5241615823031459,-0.5337710986971582,-0.518982934460738,-0.5400199316162497,-0.5453158172988076,-0.5086186088369095,-0.5115724649280924,-0.5017472408929917,-0.5313684678887396,-0.5336944174873547,-0.4757275047826746,-0.5108768651390516,-0.5073612272276095,-0.5152906002776213,-0.511246588820283,-0.48987356350453476,-0.5087072054766719,-0.508133113593907,-0.49131156910698404,-0.49532026073967406,-0.47192465757364616,-0.48369925659677376,-0.4566870408721354,-0.5331179578332929,-0.5301365051454823,-0.5132606116456611,-0.5043069053079833,-0.4805321997096768,-0.4493767809313815,-0.5137363857150117,-0.5238382609923344,-0.5227336427207875,-0.49886790813746384,-0.48979368267525336,-0.5247041341440382,-0.5364996413383123,-0.5553597629850976,-0.43725675077310105,-0.484477264281429,-0.45934554644604375,-0.5621961518487882,-0.5601050576703694,0.40537203808724276,-0.5064053579989759,-0.49136680806044253,-0.5624115927948724,-0.5325574340875022,-0.5525361557324255,-0.5459228767246392,-0.47541550319750886,-0.24263648654046657,-0.09238606092005744,-0.5124100961972842,-0.22933132722330718,-0.08849737770259694,-0.5433834933810283,-0.5014109389968345,-0.5416427449450479,-0.5465075251448999,0.38977213676261063,-0.5675902969138338,-0.2705491979346071,-0.5180225743275905,-0.4823609217103326,0.34501343453037603,-0.36517330421031513,-0.5512464523577275,-0.5653019693791541,-0.5561600350705885,-0.5682599028222668,0.34501343453037603,-0.13249435952890595,-0.21816121144810938,-0.4730467350793491,-0.48840630248263256,-0.38926850814690045,-0.5295833967670944,-0.4765556548095264,0.36083311298443255,-0.5416427449450479,-0.5271416983127087,-0.4910590191464815,-0.4910590191464815,-0.46781766143555775,-0.5271416983127087,-0.3425977182078127,0.41505404443359895,-0.5255854059011091,-0.5413325015909488,-0.3425977182078127,-0.15766747248876997,-0.48015160555810205,0.38754053000078326,0.4052586641677539,0.5192688361586486,-0.5214954885598986,-0.5091364258453103,0.3372753353649109,-0.18737997480470978,0.3333646256692986,0.40512672932192195,0.3955094008887889,0.3891919830328275,0.40544772795702166,0.401150733650752,0.401150733650752,0.3955094008887889,0.401150733650752,0.3955094008887889,-0.4567158979561227,0.10123280615245801,-0.4619463642094932,-0.4310439512941043,-0.5040122430757028,-0.32762584265644146,-0.24831337558611985,0.03631936894360094,-0.43758723380807873,-0.18972792300828475,0.3914001563995394,0.3909146611565366,-0.5137287280190012,0.401150733650752,0.3955094008887889,0.3955094008887889,0.3955094008887889,0.3425901812795738,0.3955094008887889,0.3425901812795738,0.3425901812795738,-0.4752252077581298,-0.48774833640673215,-0.4559169505733454,-0.4701773529792002,-0.4599455438867767,-0.4911633969711487,-0.427793492562458,-0.34735047425520127,-0.4708041991755981,-0.4929803455927744,-0.42253204420814106,-0.46175963778518214,0.4659310486203805,-0.49250537116234056,-0.5107748156512649,0.41395197095513386,-0.1302483899112664,-0.5128048802135208,0.37298245345335246,-0.5332880410127168,-0.5737038435761116,-0.5666479476282162,-0.4108414069737052,-0.4728438693030548,-0.43154464886948923,0.4009757909040876,-0.5107748156512649,-0.4994064497981052,0.39762278567680426,0.3985550754327765,0.40306672643064906,0.3824004681809279,0.40679206641271515,0.40679206641271515,0.40326411843876747,-0.31375886030049527,0.40679206641271515,0.4304199459141703,0.024055863677685613,0.4508568059942528,0.4097459787804514,0.40679206641271515,0.3985550754327765,0.40306672643064906,0.3957717974896967,0.40679206641271515,0.40679206641271515,0.40679206641271515,0.40679206641271515,0.4075305445046492,0.40388392865840134,0.40679206641271515,0.40679206641271515,0.4848705348314928,0.41243339917467825,0.4376035403467734,0.4812396946843501,0.42080792694429076,-0.4884302019634993,0.4115894120234344,0.39739417697495355,0.3946679087511939,0.41516659418232765,0.41516659418232765,0.4110044267236722,0.42080792694429076,0.3538728468034998,0.39973617046481974,0.40388392865840134,0.42354112195194,0.401150733650752,0.40679206641271515,0.40679206641271515,0.42080792694429076,0.40679206641271515,0.40679206641271515,0.4095252614203645,0.4095252614203645,0.4149916514356632,0.42080792694429076,0.42080792694429076,0.42425247824088075,0.42080792694429076,0.42272391972418777,0.42080792694429076,0.42080792694429076,0.42080792694429076,0.42080792694429076,0.401150733650752,0.40824093683497253,0.42310429447535075,-0.4884302019634993,0.42080792694429076,0.42080792694429076,0.42080792694429076,0.42080792694429076,0.42080792694429076,0.42080792694429076,0.424639912504085,0.42080792694429076,0.3957717974896967,0.40661712366605063,0.4163881299587028,0.4052638683215108,0.42343181644160544,0.5159975977437927,0.4037926308380587,0.4300426165826896,0.41048325781031303,0.4106734451858943,0.5209474260893167,0.5120402270283182,0.4135863500141838,0.4441994474671272,0.4905237468439514,0.4306247078503655,0.42776059118446397,0.4273425380928124,0.17863305048998793,0.004136651573648454,0.005226426455589314,-0.17234729442030752,0.09568625011638748,-0.023654917940082086,-0.4945928549568954,-0.012083552787451365,-0.04832738110101562,-0.09970239420354035,-0.4492908201948951,-0.4131294855617473,-0.4249240132102743,0.13391340291151843,-0.04390214827637025,-0.028027180578753166,-0.5312798712489771,0.41355871634020736,0.4334092242899339,-0.18241977995422948,-0.4432008145943665,0.4120593671714389,-0.08596128449068526,-0.552632087096641,-0.552632087096641,-0.16190650600254342,-0.4911633969711487,-0.39133957795189844,-0.2346578616519618,-0.5495166848302645,-0.5469907543346777,-0.2502230519562712,-0.5266446865810405,0.04352975173126092,-0.2516047434059707,-0.052101733299318324,-0.4492908201948951,-0.5249825389112708,-0.33344899255114663,-0.5266446865810405,-0.5003662160733389,-0.052101733299318324,-0.08596128449068526,0.39735680873181617,-0.469178291594717,0.15169110430877764,-0.4365059116334379,-0.20156779490025958,-0.0939131480829663,-0.18509164727002983,0.3955094008887889,0.4031681870745523,0.42080792694429076,-0.4056460890120195,-0.5003662160733389,0.4176848026597882,-0.12251340584493083,-0.18055263798467638,0.4301456360376768,0.4301456360376768,-0.004254816568023402,0.401150733650752,0.4095252614203645,-0.08596128449068526,-0.2488031343756344,0.09976813660422773,-0.1961787534490277,0.03327761599055834,0.00503149567690268,-0.516636865773315,-0.17592236653411905,0.42197318784630194,0.417279978970343,-0.529097901524092,0.4095252614203645,-0.23246142083419677,-0.4817317196343298,0.40679206641271515,0.4264870325791785,-0.1991074515250519,0.4598249887753587,-0.1991074515250519,-0.5312798712489771,-0.47766064480492515,-0.49459280150416496,-0.17961947213818946,-0.48061002106876327,-0.21768575647797753,-0.3028476159979447,-0.31173397322616464,-0.17506703940375587,-0.2471841908298794,-0.21879582901458963,-0.15316059420670355,0.40640572434697014,0.4410392121205945,0.3955094008887889,0.0664778890035088,-0.45495291470375565,-0.5218470511266395,-0.5717654015347609,0.34179542831327525,-0.5110872946455738,-0.4674399828923984,-0.2769969681477831,-0.2148759807097571,-0.5429267679331874,-0.5158718967929232,-0.4918996245302223,0.06744107260223985,0.35912347290115665,-0.5365595353339417,-0.5519332654945577,-0.5180972773880319,-0.3107163512929967,-0.4933342568741347,-0.3505478662121203,-0.532811406237287,-0.5170624618534966,-0.4964452093495992,-0.447172583236487,-0.4074242590504642,-0.5102464983819224,-0.5425721220302167,-0.23841201131945552,-0.49380511253921755,0.4906022945864091,-0.16916222070809617,-0.050300043793159964,-0.4481561897583873,-0.4481561897583873,-0.4660911692314372,-0.4481561897583873,-0.5603824400480579,0.3537929798821629,0.38959368932151267,0.40388392865840134,-0.07959914906147127,-0.44521950928619575,-0.06084219045351081,-0.051498843061450285,0.14063729572462766,0.1501417925049617,-0.4666210104779855,-0.5075525011121561,0.4424383412948406,-0.03514456072943975,-0.49860098261829394,-0.15653799545463573,-0.4617732175005265,-0.2968449202493985,-0.17631926513735935,-0.13814764447956848,0.40591763858204327,-0.4703025202722765,-0.15347585750046364,-0.3850615149885356,0.38260222530891014,-0.5532518973162743,-0.17028103377215592,-0.5025146474319447,-0.5561600350705885,-0.3917247109200987,0.41213401395532673,-0.44859791466217913,-0.27769577168124665,-0.2072637452044092,-0.5075525011121561,0.38959368932151267,0.38959368932151267,-0.27769577168124665,-0.19430290950124565,0.4519022876272992,-0.473914607212691,-0.27769577168124665,0.4024527470879557,-0.5194659921451793,-0.4211532329480365,-0.5080416206436156,-0.273683556925313,-0.12429496856413365,-0.36255332568425974,-0.1297596873505455,0.04806860454920599,0.38959368932151267,-0.4964452093495992,-0.3139552641836968,-0.5699686310901015,-0.562248949872743,0.19779432233868374,-0.46831336071813323,-0.17868596529947373,-0.5122164365207695,0.41084389324208154,0.5564449948793775,-0.42095380023812823,-0.0008629022874120776,-0.5373263930984512,-0.5349187266473285,-0.4833083454831601,-0.5424195431872085,-0.5666479476282162,-0.529608741857215,-0.5402699200880953,-0.4999047302158559,0.35987237743867034,-0.5786171985070825,-0.5406902778347875,-0.5593714107718323,-0.5214844664034074,-0.5124370319297653,-0.013122286470884384,-0.4844906215566046,-0.4768510489899334,-0.2815830682812626,0.2786956097178699,-0.4888510251073232,-0.3830639630112255,-0.4019684872704936,0.3505105791545322,-0.5087799801173657,-0.3271270321421267,-0.5620526365908893,-0.5614785447081241,-0.04258586682244554,0.08144877029641198,0.20570544847128663,0.49356646321764225,0.5114569860121618,0.23791554641167065,0.4178997891899769,0.4287556433852623,0.3800503578665011,0.13996935625447224,0.10181610492858569,0.09949935224029588,0.08432019728112573,0.10041163029337549,0.41506167396690147,0.37184949996611827,0.3748486719187556,0.38281217217893027,0.4032800175861056,0.40310985977090946,0.3979913271381005,0.3898680681268258,0.42891585777248636,0.4025357678881445,0.19822184251343744,0.279983577588229,-0.0018375625379136165,0.1585308535063897,-0.2601824919256066,-0.10498834778112534,0.13698454756676368,0.2360419803288952,0.1198883980483957,0.2173223474403642,0.22412549564278333,0.4309293822131298,0.4212653413122252,0.4145910854513597,0.41685553271659626,0.43689317026791347,0.4271031153537514,0.4240525367768442,0.055827478189929565,0.2946189281995877,-0.04817626202836054,0.33208712981628324,0.5435686930378251,0.4856682213883632,0.010203051828612522,0.14744741475098092,0.13412140909418757,0.12662230833813884,0.13419367154380926,0.12047605344606646,0.12724100612510206,0.35889405059382884,0.5190518601005523,0.4852801844312298,0.4985375188911007,0.5111132902827431,0.5116680690635342,0.44553386478917073,0.4608298654869002,0.46317783535078483,0.43596831320701723,0.46119829894456543,0.4185926052215956,0.4379688656850024,0.463439363402746,0.4366750802730446,0.44571061733739903,0.003408351024253311,0.17552241599277763,-0.13944004935386015,0.4479172032126894,0.42572376219966535,0.42430533659021347,0.4527532608518047,0.11987052524915416,0.5432073467715656,0.0827092646396015,0.12633718344859587,0.43058560679929175,0.38244576650357404,0.43613569681820497,0.412922633132969,0.43289841003367757,0.3840589976273175,0.4357888372060185,0.11725648947982445,-0.11195235147189213,0.2302837173326937,0.12182656214249454,0.48492678973350717,0.47413302891790954,-0.14519181216792584,0.14126436814820453,0.14984088820682384,-0.18203785877705803,-0.15631897717728982,-0.17287990247284932,0.17795505103873616,0.5532949303302256,0.1342360957347134,0.12949536187786018,0.13765849032839217,0.4393704239756855,0.4065832228937973,0.4207829311052891,0.36074773815771277,0.3981821603515175,0.391597095344184,0.4057135396064697,0.4185938073359264,0.3848692820925815,0.366491064130909,0.38554207408913066,0.3811359966465714,-0.5483507393734,-0.07081015576161931,-0.3013313347435358,0.23541854462441378,0.20432220285724847,-0.21328595079708912,0.20437532243991238,0.17010775149854512,-0.035218821026003946,-0.06696823996234066,0.4982968947343804,0.1545279641073892,0.45688659742748494,0.47368781792175524,0.41032009488708526,0.47158896568386843,0.503003467759218,-0.4855120126549182,-0.14960166483535228,-0.3960932020182266,-0.1853376415727185,-0.13672526203823027,-0.4965819314717768,0.16923748118089163,0.11224960216148598,0.03405544854374171,0.10391290138697863,0.09137609322902113,0.10922826871532831,0.43329602859809,0.39824841242275744,0.4360292236057394,0.4506657704474636,0.4352919445758777,0.41801845706227714,0.44513142978077336,0.44418391010577973,0.10563666817402641,0.4398453100181955,0.10523461804206762,-0.12604135381887852,0.38614825742444775,-0.1612811770685045,0.3748655919005214,0.39174991232225476,0.4073159452681339,0.41970262148165416,0.42893118595556556,0.4185925489450421,0.42228488312815887,0.5433334329209993,0.5508601844560232,0.6033796073542179,0.4801217436594538,0.510486875963453,0.44354263561899077,0.5091741216365366,0.46728461829165896,0.5993120576929195,0.5468144970063922,0.582987238666873,0.48691565585567864,0.5140590564846764,0.5632226001566896,0.4620368580915162,0.5256278305705956,0.17942803496839313,0.20973820086226833,0.2406211674015441,0.3767832885809267,0.555666822812107,0.45806736097056305,0.3183915789519743,0.4163879414358602,0.4436960811165704,-0.06424240873973716,-0.3272258909331793,0.14397089569910085,0.12599910893350333,0.4426667786940495,0.4567068072630018,-0.10677893373255436,-0.11269605966689629,0.458269425520221,0.45274096547854414,0.4615839742955651,0.44936547026313534,0.4847154588492696,0.4407924831756446,0.46704197079405824,0.445243991187139,0.4677613966524074,0.5103263876486958,0.4537409716224392,0.43887649039574744,-0.09840658364686358,0.1390821633075821,-0.16399088807232823,-0.23503412453740521,0.45511344860282676,0.1184476323866695,-0.3011822136106777,0.4026578002209253,0.4651330128411978,-0.3368773734845284,0.4460611934148914,0.16161921706784738,0.4249834332386802,0.4188890634367542,0.3921603077178958,0.4397948578304136,0.42580536428452564,-0.04370900587834208,0.11239328708255361,0.3498084429728846,0.45392983852461805,0.45543897715935355,0.1667472264401834,0.1873049070997956,0.09113584095940722,0.14216707493768968,0.13862916875274356,0.11857887701647923,0.27382192885966944,0.2021715156632862,0.22210991216924306,0.5086285363522836,0.44781360108223783,0.09699642532438076,0.44289781230219555,0.4618651518471393,0.436111914374665,0.4709722084147749,0.44141126353944937,0.43558689175788795,0.4547555342667608,0.45765178147881497,0.042264540060687764,-0.46109265249300413,0.23455234590034513,0.44820696280391187,0.4071781049291235,0.42512993099750607,0.07267274613397774,0.43878560700641334,-0.026248671644883734,-0.036437742976679045,-0.19594084658834743,0.18160068959742726,0.2366392228713896,0.30038699271328434,0.36224737457311246,0.36620210535713715,0.3761111195236081,0.35519147862521705,0.36785917838653576,0.1553328539810209,0.1399467604941642,-0.09505910050232136,-0.5245736388457345,-0.16685769088494412,-0.13083155969778293,-0.10834699355738994,0.3696757639276476,-0.4861008021005016,0.19667211613954846,0.2611456916268329,0.3373756313276876,0.3326578586032713,0.3298929525697152,0.33572691693015444,0.3298929525697152,0.3428379449668953,0.583834907370541,0.49810702046060396,-0.508313239400672,-0.5734522907593301,-0.5331510012308931,-0.5225957422328844,-0.5179031058405342,-0.5500082419202852,-0.5421881612464793,-0.5447813819058935,-0.5684917311827868,-0.44880946865290017,-0.41654073961921234,-0.35635463490472324,0.6426716330139796,0.5361344384638418,0.5644848310022651,0.5604749681293949,0.4641156999431658,0.004886416990856756,1.00108946669005,1.0038666265095584,0.9195033554359945,0.9191233128516786,1.000350988598116,0.9170132707733323,1.000186602388947,0.9185453590460456,0.9126118456972682,1.0094885008530328,1.0073945744835058,0.4764956015630146,0.313575103752856,1.0024019803881956,0.9968230406241684,0.9988740324142478,1.0161775131536719,1.0057532883670222,1.0038666265095584,1.0053987147822714,1.0031404584801298,1.0024019803881956,0.5626104792073066,1.0040984548700784,1.000186602388947,1.0048369329620124,1.0024019803881956,1.0024019803881956,1.0057532883670222,1.0024019803881956,0.4590512340026827,0.44593202212411115,0.4174079305027037,0.3871333549210428,0.4482824554100957,-0.46109373664490155,0.23561700045483497,0.228233753823347,0.4524862638536897,0.42647199621433884,0.4527337035936142,-0.42924481357064415,-0.4903947829852266,0.5532709389572968,-0.01637043614105627,0.26772667064014155,0.4426225261142571,0.46450106659535073,0.46185778102117736,0.44732798877616786,0.5044054057539543,0.48860873884650646,0.4559499562857049,0.45369169998356274,-0.10014206267779541,-0.5046458648770934,-0.367934398848896,-0.5449368674126029,-0.565154373059835,-0.4851429833331801,-0.22412202763412983,-0.16340186506271948,-0.484017760700087,-0.36402274778546445,-0.49236827159716795,-0.4958276346342458,-0.16894936508853964,0.14828752504972414,-0.2651773806980547,0.1665940056342767,-0.5167810104880479,0.18295309998649167,-0.5317707167213449,-0.39561563571344666,-0.054792895927777835,0.2275766412056499,-0.3529478054386814,-0.4769560704980628,0.42147796056010295,-0.21531931401399518,-0.38890615812733087,0.991316844534678,0.991316844534678,0.9727800914158214,0.9877888965607303,0.21050809561769335,-0.38548430528563793,-0.42722701043451305,-0.4471980088063033,0.8601022192085414,0.8537848013525803,0.39967340205426904,0.4373011866634081,0.8521006369332034,0.8504041624513206,0.8598827009105271,-0.348557608195878,-0.311590419419383,-0.4462539670628385,-0.4267613846028207,-0.0715272202062106,0.47879242822262486,0.48245141825079935,0.479530906314559,0.28609221071492513,0.47553806430161627,0.5265847717050598,-0.35095920710085515,-0.550769971066963,0.4624206930920843,0.49343943054163875,0.5419268135279813,0.5282325371318484,0.5065489373869062,0.3621683631906631,0.05198185168497517,-0.16254194890849688,-0.41257000705254765,0.38817060801413955,0.4282564784921003,0.9964433337662847,0.9632557858659712,0.5376080401710889,-0.5032912738094184,0.4190844462647802,0.46688966099496637,0.26747637916908806,0.4319995582698932,0.5076683096251697,0.9666062352930915,0.9937497516054093,0.933132212574274,0.44836301538490414,1.0045120457005197,0.36620210535713715,0.9680159224640165,0.42337504182574054,0.5092993618744159,-0.03333719544473916,0.49823405631981876,0.742050906935665,0.973742388760098,0.4609549220031792,0.48453311573270647,0.9068513300344834,-0.49932960476925303,-0.11335656572744707,0.9922483965115014,0.466952901891617,1.0277837361651188,0.986063914642618,0.6855668837616489,1.000557314916495,0.5279099621382439,0.07674353430413151,0.5639407427258214,0.19172928389340987,0.5323969728360607,0.9847140335597799,1.005044325614312,1.005044325614312,0.9847140335597799,0.9847140335597799,0.9847140335597799,1.005044325614312,1.005044325614312,1.005044325614312,1.005044325614312,0.566070026661175,1.005044325614312,0.9847140335597799,0.995297877481623,0.9847140335597799,0.9847140335597799,0.9847140335597799,0.9847140335597799,1.005044325614312,-0.46357933378207156,-0.3169033828503027,0.5254924585221745,-0.46397764512078776,0.4210267087181636,0.4441019069809992,0.5068695829627161,0.5316305076855777,0.4088267376301954,0.49941157316215523,0.455034560147308,0.5094637480835851,0.5253740651275792,0.49418170095121994,0.36298585266504657,1.0045120457005197,0.9946046285615752,0.9979849583413227,0.9710126568580923,0.9727284346407276,0.9765980613211342,0.9970272710728865,0.9453126962981468,0.9910397679201303,0.9798343380482949,0.9211491091820933,0.10598250769337332,0.6581402854735726,0.9358259757164248,0.5003691715866497,0.49227990664136373,0.5165751317171704,0.9881727735251895,1.013311309820074,0.34560777634065026,1.0322223883985973,1.0045120457005197,0.9814985931400825,0.9907809939539576,-0.532128802041445,-0.47828985141309593,-0.43577022341252525,-0.4182961488219551,-0.338060733382754,-0.5292628708886503,-0.5447618284336662,-0.555855997484742,-0.565154373059835,-0.3971752717326003,-0.40726732303827,-0.36959754272792456,-0.5445222633945819,0.5362149292290651,-0.33365274618738044,-0.07889353611128758,-0.48725321984286635,0.4441282305576646,-0.538093168346286,0.09590636782356844,-0.4061579771271637,-0.4524196434766139,-0.5393359955700165,-0.48501510533553266,-0.4835050201071769,-0.4788335006647543,-0.5024144290993001,-0.4620902166736578,-0.5102411343977743,-0.4584548544464745,-0.49085911105178487,-0.48717199700611746,-0.49419238811331684,-0.48788542043088984,-0.5208381860890775,-0.534733645677555,-0.5440630845218819,-0.5518128861678994,-0.4578280834178608,-0.3788773232456334,-0.3610236247498566,-0.5525771654262457,-0.286800189776419,-0.47279703112196547,-0.42939019725705346,-0.47889845141453147,-0.555409022291797,-0.5672045294860708,-0.5219327689946816,-0.498656004684988,-0.39762402328404367,-0.42786632368091887,-0.41759389247963097,-0.5383361888714918,-0.48685431437716153,-0.4778701797062846,-0.4410639482182097,-0.4090178325143627,-0.44421253149836176,-0.4224575359270788,-0.4490490681427854,-0.18875198517112038,-0.4578823949975547,-0.4608570455282426,0.19516231366851428,-0.4211017160882115,-0.452239373525193,-0.5285868128968919,0.2646166024634069,-0.15726510355834353,0.22130282986321032,0.167747181649848,0.1956878585107596,0.1871383879944827,0.19066633596843047,0.19070921427132395,0.06731566739593668,0.5393172610722554,0.1871383879944827,0.004380317920165138,-0.41059937515248424,0.48332958792697206,0.4404651202378294,0.4449939429046192,0.4420858051503053,-0.348443412838138,-0.5665855546302805,0.3495501458632539,-0.5008232446355896,-0.4440552668822712,-0.513927502126235,-0.5284566687686206,-0.4390887032523449,-0.4928309917203473,-0.44427066147108824,-0.43185404928413773,-0.5625838501707608,-0.37586543972028225,0.11684050075246455,-0.5493369239002626,-0.42166118251564805,-0.4441493133350369,-0.5417506847745163,-0.376754067827398,-0.35269646381327563,-0.5581150954964529,0.026107739478622435,0.5051451506010188,0.07066586291168138,0.2774391366624363,0.4994092090631005,0.3292538829965306,0.3267206915918531,0.1307397052321557,0.3225746306467283,0.5023296006033662,0.5206784714562188,0.3421606404359107,0.3571741538472858,0.38906489301707525,-0.3785089647148829,0.324925063932713,-0.13094856384571252,0.33242542623058546,-0.5239556874606075,-0.5282772331845527,-0.5372230778982151,0.32493104468005146,-0.4308866058902673,-0.42364414116675314,-0.4374897224718024,-0.4190136150150174,-0.40749912113057113,-0.5729653654841778,-0.5649514731463339,-0.5681371575980364,-0.5279410248383174,-0.3099033907368755,-0.5026682028463958,-0.0635595388921207,-0.5126108387579389,-0.5085665203334621,-0.21352835194888148,-0.5026692185922571,0.40266020736647173,-0.5146650181332765,-0.5064672863810812,-0.4804122183657809,-0.5057354599558881,-0.2558071791738443,0.43816443202377775,0.2978841373364115,-0.48350603377661927,-0.41318882557630127,-0.17027436665358928,-0.12076815539050602,-0.3617416098797749,-0.5177981160978421,-0.570175895602164,0.481115359782965,0.4274462280311995,-0.05666634552247919,0.2625755195706646,0.4320576429458214,0.43166142837613214,0.4384925435199543,0.25460734556968956,-0.5729653654841778,-0.02243097140092607,-0.533594704022736,-0.4633132634831815,0.4258233879789366,-0.3893313009307111],\"y\":[-0.38444390431977415,-0.24232348672265833,-0.3304398983852652,0.2072803312662944,0.1971570900940824,-0.16513309940796786,-0.3381973797230202,-0.40519369980843717,-0.31040766800906955,0.0035072982631061587,0.024902333499586142,0.09534901885332725,0.006843698823991333,0.04792436277601875,0.17323204690786004,0.1900387156678738,0.21602535376039644,0.07910699085898987,0.1456492529364009,0.18166013960385874,0.17656989279139845,0.0016152798262804055,-0.013921539742739334,0.006636514657918461,-0.035235380105062164,-0.016201811124749707,0.0321149974347146,0.04640620558381139,0.15011314941833367,0.11860067112986311,0.08268303067749817,0.04433371040407141,0.05727913441559681,0.11063290502613861,0.12166324261559978,0.19497404169351332,0.08910070951278797,0.1475293274691801,0.07134486765516751,0.13644797402225425,0.16630757350034617,0.15132599320727996,0.08112517957845429,0.13337114795653396,0.08752590062124076,0.09809561082817506,0.11428057713241975,0.10926354192868427,0.1297159647388007,0.02959028488622336,0.05291435771682625,0.04898799804745077,0.043074585975642184,0.05312931714336046,0.04236750765561197,-0.11411960490513666,0.03348378638563551,0.055242757510134764,0.17373124086204175,0.03133488741991378,0.19714518615172613,0.03162885824731332,0.15805871259390655,0.1277717076798579,0.0997694955229795,0.12658835325744308,0.19930065522175228,0.16120359094128364,0.10093695341692009,0.03378456373870495,0.08738114316711262,0.14232831681599012,0.16449485616379864,0.007386053053548681,0.1648042558987121,0.11326572734866237,0.10296988171367306,0.10374898797033244,0.06259159691123688,0.08073956955490295,0.05731822037043486,0.18225502865600732,-0.006790382632577731,0.010518592951259202,-0.023358778711287945,-0.005318304292506068,0.06488247200001922,-0.004266260999247688,-0.007879646962815763,-0.02802370507656832,0.009009693434851723,-0.20546963671241752,0.24502905010447823,0.26065333113347894,0.024889345146737518,0.06610869500072693,0.09670023679271089,0.09796534414500419,0.09212645242004253,0.12658835325744308,0.19930065522175228,0.07402199789454073,0.06638616630471746,0.11209169532777186,0.03128852436070699,0.058513590289223615,0.11396971994172345,-0.35243459404360344,-0.2166159827730169,0.07185087531108503,0.08782401806018249,0.004971343267324373,0.09494111752203938,0.20880439265347173,0.03664182097823604,0.12784792059676847,0.16392468636982033,0.08225793407339803,0.10267134411462403,0.07601491287754798,0.14657869016718625,0.05163372979639405,0.07825827076740073,0.23676125158873604,0.15986320481936364,0.002616195856452977,0.13661595503990676,0.206279030203188,0.11449173823401848,0.19214558764222792,-0.0034256969234706326,0.17447161371586836,-0.0034256969234706326,0.1829898919770363,0.09082315648654093,0.12517214734845214,0.073628094230908,0.1382140276487486,0.1254919253031431,0.15088267155432808,0.07827488080148783,0.09138082735981361,-0.00933047578826987,0.3947054582074858,0.3731407214481402,0.017687405974173925,0.20688804745760755,0.058698257864426014,0.03412397209580264,0.03778498195809249,0.31908893172320985,0.07466416580251883,0.1277133988999094,0.08031062810462057,0.02137432934374205,0.021516834032751734,0.036072900395999856,0.11115342244820833,0.07487243283635248,0.13301036785999726,0.04688013716646209,0.10138463696658455,0.12418033892500406,0.03782331678222471,0.1375980218440576,0.01053182405092643,0.0386236459322812,0.014349027827581655,0.040433306238367266,-0.015948180678490066,0.10665423041730002,0.017874460378569185,0.11619552008015663,0.0040582776188302664,0.0650392425141795,0.09059911161909992,0.012592936532065467,0.08778030551616638,-0.018086390963339367,0.17549703526696633,0.16106656389537596,0.21821388339241982,0.05223504715941613,0.04695498837012664,0.02900783414486264,0.013885229732669067,0.06607895507755897,0.03992907305365672,0.05523768863707228,0.03737072469109214,0.04278280381102816,0.05061603133774072,0.01814378246108827,-0.11597914088331349,0.038672118140604006,0.01683105029232029,0.019540403675047713,0.03557717836760785,0.01954088957635534,0.042041197749900144,0.01016678825605303,0.011696051525126457,0.05092646856987095,0.04932245712803487,0.07337761624087176,0.01934185271598422,0.0167208495024932,0.09541419070983712,0.04538205648752657,0.04885137894302966,0.04524058742656287,0.054668318251315705,0.06405443612185141,0.04982857103262351,0.05134909806378564,0.09357839778066772,0.11158534189413387,0.13518034246150357,0.10370571890438361,0.17160391150442106,0.03090134593597335,0.02322109340773456,0.03846436593128126,0.07832608566472953,0.08314918598648047,0.16703448040842134,0.04467849438657636,0.03162247780542239,0.03547793016626102,0.06973574527895007,0.09341139664050818,0.0347416831648932,0.023005276034652238,0.019268433470174547,0.2132315097104571,0.12436988395908634,0.1606011359082466,-0.006485994985520815,0.009324515541725432,-0.3105972940183213,0.12503406725741306,0.09312577481304687,-0.010598450310677639,0.040069267317190016,0.0005946218779948722,0.011956848205411555,0.12378920552814134,0.620450691860354,-0.18861134699516796,0.04656691864450087,-0.06391185316391094,0.0021876461817630154,0.007117100986719285,0.08692264928993491,0.05443321418792086,0.01037405846278959,-0.37106570825770047,-0.021839971190440646,0.3170829728501425,0.0696969175987894,0.13228526438696656,-0.4132857533561717,0.3506039790254605,0.0039930484150287795,-0.01288072410359176,0.014770051667248625,-0.010860624819294963,-0.4132857533561717,-0.048700082869244245,-0.03126727262121007,0.11848353535123622,-0.03621254801760215,-0.06522709906215719,0.024118851321908944,0.12228122456594352,-0.41913047492113364,0.05443321418792086,0.036986119059433276,0.09265270810338809,0.09265270810338809,0.14229500573626228,0.036986119059433276,-0.038626466442767037,-0.3259229738230067,0.06731193207264734,0.007050882990064212,-0.038626466442767037,-0.10424434019788854,0.12380742929643941,-0.3555994958116515,-0.3503959728807128,-0.1138664565215776,0.04734539546148,0.04503032291208117,-0.42550582716362245,-0.09155946557800144,-0.43398267346129626,-0.33073854347514414,-0.3764190048752295,-0.38107270358639944,-0.3538718536648421,-0.3644723332305068,-0.3644723332305068,-0.3764190048752295,-0.3644723332305068,-0.3764190048752295,0.19454291803351842,0.31456312780314954,0.14606820435094706,0.2295012585161721,0.060240415724507,0.16208802747164663,0.0010844648946288665,0.16864912348648828,0.21219874487084744,0.11871715662509617,-0.38476142665493956,-0.38518405614885415,0.03496454508097532,-0.3644723332305068,-0.3764190048752295,-0.3764190048752295,-0.3764190048752295,-0.42328708197020287,-0.3764190048752295,-0.42328708197020287,-0.42328708197020287,0.14099085962624497,0.1123199538697458,0.16849015338501042,0.15385360821744523,0.1752614296140249,0.08275123165986639,0.23405895368795507,0.18383184966472588,0.13715640896771134,0.09363090215361779,0.24332823727113817,0.14979057691682965,-0.21214451819339455,0.08538005821486605,0.041346058020282024,-0.2930547162728487,0.28338395420854784,0.037257543636454234,-0.41024570699270885,0.021264245627751095,-0.018152608959994442,-0.011903532013997973,-0.09384421131372103,-0.04610557490008542,-0.07630934917112567,-0.36460944714563115,0.041346058020282024,0.07153345756292696,-0.36759687170350497,-0.3552569673851868,-0.3603048875628055,-0.3691870780343673,-0.352525661585784,-0.352525661585784,-0.35565020005878223,-0.009027970081102996,-0.352525661585784,-0.3003232099255856,0.02158807958495841,-0.2493216773318455,-0.3461441486464773,-0.352525661585784,-0.3552569673851868,-0.3603048875628055,-0.3703948814008705,-0.352525661585784,-0.352525661585784,-0.352525661585784,-0.352525661585784,-0.3509302833509574,-0.3585675543657077,-0.352525661585784,-0.352525661585784,-0.17016405932800727,-0.3405789899410612,-0.22903579589089587,-0.17986487041466534,-0.32272753943153926,0.08865601052466572,-0.29800528397854126,-0.33535421832405815,-0.3380071894929744,-0.334674211076262,-0.334674211076262,-0.342276107793434,-0.32272753943153926,-0.3993937386807573,-0.3587747385317805,-0.3585675543657077,-0.31682276056674014,-0.3644723332305068,-0.352525661585784,-0.352525661585784,-0.32272753943153926,-0.352525661585784,-0.352525661585784,-0.34662088272098474,-0.34662088272098474,-0.3348113249913863,-0.32272753943153926,-0.32272753943153926,-0.3136043772445663,-0.32272753943153926,-0.31856009376383804,-0.32272753943153926,-0.32272753943153926,-0.32272753943153926,-0.32272753943153926,-0.3644723332305068,-0.3469265810617179,-0.3166454313068906,0.08865601052466572,-0.32272753943153926,-0.32272753943153926,-0.32272753943153926,-0.32272753943153926,-0.32272753943153926,-0.32272753943153926,-0.3143926480961368,-0.32272753943153926,-0.3703948814008705,-0.3526627755009083,-0.33135547679003957,-0.3058991798610775,-0.27520862471156204,-0.09898116250947923,-0.2937776405277502,-0.26228222419050207,-0.3445371598871341,-0.3435798286586605,-0.0883018594647164,-0.1117943202198057,-0.3325398530457061,-0.2522819865250743,-0.1609977977671968,-0.3010806205612873,-0.306375846487863,-0.3067297665689231,-0.13431966080879462,-0.036498566287901504,-0.08092602350968695,-0.10977655282350685,-0.24030427082024264,-0.15048322250441332,-0.046253301164466055,0.11251940764889956,0.10455372715516903,0.18847253139885622,0.20290495441814016,0.24158096633842727,0.20998385510063514,-0.0528692465138911,-0.13811383222560705,-0.10415471110505584,0.020439750253231654,-0.33725541460769176,-0.28723182257856833,0.2763271978656588,0.07314281886712752,-0.34018624316877344,-0.04264981007138868,0.01789459014024675,0.01789459014024675,-0.03773088621918685,0.08275123165986639,-0.012899970227243514,-0.126480871028252,0.029547112999169827,0.029841261784969576,0.13252112462159538,0.07344157872808568,-0.0699138436516669,0.26344905490862736,-0.15582816882000472,0.20290495441814016,0.04614787239054097,0.06647172124101287,0.07344157872808568,0.09386834097277694,-0.15582816882000472,-0.04264981007138868,-0.36753115659839575,0.14841770435486445,-0.23834336233906925,0.08813579220912414,0.03011915165777791,-0.035757719401166295,-0.08260021849115251,-0.3764190048752295,-0.3383502317965303,-0.32272753943153926,-0.016560108644726863,0.09386834097277694,-0.32368215686450313,-0.07114616358295203,-0.006998272278239316,-0.3241913564960609,-0.3241913564960609,0.2952649164761683,-0.3644723332305068,-0.34662088272098474,-0.04264981007138868,0.05185336847794694,0.04941575888043643,0.004100901859450878,0.0516953736490805,0.09799085675951608,0.028922652301051708,-0.0675290083734315,-0.3150331865186891,-0.32585207790453746,0.024541480815823677,-0.34662088272098474,-0.06914136398537735,0.10384656525194638,-0.352525661585784,-0.30120294865342717,-0.1076208391479266,-0.21740941393831942,-0.1076208391479266,0.020439750253231654,0.1207998749768881,0.08487437628222706,-0.0033538949783357853,0.1068988191529779,0.00876492211357781,0.061623159218561326,0.043168188365651096,0.005534948256424416,0.015613328863635013,0.006261564093557765,-0.018100369423428422,-0.3517881308309913,-0.27946221860140985,-0.3764190048752295,0.042020361497870216,0.21380176346893226,0.0367459718233245,-0.009467589703394242,-0.4205068415784018,0.07960992847617697,0.13584252213643427,-0.11218540156682227,-0.08659985195219555,0.010841734398562944,0.04002270411985113,0.08321453458441032,-0.29190239143021934,-0.4003805527702141,0.04870655160992303,0.03241431801069776,0.06115335041291463,-0.0015485596045488475,0.08595499315954036,0.13634896434258412,0.024078729739024914,0.033911599035527255,0.08013251006242961,0.16504559412042327,0.03550510549311644,0.04252696489206111,0.012885591603914876,-0.07788516574438446,0.09148638907363255,-0.13936032312385374,-0.11241104609317407,-0.14250243920508346,0.054859116863827884,0.054859116863827884,-0.028167159770836524,0.054859116863827884,0.010796801812771517,-0.3947465816210415,-0.3393081043569543,-0.3585675543657077,-0.17888431438665892,0.2143445526208788,-0.1479123237385621,-0.1240084726873021,-0.20620687484320385,-0.1540657052962357,0.1733392131946581,0.05746066123401366,-0.26734329185612477,-0.1626920686577534,0.08660885079175878,-0.07686278845182411,0.0726524897262859,0.005398122114620537,-0.06685374033009873,-0.09881025048261591,-0.35290011128916565,0.1377096837119588,-0.01860646633777878,-0.03860770332907421,-0.37245835242235287,0.020811944447172177,-0.05558233672870866,0.06357829097955346,0.014770051667248625,-0.07503076247907663,-0.33642017748036934,0.1780225677913521,0.02154817789881757,-0.01142551059895894,0.05746066123401366,-0.3393081043569543,-0.3393081043569543,0.02154817789881757,-0.07389134942082688,-0.23686699282937965,0.1345177791090596,0.02154817789881757,-0.36141869067597776,0.04031784169850439,0.03313676092326984,0.047250836885081235,-0.036472250583414016,-0.054126219323539185,0.12231294147596607,0.04193063809538078,-0.00881954265630997,-0.3393081043569543,0.08013251006242961,-0.014200064835722555,-0.009417440407996724,0.016164563660426755,-0.2972789231956708,0.04612801745309263,0.007390740301130441,0.049033947241499426,-0.3350185091574592,-0.02518757013679678,0.267053172627375,0.10750164861618684,0.028995916756476395,0.03871543559784983,0.12119238807213313,0.02528682806609958,-0.011903532013997973,0.05486400300461662,0.038378501216152494,0.09936260375972374,-0.37662768974887856,-0.02378866358387975,0.0172623129932444,0.005554521508377524,0.04538943391689466,0.0749617947973715,-0.07206221171285822,0.12313811122890765,0.13616550894691845,0.08842711472968995,0.0953882462186323,0.1384086152883734,-0.060506079591630464,0.2746204217802048,-0.4129133533463118,0.09362479128589514,0.41747671800462494,0.002521090096097223,0.004041617127259356,0.011353547091021045,-0.13481291559716152,-0.17419393520303653,-0.1477648661437175,-0.1139226193047713,-0.11402712984133967,-0.3287694322114628,-0.24561427033976813,-0.36105563258059264,-0.08957550890918123,-0.1701555323824345,-0.18483337488451704,-0.20863161241360698,-0.17831177071257887,-0.31649578111243504,-0.3518856350779542,-0.34604657131826444,-0.39461475346594876,-0.3591935568460436,-0.35495429717910976,-0.3708165159368589,-0.3883656765199524,-0.3044898703929048,-0.35647482421027193,-0.15151110950245175,0.09761006093529553,-0.1744859394926413,-0.03843340161275876,0.14009914976180984,0.023944225592550324,-0.07971584705141921,-0.07546834446165279,-0.1888966519450855,-0.15079388628229026,-0.1449438496346567,-0.26723237117400145,-0.27384359072225817,-0.2917484117856863,-0.293525333516102,-0.24888642986269333,-0.2602549667064234,-0.26619707285687344,0.19468922157056598,-0.0267732443405626,0.03927161545843068,-0.1920581085711543,-0.05019817757423346,-0.16549187845920157,-0.16152167910981033,-0.22125057824289024,-0.12748281333881317,-0.10891550663462206,-0.11101391194748934,-0.14018173454043872,-0.11972693937091114,-0.29964099558244234,-0.12136361393628736,-0.17484713055348233,-0.15664167858232902,-0.1377233742451486,-0.12064202330279811,-0.2688150557034847,-0.23377500849913327,-0.22592794032486627,-0.28888217913885983,-0.22978441307663328,-0.317958671141078,-0.2875576506809788,-0.22452221735474934,-0.28837825173988596,-0.26430748698485446,-0.10193727608164688,-0.1323213774421461,-0.01879089772887682,-0.21544188357087138,-0.29487651241039464,-0.2692713545436444,-0.22637245230987857,-0.11304780769983123,-0.05974145940862907,-0.12799548332578198,-0.11226408675729208,-0.2948391270598638,-0.33330180064652326,-0.28080448202157815,-0.3198001047249013,-0.2843170141295515,-0.36785364958623046,-0.28677311226184665,-0.015784152384433623,0.027727283819942022,-0.12852108113038668,-0.19091214228398418,-0.16038117951079484,-0.18918004055556395,-0.04728654750165036,-0.22446675925742937,-0.16268445055975625,-0.12273773254486257,-0.12387910899480313,-0.1515011997567777,-0.20606149503085724,-0.04366200235349393,-0.2733472431242073,-0.28955520528580686,-0.27082911010636784,-0.23714336224807653,-0.3338808670557269,-0.3120574305502118,-0.40176824394742205,-0.3536594620582238,-0.3666954335697655,-0.34482811435467653,-0.32459488931356256,-0.38141700166759646,-0.39863507226741424,-0.36532500880657637,-0.37518042717314104,0.014750807667522655,-0.019641600193885715,-0.05907757252175425,-0.21200631402630413,-0.17078083359509735,0.10904650269956291,-0.007904335927224079,-0.22813779588215524,0.12035103489812907,0.062337000447502636,-0.1412358926232537,-0.22556402592920383,-0.2463043075755126,-0.2081982010460898,-0.29792728576525823,-0.2101434891187057,-0.13639487128299818,0.16541691473126122,0.08309989581537382,0.29435440367100163,-0.06487653906052887,-0.05884501659149035,0.09554459249488371,-0.2355348936007827,-0.14890578463430063,-0.24973686560605238,-0.13847572902795577,-0.20238253546761042,-0.16356427314876537,-0.2958484183131094,-0.31396447476679845,-0.28994363944831025,-0.2717583986194056,-0.2915506282076534,-0.3242566996697108,-0.26557132424014174,-0.2812644500317105,-0.1660797805948748,-0.2780653913256466,-0.16331332024296696,-0.07427070205595028,-0.35689027846844695,-0.11844043642155677,-0.3807836217578923,-0.3839889551306227,-0.3381430476304573,-0.3202328146185286,-0.30517837884844584,-0.3227361726385487,-0.3195367829618859,-0.02877736296681702,-0.014470784133122071,0.07002371951550863,-0.1823453512987272,-0.10534691710471794,-0.2658843360244321,-0.11493685200182811,-0.20927686353872654,0.048153301995164384,-0.03934302039289867,0.018796914767077438,-0.18023117281234502,-0.11985112852336219,-0.02554025987372782,-0.2242575802393546,-0.11512697581568605,-0.07106114640182261,-0.03504830312312149,0.027354933805969192,-0.11977020301116958,-0.042846543242071544,-0.23890464772859554,-0.34678098304196303,-0.30011167072745465,-0.27372261574791473,0.09847930929093547,0.22176400363900373,-0.08585467506531128,-0.11501163874016537,-0.27974663141749817,-0.2435141916118649,-0.10691240524647815,-0.1149718028635973,-0.24039053890081832,-0.2524045313048981,-0.230777795196589,-0.2577884976710059,-0.19607826705394416,-0.2799503461996835,-0.21982742967003246,-0.2702309580053303,-0.21814635067396282,-0.12491171965132966,-0.24940343009995447,-0.28411779186738473,0.019974826122316387,0.029459869549958908,-0.11701721777145119,0.05340753584803613,-0.2452861606679023,-0.13925992788015978,0.07892262049126067,-0.34420410390750417,-0.2283426035898437,0.015588733131938592,-0.2684936248082324,-0.1699684572472456,-0.30723573283625316,-0.31275255360265797,-0.3739210857439617,-0.27273828654678356,-0.3068614768179307,-0.03130595766041642,-0.19753688105512335,-0.23833858021758472,-0.24690256302268748,-0.24910090064447643,-0.0355430615928619,-0.05842239620524057,-0.1390385528991849,-0.06500106686125046,-0.10000469212377763,-0.13118556432448525,-0.2882728406465658,-0.05206721632594119,-0.016498680972588987,-0.12060787608948914,-0.2385851682698365,-0.13050995165186582,-0.23558679112348216,-0.23231142862104423,-0.2503031953981914,-0.21179606517929095,-0.23962512927166096,-0.25360927736677846,-0.24614411595271185,-0.2437266113958079,-0.04954131265087315,0.15837902332630918,-0.020169752214802543,-0.24736013085486944,-0.30011833587235826,-0.28879305116882953,-0.21783419209882723,-0.26799879984040365,-0.08876515764474206,0.12835635759551478,-0.15260317545846436,-0.1648809864983066,-0.04173477643753354,0.02499093756557792,-0.3815422881712352,-0.37231877502021354,-0.3508862956947117,-0.3877913651172317,-0.35590051280755136,-0.1780061342555612,-0.15369214808108494,-0.09122255643568111,0.05098110266919481,-0.021185239735658397,-0.06508003226689073,-0.034323381171411066,-0.3589954588616704,-0.019100006091205025,-0.07579031556865667,0.05344412712659586,-0.4291347789369022,-0.4344866008602701,-0.4414828305609221,-0.4266511007872791,-0.4414828305609221,-0.41998853044592327,0.033323234793575136,-0.08524474747919084,0.07362503242884168,-0.029485875412200224,0.03391866248453492,0.05716095958961361,0.06995894565924578,0.020638015207718498,0.01822628890407399,0.026140928191912906,-0.01100418543581393,0.20051574993036103,0.2660434129173168,0.39076821806596784,0.16976400094890756,-0.05631823290928103,0.004926516246939778,-0.004710490299441254,-0.22590359310968033,0.06574743654011438,0.9343619341934929,0.9362358784141691,0.7360642570482782,0.7610343352761699,0.9327665559586661,0.7303762843494155,0.9326917047550018,0.7339805342144278,0.7298900313059467,0.9496074792633177,0.9393604168871671,-0.20431891586264345,0.057601390200414423,0.9327003379620109,0.9296420174856678,0.9295757994890127,0.9551691577596813,0.9408723107113203,0.9362358784141691,0.9398401282791815,0.9342957161968376,0.9327003379620109,-5.470003271612563e-05,0.9363794390306882,0.9326917047550018,0.9379748172655147,0.9327003379620109,0.9327003379620109,0.9408723107113203,0.9327003379620109,-0.24038326740705507,-0.26283462125364077,-0.2943927485542897,-0.31932283834162034,-0.26228215021351714,0.15266830580525806,-0.12543202770704587,-0.13022413822115544,-0.2554940241082997,-0.28896816698281275,-0.2545919691131661,0.23220740826584466,0.14164986341547994,0.06654502721634603,-0.12544399107253404,-0.17676164741840705,-0.2714139456074995,-0.23129865394097643,-0.23420080831835766,-0.2657173397016267,-0.15484181055544463,-0.17312902245098175,-0.24696383419697102,-0.25250824627931545,-0.09582171735214956,0.09419287868185393,0.39733395780608116,0.03221755059261694,-0.00016404453534808028,0.10042565813406916,0.68071518919374,0.5183857413040437,0.09261057195816176,0.36600004218260695,0.111496927337381,0.1036519862552501,-0.021702728056464022,-0.1724626794817765,0.0033916660791085025,-0.032187642629330486,0.054822392481656025,0.025578446093149104,0.05052556558248589,0.3094039469497765,0.11029812417310329,-0.016001014153406098,0.18586992105336306,0.09613822436822873,0.2841001198416707,0.20185717941543033,0.31146526814840264,0.8464515852498594,0.8464515852498594,0.8096177620269371,0.843327046776861,-0.2436617200234355,0.30648813509868006,0.24447717463647278,0.2194350159177229,0.6749126270435296,0.6702589283323598,-0.29750458467901597,-0.21673815557478227,0.6662350432811778,0.6625559422125006,0.6744242824445057,0.388400294758076,-0.04085552284665934,0.2219725113170887,0.2745990144781637,0.09696127216380925,-0.1732337836784459,-0.16557400721105675,-0.17163840544361939,0.003351631870192549,-0.18139961463694523,-0.09116774199167393,0.3766205200293071,0.026414433385542807,-0.22467383183416,-0.16440402355763947,-0.03946087216735612,-0.07675561013194539,-0.09082604472419202,-0.3989793703486115,-0.03586126262080136,0.09328223043650977,0.239668016553111,-0.3478653162764887,-0.25820051414336825,0.9203445408736289,0.8596032778671504,-0.07684977422538103,0.1225634986324814,-0.3218532400658962,-0.18815477602965167,-0.1713923493960457,-0.2986313671218603,-0.11641616526442958,0.8448205525648841,0.8945420943990493,0.766956216554503,-0.2335139092508805,0.9321371865632585,-0.37231877502021354,0.8344229331440817,-0.2869198591157805,-0.11821012076647389,-0.05051264943130049,-0.1488587553955044,0.3896423893602634,0.8641586291484672,-0.22365267322316448,-0.1699737075744524,0.7125485577804721,0.1113322202371462,0.07360528057348117,0.8698800386672356,-0.19829169759153942,0.9670747330716005,0.8599515274531274,0.25343042161139023,0.9229136734122366,-0.07964694733860468,0.0081559469506779,-0.0022314159831222334,-0.032064368363259224,-0.06849555555187128,0.888401208183946,0.9340650651989698,0.9340650651989698,0.888401208183946,0.888401208183946,0.888401208183946,0.9340650651989698,0.9340650651989698,0.9340650651989698,0.9340650651989698,0.003047360401341006,0.9340650651989698,0.888401208183946,0.8977748236029408,0.888401208183946,0.888401208183946,0.888401208183946,0.888401208183946,0.9340650651989698,0.180768511260994,0.11487295616969163,-0.08516158645650318,0.19030232953335655,-0.2860202535870523,-0.2655875573710004,-0.16274722698559663,-0.09426178391671483,-0.2267986634523592,-0.16021277344763643,-0.24260608117965096,-0.11813526956280937,-0.11363267858963819,-0.14850977970555904,-0.37994690993640856,0.9321371865632585,0.8848656241143644,0.9200188709196963,0.8415627234612527,0.8557529032887702,0.8733330347972107,0.8904848874003731,0.7947148233899967,0.9266326162731491,0.8756799379227701,0.8152680974892242,-0.09842006685491106,0.8947184020226011,0.7748287844891543,-0.1323015780149101,-0.17330988253913757,-0.10807355573942726,0.9029636158750703,0.929683657806984,0.23607258881349855,0.971338756514422,0.9321371865632585,0.8806139722745226,0.8988809359402106,0.049261191290271074,0.10332388317530446,0.26578644445403016,0.23987602774038846,0.19307851672924511,0.0599731572683589,0.014257682115782683,0.019980404529652804,-0.00016404453534808028,0.2936125738545541,0.2620698252727467,0.30897070112420477,0.008927421657841932,0.019991059869363108,0.05120198062677617,-0.08691717460326845,0.12199623368853037,-0.2231816791630533,0.03696736904185768,-0.14875976053076698,0.2722008659750643,0.18496818705243376,0.05283746080386577,0.1438175676995437,0.15145958930970432,0.1321766718805394,0.07832024722839963,0.17006362416918336,0.09089104333586273,0.15713526206284184,0.08493723886484293,0.09654985128962564,0.07780669245100261,0.12787809522157778,0.09160283146740267,0.05000232704913047,0.023693755482875643,0.021657028296285036,0.1780941486318282,0.3377396329718197,0.3789427812952946,0.019179170036649214,-0.06328780621717003,0.13295577582199228,0.22024284724556203,0.11809301078152426,0.005064085353798145,-0.006672321776442873,0.06210214064011539,0.08077798965832782,0.27954505065939805,0.22807096253080847,0.25819701636009873,0.03208593099776646,0.0986901257163324,0.1083945749123813,0.20910801746441993,0.2839168882652742,0.2067325124659554,0.13821661962561282,0.11552172576706858,0.0774555339485987,0.17286035011312412,0.19291089257285388,-0.05944789008902387,0.05768284105734078,0.17537996223619734,0.04285815790623862,-0.05895550656945206,0.0042954036224125995,-0.16491268962599026,-0.21741214342303467,-0.13018992186878126,-0.14817848629342759,-0.14505394782042938,-0.13951816894509436,-0.09826489028871613,0.09219486800393503,-0.14817848629342759,-0.2426185260771546,-0.022787737660553697,-0.1650568072351888,-0.280982745632572,-0.2702387054503881,-0.2762805982303117,0.2601111526800847,-0.0030151808456183138,-0.39973803676195463,0.10686410884360686,0.16283716068346737,0.07243239314223532,0.049170765882986106,0.20973668593846534,0.09302850741517618,0.16824960660132385,0.18055704488914537,0.006536341940269993,0.3207858014502038,0.11535001943514318,0.008346959441134708,0.2397070514892588,0.18237595603097093,0.02879218498405284,0.34650365084623425,0.39535864206865806,-0.0024636985983481174,0.0027212367472369105,-0.129838090794443,0.06272310277353554,-0.15701025003627853,-0.13956511921857487,-0.03325804230145275,-0.04202704886027276,-0.04339978622317072,-0.04741878121778105,-0.13864551191862687,-0.06669719336610185,0.004118521843888209,0.023076017196359478,-0.06418977645720274,0.2260566608828457,-0.04686631017765735,0.11610273355499787,-0.01238773154450214,0.06969145618173797,0.06371347515737041,0.040287967932872114,-0.05466780304487647,0.21305275004572172,0.21998783678785394,0.18441852964239838,0.2478819187789,0.27191882268486467,-0.016557230725167727,-0.008224430945320632,-0.009972003003675796,0.050745576054207646,0.006634918769204311,0.07800204877874253,-0.04696834886654729,0.0681583609578344,0.06406191658212143,-0.017722013975067268,0.06732054637364895,-0.3562762025391183,0.069037638068057,0.10565790365831437,0.12736881715675247,0.1310448877938761,0.02805351701134591,-0.25325788948268274,-0.059332865254762626,0.1404408992213949,0.23682023918859496,0.0837258724554812,0.015060485139219613,-0.02894418661754466,0.07660382191053544,-0.015028070486996148,-0.16932859011726178,-0.29913083634409293,-0.15640088359165424,-0.16042215066708856,-0.29863653094498194,-0.29885494276516544,-0.25545437158917117,-0.17319283178502312,-0.01655723072516772,0.1221996841593122,0.06255673824613964,0.19948012318541583,-0.2614776071407872,0.28162906613861344],\"z\":[-0.07334184752584463,0.05327176384716436,-0.12016232980885953,1.1515553383071881,-0.3073001023478654,0.3282928396393804,0.08102163361139382,-0.24405743831237228,-0.0987411300504926,-0.22677774895029923,-0.11867898164249593,0.03209680211826597,-0.14875942802540057,0.01594730018359857,0.2759508259249987,0.3454938405162085,0.44443388474224393,0.11222274017831262,0.2010702483060015,0.28322781044036216,0.2999363933837658,-0.23786143820453806,-0.24579123602662495,-0.18685334301380435,-0.2942861166520314,-0.03771480599363196,0.024892444864945674,0.052590937119043876,-0.07314202201900243,0.1510643239856904,0.03760833337560263,0.010541091152067302,0.00799759169419098,0.17315807785689272,0.22013709844664067,0.22918812292004392,0.10009619852195502,0.2935941842816577,-0.0031510561320808018,0.23936339558001118,-0.07531646485924753,0.17849004068810603,0.06202067508311959,0.16982200263560104,0.12839215454364997,0.21734155089261076,0.20084297737204065,0.07590067925260163,0.2560411087349052,-0.13557865475004552,-0.045851431500494,-0.055531134328883715,-0.06314898805582381,-0.05941614157598913,-0.0786511583892316,0.08009285252360614,-0.024337994677005904,-0.044096536909663135,0.11273398794253367,-0.0687090628457403,-0.20301125089219293,-0.13774692473080885,-0.33476302789586765,0.0496313202108166,0.02075931005153077,-0.20008809173599554,-0.04324757853413102,0.13153765937298467,0.20385831262228224,-0.08301818701895863,0.038339173581724874,0.19190730457993535,0.2037542280444852,-0.14960707690878156,0.23508170473907225,0.021424342048341243,0.08474456613013465,0.1388449346418096,0.01589855698029431,0.056742726942080705,0.0458261740549842,0.13846690523377905,-0.24070444790608725,-0.2540539136130814,-0.3369291346565904,-0.23075201916648647,-0.007332588730902021,-0.2548921833932997,-0.24806578753470246,-0.3315171618440857,-0.26132610503471554,-0.3303972474752481,0.43682096000836446,0.5293597812676665,-0.15182062317086112,0.013621754126884858,-0.029177554546065475,-0.034076020227057316,0.05142079569826269,-0.20008809173599554,-0.04324757853413102,-0.3522884582224426,-0.10977833659043111,0.04383492277018607,-0.08226471112153616,-0.036549134506546205,0.08303726119241259,0.03394651185048157,0.0954802406973903,-0.0021601250312064126,0.0352753786038921,-0.16021225872113787,0.04930518408422292,0.3053812553243516,-0.16191690668768832,0.0711392735363476,0.11536494504941211,-0.03902791669681523,0.050373543492027335,-0.003240419253251242,0.053292699987313646,-0.2045443004066047,-0.2142118614467603,0.238671757503549,0.15478777144664904,-0.32023458380044534,0.09916043511640786,0.23624209895953296,0.06836876691798575,0.14465941109784414,-0.31796003229236786,0.1152060299587496,-0.31796003229236786,0.037427061666101595,-0.013445554191530698,-0.03127334381736121,-0.12093122027892082,0.18483371987219202,0.029223887701737037,0.14831430190801956,-0.20457755321763,0.06838177378986653,-0.31509057374365695,0.6266129248525618,0.5721023704346305,-0.30746891211707084,0.248115570852358,0.05969680462471681,-0.030202891023854445,-0.03182584084832469,0.5259602306164592,0.0011160709251634498,0.1974932926777273,0.03215457604086632,-0.07470064984542057,-0.10938652961151808,-0.08254451403176315,0.14518033823475918,0.022922157597532626,0.18244680870775834,-0.03549917661001465,0.09751477475344689,0.036385561733839174,-0.2730602240171584,0.07519227968197377,-0.20177053929888547,-0.2343937260690218,-0.25726731062851854,-0.04373896459349187,-0.24585226586252182,0.17855277229122968,-0.1577560665060935,0.04264894484460816,-0.12444042465995285,-0.06524778881167835,0.044037674713419905,-0.17687113564087395,0.057202503649229845,-0.3027467905245548,0.21430678509449635,0.256601745682204,0.33898313641843647,0.011247958890598058,-0.03572177291221293,-0.19432134640517545,-0.15280710169499104,-0.10345340596966446,-0.015939962091380974,0.005405445279600646,-0.047190751273527426,-0.0735330487490976,0.003517651024059798,-0.1449800391130006,0.08168729994905707,-0.09223367022282981,-0.12312859000362911,-0.049514098351995064,-0.057216286054956024,-0.08806947228581492,-0.04796241931103898,-0.10324314357248458,-0.14866967685977908,0.004948116235305176,-0.009139082621502998,-0.06187737781157523,-0.07712070106474773,-0.032962602915756284,0.16899348251129134,-0.007026097579726626,0.01101703225565388,-0.030275333873074177,-0.024771471519223872,0.10065458916345041,-0.012900535668961067,-0.009078052785605886,0.11800821076246969,0.0834385873297816,0.20193303719182612,0.14614470170985527,0.25448193955584925,-0.01010278429878541,-0.038505402957049455,0.0686966369922454,0.07672176668776687,0.20397322759975223,0.32969651447678877,0.010674539247284733,-0.023495376278437525,-0.012728098914009866,0.09895981477662372,0.10857416136614247,-0.04365041934515158,-0.08708663022110438,-0.16578654009710822,0.36985721150218853,0.14575821749247103,0.26346847704883314,-0.21835970019692935,-0.2096870743424979,-0.10496439974196957,-0.11633847716637312,0.12794762157601966,-0.20027495157370895,-0.10201919097189273,-0.18457879150572673,-0.13324635746510874,0.13022601662781222,-0.19988693123824744,-0.2160171014550398,-0.0314051244497578,-0.008692582470331516,0.036986305895290436,-0.12137542161484592,-0.007989281490789193,-0.332568738557628,-0.1378863436912955,-0.10316877777743368,-0.2098411657854458,-0.09328580940410867,-0.17858452076551137,-0.1655699791942249,-0.29749928997031766,-0.030151384473957148,-0.1778404772888289,-0.23229995054176417,-0.28728467886882986,-0.26529040769593765,-0.29749928997031766,-0.2301144086870746,-0.053339109999342764,0.05016508620929419,-0.2089376101318678,-0.2341411617230324,-0.05125376632402232,0.14929145005595473,-0.1319914681571666,-0.332568738557628,-0.12322808465865095,0.11093158272129514,0.11093158272129514,0.12797357661292677,-0.12322808465865095,-0.10706701463777128,-0.07617657834579225,-0.11077926733449771,-0.11066551303699665,-0.10706701463777128,-0.13607815491722533,-0.10382746536823613,-0.1331849739520394,0.04841361302367194,-0.1378746175418933,-0.04030384192131416,0.01830488705966706,-0.31973928632408405,-0.008439224417011601,-0.3221067337048208,0.00946448797284768,-0.023516582211281778,-0.055736059110451285,-0.005530674312151879,-0.02866059226807019,-0.02866059226807019,-0.023516582211281778,-0.02866059226807019,-0.023516582211281778,0.2586858531271732,0.8384854221212688,0.09836871002192145,0.39053816676125286,0.009740896125637801,0.250373949644401,0.0891895734830314,0.418533549331276,0.35456029134946104,0.17700427555003242,-0.010131693015835901,0.0038944760050751573,0.01242770763606795,-0.02866059226807019,-0.023516582211281778,-0.023516582211281778,-0.023516582211281778,-0.2921618083137288,-0.023516582211281778,-0.2921618083137288,-0.2921618083137288,0.1439863767001273,0.1470022902159363,0.19089176739638425,0.1021342984291374,0.1722668539468449,-0.00814833259108569,0.33794624171441207,0.2857830199209764,0.026592738120575034,0.013228441565948535,0.29759698143485913,0.10211341377698169,0.2732470689338416,0.002085544814149408,0.02682725396069567,-0.046581847201979845,0.38644985978638285,0.032375844165354654,-0.053526345337916795,-0.06880740366676992,-0.2920368819467055,-0.25621751846637913,-0.29357162645639573,-0.23989610431728184,-0.26049637770875167,-0.029255499308703543,0.02682725396069567,0.01920068945806078,-0.04657027400823328,-0.05771078182605002,-0.01982379975746566,-0.1594084712249546,-0.03380460232485858,-0.03380460232485858,-0.051714284065021654,-0.010984019698871566,-0.03380460232485858,0.06339801256013648,-0.05077745559723035,0.16945231795372687,-0.019405056000230844,-0.03380460232485858,-0.05771078182605002,-0.01982379975746566,-0.02121117099775555,-0.03380460232485858,-0.03380460232485858,-0.03380460232485858,-0.03380460232485858,-0.030204715743701684,-0.031530050816781084,-0.03380460232485858,-0.03380460232485858,0.28605828206680317,-0.03894861238164697,0.06602183249242966,0.2673916086849313,-0.04696208098714626,-0.011017791139796606,-0.06314471527274668,-0.11281849133235641,-0.13445571758552835,-0.04181807093035788,-0.04181807093035788,-0.009677878280833215,-0.04696208098714626,-0.3024498284273056,-0.06962396580518501,-0.031530050816781084,-0.04983153953585712,-0.02866059226807019,-0.03380460232485858,-0.03380460232485858,-0.04696208098714626,-0.03380460232485858,-0.03380460232485858,-0.036674060873569496,-0.036674060873569496,-0.04241297797099129,-0.04696208098714626,-0.04696208098714626,-0.024027183687015057,-0.04696208098714626,-0.038125288476541744,-0.04696208098714626,-0.04696208098714626,-0.04696208098714626,-0.04696208098714626,-0.02866059226807019,-0.009130042758534827,-0.03167214945372545,-0.011017791139796606,-0.04696208098714626,-0.04696208098714626,-0.04696208098714626,-0.04696208098714626,-0.04696208098714626,-0.04696208098714626,-0.02928849596593711,-0.04696208098714626,-0.02121117099775555,-0.03439950936549196,-0.018956115730155997,-0.08730800256922676,0.0009362026027800857,0.4238678245113174,-0.09273613051649147,-0.002898625752340553,-0.032255664618267205,-0.02902909510685911,0.44824852090527045,0.40705357286882526,-0.0331324627939447,0.10074938180518163,0.30375547835421884,-0.014844589519105061,0.005055011259726715,0.01998883816176409,-0.06471931982697648,-0.06415818422726814,-0.04929666862255258,-0.26279456631157055,-0.3167183912063538,-0.28231371912755876,-0.2584995767289778,0.4020442189642194,0.3027154593260484,0.32525252034096325,0.1864898111754948,0.44122582946451877,0.3975587186935135,0.08597553535056494,-0.020731552264883466,-0.025142392954861127,-0.0592720491604815,-0.03198770186255086,-0.10108293318654875,0.5488330188984958,-0.011046324221520779,-0.006389736208855486,0.09179923646377314,-0.2693749971286668,-0.2693749971286668,-0.0312898161522427,-0.00814833259108569,-0.19152400923508994,-0.28222846057624706,-0.27038524339956177,-0.27451900718545524,0.11380432414581276,-0.21050345125463432,-0.06044046058460391,0.32432808677569913,-0.012123176618750772,0.1864898111754948,-0.1296076786228973,-0.016329134227906637,-0.21050345125463432,-0.13947381027220168,-0.012123176618750772,0.09179923646377314,-0.03172559531317685,0.07160081385296216,-0.02354284689768561,0.07724455481303705,-0.1563928230019286,-0.030368518337367537,-0.03089800917332971,-0.023516582211281778,-0.13651048968796198,-0.04696208098714626,0.00900462024216988,-0.13947381027220168,0.04791172232363355,-0.02757209250957853,-0.038447512909267435,0.09778392418175513,0.09778392418175513,0.6737424303360522,-0.02866059226807019,-0.036674060873569496,0.09179923646377314,0.07334695248386383,-0.11247546819312132,-0.14045456312852989,0.16797480848972973,0.273705608905645,0.014702259144145479,-0.01813233748995502,-0.041279379494661456,-0.06487176272730936,-0.06527993534493337,-0.036674060873569496,0.026051697003556664,0.006922750305815152,-0.03380460232485858,-0.08560279522830071,-0.01742818304322242,0.11928486069033467,-0.01742818304322242,-0.0592720491604815,-0.009523309445192314,0.03799220778072776,0.03205685980200013,0.04345583646082624,0.022042184792413017,0.048100899943053506,0.005169157159605235,0.05225902891518239,0.010105233151710372,0.01771293674409157,0.027245156974952976,-0.0011122780568496322,-0.06144108682286711,-0.023516582211281778,0.14891272155318294,-0.2467251416308705,-0.0280628185322072,-0.31568548078429043,-0.31294094860260274,-0.06787754186708299,0.1372926131769221,-0.18429804795594545,-0.21290789543690813,-0.08558951802984009,0.0010192370625348476,0.023354177595656483,-0.3424771451062616,-0.22490961157161665,-0.1916941553952095,-0.3333920624627331,-0.144687472295493,0.02126417853002242,0.035042752609966046,0.26207893821861145,-0.03114723262537104,0.02794071796239223,0.11102377975727712,0.1469143307243638,-0.04308693422328611,0.013975639011345567,-0.15103397953347814,-0.0036096022494399695,0.08039489499660742,0.294735891799928,-0.2309332067064119,-0.03669394008553153,0.06461596233596406,0.06461596233596406,-0.29013725169707827,0.06461596233596406,-0.2911691979193959,-0.30328183851820656,-0.03592253327477818,-0.031530050816781084,-0.15166729586368158,0.2349648114403686,-0.09265214577068129,-0.16093644757575734,-0.07194917447465009,-0.19188879614735668,-0.11839914110825649,-0.008035337519308084,0.15281554327334906,-0.342185165192999,-0.013161988287403455,-0.10168485505153382,0.005294935067611204,-0.04874025209979376,0.013742483435222294,-0.005089400654495561,0.058566414026357476,0.16196091897323933,0.044007396683325414,-0.00748628183839019,-0.12429041107467677,-0.28955923037690745,-0.023276347546743428,-0.014906118090008472,-0.28728467886882986,-0.1968234445932664,-0.040599132146693445,0.2978691891191768,-0.020025653915790233,-0.014796658113536811,-0.008035337519308084,-0.03592253327477818,-0.03592253327477818,-0.020025653915790233,-0.07736770019633206,0.205321063240067,0.09960617615131197,-0.020025653915790233,-0.022055726146389742,-0.06722448793008397,-0.12995554807554527,0.023957795411984773,-0.020845663182767506,-0.017696649154667524,-0.018272582527416523,0.20518633410834017,0.14094880039193003,-0.03592253327477818,0.11102377975727712,-0.14635279258129233,-0.2728628949693599,-0.23517453782458134,-0.1411234456304017,-0.10534212176925221,0.05010128037852861,0.01941901425397193,-0.08050689295939523,0.020500241794626457,0.03309518881982676,-0.05997888418938738,-0.17372955403641868,-0.07547160371803302,0.1412478055109984,-0.10346456780897724,-0.25621751846637913,-0.12266105067600422,-0.10561963478455981,-0.17032218227210033,-0.32255682918526607,-0.28379814118377206,-0.12666744674888916,-0.2156090361450387,-0.03317283523067909,-0.05551008760847997,0.0816240103699519,0.14944492748609212,0.1741362772340438,0.2273043579375521,0.2661744427409604,0.10340848650772021,-0.17108580690940667,0.30027596016609087,-0.19924090242768305,0.017031848783371824,0.7408152493774288,-0.23452844781381604,-0.23070596493046072,0.01698832388302806,0.07777686455975957,0.051200154432269704,0.16930701055455494,0.3053676634936372,0.23906161732000134,-0.04468752947906878,-0.12198321760385633,-0.23727563236556135,0.17958491844858515,0.027938288861904807,0.01518324792610354,-0.060234867946949086,0.003239893816520411,0.08812575423061816,-0.3468700119884401,-0.3645841492322074,-0.05419193563481977,0.04348497541973862,0.04815756823782276,0.021226180238232802,-0.018372572154493345,0.1390732209814133,0.04433508535446758,-0.17405448733305826,0.28659814159105934,-0.12508964772814543,0.21771476148749835,0.18559483284376457,0.05883268446483269,0.15548593363537022,0.15933627241454665,-0.14499477666159552,0.0650164945109313,0.09493061472470775,0.0830143881653014,0.0063029237238675425,0.004170964397609537,0.01375433651957858,0.1047920361544315,0.06711244835914072,0.0432327872007559,0.30138729182867113,0.2330727186170661,0.11553957071848622,0.015954613174976304,0.46620139474759237,0.25640228524130615,-0.16621140917294852,-0.1464329675090299,0.13751035354741475,0.01986426683682488,0.03602395695432552,0.034693807650286124,0.0377740070184629,-0.1590481474359526,0.33429525991682724,0.1828236237931632,0.25918071336110365,0.2802727003685072,0.28947476977198244,0.05682729421945799,0.11517044592603747,0.1373587090866711,0.043286809791533855,0.1351090521246076,-0.0571370457949777,0.03808001555105966,0.14898772990887277,0.02912819900671907,0.05678359728986208,-0.04372789472730338,0.14287398064995832,0.055575152107198975,-0.040706346368685996,-0.0355387910808244,-0.09585214914429163,0.1004944880509812,0.050055834980879704,0.534178185755715,0.06658719911179606,0.11442175829958018,-0.04666274039120716,-0.2926497199275284,0.18409664362726216,0.08432767769673737,0.16242605156431372,-0.06449648966593118,0.18315818627465513,0.19600180871304101,0.007127574667194217,0.0915309002127598,-0.185070223430599,0.18410260721864163,0.08969470793169441,-0.14233276100368997,-0.14412969467122763,-0.01009996272552259,-0.2981958246373718,-0.032091352837214544,-0.09819878864793344,-0.15973716272573962,0.4424002451954906,-0.247703612472831,-0.25929106903532606,-0.23401730633218312,0.13925387652344184,-0.021575701994999585,0.03035895942154011,-0.2159701704372753,-0.032786508211922895,-0.07889239953113926,-0.009140289054487265,0.0601910351672429,-0.09442488113948835,-0.18757317642146118,-0.1088064652167826,-0.1303025331213469,-0.18003938100668151,0.17891468198030896,-0.09506235762042424,-0.12270539325653976,-0.06289663342045806,0.09949667490862746,0.24933200747288084,-0.1642782479938683,0.09984883138893151,0.14685834242841073,0.2239145796920963,-0.2953076147131236,0.13241183954588373,0.13868819519810188,-0.09236718510511918,0.19841025999325168,0.10147159269892775,-0.31872646222294915,0.03551853131122306,0.0836833476063941,0.045854199607446376,0.005189239526691252,0.08664121230586312,-0.1104140909632479,-0.054896444014236025,-0.3164434149576347,-0.07950043749463569,-0.024415504466622648,0.04340837073818935,-0.005052669942200916,-0.2967640972552634,-0.007922128490911784,0.08074950662412544,0.004928480127124449,-0.06127187614615241,0.07105504670288373,0.04844027855933464,-0.004610996746202708,-0.0854478029544629,-0.006336012912326201,-0.04548177424974162,-0.20587466514053732,-0.15696163973615002,-0.1955866450269605,0.005993960630095597,-0.09841657469955835,-0.05312014521447582,-0.007363328594420079,-0.05744939326279727,-0.03976230782483247,0.6089467140499089,0.6476581678569044,0.9035755910930676,0.3322128167577468,0.47479911894366117,0.1755769582873044,0.4500011900433436,0.28813403531518084,0.8970363038699731,0.6356358779555727,0.8047700823481122,0.40880531124561814,0.4763159175783376,0.7222521889818264,0.24924141757503404,0.5523545564988435,-0.2391772248415921,0.09370164471785991,0.00021652194101595866,0.23678396963189235,0.5528029994028214,0.04152430307851667,-0.29982949552236454,-0.1207661761049668,-0.01610341733271916,0.1381460139549787,0.2393372790288337,0.08872544938001116,0.02936780983448373,-0.005274224269016699,-0.0023685736491232245,-0.22900504337506114,-0.24185879670013524,0.01991474085146485,-0.0057771270062034925,0.03926330651532787,0.0006143792220752245,0.12741998418197756,-0.016340177244281582,0.053887064137942975,-0.026587645135300136,0.07132288291627592,0.25270553849940497,0.009451780397155184,-0.025176969754886112,-0.09186235118271857,0.21014904082592684,-0.10569176570335104,0.05598309039790121,0.027124756753888913,0.022543890141980726,0.13588886518625426,0.03312857698923572,-0.044204072275448376,0.01579245189084499,-0.03829389619461569,-0.017397208721728258,0.1452564960795408,0.10799830320364752,-0.010693034660724922,0.19700934294064235,0.14414351456854943,-0.2573653795450818,-0.07306627247294485,-0.016731446599774463,0.04397010214728127,-0.07400265211320774,0.19454406713315517,0.1471729872499017,-0.22430747249943384,0.10629991293343975,0.031397015036581384,-0.05968063741803124,-0.32534169835798293,0.13111402873595954,0.28040077078912323,0.29706576022491776,0.004425255388463333,-0.163126240084366,-0.023937769858933193,0.07611139700615614,-0.05601090120477008,0.12357771146779106,-0.02722536350040344,-0.060737324241807195,0.0430825901635123,0.04863875873090155,0.0921018395358363,0.13233198500771473,0.20324414392872486,0.0775891297769163,-0.0576044924986337,-0.09406564132812353,-0.06915089017906502,-0.02153477481088909,0.0702604320719112,0.2696087780298661,-0.3158742238895407,0.15134070775985078,0.23414627049708844,0.3648441463863636,-0.3104632970328049,-0.2904708003813139,-0.2573423994497693,-0.34628266051313134,-0.2835750030041704,0.06629106916225684,-0.18041407802399131,-0.06599530359397704,-0.051121182954952014,0.048344456929618806,0.0508832455806691,0.11545945537387148,-0.30669858451620785,-0.29923553973293454,0.23841083748902545,0.5318152812255371,-0.2849349833456125,-0.3079481229200059,-0.3228371617372669,-0.29323738051670684,-0.3228371617372669,-0.2563769110600368,0.043923559408394416,-0.3446308275970101,-0.0033693092713001174,-0.22165381313417637,-0.13678039997940894,-0.10106302193021074,-0.0728036252554722,-0.20510387282831308,-0.15012571869371122,-0.21246414589164656,-0.2659754692748655,0.07840240759091421,0.3613321464753787,0.36082151433535786,0.25646578450508745,0.34090416169900656,0.3340738692956747,0.31304026666783996,0.04938107397680747,0.3533372318262447,-0.10092293087671338,-0.08647968762248973,-0.4534636024925811,-0.47642852877866737,-0.10452281745787032,-0.466122877886541,-0.10430022115567208,-0.45788199874788343,-0.4895055622751059,-0.05606084829727654,-0.06857000588232659,-0.05334773483030442,0.3630137807938694,-0.09381290888002103,-0.12243249919803363,-0.11172259062018412,-0.023112009930942645,-0.07523483527462238,-0.08647968762248973,-0.07823880848383212,-0.09021302229886409,-0.09381290888002103,0.3226955688525898,-0.08579462604356172,-0.10430022115567208,-0.08219473946240481,-0.09381290888002103,-0.09381290888002103,-0.07523483527462238,-0.09381290888002103,0.008671503499386437,-0.049942778467352796,-0.19884136132057326,-0.3528287238197275,-0.03727000265663734,0.00897190012214024,0.025303250829255074,-0.010066050930082308,-0.07195170323864222,-0.15348664333395856,-0.024172668335422375,0.13701882793337755,-0.15366031691240883,0.3936613046896353,-0.30884722935926967,-0.01663103009810334,-0.07069221223241952,0.03699287610736765,0.021019034384167173,-0.04754562456280883,0.21880111675603703,-0.06083667560947137,-0.0077800582650882156,-0.01975427208012002,-0.19401985295125893,0.03153939276535499,-0.09344062943463294,-0.19485476000327112,-0.2994554435115714,0.14403166213994611,0.5082756393986996,0.21209421923195407,0.16310231091855487,-0.12712622893492756,-0.028497717689582383,-0.029361593817245814,-0.04662964562048214,-0.04694484791784557,-0.0252762919110832,0.023850339534724957,0.0002873356394666068,-0.04691254487465277,-0.18235189370594818,0.06453220876403348,0.30239720119076796,0.3111395603331922,0.2960498254227502,0.11172872525257978,0.006000499317784001,0.028476745364591112,0.04995481641686797,-0.12076108867272108,-0.12076108867272108,-0.1835669422286744,-0.13867077041288456,-0.26263805048418787,0.2688155702710649,0.013910326205496176,-0.09105067310333294,-0.7547304041276386,-0.7869498810268083,-0.3570478279129555,-0.36851429864282814,-0.7951016119584849,-0.803119894794944,-0.755548913801784,0.1842569608747135,-0.19411324666695862,-0.048851056021993904,-0.1568848177169976,0.12979539775358387,-0.005138336072231525,0.007404215468336343,-0.0015384494910745798,-0.01835553369560598,-0.02484666386095467,0.22532541484353114,0.45043376051479184,-0.2448164679273927,0.14695128161586832,0.43787175798611466,0.3562296769966343,0.15518133200323,0.20849930782860832,-0.22626199845049824,0.12858563050119334,0.07824430639184929,0.24495940908050778,-0.213488771201799,-0.278159750064152,-0.11949935919058918,-0.28726800776411815,0.3800426519459449,-0.3061967629693711,0.0687263861427464,0.10693689792964066,0.16532179257559046,-0.04181051536503324,0.34499395542803196,-0.24889490208580506,-0.12812624776772993,-0.40554679345972366,0.0619694293054442,-0.09126016509133392,-0.2904708003813139,-0.24279953366245224,0.07079385201976408,0.3655770691904789,-0.17575443639244978,0.23862693529869136,-0.03095946489205436,-0.22900986294067516,0.24318173581348912,0.3950164110093667,-0.5165649869523338,-0.031846750245457286,0.30555943778246036,-0.11599951909572627,0.04020089914178792,0.03142406245472475,-0.13634464419493592,-0.3288543936433868,-0.11125266174282503,0.3250085323118342,0.07731795518126044,0.24739033693717602,-0.4212113614529427,0.3509948720063486,-0.16662321628792398,-0.08526632204831053,-0.08526632204831053,-0.16662321628792398,-0.16662321628792398,-0.16662321628792398,-0.08526632204831053,-0.08526632204831053,-0.08526632204831053,-0.08526632204831053,0.31953590462498477,-0.08526632204831053,-0.16662321628792398,-0.11289417106743448,-0.16662321628792398,-0.16662321628792398,-0.16662321628792398,-0.16662321628792398,-0.08526632204831053,-0.0581391272250385,0.15323935479661996,0.42565770346355625,0.029194082994822373,0.0412206643467007,0.2015931720033668,0.4059400411426764,0.4371945345086947,-0.09717899520262642,0.24329694659749201,0.1068662060274456,0.36535447288828055,0.4250976919148044,0.28917936537351946,-0.306863410451648,-0.09126016509133392,-0.12514733839476844,-0.11548300704059508,-0.22722543326626352,-0.24183881975881893,-0.21725392474175664,-0.11339572088193485,-0.3462511957872416,-0.1716412400946188,-0.1989292469100372,-0.495156153033482,0.04742380120055389,-0.42096767273549035,-0.38607833464553193,0.264924610423877,0.2914835121991454,0.3917808894178385,-0.14979946246045664,-0.03894991813115502,0.25667506903178355,0.05100755713800811,-0.09126016509133392,-0.19265178343475356,-0.14962772314738781,-0.16676420806913678,0.16911512430357442,-0.36851979069146523,0.09665224400920058,0.006412295075827596,-0.20399216878812035,-0.14313628643085785,-0.28752077558778416,-0.2994554435115714,-0.03661304804896928,-0.0539394213513869,0.1240720768020243,-0.1443410317700983,-0.020762890376009393,-0.09317825077413701,-0.06996175246081748,-0.15600857921344796,0.11054393172366785,-0.14723582162839868,-0.22098667878257885,0.02118826787237527,0.051661697121120155,-0.2469414478039012,-0.24690181922782098,-0.05186194628593847,0.1551260175386299,0.06118544116714871,0.2223367066991616,-0.1762721925893701,-0.029640716885161164,0.10591008488877128,0.08855576429799712,0.08840331377255654,0.06710577309850861,-0.12562161901885763,-0.1604288876107344,-0.12854203799924951,-0.19546575849202932,-0.09349569761815207,0.055784383389952404,0.1280646161444299,-0.2025148108867926,0.012526848199241797,0.17182002032176688,0.16086138702797667,0.10354745353148773,-0.1938633711047646,-0.2372995819807175,-0.13216418674514788,0.002544462011168148,0.36428885166439984,0.30106013540108734,0.30106670397983615,-0.10222178999041022,0.1327382437458904,0.16591028707889796,0.33019692215597407,0.4183333289360812,0.3153944652073979,0.21638292205002438,0.26137631422067575,0.31930125903947665,0.19520759985181654,0.14033007822565588,-0.015615100769424342,-0.09280827726453299,-0.030649896590774824,-0.09931023232420172,0.19290232347902403,-0.04208863424733546,0.0045203065540763265,-0.23387145458910516,-0.15503151899551154,-0.14761295743064567,-0.12970327569048237,-0.1282163741511017,-0.14103515420521187,0.43063842783405215,-0.14761295743064567,-0.32802432220092165,-0.25774947264208947,0.10496901126613177,-0.06526356970622227,-0.041448590171376115,-0.039174038663298605,0.5569223075235782,-0.28998111884118016,-0.3411386504563429,0.05380765254803976,0.30234496758648444,0.0446302380865269,-0.0560171598995289,0.3366468975876883,0.0991998306014826,0.2620264084999742,0.2762204672528381,-0.2368640291577906,0.43698437661933387,0.29500377636857256,-0.1659115696933473,0.3781500045358822,0.2775190691792234,-0.19779629367259785,-0.08875924693629797,0.3181945635465245,-0.21319838182373882,0.31918960325415063,0.14976876230647337,0.34576168642554533,-0.03847564706872655,0.1508634270197566,0.13872473500294696,0.17766320513998488,-0.08770362494417379,0.1383059912457122,0.14814307994864181,0.17990380343761303,0.2445402928729198,0.30341816238115765,0.24598712004921638,0.33957206088727954,0.15097876705642765,0.3229310518994419,0.19586865125063516,-0.0883285904984077,-0.0827128263779526,-0.12819790407337314,0.1074396156375216,0.04561805226851266,0.11423616089616201,0.07497879930245444,0.11727309262913418,0.10767013409448528,-0.2884369953655487,-0.24819923562991997,-0.2629714960656557,-0.06370147376400925,0.05508998080642578,0.0868771885568814,-0.008360683340841465,0.0021950836677370996,0.014771523066197534,0.14201573698262365,0.07192606260011919,0.023300742171498034,-0.10888469370499236,-0.10455634113922531,0.05521078900498844,-0.25344154215901255,-0.10345857786649715,0.16700034067714564,0.08926688137199494,-0.019135734160036985,0.4079223370600183,0.12339828866082728,0.05125157287465276,-0.283362987303034,-0.024579951423524454,-0.27412720020654213,-0.03850947385499658,-0.06473390377380518,-0.01883276950592422,-0.008144704869930968,-0.02526986562754548,-0.025732330904275093,-0.018997668482862315,-0.03202071424067402,-0.28843699536554873,0.4679029519028106,-0.30786071909598356,-0.031326401868597135,-0.04009726964429985,0.39718084723475655],\"type\":\"scatter3d\"}],                        {\"template\":{\"data\":{\"bar\":[{\"error_x\":{\"color\":\"#2a3f5f\"},\"error_y\":{\"color\":\"#2a3f5f\"},\"marker\":{\"line\":{\"color\":\"#E5ECF6\",\"width\":0.5},\"pattern\":{\"fillmode\":\"overlay\",\"size\":10,\"solidity\":0.2}},\"type\":\"bar\"}],\"barpolar\":[{\"marker\":{\"line\":{\"color\":\"#E5ECF6\",\"width\":0.5},\"pattern\":{\"fillmode\":\"overlay\",\"size\":10,\"solidity\":0.2}},\"type\":\"barpolar\"}],\"carpet\":[{\"aaxis\":{\"endlinecolor\":\"#2a3f5f\",\"gridcolor\":\"white\",\"linecolor\":\"white\",\"minorgridcolor\":\"white\",\"startlinecolor\":\"#2a3f5f\"},\"baxis\":{\"endlinecolor\":\"#2a3f5f\",\"gridcolor\":\"white\",\"linecolor\":\"white\",\"minorgridcolor\":\"white\",\"startlinecolor\":\"#2a3f5f\"},\"type\":\"carpet\"}],\"choropleth\":[{\"colorbar\":{\"outlinewidth\":0,\"ticks\":\"\"},\"type\":\"choropleth\"}],\"contour\":[{\"colorbar\":{\"outlinewidth\":0,\"ticks\":\"\"},\"colorscale\":[[0.0,\"#0d0887\"],[0.1111111111111111,\"#46039f\"],[0.2222222222222222,\"#7201a8\"],[0.3333333333333333,\"#9c179e\"],[0.4444444444444444,\"#bd3786\"],[0.5555555555555556,\"#d8576b\"],[0.6666666666666666,\"#ed7953\"],[0.7777777777777778,\"#fb9f3a\"],[0.8888888888888888,\"#fdca26\"],[1.0,\"#f0f921\"]],\"type\":\"contour\"}],\"contourcarpet\":[{\"colorbar\":{\"outlinewidth\":0,\"ticks\":\"\"},\"type\":\"contourcarpet\"}],\"heatmap\":[{\"colorbar\":{\"outlinewidth\":0,\"ticks\":\"\"},\"colorscale\":[[0.0,\"#0d0887\"],[0.1111111111111111,\"#46039f\"],[0.2222222222222222,\"#7201a8\"],[0.3333333333333333,\"#9c179e\"],[0.4444444444444444,\"#bd3786\"],[0.5555555555555556,\"#d8576b\"],[0.6666666666666666,\"#ed7953\"],[0.7777777777777778,\"#fb9f3a\"],[0.8888888888888888,\"#fdca26\"],[1.0,\"#f0f921\"]],\"type\":\"heatmap\"}],\"heatmapgl\":[{\"colorbar\":{\"outlinewidth\":0,\"ticks\":\"\"},\"colorscale\":[[0.0,\"#0d0887\"],[0.1111111111111111,\"#46039f\"],[0.2222222222222222,\"#7201a8\"],[0.3333333333333333,\"#9c179e\"],[0.4444444444444444,\"#bd3786\"],[0.5555555555555556,\"#d8576b\"],[0.6666666666666666,\"#ed7953\"],[0.7777777777777778,\"#fb9f3a\"],[0.8888888888888888,\"#fdca26\"],[1.0,\"#f0f921\"]],\"type\":\"heatmapgl\"}],\"histogram\":[{\"marker\":{\"pattern\":{\"fillmode\":\"overlay\",\"size\":10,\"solidity\":0.2}},\"type\":\"histogram\"}],\"histogram2d\":[{\"colorbar\":{\"outlinewidth\":0,\"ticks\":\"\"},\"colorscale\":[[0.0,\"#0d0887\"],[0.1111111111111111,\"#46039f\"],[0.2222222222222222,\"#7201a8\"],[0.3333333333333333,\"#9c179e\"],[0.4444444444444444,\"#bd3786\"],[0.5555555555555556,\"#d8576b\"],[0.6666666666666666,\"#ed7953\"],[0.7777777777777778,\"#fb9f3a\"],[0.8888888888888888,\"#fdca26\"],[1.0,\"#f0f921\"]],\"type\":\"histogram2d\"}],\"histogram2dcontour\":[{\"colorbar\":{\"outlinewidth\":0,\"ticks\":\"\"},\"colorscale\":[[0.0,\"#0d0887\"],[0.1111111111111111,\"#46039f\"],[0.2222222222222222,\"#7201a8\"],[0.3333333333333333,\"#9c179e\"],[0.4444444444444444,\"#bd3786\"],[0.5555555555555556,\"#d8576b\"],[0.6666666666666666,\"#ed7953\"],[0.7777777777777778,\"#fb9f3a\"],[0.8888888888888888,\"#fdca26\"],[1.0,\"#f0f921\"]],\"type\":\"histogram2dcontour\"}],\"mesh3d\":[{\"colorbar\":{\"outlinewidth\":0,\"ticks\":\"\"},\"type\":\"mesh3d\"}],\"parcoords\":[{\"line\":{\"colorbar\":{\"outlinewidth\":0,\"ticks\":\"\"}},\"type\":\"parcoords\"}],\"pie\":[{\"automargin\":true,\"type\":\"pie\"}],\"scatter\":[{\"marker\":{\"colorbar\":{\"outlinewidth\":0,\"ticks\":\"\"}},\"type\":\"scatter\"}],\"scatter3d\":[{\"line\":{\"colorbar\":{\"outlinewidth\":0,\"ticks\":\"\"}},\"marker\":{\"colorbar\":{\"outlinewidth\":0,\"ticks\":\"\"}},\"type\":\"scatter3d\"}],\"scattercarpet\":[{\"marker\":{\"colorbar\":{\"outlinewidth\":0,\"ticks\":\"\"}},\"type\":\"scattercarpet\"}],\"scattergeo\":[{\"marker\":{\"colorbar\":{\"outlinewidth\":0,\"ticks\":\"\"}},\"type\":\"scattergeo\"}],\"scattergl\":[{\"marker\":{\"colorbar\":{\"outlinewidth\":0,\"ticks\":\"\"}},\"type\":\"scattergl\"}],\"scattermapbox\":[{\"marker\":{\"colorbar\":{\"outlinewidth\":0,\"ticks\":\"\"}},\"type\":\"scattermapbox\"}],\"scatterpolar\":[{\"marker\":{\"colorbar\":{\"outlinewidth\":0,\"ticks\":\"\"}},\"type\":\"scatterpolar\"}],\"scatterpolargl\":[{\"marker\":{\"colorbar\":{\"outlinewidth\":0,\"ticks\":\"\"}},\"type\":\"scatterpolargl\"}],\"scatterternary\":[{\"marker\":{\"colorbar\":{\"outlinewidth\":0,\"ticks\":\"\"}},\"type\":\"scatterternary\"}],\"surface\":[{\"colorbar\":{\"outlinewidth\":0,\"ticks\":\"\"},\"colorscale\":[[0.0,\"#0d0887\"],[0.1111111111111111,\"#46039f\"],[0.2222222222222222,\"#7201a8\"],[0.3333333333333333,\"#9c179e\"],[0.4444444444444444,\"#bd3786\"],[0.5555555555555556,\"#d8576b\"],[0.6666666666666666,\"#ed7953\"],[0.7777777777777778,\"#fb9f3a\"],[0.8888888888888888,\"#fdca26\"],[1.0,\"#f0f921\"]],\"type\":\"surface\"}],\"table\":[{\"cells\":{\"fill\":{\"color\":\"#EBF0F8\"},\"line\":{\"color\":\"white\"}},\"header\":{\"fill\":{\"color\":\"#C8D4E3\"},\"line\":{\"color\":\"white\"}},\"type\":\"table\"}]},\"layout\":{\"annotationdefaults\":{\"arrowcolor\":\"#2a3f5f\",\"arrowhead\":0,\"arrowwidth\":1},\"autotypenumbers\":\"strict\",\"coloraxis\":{\"colorbar\":{\"outlinewidth\":0,\"ticks\":\"\"}},\"colorscale\":{\"diverging\":[[0,\"#8e0152\"],[0.1,\"#c51b7d\"],[0.2,\"#de77ae\"],[0.3,\"#f1b6da\"],[0.4,\"#fde0ef\"],[0.5,\"#f7f7f7\"],[0.6,\"#e6f5d0\"],[0.7,\"#b8e186\"],[0.8,\"#7fbc41\"],[0.9,\"#4d9221\"],[1,\"#276419\"]],\"sequential\":[[0.0,\"#0d0887\"],[0.1111111111111111,\"#46039f\"],[0.2222222222222222,\"#7201a8\"],[0.3333333333333333,\"#9c179e\"],[0.4444444444444444,\"#bd3786\"],[0.5555555555555556,\"#d8576b\"],[0.6666666666666666,\"#ed7953\"],[0.7777777777777778,\"#fb9f3a\"],[0.8888888888888888,\"#fdca26\"],[1.0,\"#f0f921\"]],\"sequentialminus\":[[0.0,\"#0d0887\"],[0.1111111111111111,\"#46039f\"],[0.2222222222222222,\"#7201a8\"],[0.3333333333333333,\"#9c179e\"],[0.4444444444444444,\"#bd3786\"],[0.5555555555555556,\"#d8576b\"],[0.6666666666666666,\"#ed7953\"],[0.7777777777777778,\"#fb9f3a\"],[0.8888888888888888,\"#fdca26\"],[1.0,\"#f0f921\"]]},\"colorway\":[\"#636efa\",\"#EF553B\",\"#00cc96\",\"#ab63fa\",\"#FFA15A\",\"#19d3f3\",\"#FF6692\",\"#B6E880\",\"#FF97FF\",\"#FECB52\"],\"font\":{\"color\":\"#2a3f5f\"},\"geo\":{\"bgcolor\":\"white\",\"lakecolor\":\"white\",\"landcolor\":\"#E5ECF6\",\"showlakes\":true,\"showland\":true,\"subunitcolor\":\"white\"},\"hoverlabel\":{\"align\":\"left\"},\"hovermode\":\"closest\",\"mapbox\":{\"style\":\"light\"},\"paper_bgcolor\":\"white\",\"plot_bgcolor\":\"#E5ECF6\",\"polar\":{\"angularaxis\":{\"gridcolor\":\"white\",\"linecolor\":\"white\",\"ticks\":\"\"},\"bgcolor\":\"#E5ECF6\",\"radialaxis\":{\"gridcolor\":\"white\",\"linecolor\":\"white\",\"ticks\":\"\"}},\"scene\":{\"xaxis\":{\"backgroundcolor\":\"#E5ECF6\",\"gridcolor\":\"white\",\"gridwidth\":2,\"linecolor\":\"white\",\"showbackground\":true,\"ticks\":\"\",\"zerolinecolor\":\"white\"},\"yaxis\":{\"backgroundcolor\":\"#E5ECF6\",\"gridcolor\":\"white\",\"gridwidth\":2,\"linecolor\":\"white\",\"showbackground\":true,\"ticks\":\"\",\"zerolinecolor\":\"white\"},\"zaxis\":{\"backgroundcolor\":\"#E5ECF6\",\"gridcolor\":\"white\",\"gridwidth\":2,\"linecolor\":\"white\",\"showbackground\":true,\"ticks\":\"\",\"zerolinecolor\":\"white\"}},\"shapedefaults\":{\"line\":{\"color\":\"#2a3f5f\"}},\"ternary\":{\"aaxis\":{\"gridcolor\":\"white\",\"linecolor\":\"white\",\"ticks\":\"\"},\"baxis\":{\"gridcolor\":\"white\",\"linecolor\":\"white\",\"ticks\":\"\"},\"bgcolor\":\"#E5ECF6\",\"caxis\":{\"gridcolor\":\"white\",\"linecolor\":\"white\",\"ticks\":\"\"}},\"title\":{\"x\":0.05},\"xaxis\":{\"automargin\":true,\"gridcolor\":\"white\",\"linecolor\":\"white\",\"ticks\":\"\",\"title\":{\"standoff\":15},\"zerolinecolor\":\"white\",\"zerolinewidth\":2},\"yaxis\":{\"automargin\":true,\"gridcolor\":\"white\",\"linecolor\":\"white\",\"ticks\":\"\",\"title\":{\"standoff\":15},\"zerolinecolor\":\"white\",\"zerolinewidth\":2}}},\"scene\":{\"domain\":{\"x\":[0.0,1.0],\"y\":[0.0,1.0]},\"xaxis\":{\"title\":{\"text\":\"0\"}},\"yaxis\":{\"title\":{\"text\":\"1\"}},\"zaxis\":{\"title\":{\"text\":\"2\"}}},\"coloraxis\":{\"colorbar\":{\"title\":{\"text\":\"1\"}},\"colorscale\":[[0.0,\"#0d0887\"],[0.1111111111111111,\"#46039f\"],[0.2222222222222222,\"#7201a8\"],[0.3333333333333333,\"#9c179e\"],[0.4444444444444444,\"#bd3786\"],[0.5555555555555556,\"#d8576b\"],[0.6666666666666666,\"#ed7953\"],[0.7777777777777778,\"#fb9f3a\"],[0.8888888888888888,\"#fdca26\"],[1.0,\"#f0f921\"]]},\"legend\":{\"tracegroupgap\":0},\"title\":{\"text\":\"Iris 3D\"}},                        {\"responsive\": true}                    ).then(function(){\n",
              "                            \n",
              "var gd = document.getElementById('d7bd72c1-e16e-4550-9eb5-31d5911c7a89');\n",
              "var x = new MutationObserver(function (mutations, observer) {{\n",
              "        var display = window.getComputedStyle(gd).display;\n",
              "        if (!display || display === 'none') {{\n",
              "            console.log([gd, 'removed!']);\n",
              "            Plotly.purge(gd);\n",
              "            observer.disconnect();\n",
              "        }}\n",
              "}});\n",
              "\n",
              "// Listen for the removal of the full notebook cells\n",
              "var notebookContainer = gd.closest('#notebook-container');\n",
              "if (notebookContainer) {{\n",
              "    x.observe(notebookContainer, {childList: true});\n",
              "}}\n",
              "\n",
              "// Listen for the clearing of the current output cell\n",
              "var outputEl = gd.closest('.output');\n",
              "if (outputEl) {{\n",
              "    x.observe(outputEl, {childList: true});\n",
              "}}\n",
              "\n",
              "                        })                };                            </script>        </div>\n",
              "</body>\n",
              "</html>"
            ]
          },
          "metadata": {}
        }
      ]
    },
    {
      "cell_type": "code",
      "source": [
        "model = KMeans(n_clusters=3)\n",
        "model.fit(PCA_components.iloc[:,:2])\n",
        "\n",
        "labels = model.predict(PCA_components.iloc[:,:2])\n",
        "plt.scatter(PCA_components[0], PCA_components[1], c=labels)\n",
        "plt.show()"
      ],
      "metadata": {
        "id": "LRe3qya__P9u"
      },
      "execution_count": null,
      "outputs": []
    }
  ]
}